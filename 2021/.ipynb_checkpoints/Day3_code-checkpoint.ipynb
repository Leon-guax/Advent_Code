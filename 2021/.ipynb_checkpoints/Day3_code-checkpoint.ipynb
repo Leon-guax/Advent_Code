{
 "cells": [
  {
   "cell_type": "code",
   "execution_count": 203,
   "id": "0d3d295a",
   "metadata": {},
   "outputs": [
    {
     "name": "stdout",
     "output_type": "stream",
     "text": [
      "3242606\n",
      "[[0, 1, 1, 0, 0, 1, 0, 1, 0, 0, 0, 0]]\n",
      "1616\n",
      "[[1, 0, 1, 1, 1, 0, 1, 1, 1, 1, 0, 1]]\n",
      "3005\n",
      "4856080\n"
     ]
    }
   ],
   "source": [
    "objects = dir()\n",
    "\n",
    "for obj in objects:\n",
    "    if not obj.startswith(\"__\"):\n",
    "        del globals()[obj]\n",
    "    \n",
    "def find_most_common_bin(array):\n",
    "    size = len(array)\n",
    "    if(sum(array)>= size/2):\n",
    "        return 1\n",
    "    else:\n",
    "        return 0\n",
    "    \n",
    "def find_least_common_bin(array):\n",
    "    size = len(array)\n",
    "    if(sum(array)>= size/2):\n",
    "        return 0\n",
    "    else:\n",
    "        return 1    \n",
    "\n",
    "def bin_array_to_int(array):\n",
    "    final_value =0\n",
    "    power_of_two =1\n",
    "    for idx in range(len(array)):\n",
    "        final_value += array[len(array)-1-idx]*power_of_two\n",
    "        power_of_two *=2\n",
    "    return final_value\n",
    "    \n",
    "get_indexes = lambda x, xs: [i for (y, i) in zip(xs, range(len(xs))) if x == y]\n",
    "\n",
    "gamma_rate_ar = [0]*12\n",
    "epsilon_rate_ar = [0]*12\n",
    "list_oxy = []\n",
    "list_CO2 = []\n",
    "with open('Day3_input.txt') as f:\n",
    "    for line in f:\n",
    "        line = line[0:12]\n",
    "        listed_input = [int(digit) for digit in str(line)]\n",
    "        list_oxy.append(listed_input)\n",
    "        list_CO2.append(listed_input)        \n",
    "        \n",
    "gamma_rate_ar = [find_most_common_bin([list_oxy[idx_list][idx_bit] for idx_list in range(1000)]) for idx_bit in range(12)]\n",
    "epsilon_rate_ar = [find_least_common_bin([list_oxy[idx_list][idx_bit] for idx_list in range(1000)]) for idx_bit in range(12)]\n",
    "\n",
    "gamma_rate =bin_array_to_int(gamma_rate_ar)\n",
    "epsilon_rate =bin_array_to_int(epsilon_rate_ar)\n",
    "   \n",
    "print(gamma_rate*epsilon_rate)\n",
    "\n",
    "\n",
    "for idx_bit_oxy in range(12):\n",
    "    most_com_bit =  find_most_common_bin([list_oxy[idx_list][idx_bit_oxy] for idx_list in range(len(list_oxy))])\n",
    "    list_oxy_temp = list(filter(lambda x : x[idx_bit_oxy] != most_com_bit, list_oxy))\n",
    "    list_oxy = list_oxy_temp\n",
    "    if len(list_oxy)==1:\n",
    "        break\n",
    "print(list_oxy)\n",
    "oxy_rate = bin_array_to_int(list_oxy[0])\n",
    "print(oxy_rate)\n",
    "        \n",
    "for idx_bit_CO2 in range(12):\n",
    "    least_com_bit =  find_least_common_bin([list_CO2[idx_list][idx_bit_CO2] for idx_list in range(len(list_CO2))])\n",
    "    list_CO2_temp = list(filter(lambda x : x[idx_bit_CO2] != least_com_bit, list_CO2))\n",
    "    list_CO2 = list_CO2_temp\n",
    "    if len(list_CO2)==1:\n",
    "        break\n",
    "print(list_CO2)\n",
    "CO2_rate = bin_array_to_int(list_CO2[0])\n",
    "print(CO2_rate)\n",
    "\n",
    "print(oxy_rate*CO2_rate)"
   ]
  },
  {
   "cell_type": "code",
   "execution_count": null,
   "id": "3daf0e17",
   "metadata": {},
   "outputs": [],
   "source": []
  }
 ],
 "metadata": {
  "kernelspec": {
   "display_name": "Python 3 (ipykernel)",
   "language": "python",
   "name": "python3"
  },
  "language_info": {
   "codemirror_mode": {
    "name": "ipython",
    "version": 3
   },
   "file_extension": ".py",
   "mimetype": "text/x-python",
   "name": "python",
   "nbconvert_exporter": "python",
   "pygments_lexer": "ipython3",
   "version": "3.9.7"
  }
 },
 "nbformat": 4,
 "nbformat_minor": 5
}
