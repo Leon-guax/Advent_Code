{
 "cells": [
  {
   "cell_type": "code",
   "execution_count": null,
   "id": "72a29228",
   "metadata": {},
   "outputs": [],
   "source": [
    "import networkx as nx"
   ]
  },
  {
   "cell_type": "markdown",
   "id": "8c6fb266",
   "metadata": {},
   "source": [
    "## Part 1"
   ]
  },
  {
   "cell_type": "code",
   "execution_count": null,
   "id": "d7a0b1f2",
   "metadata": {},
   "outputs": [],
   "source": [
    "G = nx.Graph()\n",
    "with open(\"Day23_input.txt\", \"r\") as f:\n",
    "    for line in f:\n",
    "        f, s = line.strip().split(\"-\")\n",
    "        if f not in G:\n",
    "            G.add_node(f)\n",
    "        if s not in G:\n",
    "            G.add_node(s)\n",
    "        G.add_edge(f, s)\n",
    "        \n",
    "three_cycles = nx.simple_cycles(G, length_bound=3)\n",
    "\n",
    "\n",
    "t_count = 0\n",
    "for cycle in three_cycles:\n",
    "    if cycle[0][0] =='t' or cycle[1][0] =='t' or cycle[2][0] =='t':\n",
    "        t_count +=1\n",
    "print(t_count)"
   ]
  },
  {
   "cell_type": "markdown",
   "id": "08b7483d",
   "metadata": {},
   "source": [
    "## Part 2"
   ]
  },
  {
   "cell_type": "code",
   "execution_count": null,
   "id": "c9e5e86c",
   "metadata": {},
   "outputs": [],
   "source": [
    "G = nx.Graph()\n",
    "with open(\"Day23_input.txt\", \"r\") as f:\n",
    "    for line in f:\n",
    "        f, s = line.strip().split(\"-\")\n",
    "        if f not in G:\n",
    "            G.add_node(f)\n",
    "        if s not in G:\n",
    "            G.add_node(s)\n",
    "        G.add_edge(f, s)\n",
    "        \n",
    "max_clique = max(nx.find_cliques(G), key = len)\n",
    "print(max_clique)\n",
    "sorted_list = \",\".join(sorted(max_clique))\n",
    "print(sorted_list)"
   ]
  }
 ],
 "metadata": {
  "kernelspec": {
   "display_name": "Python 3 (ipykernel)",
   "language": "python",
   "name": "python3"
  },
  "language_info": {
   "codemirror_mode": {
    "name": "ipython",
    "version": 3
   },
   "file_extension": ".py",
   "mimetype": "text/x-python",
   "name": "python",
   "nbconvert_exporter": "python",
   "pygments_lexer": "ipython3",
   "version": "3.9.7"
  }
 },
 "nbformat": 4,
 "nbformat_minor": 5
}
