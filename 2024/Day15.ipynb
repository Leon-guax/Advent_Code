{
 "cells": [
  {
   "cell_type": "code",
   "execution_count": null,
   "id": "80edb153",
   "metadata": {},
   "outputs": [],
   "source": [
    "import numpy as np\n",
    "from tqdm import tqdm"
   ]
  },
  {
   "cell_type": "markdown",
   "id": "1f93ce98",
   "metadata": {},
   "source": [
    "# Part 1"
   ]
  },
  {
   "cell_type": "code",
   "execution_count": null,
   "id": "6df6c530",
   "metadata": {},
   "outputs": [],
   "source": [
    "steps = {'^': np.array([-1,0]),\n",
    "         'v': np.array([ 1,0]),\n",
    "         '<': np.array([0,-1]),\n",
    "         '>': np.array([0, 1])}\n",
    "\n",
    "\n",
    "def compute_moves(war_map:np.array, instr:str, robot_coord:np.array):\n",
    "    for direction in instr:\n",
    "        step = steps[direction]\n",
    "        new_spot =robot_coord + step\n",
    "        \n",
    "        if war_map[tuple(new_spot)] ==\"#\":\n",
    "            continue\n",
    "        elif war_map[tuple(new_spot)]== \".\":\n",
    "            war_map[tuple(robot_coord)] = \".\"\n",
    "            war_map[tuple(new_spot)] = '@'\n",
    "            robot_coord = new_spot\n",
    "        else: # now the \"O\" case\n",
    "            extra_step = new_spot + step\n",
    "            while war_map[tuple(extra_step)]==\"O\":\n",
    "                extra_step += step\n",
    "            if war_map[tuple(extra_step)] == \".\":\n",
    "                war_map[tuple(extra_step)] = \"O\"\n",
    "                war_map[tuple(robot_coord)] = \".\"\n",
    "                war_map[tuple(new_spot)]=\"@\"\n",
    "                robot_coord = new_spot\n",
    "    return war_map\n",
    "        "
   ]
  },
  {
   "cell_type": "code",
   "execution_count": null,
   "id": "330aa796",
   "metadata": {},
   "outputs": [],
   "source": [
    "def compute_score1(new_map: np.array):\n",
    "    points = 0\n",
    "    for nrow, row in enumerate(new_map):\n",
    "        Os = np.where(row == \"O\")[0] +100*nrow\n",
    "        points+=  sum(Os)\n",
    "    return points"
   ]
  },
  {
   "cell_type": "code",
   "execution_count": null,
   "id": "fda8ff5a",
   "metadata": {},
   "outputs": [],
   "source": [
    "war_map = []\n",
    "\n",
    "instr = ''\n",
    "is_map = True\n",
    "\n",
    "with open(\"Day15_input.txt\", 'r') as f:\n",
    "    for row,line in enumerate(f):\n",
    "        line = line.replace('\\n','')\n",
    "        \n",
    "        if not line:\n",
    "            is_map = False\n",
    "            continue  \n",
    "        if is_map:\n",
    "            war_map.append([char for char in line])\n",
    "            if \"@\" in line:\n",
    "                robot_coord =np.array([row, line.index(\"@\")])\n",
    "        else:\n",
    "            instr+=line\n",
    "            \n",
    "war_map =np.array(war_map)\n",
    "\n",
    "for line in war_map:\n",
    "    print(line)\n",
    "\n",
    "new_map = compute_moves(war_map, instr, robot_coord)\n",
    "print()\n",
    "for line in new_map:\n",
    "    print(line)\n",
    "print(compute_score1(new_map))"
   ]
  },
  {
   "cell_type": "markdown",
   "id": "581d6e64",
   "metadata": {},
   "source": [
    "# Part 2"
   ]
  },
  {
   "cell_type": "code",
   "execution_count": null,
   "id": "d50afced",
   "metadata": {},
   "outputs": [],
   "source": []
  }
 ],
 "metadata": {
  "kernelspec": {
   "display_name": "Python 3 (ipykernel)",
   "language": "python",
   "name": "python3"
  },
  "language_info": {
   "codemirror_mode": {
    "name": "ipython",
    "version": 3
   },
   "file_extension": ".py",
   "mimetype": "text/x-python",
   "name": "python",
   "nbconvert_exporter": "python",
   "pygments_lexer": "ipython3",
   "version": "3.9.7"
  }
 },
 "nbformat": 4,
 "nbformat_minor": 5
}
