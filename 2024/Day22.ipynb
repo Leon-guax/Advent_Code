{
 "cells": [
  {
   "cell_type": "code",
   "execution_count": null,
   "id": "dc40fb40",
   "metadata": {},
   "outputs": [],
   "source": [
    "def mix(res, sn):\n",
    "    return res^sn\n",
    "\n",
    "def prune(sn):\n",
    "    return sn & (16777216 - 1)\n",
    "\n",
    "def next_number(sn):\n",
    "    \n",
    "    sn = mix(sn<<6, sn)\n",
    "    sn = prune(sn)\n",
    "    \n",
    "    sn = mix(sn>>5, sn)\n",
    "    sn = prune(sn)\n",
    "    \n",
    "    sn = mix(sn<<11, sn)\n",
    "    sn = prune(sn)\n",
    "    \n",
    "    return sn"
   ]
  },
  {
   "cell_type": "markdown",
   "id": "f5481bd4",
   "metadata": {},
   "source": [
    "# Part 1"
   ]
  },
  {
   "cell_type": "code",
   "execution_count": null,
   "id": "0010244b",
   "metadata": {},
   "outputs": [],
   "source": [
    "sn_sum = 0\n",
    "with open(\"Day22_input.txt\", 'r') as f:\n",
    "    for line in f:\n",
    "        sn = int(line.strip())\n",
    "        for _ in range(2000):\n",
    "            sn = next_number(sn)\n",
    "        sn_sum +=sn\n",
    "\n",
    "print(sn_sum)"
   ]
  },
  {
   "cell_type": "markdown",
   "id": "28d0564a",
   "metadata": {},
   "source": [
    "# Part 2"
   ]
  },
  {
   "cell_type": "code",
   "execution_count": null,
   "id": "d233b0c7",
   "metadata": {},
   "outputs": [],
   "source": [
    "from collections import Counter"
   ]
  },
  {
   "cell_type": "code",
   "execution_count": null,
   "id": "b5663628",
   "metadata": {},
   "outputs": [],
   "source": [
    "last_digits = []\n",
    "diffs = []\n",
    "with open(\"Day22_input.txt\", 'r') as f:\n",
    "    for line in f:\n",
    "\n",
    "        sn = int(line.strip())\n",
    "        digits = [sn%10]\n",
    "        diff = []\n",
    "        for idx in range(2000):\n",
    "            sn = next_number(sn)\n",
    "            digits.append(sn%10)\n",
    "            diff.append(digits[idx]- sn%10)\n",
    "        last_digits.append(digits)\n",
    "        diffs.append(diff)"
   ]
  },
  {
   "cell_type": "code",
   "execution_count": null,
   "id": "2415d503",
   "metadata": {},
   "outputs": [],
   "source": [
    "tot_counters = Counter()\n",
    "\n",
    "all_diff_keys = set()\n",
    "for sn_idx in range(len(last_digits)):\n",
    "    diffs_pat = Counter()\n",
    "    for idx in range(4, len(diffs[0])):\n",
    "        diff_pat = tuple(diffs[sn_idx][idx-4:idx])\n",
    "        if diff_pat not in diffs_pat:\n",
    "            diffs_pat[diff_pat]+= last_digits[sn_idx][idx]\n",
    "            all_diff_keys.add(diff_pat)\n",
    "    tot_counters += diffs_pat\n",
    "\n",
    "print(max(tot_counters.values()))"
   ]
  }
 ],
 "metadata": {
  "kernelspec": {
   "display_name": "Python 3 (ipykernel)",
   "language": "python",
   "name": "python3"
  },
  "language_info": {
   "codemirror_mode": {
    "name": "ipython",
    "version": 3
   },
   "file_extension": ".py",
   "mimetype": "text/x-python",
   "name": "python",
   "nbconvert_exporter": "python",
   "pygments_lexer": "ipython3",
   "version": "3.9.7"
  }
 },
 "nbformat": 4,
 "nbformat_minor": 5
}
