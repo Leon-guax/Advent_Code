{
 "cells": [
  {
   "cell_type": "code",
   "execution_count": null,
   "id": "e95e6fab",
   "metadata": {},
   "outputs": [],
   "source": [
    "import re\n",
    "import numpy as np"
   ]
  },
  {
   "cell_type": "markdown",
   "id": "2a3267a0",
   "metadata": {},
   "source": [
    "## Part 1"
   ]
  },
  {
   "cell_type": "code",
   "execution_count": null,
   "id": "fd841546",
   "metadata": {},
   "outputs": [],
   "source": [
    "# for part 2, eps cannot be too small (1e-5 would miss some solutions)\n",
    "def close_to_int(a, eps = 1e-4):\n",
    "    return abs(a - round(a)) <eps\n",
    "\n",
    "class Machine():\n",
    "    def __init__(self, a,b, prize):\n",
    "        self.X = np.array([a[0], b[0]])\n",
    "        self.Y = np.array([a[1], b[1]])\n",
    "        self.prize = np.array(prize)\n",
    "        self.cost1, self.moves1 = self.__compute_moves()\n",
    "        self.cost2, self.moves2 = self.__compute_moves(shift = 10000000000000)\n",
    "         \n",
    "    def __compute_moves(self, shift = 0):\n",
    "        moves = np.linalg.solve([self.X, self.Y], self.prize+shift)\n",
    "        if close_to_int(moves[0]) and close_to_int(moves[1]):\n",
    "            return round(3*moves[0] + moves[1]), moves\n",
    "        else:\n",
    "            return 0, moves\n",
    "        \n"
   ]
  },
  {
   "cell_type": "code",
   "execution_count": null,
   "id": "ad83c05c",
   "metadata": {
    "scrolled": true
   },
   "outputs": [],
   "source": [
    "token_costs1 = 0\n",
    "token_costs2 = 0 \n",
    "pattern_button = r\"[XY][+=](\\d+)\"\n",
    "pattern_prize = r\"[XY]=(\\d+)\"\n",
    "\n",
    "with open('Day13_input.txt') as f:\n",
    "     for idx, line in enumerate(f):\n",
    "        if idx%4 ==0:\n",
    "            a= list(map(int, re.findall(pattern_button, line)))\n",
    "        elif idx%4 ==1:\n",
    "            b= list(map(int, re.findall(pattern_button, line)))\n",
    "        elif idx%4 ==2:\n",
    "            prize= list(map(int, re.findall(pattern_prize, line)))\n",
    "            machine = Machine(a,b,prize)\n",
    "            token_costs1 +=machine.cost1\n",
    "            token_costs2 +=machine.cost2        \n",
    "        else:\n",
    "            continue\n",
    "\n",
    "\n",
    "print(int(token_costs1))\n",
    "print(int(token_costs2))"
   ]
  }
 ],
 "metadata": {
  "kernelspec": {
   "display_name": "srp-wp3",
   "language": "python",
   "name": "python3"
  },
  "language_info": {
   "codemirror_mode": {
    "name": "ipython",
    "version": 3
   },
   "file_extension": ".py",
   "mimetype": "text/x-python",
   "name": "python",
   "nbconvert_exporter": "python",
   "pygments_lexer": "ipython3",
   "version": "3.10.4"
  }
 },
 "nbformat": 4,
 "nbformat_minor": 5
}
