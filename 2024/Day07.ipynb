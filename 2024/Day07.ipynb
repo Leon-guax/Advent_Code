{
 "cells": [
  {
   "cell_type": "markdown",
   "id": "2a3267a0",
   "metadata": {},
   "source": [
    "## Part 1"
   ]
  },
  {
   "cell_type": "code",
   "execution_count": null,
   "id": "1825055e",
   "metadata": {},
   "outputs": [],
   "source": [
    "def generate_binary_strings(bit_count):\n",
    "    binary_strings = []\n",
    "    def genbin(n, bs=''):\n",
    "        if len(bs) == n:\n",
    "            binary_strings.append(bs)\n",
    "        else:\n",
    "            genbin(n, bs + '0')\n",
    "            genbin(n, bs + '1')\n",
    "\n",
    "\n",
    "    genbin(bit_count)\n",
    "    return binary_strings\n",
    "generate_binary_strings(4)"
   ]
  },
  {
   "cell_type": "code",
   "execution_count": null,
   "id": "bd449edb",
   "metadata": {},
   "outputs": [],
   "source": [
    "def is_composable_bin(equation):\n",
    "    total=equation[0]\n",
    "    start = equation[1]\n",
    "    pieces = equation[2:]\n",
    "    \n",
    "    possible_combinations =generate_binary_strings(len(pieces))\n",
    "    for combination in possible_combinations:\n",
    "        subtotal =start\n",
    "        for sub_piece, operation in zip(pieces, combination):\n",
    "            if operation == '0':\n",
    "                subtotal += sub_piece\n",
    "            else:\n",
    "                subtotal *=sub_piece\n",
    "             \n",
    "            if subtotal>total:\n",
    "                break\n",
    "        if subtotal == total:\n",
    "            return 1\n",
    "    \n",
    "    \n",
    "    return 0\n",
    "    "
   ]
  },
  {
   "cell_type": "code",
   "execution_count": null,
   "id": "ad83c05c",
   "metadata": {
    "scrolled": true
   },
   "outputs": [],
   "source": [
    "valid_entries =0\n",
    "equations = []\n",
    "with open('Day07_input.txt') as f:\n",
    "     for line in f:\n",
    "        equation = [int(n) for n in line.replace(':','').split()]\n",
    "        valid_entries +=is_composable_bin(equation)*equation[0]\n",
    "        \n",
    "\n",
    "print(valid_entries)"
   ]
  },
  {
   "cell_type": "markdown",
   "id": "19d01ba0",
   "metadata": {},
   "source": [
    "## Part 2"
   ]
  },
  {
   "cell_type": "code",
   "execution_count": null,
   "id": "21b2dadc",
   "metadata": {},
   "outputs": [],
   "source": [
    "def generate_ternary_strings(bit_count):\n",
    "    ternary_strings = []\n",
    "    def genter(n, bs=''):\n",
    "        if len(bs) == n:\n",
    "            ternary_strings.append(bs)\n",
    "        else:\n",
    "            genter(n, bs + '0')\n",
    "            genter(n, bs + '1')\n",
    "            genter(n, bs + '2')\n",
    "\n",
    "\n",
    "    genter(bit_count)\n",
    "    return ternary_strings\n",
    "generate_ternary_strings(3)"
   ]
  },
  {
   "cell_type": "code",
   "execution_count": null,
   "id": "bd699366",
   "metadata": {},
   "outputs": [],
   "source": [
    "def is_composable_ter(equation):\n",
    "    total=equation[0]\n",
    "    start = equation[1]\n",
    "    pieces = equation[2:]\n",
    "    \n",
    "    possible_combinations =generate_ternary_strings(len(pieces))\n",
    "    for combination in possible_combinations:\n",
    "        subtotal =start\n",
    "        for sub_piece, operation in zip(pieces, combination):\n",
    "            if operation == '0':\n",
    "                subtotal += sub_piece\n",
    "            elif operation == '1':\n",
    "                subtotal *=sub_piece\n",
    "            else:\n",
    "                subtotal = int(str(subtotal) + str(sub_piece))\n",
    "            if subtotal>total:\n",
    "                break\n",
    "        if subtotal == total:\n",
    "            return 1\n",
    "    \n",
    "    \n",
    "    return 0\n",
    "    "
   ]
  },
  {
   "cell_type": "code",
   "execution_count": null,
   "id": "23a7a5e2",
   "metadata": {},
   "outputs": [],
   "source": [
    "valid_entries =0\n",
    "equations = []\n",
    "with open('Day07_input.txt') as f:\n",
    "     for line in f:\n",
    "        equation = [int(n) for n in line.replace(':','').split()]\n",
    "        valid_entries +=is_composable_ter(equation)*equation[0]\n",
    "        \n",
    "\n",
    "print(valid_entries)"
   ]
  }
 ],
 "metadata": {
  "kernelspec": {
   "display_name": "srp-wp3",
   "language": "python",
   "name": "python3"
  },
  "language_info": {
   "codemirror_mode": {
    "name": "ipython",
    "version": 3
   },
   "file_extension": ".py",
   "mimetype": "text/x-python",
   "name": "python",
   "nbconvert_exporter": "python",
   "pygments_lexer": "ipython3",
   "version": "3.10.4"
  }
 },
 "nbformat": 4,
 "nbformat_minor": 5
}
