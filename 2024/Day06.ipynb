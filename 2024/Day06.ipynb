{
 "cells": [
  {
   "cell_type": "code",
   "execution_count": 1,
   "id": "54fcebad",
   "metadata": {},
   "outputs": [],
   "source": [
    "import numpy as np\n",
    "from tqdm import tqdm"
   ]
  },
  {
   "cell_type": "markdown",
   "id": "2a3267a0",
   "metadata": {},
   "source": [
    "## Part 1"
   ]
  },
  {
   "cell_type": "code",
   "execution_count": 2,
   "id": "b2d15a82",
   "metadata": {},
   "outputs": [],
   "source": [
    "def in_map(pos, size):\n",
    "    return pos[0]>=0 and pos[0]<size[0] and pos[1] >=0 and pos[1] <size[1]"
   ]
  },
  {
   "cell_type": "code",
   "execution_count": 3,
   "id": "43aac672",
   "metadata": {},
   "outputs": [],
   "source": [
    "def add_path(map, guard):\n",
    "    steps = [np.array([-1,0]),\n",
    "             np.array([0, 1]),\n",
    "             np.array([ 1,0]),\n",
    "             np.array([0,-1])\n",
    "             ]\n",
    "    size =[len(map), len(map[0])]\n",
    "    step_type = 0\n",
    "    while in_map(guard, size):\n",
    "        direction =steps[step_type%4]\n",
    "        y,x = guard + direction\n",
    "        if not in_map([y,x],size):\n",
    "            return map\n",
    "        while map[y][x] == '#':\n",
    "            step_type+=1\n",
    "            direction = steps[step_type%4]\n",
    "            y,x = guard + direction\n",
    "        guard += direction\n",
    "        new_line = map[y][:x] + 'X' + map[y][x+1:]\n",
    "        map[y]= new_line\n",
    "        \n",
    "    return map \n",
    "             "
   ]
  },
  {
   "cell_type": "code",
   "execution_count": 8,
   "id": "ad83c05c",
   "metadata": {
    "scrolled": true
   },
   "outputs": [
    {
     "name": "stdout",
     "output_type": "stream",
     "text": [
      "guard found at (93, 71)\n",
      "4433\n"
     ]
    }
   ],
   "source": [
    "map = []\n",
    "with open('Day06_input.txt') as f:\n",
    "     for row,line in enumerate(f):\n",
    "        line = line.replace(\"\\n\",\"\")\n",
    "        map.append(line)\n",
    "        if '^' in line: \n",
    "            guard = (row,line.find('^'))\n",
    "            print(f\"guard found at {guard}\")\n",
    "\n",
    "new_map =add_path(np.array(map), np.array(guard))\n",
    "\n",
    "total = sum([line.count(\"X\") for line in new_map])\n",
    "#must count initial point as well, so +1\n",
    "print(total+1)\n",
    "\n"
   ]
  },
  {
   "cell_type": "markdown",
   "id": "19d01ba0",
   "metadata": {},
   "source": [
    "## Part 2"
   ]
  },
  {
   "cell_type": "code",
   "execution_count": 5,
   "id": "ea861ff4",
   "metadata": {},
   "outputs": [],
   "source": [
    "def change_direction(direction):\n",
    "    return (direction+1)%4\n",
    "\n",
    "def update_pos(line, pos, new_char):\n",
    "    return line[:pos] + new_char + line[pos+1:]"
   ]
  },
  {
   "cell_type": "code",
   "execution_count": null,
   "id": "3bc4d9cc",
   "metadata": {},
   "outputs": [],
   "source": [
    "def does_it_loop(map, guard):\n",
    "    steps = [np.array([-1,0]),\n",
    "             np.array([0, 1]),\n",
    "             np.array([ 1,0]),\n",
    "             np.array([0,-1])\n",
    "             ]\n",
    "    size =[len(map), len(map[0])]\n",
    "    map_direction =[[ [] for y in range(size[0])] for x in range(size[1])]\n",
    "    step_type = 0\n",
    "    while in_map(guard, size):\n",
    "        direction =steps[step_type]\n",
    "        y,x = guard + direction\n",
    "        if not in_map([y,x],size):\n",
    "            return 0, map\n",
    "        while map[y][x] == '#':\n",
    "            step_type=change_direction(step_type)\n",
    "            direction = steps[step_type]\n",
    "            y,x = guard + direction\n",
    "        guard += direction\n",
    "        #print(guard,steps[change_direction(step_type)],  map_direction[y][x])\n",
    "        if step_type in map_direction[y][x] :\n",
    "            # print(f\"loop found at {[y,x]} by going direction {steps[step_type]}, directions already explored {[steps[ old] for old in map_direction[y][x]]}\")\n",
    "            return 1, map\n",
    "        else:\n",
    "            map_direction[y][x].append(step_type)\n",
    "        new_line = map[y][:x] + 'X' + map[y][x+1:]\n",
    "        map[y]= new_line\n",
    "        "
   ]
  },
  {
   "cell_type": "code",
   "execution_count": null,
   "id": "51db71d6",
   "metadata": {},
   "outputs": [
    {
     "name": "stderr",
     "output_type": "stream",
     "text": [
      "0it [00:00, ?it/s]"
     ]
    },
    {
     "name": "stderr",
     "output_type": "stream",
     "text": [
      "1it [00:02,  2.03s/it]"
     ]
    },
    {
     "name": "stdout",
     "output_type": "stream",
     "text": [
      "loop found at [np.int64(2), np.int64(40)] by going direction [0 1], directions already explored [array([0, 1])]\n",
      "found loop\n",
      "loop found at [np.int64(7), np.int64(24)] by going direction [ 0 -1], directions already explored [array([ 0, -1]), array([0, 1])]\n",
      "found loop\n"
     ]
    },
    {
     "name": "stderr",
     "output_type": "stream",
     "text": [
      "2it [00:04,  2.13s/it]"
     ]
    },
    {
     "name": "stdout",
     "output_type": "stream",
     "text": [
      "loop found at [np.int64(7), np.int64(27)] by going direction [ 0 -1], directions already explored [array([ 0, -1]), array([0, 1])]\n",
      "found loop\n",
      "loop found at [np.int64(22), np.int64(40)] by going direction [ 0 -1], directions already explored [array([ 0, -1])]\n",
      "found loop\n",
      "loop found at [np.int64(29), np.int64(42)] by going direction [ 0 -1], directions already explored [array([ 0, -1])]\n",
      "found loop\n",
      "loop found at [np.int64(25), np.int64(44)] by going direction [1 0], directions already explored [array([1, 0])]\n",
      "found loop\n",
      "loop found at [np.int64(13), np.int64(50)] by going direction [1 0], directions already explored [array([1, 0])]\n",
      "found loop\n",
      "loop found at [np.int64(2), np.int64(40)] by going direction [0 1], directions already explored [array([0, 1])]\n",
      "found loop\n",
      "loop found at [np.int64(94), np.int64(63)] by going direction [ 0 -1], directions already explored [array([ 0, -1])]\n",
      "found loop\n",
      "loop found at [np.int64(22), np.int64(49)] by going direction [ 0 -1], directions already explored [array([ 0, -1])]\n",
      "found loop\n",
      "loop found at [np.int64(8), np.int64(53)] by going direction [0 1], directions already explored [array([0, 1])]\n",
      "found loop\n",
      "loop found at [np.int64(26), np.int64(55)] by going direction [ 0 -1], directions already explored [array([ 0, -1])]\n",
      "found loop\n",
      "loop found at [np.int64(8), np.int64(53)] by going direction [0 1], directions already explored [array([0, 1])]\n",
      "found loop\n",
      "loop found at [np.int64(94), np.int64(63)] by going direction [ 0 -1], directions already explored [array([ 0, -1])]\n",
      "found loop\n",
      "loop found at [np.int64(29), np.int64(61)] by going direction [ 0 -1], directions already explored [array([ 0, -1])]\n",
      "found loop\n",
      "loop found at [np.int64(94), np.int64(63)] by going direction [ 0 -1], directions already explored [array([ 0, -1])]\n",
      "found loop\n",
      "loop found at [np.int64(18), np.int64(30)] by going direction [0 1], directions already explored [array([0, 1])]\n",
      "found loop\n",
      "loop found at [np.int64(31), np.int64(53)] by going direction [0 1], directions already explored [array([0, 1])]\n",
      "found loop\n",
      "loop found at [np.int64(41), np.int64(60)] by going direction [-1  0], directions already explored [array([-1,  0]), array([0, 1])]\n",
      "found loop\n",
      "loop found at [np.int64(22), np.int64(49)] by going direction [ 0 -1], directions already explored [array([ 0, -1])]\n",
      "found loop\n",
      "loop found at [np.int64(2), np.int64(40)] by going direction [0 1], directions already explored [array([0, 1])]\n",
      "found loop\n",
      "loop found at [np.int64(3), np.int64(73)] by going direction [1 0], directions already explored [array([1, 0]), array([-1,  0])]\n",
      "found loop\n",
      "loop found at [np.int64(41), np.int64(36)] by going direction [0 1], directions already explored [array([0, 1]), array([ 0, -1])]\n",
      "found loop\n",
      "loop found at [np.int64(45), np.int64(75)] by going direction [1 0], directions already explored [array([1, 0])]\n",
      "found loop\n",
      "loop found at [np.int64(31), np.int64(53)] by going direction [0 1], directions already explored [array([0, 1])]\n",
      "found loop\n",
      "loop found at [np.int64(94), np.int64(63)] by going direction [ 0 -1], directions already explored [array([ 0, -1])]\n",
      "found loop\n",
      "loop found at [np.int64(9), np.int64(84)] by going direction [1 0], directions already explored [array([0, 1]), array([1, 0])]\n",
      "found loop\n"
     ]
    },
    {
     "name": "stderr",
     "output_type": "stream",
     "text": [
      "3it [00:06,  2.14s/it]"
     ]
    },
    {
     "name": "stdout",
     "output_type": "stream",
     "text": [
      "loop found at [np.int64(9), np.int64(26)] by going direction [0 1], directions already explored [array([0, 1]), array([ 0, -1])]\n",
      "found loop\n",
      "loop found at [np.int64(9), np.int64(26)] by going direction [0 1], directions already explored [array([0, 1]), array([ 0, -1])]\n",
      "found loop\n",
      "loop found at [np.int64(33), np.int64(115)] by going direction [1 0], directions already explored [array([1, 0]), array([-1,  0])]\n",
      "found loop\n",
      "loop found at [np.int64(4), np.int64(115)] by going direction [-1  0], directions already explored [array([-1,  0])]\n",
      "found loop\n",
      "loop found at [np.int64(3), np.int64(116)] by going direction [0 1], directions already explored [array([0, 1])]\n",
      "found loop\n",
      "loop found at [np.int64(17), np.int64(123)] by going direction [1 0], directions already explored [array([1, 0])]\n",
      "found loop\n",
      "loop found at [np.int64(3), np.int64(116)] by going direction [0 1], directions already explored [array([0, 1])]\n",
      "found loop\n"
     ]
    },
    {
     "name": "stderr",
     "output_type": "stream",
     "text": [
      "4it [00:08,  2.12s/it]"
     ]
    },
    {
     "name": "stdout",
     "output_type": "stream",
     "text": [
      "loop found at [np.int64(18), np.int64(30)] by going direction [0 1], directions already explored [array([0, 1])]\n",
      "found loop\n"
     ]
    },
    {
     "name": "stderr",
     "output_type": "stream",
     "text": [
      "6it [00:12,  2.02s/it]"
     ]
    },
    {
     "name": "stdout",
     "output_type": "stream",
     "text": [
      "loop found at [np.int64(33), np.int64(115)] by going direction [1 0], directions already explored [array([1, 0]), array([-1,  0])]\n",
      "found loop\n",
      "loop found at [np.int64(2), np.int64(40)] by going direction [0 1], directions already explored [array([0, 1])]\n",
      "found loop\n",
      "loop found at [np.int64(9), np.int64(26)] by going direction [0 1], directions already explored [array([0, 1]), array([ 0, -1])]\n",
      "found loop\n",
      "loop found at [np.int64(2), np.int64(40)] by going direction [0 1], directions already explored [array([0, 1])]\n",
      "found loop\n",
      "loop found at [np.int64(5), np.int64(39)] by going direction [-1  0], directions already explored [array([-1,  0])]\n",
      "found loop\n",
      "loop found at [np.int64(94), np.int64(63)] by going direction [ 0 -1], directions already explored [array([ 0, -1])]\n",
      "found loop\n",
      "loop found at [np.int64(9), np.int64(26)] by going direction [0 1], directions already explored [array([0, 1]), array([ 0, -1])]\n",
      "found loop\n",
      "loop found at [np.int64(2), np.int64(55)] by going direction [0 1], directions already explored [array([0, 1])]\n",
      "found loop\n",
      "loop found at [np.int64(2), np.int64(56)] by going direction [0 1], directions already explored [array([0, 1])]\n",
      "found loop\n",
      "loop found at [np.int64(9), np.int64(26)] by going direction [0 1], directions already explored [array([0, 1]), array([ 0, -1])]\n",
      "found loop\n",
      "loop found at [np.int64(9), np.int64(26)] by going direction [0 1], directions already explored [array([0, 1]), array([ 0, -1])]\n",
      "found loop\n",
      "loop found at [np.int64(18), np.int64(30)] by going direction [0 1], directions already explored [array([0, 1])]\n",
      "found loop\n",
      "loop found at [np.int64(2), np.int64(68)] by going direction [0 1], directions already explored [array([0, 1])]\n",
      "found loop\n",
      "loop found at [np.int64(2), np.int64(74)] by going direction [0 1], directions already explored [array([0, 1])]\n",
      "found loop\n",
      "loop found at [np.int64(9), np.int64(26)] by going direction [0 1], directions already explored [array([0, 1]), array([ 0, -1])]\n",
      "found loop\n",
      "loop found at [np.int64(2), np.int64(85)] by going direction [0 1], directions already explored [array([0, 1])]\n",
      "found loop\n"
     ]
    },
    {
     "name": "stderr",
     "output_type": "stream",
     "text": [
      "7it [00:14,  2.03s/it]"
     ]
    },
    {
     "name": "stdout",
     "output_type": "stream",
     "text": [
      "loop found at [np.int64(6), np.int64(26)] by going direction [ 0 -1], directions already explored [array([ 0, -1])]\n",
      "found loop\n",
      "loop found at [np.int64(8), np.int64(47)] by going direction [0 1], directions already explored [array([0, 1])]\n",
      "found loop\n"
     ]
    },
    {
     "name": "stderr",
     "output_type": "stream",
     "text": [
      "8it [00:16,  1.99s/it]"
     ]
    },
    {
     "name": "stdout",
     "output_type": "stream",
     "text": [
      "loop found at [np.int64(15), np.int64(6)] by going direction [-1  0], directions already explored [array([-1,  0])]\n",
      "found loop\n",
      "loop found at [np.int64(7), np.int64(26)] by going direction [ 0 -1], directions already explored [array([ 0, -1]), array([0, 1])]\n",
      "found loop\n",
      "loop found at [np.int64(9), np.int64(40)] by going direction [0 1], directions already explored [array([0, 1])]\n",
      "found loop\n",
      "loop found at [np.int64(9), np.int64(47)] by going direction [0 1], directions already explored [array([0, 1])]\n",
      "found loop\n",
      "loop found at [np.int64(13), np.int64(50)] by going direction [1 0], directions already explored [array([1, 0])]\n",
      "found loop\n",
      "loop found at [np.int64(29), np.int64(51)] by going direction [ 0 -1], directions already explored [array([ 0, -1])]\n",
      "found loop\n",
      "loop found at [np.int64(94), np.int64(63)] by going direction [ 0 -1], directions already explored [array([ 0, -1])]\n",
      "found loop\n",
      "loop found at [np.int64(22), np.int64(49)] by going direction [ 0 -1], directions already explored [array([ 0, -1])]\n",
      "found loop\n",
      "loop found at [np.int64(8), np.int64(53)] by going direction [0 1], directions already explored [array([0, 1])]\n",
      "found loop\n",
      "loop found at [np.int64(31), np.int64(44)] by going direction [0 1], directions already explored [array([0, 1])]\n",
      "found loop\n",
      "loop found at [np.int64(24), np.int64(57)] by going direction [ 0 -1], directions already explored [array([ 0, -1])]\n",
      "found loop\n",
      "loop found at [np.int64(8), np.int64(53)] by going direction [0 1], directions already explored [array([0, 1])]\n",
      "found loop\n",
      "loop found at [np.int64(94), np.int64(63)] by going direction [ 0 -1], directions already explored [array([ 0, -1])]\n",
      "found loop\n",
      "loop found at [np.int64(29), np.int64(61)] by going direction [ 0 -1], directions already explored [array([ 0, -1])]\n",
      "found loop\n",
      "loop found at [np.int64(94), np.int64(63)] by going direction [ 0 -1], directions already explored [array([ 0, -1])]\n",
      "found loop\n",
      "loop found at [np.int64(18), np.int64(30)] by going direction [0 1], directions already explored [array([0, 1])]\n",
      "found loop\n",
      "loop found at [np.int64(31), np.int64(53)] by going direction [0 1], directions already explored [array([0, 1])]\n",
      "found loop\n",
      "loop found at [np.int64(41), np.int64(60)] by going direction [-1  0], directions already explored [array([-1,  0])]\n",
      "found loop\n",
      "loop found at [np.int64(22), np.int64(49)] by going direction [ 0 -1], directions already explored [array([ 0, -1])]\n",
      "found loop\n",
      "loop found at [np.int64(45), np.int64(75)] by going direction [1 0], directions already explored [array([1, 0])]\n",
      "found loop\n",
      "loop found at [np.int64(9), np.int64(26)] by going direction [0 1], directions already explored [array([0, 1]), array([ 0, -1])]\n",
      "found loop\n",
      "loop found at [np.int64(31), np.int64(53)] by going direction [0 1], directions already explored [array([0, 1])]\n",
      "found loop\n",
      "loop found at [np.int64(94), np.int64(63)] by going direction [ 0 -1], directions already explored [array([ 0, -1])]\n",
      "found loop\n"
     ]
    },
    {
     "name": "stderr",
     "output_type": "stream",
     "text": [
      "9it [00:18,  1.99s/it]"
     ]
    },
    {
     "name": "stdout",
     "output_type": "stream",
     "text": [
      "loop found at [np.int64(41), np.int64(36)] by going direction [0 1], directions already explored [array([0, 1])]\n",
      "found loop\n",
      "loop found at [np.int64(18), np.int64(30)] by going direction [0 1], directions already explored [array([0, 1])]\n",
      "found loop\n",
      "loop found at [np.int64(7), np.int64(22)] by going direction [0 1], directions already explored [array([0, 1]), array([ 0, -1])]\n",
      "found loop\n",
      "loop found at [np.int64(18), np.int64(23)] by going direction [0 1], directions already explored [array([0, 1])]\n",
      "found loop\n",
      "loop found at [np.int64(18), np.int64(30)] by going direction [0 1], directions already explored [array([0, 1])]\n",
      "found loop\n",
      "loop found at [np.int64(9), np.int64(26)] by going direction [0 1], directions already explored [array([0, 1]), array([ 0, -1])]\n",
      "found loop\n",
      "loop found at [np.int64(18), np.int64(23)] by going direction [0 1], directions already explored [array([0, 1])]\n",
      "found loop\n",
      "loop found at [np.int64(22), np.int64(40)] by going direction [ 0 -1], directions already explored [array([ 0, -1])]\n",
      "found loop\n",
      "loop found at [np.int64(29), np.int64(42)] by going direction [ 0 -1], directions already explored [array([ 0, -1])]\n",
      "found loop\n",
      "loop found at [np.int64(25), np.int64(44)] by going direction [1 0], directions already explored [array([1, 0])]\n",
      "found loop\n",
      "loop found at [np.int64(13), np.int64(50)] by going direction [1 0], directions already explored [array([1, 0])]\n",
      "found loop\n",
      "loop found at [np.int64(29), np.int64(51)] by going direction [ 0 -1], directions already explored [array([ 0, -1])]\n",
      "found loop\n",
      "loop found at [np.int64(94), np.int64(63)] by going direction [ 0 -1], directions already explored [array([ 0, -1])]\n",
      "found loop\n",
      "loop found at [np.int64(22), np.int64(49)] by going direction [ 0 -1], directions already explored [array([ 0, -1])]\n",
      "found loop\n",
      "loop found at [np.int64(31), np.int64(44)] by going direction [0 1], directions already explored [array([0, 1])]\n",
      "found loop\n",
      "loop found at [np.int64(94), np.int64(63)] by going direction [ 0 -1], directions already explored [array([ 0, -1])]\n",
      "found loop\n",
      "loop found at [np.int64(29), np.int64(61)] by going direction [ 0 -1], directions already explored [array([ 0, -1])]\n",
      "found loop\n",
      "loop found at [np.int64(94), np.int64(63)] by going direction [ 0 -1], directions already explored [array([ 0, -1])]\n",
      "found loop\n",
      "loop found at [np.int64(18), np.int64(30)] by going direction [0 1], directions already explored [array([0, 1])]\n",
      "found loop\n",
      "loop found at [np.int64(31), np.int64(53)] by going direction [0 1], directions already explored [array([0, 1])]\n",
      "found loop\n",
      "loop found at [np.int64(41), np.int64(60)] by going direction [-1  0], directions already explored [array([-1,  0])]\n",
      "found loop\n",
      "loop found at [np.int64(22), np.int64(49)] by going direction [ 0 -1], directions already explored [array([ 0, -1])]\n",
      "found loop\n",
      "loop found at [np.int64(45), np.int64(75)] by going direction [1 0], directions already explored [array([1, 0])]\n",
      "found loop\n",
      "loop found at [np.int64(9), np.int64(26)] by going direction [0 1], directions already explored [array([0, 1]), array([ 0, -1])]\n",
      "found loop\n",
      "loop found at [np.int64(31), np.int64(53)] by going direction [0 1], directions already explored [array([0, 1])]\n",
      "found loop\n",
      "loop found at [np.int64(94), np.int64(63)] by going direction [ 0 -1], directions already explored [array([ 0, -1])]\n",
      "found loop\n",
      "loop found at [np.int64(9), np.int64(26)] by going direction [0 1], directions already explored [array([0, 1]), array([ 0, -1])]\n",
      "found loop\n",
      "loop found at [np.int64(9), np.int64(26)] by going direction [0 1], directions already explored [array([0, 1]), array([ 0, -1])]\n",
      "found loop\n"
     ]
    },
    {
     "name": "stderr",
     "output_type": "stream",
     "text": [
      "10it [00:20,  1.97s/it]"
     ]
    },
    {
     "name": "stdout",
     "output_type": "stream",
     "text": [
      "loop found at [np.int64(9), np.int64(26)] by going direction [0 1], directions already explored [array([0, 1]), array([ 0, -1])]\n",
      "found loop\n",
      "loop found at [np.int64(9), np.int64(26)] by going direction [0 1], directions already explored [array([0, 1]), array([ 0, -1])]\n",
      "found loop\n",
      "loop found at [np.int64(9), np.int64(26)] by going direction [0 1], directions already explored [array([0, 1]), array([ 0, -1])]\n",
      "found loop\n"
     ]
    },
    {
     "name": "stderr",
     "output_type": "stream",
     "text": [
      "11it [00:22,  2.05s/it]"
     ]
    },
    {
     "name": "stdout",
     "output_type": "stream",
     "text": [
      "loop found at [np.int64(12), np.int64(29)] by going direction [0 1], directions already explored [array([0, 1])]\n",
      "found loop\n",
      "loop found at [np.int64(7), np.int64(22)] by going direction [0 1], directions already explored [array([0, 1]), array([ 0, -1])]\n",
      "found loop\n",
      "loop found at [np.int64(12), np.int64(40)] by going direction [0 1], directions already explored [array([0, 1])]\n",
      "found loop\n",
      "loop found at [np.int64(12), np.int64(47)] by going direction [0 1], directions already explored [array([0, 1])]\n",
      "found loop\n",
      "loop found at [np.int64(10), np.int64(91)] by going direction [1 0], directions already explored [array([1, 0])]\n",
      "found loop\n"
     ]
    },
    {
     "name": "stderr",
     "output_type": "stream",
     "text": [
      "12it [00:24,  2.06s/it]"
     ]
    },
    {
     "name": "stdout",
     "output_type": "stream",
     "text": [
      "loop found at [np.int64(25), np.int64(44)] by going direction [1 0], directions already explored [array([1, 0])]\n",
      "found loop\n",
      "loop found at [np.int64(41), np.int64(36)] by going direction [0 1], directions already explored [array([0, 1])]\n",
      "found loop\n",
      "loop found at [np.int64(25), np.int64(44)] by going direction [1 0], directions already explored [array([1, 0])]\n",
      "found loop\n",
      "loop found at [np.int64(28), np.int64(28)] by going direction [-1  0], directions already explored [array([-1,  0]), array([1, 0])]\n",
      "found loop\n",
      "loop found at [np.int64(18), np.int64(23)] by going direction [0 1], directions already explored [array([0, 1])]\n",
      "found loop\n",
      "loop found at [np.int64(18), np.int64(30)] by going direction [0 1], directions already explored [array([0, 1])]\n",
      "found loop\n",
      "loop found at [np.int64(18), np.int64(23)] by going direction [0 1], directions already explored [array([0, 1])]\n",
      "found loop\n",
      "loop found at [np.int64(33), np.int64(30)] by going direction [ 0 -1], directions already explored [array([ 0, -1])]\n",
      "found loop\n",
      "loop found at [np.int64(29), np.int64(42)] by going direction [ 0 -1], directions already explored [array([ 0, -1])]\n",
      "found loop\n",
      "loop found at [np.int64(25), np.int64(44)] by going direction [1 0], directions already explored [array([1, 0])]\n",
      "found loop\n"
     ]
    },
    {
     "name": "stderr",
     "output_type": "stream",
     "text": [
      "13it [00:27,  2.26s/it]"
     ]
    },
    {
     "name": "stdout",
     "output_type": "stream",
     "text": [
      "loop found at [np.int64(22), np.int64(49)] by going direction [ 0 -1], directions already explored [array([ 0, -1])]\n",
      "found loop\n",
      "loop found at [np.int64(22), np.int64(49)] by going direction [ 0 -1], directions already explored [array([ 0, -1])]\n",
      "found loop\n",
      "loop found at [np.int64(22), np.int64(49)] by going direction [ 0 -1], directions already explored [array([ 0, -1])]\n",
      "found loop\n"
     ]
    },
    {
     "name": "stderr",
     "output_type": "stream",
     "text": [
      "15it [00:31,  2.18s/it]"
     ]
    },
    {
     "name": "stdout",
     "output_type": "stream",
     "text": [
      "loop found at [np.int64(15), np.int64(116)] by going direction [0 1], directions already explored [array([0, 1])]\n",
      "found loop\n",
      "loop found at [np.int64(5), np.int64(22)] by going direction [-1  0], directions already explored [array([-1,  0])]\n",
      "found loop\n",
      "loop found at [np.int64(94), np.int64(63)] by going direction [ 0 -1], directions already explored [array([ 0, -1])]\n",
      "found loop\n",
      "loop found at [np.int64(94), np.int64(63)] by going direction [ 0 -1], directions already explored [array([ 0, -1])]\n",
      "found loop\n",
      "loop found at [np.int64(16), np.int64(93)] by going direction [0 1], directions already explored [array([0, 1])]\n",
      "found loop\n",
      "loop found at [np.int64(22), np.int64(49)] by going direction [ 0 -1], directions already explored [array([ 0, -1])]\n",
      "found loop\n",
      "loop found at [np.int64(36), np.int64(107)] by going direction [1 0], directions already explored [array([1, 0])]\n",
      "found loop\n",
      "loop found at [np.int64(44), np.int64(71)] by going direction [0 1], directions already explored [array([0, 1])]\n",
      "found loop\n",
      "loop found at [np.int64(33), np.int64(115)] by going direction [1 0], directions already explored [array([1, 0])]\n",
      "found loop\n"
     ]
    },
    {
     "name": "stderr",
     "output_type": "stream",
     "text": [
      "16it [00:33,  2.14s/it]"
     ]
    },
    {
     "name": "stdout",
     "output_type": "stream",
     "text": [
      "loop found at [np.int64(18), np.int64(23)] by going direction [0 1], directions already explored [array([0, 1])]\n",
      "found loop\n",
      "loop found at [np.int64(14), np.int64(6)] by going direction [-1  0], directions already explored [array([-1,  0])]\n",
      "found loop\n",
      "loop found at [np.int64(28), np.int64(28)] by going direction [-1  0], directions already explored [array([-1,  0]), array([1, 0])]\n",
      "found loop\n",
      "loop found at [np.int64(28), np.int64(28)] by going direction [-1  0], directions already explored [array([-1,  0]), array([1, 0])]\n",
      "found loop\n",
      "loop found at [np.int64(18), np.int64(30)] by going direction [0 1], directions already explored [array([0, 1])]\n",
      "found loop\n",
      "loop found at [np.int64(41), np.int64(36)] by going direction [0 1], directions already explored [array([0, 1]), array([ 0, -1])]\n",
      "found loop\n",
      "loop found at [np.int64(41), np.int64(36)] by going direction [0 1], directions already explored [array([0, 1]), array([ 0, -1])]\n",
      "found loop\n",
      "loop found at [np.int64(45), np.int64(75)] by going direction [1 0], directions already explored [array([1, 0])]\n",
      "found loop\n",
      "loop found at [np.int64(19), np.int64(76)] by going direction [1 0], directions already explored [array([1, 0])]\n",
      "found loop\n",
      "loop found at [np.int64(31), np.int64(53)] by going direction [0 1], directions already explored [array([0, 1])]\n",
      "found loop\n",
      "loop found at [np.int64(15), np.int64(83)] by going direction [ 0 -1], directions already explored [array([ 0, -1]), array([0, 1])]\n",
      "found loop\n",
      "loop found at [np.int64(17), np.int64(84)] by going direction [1 0], directions already explored [array([1, 0])]\n",
      "found loop\n",
      "loop found at [np.int64(17), np.int64(91)] by going direction [1 0], directions already explored [array([1, 0])]\n",
      "found loop\n",
      "loop found at [np.int64(22), np.int64(49)] by going direction [ 0 -1], directions already explored [array([ 0, -1])]\n",
      "found loop\n",
      "loop found at [np.int64(36), np.int64(107)] by going direction [1 0], directions already explored [array([1, 0])]\n",
      "found loop\n"
     ]
    },
    {
     "name": "stderr",
     "output_type": "stream",
     "text": [
      "17it [00:35,  2.08s/it]"
     ]
    },
    {
     "name": "stdout",
     "output_type": "stream",
     "text": [
      "loop found at [np.int64(44), np.int64(71)] by going direction [0 1], directions already explored [array([0, 1])]\n",
      "found loop\n",
      "loop found at [np.int64(33), np.int64(115)] by going direction [1 0], directions already explored [array([1, 0])]\n",
      "found loop\n",
      "loop found at [np.int64(18), np.int64(23)] by going direction [0 1], directions already explored [array([0, 1])]\n",
      "found loop\n",
      "loop found at [np.int64(15), np.int64(6)] by going direction [-1  0], directions already explored [array([-1,  0])]\n",
      "found loop\n",
      "loop found at [np.int64(18), np.int64(26)] by going direction [0 1], directions already explored [array([0, 1])]\n",
      "found loop\n",
      "loop found at [np.int64(18), np.int64(29)] by going direction [0 1], directions already explored [array([0, 1])]\n",
      "found loop\n",
      "loop found at [np.int64(18), np.int64(40)] by going direction [0 1], directions already explored [array([0, 1])]\n",
      "found loop\n",
      "loop found at [np.int64(18), np.int64(47)] by going direction [0 1], directions already explored [array([0, 1])]\n",
      "found loop\n",
      "loop found at [np.int64(18), np.int64(72)] by going direction [0 1], directions already explored [array([0, 1])]\n",
      "found loop\n"
     ]
    },
    {
     "name": "stderr",
     "output_type": "stream",
     "text": [
      "18it [00:37,  2.05s/it]"
     ]
    },
    {
     "name": "stdout",
     "output_type": "stream",
     "text": [
      "loop found at [np.int64(18), np.int64(23)] by going direction [0 1], directions already explored [array([0, 1])]\n",
      "found loop\n",
      "loop found at [np.int64(18), np.int64(30)] by going direction [0 1], directions already explored [array([0, 1])]\n",
      "found loop\n",
      "loop found at [np.int64(18), np.int64(23)] by going direction [0 1], directions already explored [array([0, 1])]\n",
      "found loop\n",
      "loop found at [np.int64(33), np.int64(30)] by going direction [ 0 -1], directions already explored [array([ 0, -1])]\n",
      "found loop\n",
      "loop found at [np.int64(25), np.int64(44)] by going direction [1 0], directions already explored [array([1, 0])]\n",
      "found loop\n",
      "loop found at [np.int64(94), np.int64(63)] by going direction [ 0 -1], directions already explored [array([ 0, -1])]\n",
      "found loop\n",
      "loop found at [np.int64(18), np.int64(30)] by going direction [0 1], directions already explored [array([0, 1])]\n",
      "found loop\n",
      "loop found at [np.int64(94), np.int64(63)] by going direction [ 0 -1], directions already explored [array([ 0, -1])]\n",
      "found loop\n",
      "loop found at [np.int64(31), np.int64(44)] by going direction [0 1], directions already explored [array([0, 1])]\n",
      "found loop\n",
      "loop found at [np.int64(31), np.int64(44)] by going direction [0 1], directions already explored [array([0, 1])]\n",
      "found loop\n",
      "loop found at [np.int64(94), np.int64(63)] by going direction [ 0 -1], directions already explored [array([ 0, -1])]\n",
      "found loop\n",
      "loop found at [np.int64(94), np.int64(63)] by going direction [ 0 -1], directions already explored [array([ 0, -1])]\n",
      "found loop\n",
      "loop found at [np.int64(86), np.int64(60)] by going direction [-1  0], directions already explored [array([-1,  0])]\n",
      "found loop\n",
      "loop found at [np.int64(18), np.int64(30)] by going direction [0 1], directions already explored [array([0, 1])]\n",
      "found loop\n",
      "loop found at [np.int64(31), np.int64(53)] by going direction [0 1], directions already explored [array([0, 1])]\n",
      "found loop\n",
      "loop found at [np.int64(41), np.int64(60)] by going direction [-1  0], directions already explored [array([-1,  0])]\n",
      "found loop\n",
      "loop found at [np.int64(18), np.int64(30)] by going direction [0 1], directions already explored [array([0, 1])]\n",
      "found loop\n",
      "loop found at [np.int64(45), np.int64(75)] by going direction [1 0], directions already explored [array([1, 0])]\n",
      "found loop\n"
     ]
    },
    {
     "name": "stderr",
     "output_type": "stream",
     "text": [
      "19it [00:39,  1.99s/it]"
     ]
    },
    {
     "name": "stdout",
     "output_type": "stream",
     "text": [
      "loop found at [np.int64(33), np.int64(115)] by going direction [1 0], directions already explored [array([1, 0])]\n",
      "found loop\n",
      "loop found at [np.int64(33), np.int64(115)] by going direction [1 0], directions already explored [array([1, 0])]\n",
      "found loop\n",
      "loop found at [np.int64(94), np.int64(63)] by going direction [ 0 -1], directions already explored [array([ 0, -1])]\n",
      "found loop\n",
      "loop found at [np.int64(94), np.int64(63)] by going direction [ 0 -1], directions already explored [array([ 0, -1])]\n",
      "found loop\n",
      "loop found at [np.int64(94), np.int64(63)] by going direction [ 0 -1], directions already explored [array([ 0, -1])]\n",
      "found loop\n",
      "loop found at [np.int64(94), np.int64(63)] by going direction [ 0 -1], directions already explored [array([ 0, -1])]\n",
      "found loop\n",
      "loop found at [np.int64(94), np.int64(63)] by going direction [ 0 -1], directions already explored [array([ 0, -1])]\n",
      "found loop\n"
     ]
    },
    {
     "name": "stderr",
     "output_type": "stream",
     "text": [
      "20it [00:41,  1.98s/it]"
     ]
    },
    {
     "name": "stdout",
     "output_type": "stream",
     "text": [
      "loop found at [np.int64(21), np.int64(116)] by going direction [1 0], directions already explored [array([1, 0])]\n",
      "found loop\n",
      "loop found at [np.int64(25), np.int64(44)] by going direction [1 0], directions already explored [array([1, 0])]\n",
      "found loop\n",
      "loop found at [np.int64(25), np.int64(44)] by going direction [1 0], directions already explored [array([1, 0])]\n",
      "found loop\n",
      "loop found at [np.int64(25), np.int64(44)] by going direction [1 0], directions already explored [array([1, 0])]\n",
      "found loop\n",
      "loop found at [np.int64(25), np.int64(44)] by going direction [1 0], directions already explored [array([1, 0])]\n",
      "found loop\n",
      "loop found at [np.int64(25), np.int64(44)] by going direction [1 0], directions already explored [array([1, 0])]\n",
      "found loop\n",
      "loop found at [np.int64(41), np.int64(60)] by going direction [-1  0], directions already explored [array([-1,  0])]\n",
      "found loop\n"
     ]
    },
    {
     "name": "stderr",
     "output_type": "stream",
     "text": [
      "21it [00:43,  1.95s/it]"
     ]
    },
    {
     "name": "stdout",
     "output_type": "stream",
     "text": [
      "loop found at [np.int64(60), np.int64(82)] by going direction [-1  0], directions already explored [array([-1,  0])]\n",
      "found loop\n",
      "loop found at [np.int64(60), np.int64(82)] by going direction [-1  0], directions already explored [array([-1,  0])]\n",
      "found loop\n",
      "loop found at [np.int64(60), np.int64(82)] by going direction [-1  0], directions already explored [array([-1,  0])]\n",
      "found loop\n",
      "loop found at [np.int64(60), np.int64(82)] by going direction [-1  0], directions already explored [array([-1,  0])]\n",
      "found loop\n",
      "loop found at [np.int64(60), np.int64(82)] by going direction [-1  0], directions already explored [array([-1,  0])]\n",
      "found loop\n",
      "loop found at [np.int64(22), np.int64(49)] by going direction [ 0 -1], directions already explored [array([ 0, -1])]\n",
      "found loop\n"
     ]
    },
    {
     "name": "stderr",
     "output_type": "stream",
     "text": [
      "22it [00:45,  1.94s/it]"
     ]
    },
    {
     "name": "stdout",
     "output_type": "stream",
     "text": [
      "loop found at [np.int64(21), np.int64(28)] by going direction [-1  0], directions already explored [array([-1,  0])]\n",
      "found loop\n",
      "loop found at [np.int64(12), np.int64(37)] by going direction [0 1], directions already explored [array([0, 1])]\n",
      "found loop\n",
      "loop found at [np.int64(94), np.int64(63)] by going direction [ 0 -1], directions already explored [array([ 0, -1])]\n",
      "found loop\n",
      "loop found at [np.int64(94), np.int64(63)] by going direction [ 0 -1], directions already explored [array([ 0, -1])]\n",
      "found loop\n",
      "loop found at [np.int64(60), np.int64(82)] by going direction [-1  0], directions already explored [array([-1,  0])]\n",
      "found loop\n",
      "loop found at [np.int64(94), np.int64(63)] by going direction [ 0 -1], directions already explored [array([ 0, -1])]\n",
      "found loop\n",
      "loop found at [np.int64(41), np.int64(60)] by going direction [-1  0], directions already explored [array([-1,  0])]\n",
      "found loop\n",
      "loop found at [np.int64(24), np.int64(84)] by going direction [1 0], directions already explored [array([ 0, -1]), array([1, 0])]\n",
      "found loop\n"
     ]
    },
    {
     "name": "stderr",
     "output_type": "stream",
     "text": [
      "23it [00:47,  1.94s/it]"
     ]
    },
    {
     "name": "stdout",
     "output_type": "stream",
     "text": [
      "loop found at [np.int64(33), np.int64(30)] by going direction [ 0 -1], directions already explored [array([ 0, -1])]\n",
      "found loop\n",
      "loop found at [np.int64(22), np.int64(26)] by going direction [ 0 -1], directions already explored [array([ 0, -1])]\n",
      "found loop\n",
      "loop found at [np.int64(33), np.int64(30)] by going direction [ 0 -1], directions already explored [array([ 0, -1])]\n",
      "found loop\n",
      "loop found at [np.int64(24), np.int64(42)] by going direction [0 1], directions already explored [array([0, 1])]\n",
      "found loop\n",
      "loop found at [np.int64(22), np.int64(49)] by going direction [ 0 -1], directions already explored [array([ 0, -1])]\n",
      "found loop\n"
     ]
    },
    {
     "name": "stderr",
     "output_type": "stream",
     "text": [
      "24it [00:48,  1.93s/it]"
     ]
    },
    {
     "name": "stdout",
     "output_type": "stream",
     "text": [
      "loop found at [np.int64(25), np.int64(26)] by going direction [ 0 -1], directions already explored [array([ 0, -1]), array([0, 1])]\n",
      "found loop\n",
      "loop found at [np.int64(18), np.int64(23)] by going direction [0 1], directions already explored [array([0, 1])]\n",
      "found loop\n",
      "loop found at [np.int64(31), np.int64(44)] by going direction [0 1], directions already explored [array([0, 1])]\n",
      "found loop\n",
      "loop found at [np.int64(94), np.int64(63)] by going direction [ 0 -1], directions already explored [array([ 0, -1])]\n",
      "found loop\n",
      "loop found at [np.int64(41), np.int64(60)] by going direction [-1  0], directions already explored [array([-1,  0])]\n",
      "found loop\n",
      "loop found at [np.int64(22), np.int64(49)] by going direction [ 0 -1], directions already explored [array([ 0, -1])]\n",
      "found loop\n",
      "loop found at [np.int64(22), np.int64(49)] by going direction [ 0 -1], directions already explored [array([ 0, -1])]\n",
      "found loop\n",
      "loop found at [np.int64(9), np.int64(26)] by going direction [0 1], directions already explored [array([0, 1]), array([ 0, -1])]\n",
      "found loop\n",
      "loop found at [np.int64(9), np.int64(26)] by going direction [0 1], directions already explored [array([0, 1]), array([ 0, -1])]\n",
      "found loop\n",
      "loop found at [np.int64(60), np.int64(82)] by going direction [-1  0], directions already explored [array([-1,  0])]\n",
      "found loop\n",
      "loop found at [np.int64(32), np.int64(90)] by going direction [1 0], directions already explored [array([0, 1]), array([1, 0])]\n",
      "found loop\n",
      "loop found at [np.int64(22), np.int64(49)] by going direction [ 0 -1], directions already explored [array([ 0, -1])]\n",
      "found loop\n",
      "loop found at [np.int64(10), np.int64(91)] by going direction [1 0], directions already explored [array([1, 0]), array([-1,  0])]\n",
      "found loop\n"
     ]
    },
    {
     "name": "stderr",
     "output_type": "stream",
     "text": [
      "25it [00:50,  1.87s/it]"
     ]
    },
    {
     "name": "stdout",
     "output_type": "stream",
     "text": [
      "loop found at [np.int64(41), np.int64(36)] by going direction [0 1], directions already explored [array([0, 1])]\n",
      "found loop\n",
      "loop found at [np.int64(25), np.int64(26)] by going direction [ 0 -1], directions already explored [array([ 0, -1]), array([0, 1])]\n",
      "found loop\n",
      "loop found at [np.int64(18), np.int64(23)] by going direction [0 1], directions already explored [array([0, 1])]\n",
      "found loop\n",
      "loop found at [np.int64(25), np.int64(44)] by going direction [1 0], directions already explored [array([1, 0])]\n",
      "found loop\n",
      "loop found at [np.int64(41), np.int64(36)] by going direction [0 1], directions already explored [array([0, 1])]\n",
      "found loop\n",
      "loop found at [np.int64(33), np.int64(30)] by going direction [ 0 -1], directions already explored [array([ 0, -1])]\n",
      "found loop\n",
      "loop found at [np.int64(12), np.int64(29)] by going direction [0 1], directions already explored [array([0, 1])]\n",
      "found loop\n",
      "loop found at [np.int64(41), np.int64(36)] by going direction [0 1], directions already explored [array([0, 1])]\n",
      "found loop\n",
      "loop found at [np.int64(12), np.int64(27)] by going direction [1 0], directions already explored [array([1, 0])]\n",
      "found loop\n",
      "loop found at [np.int64(24), np.int64(22)] by going direction [-1  0], directions already explored [array([-1,  0])]\n",
      "found loop\n",
      "loop found at [np.int64(41), np.int64(36)] by going direction [0 1], directions already explored [array([0, 1])]\n",
      "found loop\n",
      "loop found at [np.int64(21), np.int64(25)] by going direction [-1  0], directions already explored [array([-1,  0])]\n",
      "found loop\n",
      "loop found at [np.int64(18), np.int64(23)] by going direction [0 1], directions already explored [array([0, 1])]\n",
      "found loop\n",
      "loop found at [np.int64(26), np.int64(115)] by going direction [ 0 -1], directions already explored [array([ 0, -1]), array([0, 1])]\n",
      "found loop\n",
      "loop found at [np.int64(24), np.int64(83)] by going direction [ 0 -1], directions already explored [array([ 0, -1])]\n",
      "found loop\n"
     ]
    },
    {
     "name": "stderr",
     "output_type": "stream",
     "text": [
      "26it [00:52,  1.86s/it]"
     ]
    },
    {
     "name": "stdout",
     "output_type": "stream",
     "text": [
      "loop found at [np.int64(26), np.int64(115)] by going direction [ 0 -1], directions already explored [array([ 0, -1]), array([-1,  0])]\n",
      "found loop\n",
      "loop found at [np.int64(25), np.int64(8)] by going direction [ 0 -1], directions already explored [array([ 0, -1])]\n",
      "found loop\n",
      "loop found at [np.int64(94), np.int64(63)] by going direction [ 0 -1], directions already explored [array([ 0, -1])]\n",
      "found loop\n",
      "loop found at [np.int64(94), np.int64(63)] by going direction [ 0 -1], directions already explored [array([ 0, -1])]\n",
      "found loop\n",
      "loop found at [np.int64(94), np.int64(63)] by going direction [ 0 -1], directions already explored [array([ 0, -1])]\n",
      "found loop\n",
      "loop found at [np.int64(25), np.int64(41)] by going direction [-1  0], directions already explored [array([-1,  0])]\n",
      "found loop\n",
      "loop found at [np.int64(94), np.int64(63)] by going direction [ 0 -1], directions already explored [array([ 0, -1])]\n",
      "found loop\n",
      "loop found at [np.int64(31), np.int64(44)] by going direction [0 1], directions already explored [array([0, 1])]\n",
      "found loop\n",
      "loop found at [np.int64(23), np.int64(46)] by going direction [-1  0], directions already explored [array([-1,  0])]\n",
      "found loop\n",
      "loop found at [np.int64(94), np.int64(63)] by going direction [ 0 -1], directions already explored [array([ 0, -1])]\n",
      "found loop\n",
      "loop found at [np.int64(41), np.int64(60)] by going direction [-1  0], directions already explored [array([-1,  0]), array([0, 1])]\n",
      "found loop\n",
      "loop found at [np.int64(22), np.int64(49)] by going direction [ 0 -1], directions already explored [array([ 0, -1])]\n",
      "found loop\n",
      "loop found at [np.int64(8), np.int64(53)] by going direction [0 1], directions already explored [array([0, 1])]\n",
      "found loop\n",
      "loop found at [np.int64(22), np.int64(49)] by going direction [ 0 -1], directions already explored [array([ 0, -1])]\n",
      "found loop\n",
      "loop found at [np.int64(9), np.int64(26)] by going direction [0 1], directions already explored [array([0, 1]), array([ 0, -1])]\n",
      "found loop\n",
      "loop found at [np.int64(26), np.int64(115)] by going direction [ 0 -1], directions already explored [array([ 0, -1]), array([0, 1])]\n",
      "found loop\n",
      "loop found at [np.int64(26), np.int64(115)] by going direction [ 0 -1], directions already explored [array([ 0, -1]), array([0, 1])]\n",
      "found loop\n",
      "loop found at [np.int64(25), np.int64(71)] by going direction [-1  0], directions already explored [array([-1,  0])]\n",
      "found loop\n",
      "loop found at [np.int64(33), np.int64(115)] by going direction [1 0], directions already explored [array([1, 0])]\n",
      "found loop\n",
      "loop found at [np.int64(16), np.int64(84)] by going direction [1 0], directions already explored [array([1, 0]), array([0, 1])]\n",
      "found loop\n",
      "loop found at [np.int64(22), np.int64(49)] by going direction [ 0 -1], directions already explored [array([ 0, -1])]\n",
      "found loop\n",
      "loop found at [np.int64(26), np.int64(115)] by going direction [ 0 -1], directions already explored [array([ 0, -1]), array([0, 1])]\n",
      "found loop\n",
      "loop found at [np.int64(25), np.int64(92)] by going direction [-1  0], directions already explored [array([-1,  0])]\n",
      "found loop\n",
      "loop found at [np.int64(33), np.int64(115)] by going direction [1 0], directions already explored [array([1, 0])]\n",
      "found loop\n",
      "loop found at [np.int64(15), np.int64(99)] by going direction [0 1], directions already explored [array([0, 1])]\n",
      "found loop\n",
      "loop found at [np.int64(26), np.int64(115)] by going direction [ 0 -1], directions already explored [array([ 0, -1]), array([0, 1])]\n",
      "found loop\n",
      "loop found at [np.int64(26), np.int64(115)] by going direction [ 0 -1], directions already explored [array([ 0, -1]), array([0, 1])]\n",
      "found loop\n",
      "loop found at [np.int64(33), np.int64(115)] by going direction [1 0], directions already explored [array([1, 0])]\n",
      "found loop\n"
     ]
    },
    {
     "name": "stderr",
     "output_type": "stream",
     "text": [
      "27it [00:54,  1.87s/it]"
     ]
    },
    {
     "name": "stdout",
     "output_type": "stream",
     "text": [
      "loop found at [np.int64(60), np.int64(82)] by going direction [-1  0], directions already explored [array([-1,  0])]\n",
      "found loop\n"
     ]
    },
    {
     "name": "stderr",
     "output_type": "stream",
     "text": [
      "28it [00:57,  2.16s/it]"
     ]
    },
    {
     "name": "stdout",
     "output_type": "stream",
     "text": [
      "loop found at [np.int64(26), np.int64(3)] by going direction [-1  0], directions already explored [array([-1,  0])]\n",
      "found loop\n",
      "loop found at [np.int64(25), np.int64(26)] by going direction [ 0 -1], directions already explored [array([ 0, -1]), array([0, 1])]\n",
      "found loop\n",
      "loop found at [np.int64(30), np.int64(84)] by going direction [1 0], directions already explored [array([1, 0])]\n",
      "found loop\n"
     ]
    },
    {
     "name": "stderr",
     "output_type": "stream",
     "text": [
      "29it [00:59,  2.20s/it]"
     ]
    },
    {
     "name": "stdout",
     "output_type": "stream",
     "text": [
      "loop found at [np.int64(18), np.int64(30)] by going direction [0 1], directions already explored [array([0, 1])]\n",
      "found loop\n",
      "loop found at [np.int64(94), np.int64(63)] by going direction [ 0 -1], directions already explored [array([ 0, -1])]\n",
      "found loop\n",
      "loop found at [np.int64(18), np.int64(30)] by going direction [0 1], directions already explored [array([0, 1])]\n",
      "found loop\n",
      "loop found at [np.int64(31), np.int64(44)] by going direction [0 1], directions already explored [array([0, 1])]\n",
      "found loop\n",
      "loop found at [np.int64(94), np.int64(63)] by going direction [ 0 -1], directions already explored [array([ 0, -1])]\n",
      "found loop\n",
      "loop found at [np.int64(94), np.int64(63)] by going direction [ 0 -1], directions already explored [array([ 0, -1])]\n",
      "found loop\n",
      "loop found at [np.int64(28), np.int64(41)] by going direction [-1  0], directions already explored [array([-1,  0])]\n",
      "found loop\n",
      "loop found at [np.int64(94), np.int64(63)] by going direction [ 0 -1], directions already explored [array([ 0, -1])]\n",
      "found loop\n",
      "loop found at [np.int64(31), np.int64(44)] by going direction [0 1], directions already explored [array([0, 1])]\n",
      "found loop\n",
      "loop found at [np.int64(94), np.int64(63)] by going direction [ 0 -1], directions already explored [array([ 0, -1])]\n",
      "found loop\n",
      "loop found at [np.int64(41), np.int64(60)] by going direction [-1  0], directions already explored [array([-1,  0])]\n",
      "found loop\n",
      "loop found at [np.int64(31), np.int64(44)] by going direction [0 1], directions already explored [array([0, 1])]\n",
      "found loop\n",
      "loop found at [np.int64(31), np.int64(44)] by going direction [0 1], directions already explored [array([0, 1])]\n",
      "found loop\n",
      "loop found at [np.int64(60), np.int64(82)] by going direction [-1  0], directions already explored [array([-1,  0])]\n",
      "found loop\n",
      "loop found at [np.int64(45), np.int64(75)] by going direction [1 0], directions already explored [array([1, 0])]\n",
      "found loop\n",
      "loop found at [np.int64(60), np.int64(82)] by going direction [-1  0], directions already explored [array([-1,  0])]\n",
      "found loop\n",
      "loop found at [np.int64(60), np.int64(82)] by going direction [-1  0], directions already explored [array([-1,  0])]\n",
      "found loop\n",
      "loop found at [np.int64(76), np.int64(128)] by going direction [1 0], directions already explored [array([1, 0])]\n",
      "found loop\n"
     ]
    },
    {
     "name": "stderr",
     "output_type": "stream",
     "text": [
      "30it [01:01,  2.10s/it]"
     ]
    },
    {
     "name": "stdout",
     "output_type": "stream",
     "text": [
      "loop found at [np.int64(31), np.int64(72)] by going direction [0 1], directions already explored [array([0, 1])]\n",
      "found loop\n",
      "loop found at [np.int64(29), np.int64(75)] by going direction [ 0 -1], directions already explored [array([ 0, -1])]\n",
      "found loop\n"
     ]
    },
    {
     "name": "stderr",
     "output_type": "stream",
     "text": [
      "31it [01:03,  2.07s/it]"
     ]
    },
    {
     "name": "stdout",
     "output_type": "stream",
     "text": [
      "loop found at [np.int64(32), np.int64(33)] by going direction [0 1], directions already explored [array([0, 1])]\n",
      "found loop\n",
      "loop found at [np.int64(32), np.int64(33)] by going direction [0 1], directions already explored [array([0, 1])]\n",
      "found loop\n",
      "loop found at [np.int64(32), np.int64(44)] by going direction [0 1], directions already explored [array([0, 1])]\n",
      "found loop\n",
      "loop found at [np.int64(105), np.int64(42)] by going direction [ 0 -1], directions already explored [array([ 0, -1])]\n",
      "found loop\n",
      "loop found at [np.int64(32), np.int64(44)] by going direction [1 0], directions already explored [array([0, 1]), array([1, 0])]\n",
      "found loop\n",
      "loop found at [np.int64(94), np.int64(63)] by going direction [ 0 -1], directions already explored [array([ 0, -1])]\n",
      "found loop\n",
      "loop found at [np.int64(41), np.int64(32)] by going direction [-1  0], directions already explored [array([-1,  0])]\n",
      "found loop\n",
      "loop found at [np.int64(41), np.int64(32)] by going direction [-1  0], directions already explored [array([-1,  0])]\n",
      "found loop\n",
      "loop found at [np.int64(78), np.int64(51)] by going direction [ 0 -1], directions already explored [array([ 0, -1])]\n",
      "found loop\n",
      "loop found at [np.int64(94), np.int64(63)] by going direction [ 0 -1], directions already explored [array([ 0, -1])]\n",
      "found loop\n",
      "loop found at [np.int64(126), np.int64(79)] by going direction [ 0 -1], directions already explored [array([ 0, -1]), array([0, 1])]\n",
      "found loop\n",
      "loop found at [np.int64(31), np.int64(44)] by going direction [0 1], directions already explored [array([0, 1])]\n",
      "found loop\n",
      "loop found at [np.int64(52), np.int64(43)] by going direction [ 0 -1], directions already explored [array([-1,  0]), array([ 0, -1])]\n",
      "found loop\n",
      "loop found at [np.int64(31), np.int64(44)] by going direction [0 1], directions already explored [array([0, 1])]\n",
      "found loop\n",
      "loop found at [np.int64(94), np.int64(63)] by going direction [ 0 -1], directions already explored [array([ 0, -1])]\n",
      "found loop\n",
      "loop found at [np.int64(94), np.int64(63)] by going direction [ 0 -1], directions already explored [array([ 0, -1])]\n",
      "found loop\n",
      "loop found at [np.int64(81), np.int64(61)] by going direction [ 0 -1], directions already explored [array([ 0, -1])]\n",
      "found loop\n",
      "loop found at [np.int64(94), np.int64(63)] by going direction [ 0 -1], directions already explored [array([ 0, -1])]\n",
      "found loop\n",
      "loop found at [np.int64(86), np.int64(60)] by going direction [-1  0], directions already explored [array([-1,  0])]\n",
      "found loop\n",
      "loop found at [np.int64(31), np.int64(53)] by going direction [0 1], directions already explored [array([0, 1])]\n",
      "found loop\n",
      "loop found at [np.int64(41), np.int64(60)] by going direction [-1  0], directions already explored [array([-1,  0])]\n",
      "found loop\n",
      "loop found at [np.int64(35), np.int64(60)] by going direction [-1  0], directions already explored [array([-1,  0])]\n",
      "found loop\n",
      "loop found at [np.int64(41), np.int64(60)] by going direction [-1  0], directions already explored [array([-1,  0])]\n",
      "found loop\n",
      "loop found at [np.int64(45), np.int64(75)] by going direction [1 0], directions already explored [array([1, 0])]\n",
      "found loop\n",
      "loop found at [np.int64(35), np.int64(61)] by going direction [0 1], directions already explored [array([0, 1]), array([ 0, -1])]\n",
      "found loop\n",
      "loop found at [np.int64(31), np.int64(53)] by going direction [0 1], directions already explored [array([0, 1])]\n",
      "found loop\n",
      "loop found at [np.int64(94), np.int64(63)] by going direction [ 0 -1], directions already explored [array([ 0, -1])]\n",
      "found loop\n",
      "loop found at [np.int64(35), np.int64(61)] by going direction [0 1], directions already explored [array([0, 1]), array([ 0, -1])]\n",
      "found loop\n",
      "loop found at [np.int64(31), np.int64(53)] by going direction [0 1], directions already explored [array([0, 1])]\n",
      "found loop\n",
      "loop found at [np.int64(126), np.int64(79)] by going direction [ 0 -1], directions already explored [array([ 0, -1]), array([0, 1])]\n",
      "found loop\n",
      "loop found at [np.int64(32), np.int64(93)] by going direction [0 1], directions already explored [array([0, 1])]\n",
      "found loop\n",
      "loop found at [np.int64(33), np.int64(115)] by going direction [1 0], directions already explored [array([1, 0]), array([-1,  0])]\n",
      "found loop\n"
     ]
    },
    {
     "name": "stderr",
     "output_type": "stream",
     "text": [
      "32it [01:05,  1.96s/it]"
     ]
    },
    {
     "name": "stdout",
     "output_type": "stream",
     "text": [
      "loop found at [np.int64(33), np.int64(30)] by going direction [ 0 -1], directions already explored [array([ 0, -1])]\n",
      "found loop\n",
      "loop found at [np.int64(105), np.int64(42)] by going direction [ 0 -1], directions already explored [array([ 0, -1])]\n",
      "found loop\n",
      "loop found at [np.int64(33), np.int64(44)] by going direction [1 0], directions already explored [array([1, 0])]\n",
      "found loop\n",
      "loop found at [np.int64(94), np.int64(63)] by going direction [ 0 -1], directions already explored [array([ 0, -1])]\n",
      "found loop\n",
      "loop found at [np.int64(41), np.int64(32)] by going direction [-1  0], directions already explored [array([-1,  0])]\n",
      "found loop\n",
      "loop found at [np.int64(41), np.int64(32)] by going direction [-1  0], directions already explored [array([-1,  0])]\n",
      "found loop\n",
      "loop found at [np.int64(78), np.int64(51)] by going direction [ 0 -1], directions already explored [array([ 0, -1])]\n",
      "found loop\n",
      "loop found at [np.int64(94), np.int64(63)] by going direction [ 0 -1], directions already explored [array([ 0, -1])]\n",
      "found loop\n",
      "loop found at [np.int64(126), np.int64(79)] by going direction [ 0 -1], directions already explored [array([ 0, -1]), array([0, 1])]\n",
      "found loop\n",
      "loop found at [np.int64(52), np.int64(43)] by going direction [ 0 -1], directions already explored [array([ 0, -1])]\n",
      "found loop\n",
      "loop found at [np.int64(94), np.int64(63)] by going direction [ 0 -1], directions already explored [array([ 0, -1])]\n",
      "found loop\n",
      "loop found at [np.int64(94), np.int64(63)] by going direction [ 0 -1], directions already explored [array([ 0, -1])]\n",
      "found loop\n",
      "loop found at [np.int64(94), np.int64(63)] by going direction [ 0 -1], directions already explored [array([ 0, -1])]\n",
      "found loop\n",
      "loop found at [np.int64(86), np.int64(60)] by going direction [-1  0], directions already explored [array([-1,  0])]\n",
      "found loop\n",
      "loop found at [np.int64(41), np.int64(60)] by going direction [-1  0], directions already explored [array([-1,  0])]\n",
      "found loop\n",
      "loop found at [np.int64(35), np.int64(60)] by going direction [-1  0], directions already explored [array([-1,  0])]\n",
      "found loop\n",
      "loop found at [np.int64(41), np.int64(60)] by going direction [-1  0], directions already explored [array([-1,  0])]\n",
      "found loop\n",
      "loop found at [np.int64(45), np.int64(75)] by going direction [1 0], directions already explored [array([1, 0])]\n",
      "found loop\n",
      "loop found at [np.int64(35), np.int64(61)] by going direction [0 1], directions already explored [array([0, 1]), array([ 0, -1])]\n",
      "found loop\n",
      "loop found at [np.int64(94), np.int64(63)] by going direction [ 0 -1], directions already explored [array([ 0, -1])]\n",
      "found loop\n",
      "loop found at [np.int64(35), np.int64(61)] by going direction [0 1], directions already explored [array([0, 1]), array([ 0, -1])]\n",
      "found loop\n",
      "loop found at [np.int64(126), np.int64(79)] by going direction [ 0 -1], directions already explored [array([ 0, -1]), array([0, 1])]\n",
      "found loop\n",
      "loop found at [np.int64(44), np.int64(71)] by going direction [0 1], directions already explored [array([0, 1])]\n",
      "found loop\n",
      "loop found at [np.int64(44), np.int64(71)] by going direction [0 1], directions already explored [array([0, 1])]\n",
      "found loop\n",
      "loop found at [np.int64(44), np.int64(71)] by going direction [0 1], directions already explored [array([0, 1])]\n",
      "found loop\n",
      "loop found at [np.int64(36), np.int64(107)] by going direction [1 0], directions already explored [array([1, 0])]\n",
      "found loop\n",
      "loop found at [np.int64(76), np.int64(128)] by going direction [1 0], directions already explored [array([1, 0])]\n",
      "found loop\n",
      "loop found at [np.int64(76), np.int64(128)] by going direction [1 0], directions already explored [array([1, 0])]\n",
      "found loop\n",
      "loop found at [np.int64(44), np.int64(71)] by going direction [0 1], directions already explored [array([0, 1])]\n",
      "found loop\n"
     ]
    },
    {
     "name": "stderr",
     "output_type": "stream",
     "text": [
      "33it [01:06,  1.84s/it]"
     ]
    },
    {
     "name": "stdout",
     "output_type": "stream",
     "text": [
      "loop found at [np.int64(46), np.int64(116)] by going direction [1 0], directions already explored [array([1, 0])]\n",
      "found loop\n"
     ]
    },
    {
     "name": "stderr",
     "output_type": "stream",
     "text": [
      "34it [01:08,  1.94s/it]"
     ]
    },
    {
     "name": "stdout",
     "output_type": "stream",
     "text": [
      "loop found at [np.int64(18), np.int64(23)] by going direction [0 1], directions already explored [array([0, 1])]\n",
      "found loop\n",
      "loop found at [np.int64(18), np.int64(23)] by going direction [0 1], directions already explored [array([0, 1])]\n",
      "found loop\n",
      "loop found at [np.int64(31), np.int64(44)] by going direction [0 1], directions already explored [array([0, 1])]\n",
      "found loop\n",
      "loop found at [np.int64(35), np.int64(72)] by going direction [0 1], directions already explored [array([0, 1])]\n",
      "found loop\n",
      "loop found at [np.int64(35), np.int64(93)] by going direction [0 1], directions already explored [array([0, 1])]\n",
      "found loop\n"
     ]
    },
    {
     "name": "stderr",
     "output_type": "stream",
     "text": [
      "35it [01:10,  1.97s/it]"
     ]
    },
    {
     "name": "stdout",
     "output_type": "stream",
     "text": [
      "loop found at [np.int64(86), np.int64(60)] by going direction [-1  0], directions already explored [array([-1,  0])]\n",
      "found loop\n",
      "loop found at [np.int64(41), np.int64(60)] by going direction [-1  0], directions already explored [array([-1,  0])]\n",
      "found loop\n",
      "loop found at [np.int64(35), np.int64(60)] by going direction [-1  0], directions already explored [array([-1,  0])]\n",
      "found loop\n",
      "loop found at [np.int64(41), np.int64(60)] by going direction [-1  0], directions already explored [array([-1,  0])]\n",
      "found loop\n",
      "loop found at [np.int64(35), np.int64(61)] by going direction [0 1], directions already explored [array([0, 1]), array([ 0, -1])]\n",
      "found loop\n",
      "loop found at [np.int64(35), np.int64(61)] by going direction [0 1], directions already explored [array([0, 1]), array([ 0, -1])]\n",
      "found loop\n",
      "loop found at [np.int64(126), np.int64(79)] by going direction [ 0 -1], directions already explored [array([ 0, -1]), array([0, 1])]\n",
      "found loop\n"
     ]
    },
    {
     "name": "stderr",
     "output_type": "stream",
     "text": [
      "36it [01:12,  1.92s/it]"
     ]
    },
    {
     "name": "stdout",
     "output_type": "stream",
     "text": [
      "loop found at [np.int64(41), np.int64(36)] by going direction [0 1], directions already explored [array([0, 1])]\n",
      "found loop\n",
      "loop found at [np.int64(126), np.int64(79)] by going direction [ 0 -1], directions already explored [array([ 0, -1]), array([0, 1])]\n",
      "found loop\n",
      "loop found at [np.int64(126), np.int64(79)] by going direction [ 0 -1], directions already explored [array([ 0, -1]), array([0, 1])]\n",
      "found loop\n",
      "loop found at [np.int64(41), np.int64(60)] by going direction [-1  0], directions already explored [array([-1,  0])]\n",
      "found loop\n",
      "loop found at [np.int64(38), np.int64(84)] by going direction [1 0], directions already explored [array([1, 0])]\n",
      "found loop\n",
      "loop found at [np.int64(35), np.int64(61)] by going direction [0 1], directions already explored [array([0, 1]), array([ 0, -1])]\n",
      "found loop\n",
      "loop found at [np.int64(35), np.int64(61)] by going direction [0 1], directions already explored [array([0, 1]), array([ 0, -1])]\n",
      "found loop\n",
      "loop found at [np.int64(35), np.int64(61)] by going direction [0 1], directions already explored [array([0, 1]), array([ 0, -1])]\n",
      "found loop\n",
      "loop found at [np.int64(76), np.int64(128)] by going direction [1 0], directions already explored [array([1, 0])]\n",
      "found loop\n"
     ]
    },
    {
     "name": "stderr",
     "output_type": "stream",
     "text": [
      "37it [01:14,  1.95s/it]"
     ]
    },
    {
     "name": "stdout",
     "output_type": "stream",
     "text": [
      "loop found at [np.int64(45), np.int64(75)] by going direction [1 0], directions already explored [array([1, 0])]\n",
      "found loop\n",
      "loop found at [np.int64(45), np.int64(75)] by going direction [1 0], directions already explored [array([1, 0])]\n",
      "found loop\n",
      "loop found at [np.int64(45), np.int64(75)] by going direction [1 0], directions already explored [array([1, 0])]\n",
      "found loop\n",
      "loop found at [np.int64(50), np.int64(92)] by going direction [-1  0], directions already explored [array([-1,  0])]\n",
      "found loop\n"
     ]
    },
    {
     "name": "stderr",
     "output_type": "stream",
     "text": [
      "38it [01:16,  1.94s/it]"
     ]
    },
    {
     "name": "stdout",
     "output_type": "stream",
     "text": [
      "loop found at [np.int64(41), np.int64(32)] by going direction [-1  0], directions already explored [array([-1,  0])]\n",
      "found loop\n",
      "loop found at [np.int64(41), np.int64(32)] by going direction [-1  0], directions already explored [array([-1,  0])]\n",
      "found loop\n",
      "loop found at [np.int64(41), np.int64(32)] by going direction [-1  0], directions already explored [array([-1,  0])]\n",
      "found loop\n",
      "loop found at [np.int64(31), np.int64(53)] by going direction [0 1], directions already explored [array([0, 1])]\n",
      "found loop\n",
      "loop found at [np.int64(69), np.int64(86)] by going direction [0 1], directions already explored [array([0, 1])]\n",
      "found loop\n",
      "loop found at [np.int64(38), np.int64(99)] by going direction [0 1], directions already explored [array([0, 1]), array([ 0, -1])]\n",
      "found loop\n",
      "loop found at [np.int64(22), np.int64(49)] by going direction [ 0 -1], directions already explored [array([ 0, -1])]\n",
      "found loop\n",
      "loop found at [np.int64(44), np.int64(71)] by going direction [0 1], directions already explored [array([0, 1])]\n",
      "found loop\n",
      "loop found at [np.int64(91), np.int64(94)] by going direction [ 0 -1], directions already explored [array([ 0, -1])]\n",
      "found loop\n",
      "loop found at [np.int64(49), np.int64(105)] by going direction [1 0], directions already explored [array([1, 0])]\n",
      "found loop\n",
      "loop found at [np.int64(39), np.int64(107)] by going direction [1 0], directions already explored [array([1, 0])]\n",
      "found loop\n",
      "loop found at [np.int64(76), np.int64(128)] by going direction [1 0], directions already explored [array([1, 0])]\n",
      "found loop\n",
      "loop found at [np.int64(38), np.int64(99)] by going direction [0 1], directions already explored [array([0, 1]), array([ 0, -1])]\n",
      "found loop\n",
      "loop found at [np.int64(38), np.int64(99)] by going direction [0 1], directions already explored [array([0, 1]), array([ 0, -1])]\n",
      "found loop\n"
     ]
    },
    {
     "name": "stderr",
     "output_type": "stream",
     "text": [
      "39it [01:18,  1.96s/it]"
     ]
    },
    {
     "name": "stdout",
     "output_type": "stream",
     "text": [
      "loop found at [np.int64(39), np.int64(115)] by going direction [1 0], directions already explored [array([1, 0])]\n",
      "found loop\n",
      "loop found at [np.int64(46), np.int64(116)] by going direction [1 0], directions already explored [array([1, 0])]\n",
      "found loop\n",
      "loop found at [np.int64(76), np.int64(128)] by going direction [1 0], directions already explored [array([1, 0])]\n",
      "found loop\n",
      "loop found at [np.int64(69), np.int64(86)] by going direction [0 1], directions already explored [array([0, 1])]\n",
      "found loop\n",
      "loop found at [np.int64(69), np.int64(86)] by going direction [0 1], directions already explored [array([0, 1])]\n",
      "found loop\n",
      "loop found at [np.int64(38), np.int64(99)] by going direction [0 1], directions already explored [array([ 0, -1]), array([0, 1])]\n",
      "found loop\n",
      "loop found at [np.int64(38), np.int64(99)] by going direction [0 1], directions already explored [array([0, 1]), array([ 0, -1])]\n",
      "found loop\n"
     ]
    },
    {
     "name": "stderr",
     "output_type": "stream",
     "text": [
      "40it [01:20,  1.98s/it]"
     ]
    },
    {
     "name": "stdout",
     "output_type": "stream",
     "text": [
      "loop found at [np.int64(41), np.int64(72)] by going direction [0 1], directions already explored [array([0, 1])]\n",
      "found loop\n"
     ]
    },
    {
     "name": "stderr",
     "output_type": "stream",
     "text": [
      "41it [01:22,  1.95s/it]"
     ]
    },
    {
     "name": "stdout",
     "output_type": "stream",
     "text": [
      "loop found at [np.int64(41), np.int64(115)] by going direction [1 0], directions already explored [array([1, 0])]\n",
      "found loop\n",
      "loop found at [np.int64(76), np.int64(128)] by going direction [1 0], directions already explored [array([1, 0])]\n",
      "found loop\n",
      "loop found at [np.int64(43), np.int64(60)] by going direction [0 1], directions already explored [array([-1,  0]), array([0, 1])]\n",
      "found loop\n",
      "loop found at [np.int64(18), np.int64(23)] by going direction [0 1], directions already explored [array([0, 1])]\n",
      "found loop\n",
      "loop found at [np.int64(18), np.int64(23)] by going direction [0 1], directions already explored [array([0, 1])]\n",
      "found loop\n",
      "loop found at [np.int64(126), np.int64(79)] by going direction [ 0 -1], directions already explored [array([ 0, -1]), array([0, 1])]\n",
      "found loop\n",
      "loop found at [np.int64(126), np.int64(79)] by going direction [ 0 -1], directions already explored [array([ 0, -1]), array([0, 1])]\n",
      "found loop\n",
      "loop found at [np.int64(18), np.int64(30)] by going direction [0 1], directions already explored [array([0, 1])]\n",
      "found loop\n",
      "loop found at [np.int64(41), np.int64(36)] by going direction [0 1], directions already explored [array([0, 1])]\n",
      "found loop\n",
      "loop found at [np.int64(54), np.int64(35)] by going direction [-1  0], directions already explored [array([-1,  0])]\n",
      "found loop\n",
      "loop found at [np.int64(126), np.int64(79)] by going direction [ 0 -1], directions already explored [array([ 0, -1]), array([0, 1])]\n",
      "found loop\n",
      "loop found at [np.int64(105), np.int64(42)] by going direction [ 0 -1], directions already explored [array([ 0, -1])]\n",
      "found loop\n",
      "loop found at [np.int64(42), np.int64(44)] by going direction [1 0], directions already explored [array([1, 0])]\n",
      "found loop\n",
      "loop found at [np.int64(94), np.int64(63)] by going direction [ 0 -1], directions already explored [array([ 0, -1])]\n",
      "found loop\n",
      "loop found at [np.int64(31), np.int64(44)] by going direction [0 1], directions already explored [array([0, 1])]\n",
      "found loop\n",
      "loop found at [np.int64(94), np.int64(63)] by going direction [ 0 -1], directions already explored [array([ 0, -1])]\n",
      "found loop\n",
      "loop found at [np.int64(41), np.int64(32)] by going direction [-1  0], directions already explored [array([-1,  0])]\n",
      "found loop\n",
      "loop found at [np.int64(41), np.int64(32)] by going direction [-1  0], directions already explored [array([-1,  0])]\n",
      "found loop\n",
      "loop found at [np.int64(44), np.int64(51)] by going direction [0 1], directions already explored [array([0, 1]), array([1, 0])]\n",
      "found loop\n",
      "loop found at [np.int64(78), np.int64(51)] by going direction [ 0 -1], directions already explored [array([ 0, -1])]\n",
      "found loop\n",
      "loop found at [np.int64(94), np.int64(63)] by going direction [ 0 -1], directions already explored [array([ 0, -1])]\n",
      "found loop\n",
      "loop found at [np.int64(126), np.int64(79)] by going direction [ 0 -1], directions already explored [array([ 0, -1]), array([0, 1])]\n",
      "found loop\n",
      "loop found at [np.int64(41), np.int64(36)] by going direction [0 1], directions already explored [array([0, 1]), array([ 0, -1])]\n",
      "found loop\n",
      "loop found at [np.int64(52), np.int64(43)] by going direction [ 0 -1], directions already explored [array([-1,  0]), array([ 0, -1])]\n",
      "found loop\n",
      "loop found at [np.int64(31), np.int64(44)] by going direction [0 1], directions already explored [array([0, 1])]\n",
      "found loop\n",
      "loop found at [np.int64(126), np.int64(79)] by going direction [ 0 -1], directions already explored [array([ 0, -1]), array([0, 1])]\n",
      "found loop\n",
      "loop found at [np.int64(41), np.int64(36)] by going direction [0 1], directions already explored [array([0, 1]), array([ 0, -1])]\n",
      "found loop\n",
      "loop found at [np.int64(107), np.int64(57)] by going direction [0 1], directions already explored [array([0, 1]), array([ 0, -1])]\n",
      "found loop\n",
      "loop found at [np.int64(94), np.int64(63)] by going direction [ 0 -1], directions already explored [array([ 0, -1])]\n",
      "found loop\n",
      "loop found at [np.int64(81), np.int64(61)] by going direction [ 0 -1], directions already explored [array([ 0, -1])]\n",
      "found loop\n",
      "loop found at [np.int64(94), np.int64(63)] by going direction [ 0 -1], directions already explored [array([ 0, -1])]\n",
      "found loop\n",
      "loop found at [np.int64(86), np.int64(60)] by going direction [-1  0], directions already explored [array([-1,  0])]\n",
      "found loop\n",
      "loop found at [np.int64(18), np.int64(30)] by going direction [0 1], directions already explored [array([0, 1])]\n",
      "found loop\n",
      "loop found at [np.int64(44), np.int64(67)] by going direction [1 0], directions already explored [array([0, 1]), array([1, 0])]\n",
      "found loop\n",
      "loop found at [np.int64(41), np.int64(60)] by going direction [-1  0], directions already explored [array([-1,  0]), array([0, 1])]\n",
      "found loop\n",
      "loop found at [np.int64(41), np.int64(68)] by going direction [0 1], directions already explored [array([0, 1])]\n",
      "found loop\n",
      "loop found at [np.int64(41), np.int64(60)] by going direction [-1  0], directions already explored [array([-1,  0]), array([0, 1])]\n",
      "found loop\n",
      "loop found at [np.int64(18), np.int64(30)] by going direction [0 1], directions already explored [array([0, 1])]\n",
      "found loop\n",
      "loop found at [np.int64(41), np.int64(36)] by going direction [0 1], directions already explored [array([0, 1]), array([ 0, -1])]\n",
      "found loop\n",
      "loop found at [np.int64(41), np.int64(36)] by going direction [0 1], directions already explored [array([0, 1]), array([ 0, -1])]\n",
      "found loop\n",
      "loop found at [np.int64(45), np.int64(75)] by going direction [1 0], directions already explored [array([1, 0])]\n",
      "found loop\n"
     ]
    },
    {
     "name": "stderr",
     "output_type": "stream",
     "text": [
      "42it [01:24,  1.90s/it]"
     ]
    },
    {
     "name": "stdout",
     "output_type": "stream",
     "text": [
      "loop found at [np.int64(94), np.int64(63)] by going direction [ 0 -1], directions already explored [array([ 0, -1])]\n",
      "found loop\n",
      "loop found at [np.int64(94), np.int64(63)] by going direction [ 0 -1], directions already explored [array([ 0, -1])]\n",
      "found loop\n",
      "loop found at [np.int64(94), np.int64(63)] by going direction [ 0 -1], directions already explored [array([ 0, -1])]\n",
      "found loop\n",
      "loop found at [np.int64(94), np.int64(63)] by going direction [ 0 -1], directions already explored [array([ 0, -1])]\n",
      "found loop\n",
      "loop found at [np.int64(44), np.int64(71)] by going direction [0 1], directions already explored [array([0, 1])]\n",
      "found loop\n",
      "loop found at [np.int64(41), np.int64(36)] by going direction [0 1], directions already explored [array([0, 1]), array([ 0, -1])]\n",
      "found loop\n",
      "loop found at [np.int64(44), np.int64(71)] by going direction [0 1], directions already explored [array([0, 1])]\n",
      "found loop\n",
      "loop found at [np.int64(44), np.int64(71)] by going direction [0 1], directions already explored [array([0, 1])]\n",
      "found loop\n"
     ]
    },
    {
     "name": "stderr",
     "output_type": "stream",
     "text": [
      "43it [01:26,  1.93s/it]"
     ]
    },
    {
     "name": "stdout",
     "output_type": "stream",
     "text": [
      "loop found at [np.int64(44), np.int64(51)] by going direction [0 1], directions already explored [array([0, 1])]\n",
      "found loop\n",
      "loop found at [np.int64(44), np.int64(51)] by going direction [0 1], directions already explored [array([0, 1])]\n",
      "found loop\n",
      "loop found at [np.int64(44), np.int64(51)] by going direction [0 1], directions already explored [array([0, 1])]\n",
      "found loop\n",
      "loop found at [np.int64(44), np.int64(56)] by going direction [0 1], directions already explored [array([0, 1])]\n",
      "found loop\n",
      "loop found at [np.int64(90), np.int64(55)] by going direction [-1  0], directions already explored [array([-1,  0]), array([1, 0])]\n",
      "found loop\n",
      "loop found at [np.int64(52), np.int64(43)] by going direction [ 0 -1], directions already explored [array([-1,  0]), array([ 0, -1])]\n",
      "found loop\n",
      "loop found at [np.int64(31), np.int64(44)] by going direction [0 1], directions already explored [array([0, 1])]\n",
      "found loop\n",
      "loop found at [np.int64(126), np.int64(79)] by going direction [ 0 -1], directions already explored [array([ 0, -1]), array([0, 1])]\n",
      "found loop\n",
      "loop found at [np.int64(107), np.int64(57)] by going direction [0 1], directions already explored [array([0, 1]), array([ 0, -1])]\n",
      "found loop\n",
      "loop found at [np.int64(94), np.int64(63)] by going direction [ 0 -1], directions already explored [array([ 0, -1])]\n",
      "found loop\n",
      "loop found at [np.int64(81), np.int64(61)] by going direction [ 0 -1], directions already explored [array([ 0, -1])]\n",
      "found loop\n",
      "loop found at [np.int64(94), np.int64(63)] by going direction [ 0 -1], directions already explored [array([ 0, -1])]\n",
      "found loop\n",
      "loop found at [np.int64(86), np.int64(60)] by going direction [-1  0], directions already explored [array([-1,  0])]\n",
      "found loop\n",
      "loop found at [np.int64(44), np.int64(71)] by going direction [0 1], directions already explored [array([0, 1])]\n",
      "found loop\n",
      "loop found at [np.int64(44), np.int64(71)] by going direction [0 1], directions already explored [array([0, 1])]\n",
      "found loop\n",
      "loop found at [np.int64(31), np.int64(53)] by going direction [0 1], directions already explored [array([0, 1])]\n",
      "found loop\n",
      "loop found at [np.int64(22), np.int64(49)] by going direction [ 0 -1], directions already explored [array([ 0, -1])]\n",
      "found loop\n",
      "loop found at [np.int64(44), np.int64(71)] by going direction [0 1], directions already explored [array([0, 1])]\n",
      "found loop\n",
      "loop found at [np.int64(44), np.int64(71)] by going direction [0 1], directions already explored [array([0, 1])]\n",
      "found loop\n"
     ]
    },
    {
     "name": "stderr",
     "output_type": "stream",
     "text": [
      "44it [01:28,  1.90s/it]"
     ]
    },
    {
     "name": "stdout",
     "output_type": "stream",
     "text": [
      "loop found at [np.int64(18), np.int64(23)] by going direction [0 1], directions already explored [array([0, 1])]\n",
      "found loop\n",
      "loop found at [np.int64(32), np.int64(33)] by going direction [0 1], directions already explored [array([0, 1])]\n",
      "found loop\n",
      "loop found at [np.int64(86), np.int64(60)] by going direction [-1  0], directions already explored [array([-1,  0])]\n",
      "found loop\n",
      "loop found at [np.int64(86), np.int64(60)] by going direction [-1  0], directions already explored [array([-1,  0])]\n",
      "found loop\n",
      "loop found at [np.int64(44), np.int64(51)] by going direction [0 1], directions already explored [array([0, 1])]\n",
      "found loop\n",
      "loop found at [np.int64(78), np.int64(51)] by going direction [ 0 -1], directions already explored [array([ 0, -1])]\n",
      "found loop\n",
      "loop found at [np.int64(126), np.int64(79)] by going direction [ 0 -1], directions already explored [array([ 0, -1]), array([0, 1])]\n",
      "found loop\n",
      "loop found at [np.int64(52), np.int64(43)] by going direction [ 0 -1], directions already explored [array([ 0, -1])]\n",
      "found loop\n",
      "loop found at [np.int64(126), np.int64(79)] by going direction [ 0 -1], directions already explored [array([ 0, -1]), array([0, 1])]\n",
      "found loop\n",
      "loop found at [np.int64(86), np.int64(60)] by going direction [-1  0], directions already explored [array([-1,  0])]\n",
      "found loop\n",
      "loop found at [np.int64(86), np.int64(60)] by going direction [-1  0], directions already explored [array([-1,  0])]\n",
      "found loop\n",
      "loop found at [np.int64(126), np.int64(79)] by going direction [ 0 -1], directions already explored [array([ 0, -1]), array([0, 1])]\n",
      "found loop\n",
      "loop found at [np.int64(45), np.int64(93)] by going direction [0 1], directions already explored [array([0, 1])]\n",
      "found loop\n",
      "loop found at [np.int64(45), np.int64(99)] by going direction [0 1], directions already explored [array([0, 1])]\n",
      "found loop\n",
      "loop found at [np.int64(76), np.int64(128)] by going direction [1 0], directions already explored [array([1, 0])]\n",
      "found loop\n"
     ]
    },
    {
     "name": "stderr",
     "output_type": "stream",
     "text": [
      "45it [01:29,  1.88s/it]"
     ]
    },
    {
     "name": "stdout",
     "output_type": "stream",
     "text": [
      "loop found at [np.int64(76), np.int64(128)] by going direction [1 0], directions already explored [array([1, 0])]\n",
      "found loop\n",
      "loop found at [np.int64(76), np.int64(128)] by going direction [1 0], directions already explored [array([1, 0])]\n",
      "found loop\n",
      "loop found at [np.int64(76), np.int64(128)] by going direction [1 0], directions already explored [array([1, 0])]\n",
      "found loop\n",
      "loop found at [np.int64(76), np.int64(128)] by going direction [1 0], directions already explored [array([1, 0])]\n",
      "found loop\n",
      "loop found at [np.int64(94), np.int64(63)] by going direction [ 0 -1], directions already explored [array([ 0, -1])]\n",
      "found loop\n",
      "loop found at [np.int64(94), np.int64(63)] by going direction [ 0 -1], directions already explored [array([ 0, -1])]\n",
      "found loop\n",
      "loop found at [np.int64(94), np.int64(63)] by going direction [ 0 -1], directions already explored [array([ 0, -1])]\n",
      "found loop\n",
      "loop found at [np.int64(52), np.int64(43)] by going direction [ 0 -1], directions already explored [array([ 0, -1])]\n",
      "found loop\n",
      "loop found at [np.int64(52), np.int64(43)] by going direction [ 0 -1], directions already explored [array([-1,  0]), array([ 0, -1])]\n",
      "found loop\n",
      "loop found at [np.int64(46), np.int64(81)] by going direction [0 1], directions already explored [array([0, 1])]\n",
      "found loop\n",
      "loop found at [np.int64(126), np.int64(79)] by going direction [ 0 -1], directions already explored [array([ 0, -1]), array([0, 1])]\n",
      "found loop\n",
      "loop found at [np.int64(31), np.int64(53)] by going direction [0 1], directions already explored [array([0, 1])]\n",
      "found loop\n",
      "loop found at [np.int64(126), np.int64(79)] by going direction [ 0 -1], directions already explored [array([ 0, -1]), array([0, 1])]\n",
      "found loop\n",
      "loop found at [np.int64(46), np.int64(84)] by going direction [1 0], directions already explored [array([0, 1]), array([1, 0])]\n",
      "found loop\n",
      "loop found at [np.int64(60), np.int64(82)] by going direction [-1  0], directions already explored [array([-1,  0])]\n",
      "found loop\n",
      "loop found at [np.int64(64), np.int64(82)] by going direction [-1  0], directions already explored [array([-1,  0])]\n",
      "found loop\n",
      "loop found at [np.int64(31), np.int64(53)] by going direction [0 1], directions already explored [array([0, 1])]\n",
      "found loop\n",
      "loop found at [np.int64(46), np.int64(90)] by going direction [1 0], directions already explored [array([0, 1]), array([1, 0])]\n",
      "found loop\n",
      "loop found at [np.int64(69), np.int64(86)] by going direction [0 1], directions already explored [array([0, 1])]\n",
      "found loop\n",
      "loop found at [np.int64(44), np.int64(71)] by going direction [0 1], directions already explored [array([0, 1])]\n",
      "found loop\n",
      "loop found at [np.int64(44), np.int64(71)] by going direction [0 1], directions already explored [array([0, 1])]\n",
      "found loop\n",
      "loop found at [np.int64(126), np.int64(79)] by going direction [ 0 -1], directions already explored [array([ 0, -1]), array([0, 1])]\n",
      "found loop\n",
      "loop found at [np.int64(69), np.int64(86)] by going direction [0 1], directions already explored [array([0, 1])]\n",
      "found loop\n",
      "loop found at [np.int64(57), np.int64(99)] by going direction [1 0], directions already explored [array([1, 0])]\n",
      "found loop\n",
      "loop found at [np.int64(44), np.int64(71)] by going direction [0 1], directions already explored [array([0, 1])]\n",
      "found loop\n",
      "loop found at [np.int64(47), np.int64(102)] by going direction [1 0], directions already explored [array([1, 0])]\n",
      "found loop\n",
      "loop found at [np.int64(44), np.int64(71)] by going direction [0 1], directions already explored [array([0, 1])]\n",
      "found loop\n",
      "loop found at [np.int64(91), np.int64(94)] by going direction [ 0 -1], directions already explored [array([ 0, -1])]\n",
      "found loop\n",
      "loop found at [np.int64(49), np.int64(105)] by going direction [1 0], directions already explored [array([1, 0])]\n",
      "found loop\n",
      "loop found at [np.int64(76), np.int64(128)] by going direction [1 0], directions already explored [array([1, 0])]\n",
      "found loop\n",
      "loop found at [np.int64(46), np.int64(107)] by going direction [1 0], directions already explored [array([1, 0])]\n",
      "found loop\n",
      "loop found at [np.int64(76), np.int64(128)] by going direction [1 0], directions already explored [array([1, 0])]\n",
      "found loop\n",
      "loop found at [np.int64(76), np.int64(128)] by going direction [1 0], directions already explored [array([1, 0])]\n",
      "found loop\n",
      "loop found at [np.int64(46), np.int64(115)] by going direction [1 0], directions already explored [array([1, 0])]\n",
      "found loop\n",
      "loop found at [np.int64(76), np.int64(128)] by going direction [1 0], directions already explored [array([1, 0])]\n",
      "found loop\n",
      "loop found at [np.int64(76), np.int64(128)] by going direction [1 0], directions already explored [array([1, 0])]\n",
      "found loop\n",
      "loop found at [np.int64(76), np.int64(128)] by going direction [1 0], directions already explored [array([1, 0])]\n",
      "found loop\n"
     ]
    },
    {
     "name": "stderr",
     "output_type": "stream",
     "text": [
      "46it [01:31,  1.87s/it]"
     ]
    },
    {
     "name": "stdout",
     "output_type": "stream",
     "text": [
      "loop found at [np.int64(31), np.int64(44)] by going direction [0 1], directions already explored [array([0, 1])]\n",
      "found loop\n",
      "loop found at [np.int64(78), np.int64(51)] by going direction [ 0 -1], directions already explored [array([ 0, -1])]\n",
      "found loop\n",
      "loop found at [np.int64(126), np.int64(79)] by going direction [ 0 -1], directions already explored [array([ 0, -1]), array([0, 1])]\n",
      "found loop\n",
      "loop found at [np.int64(126), np.int64(79)] by going direction [ 0 -1], directions already explored [array([ 0, -1]), array([0, 1])]\n",
      "found loop\n",
      "loop found at [np.int64(39), np.int64(90)] by going direction [1 0], directions already explored [array([1, 0])]\n",
      "found loop\n",
      "loop found at [np.int64(126), np.int64(79)] by going direction [ 0 -1], directions already explored [array([ 0, -1]), array([0, 1])]\n",
      "found loop\n",
      "loop found at [np.int64(126), np.int64(79)] by going direction [ 0 -1], directions already explored [array([ 0, -1]), array([0, 1])]\n",
      "found loop\n"
     ]
    },
    {
     "name": "stderr",
     "output_type": "stream",
     "text": [
      "47it [01:33,  1.81s/it]"
     ]
    },
    {
     "name": "stdout",
     "output_type": "stream",
     "text": [
      "loop found at [np.int64(44), np.int64(71)] by going direction [0 1], directions already explored [array([0, 1])]\n",
      "found loop\n",
      "loop found at [np.int64(44), np.int64(71)] by going direction [0 1], directions already explored [array([0, 1])]\n",
      "found loop\n",
      "loop found at [np.int64(47), np.int64(118)] by going direction [1 0], directions already explored [array([ 0, -1]), array([1, 0])]\n",
      "found loop\n",
      "loop found at [np.int64(47), np.int64(120)] by going direction [1 0], directions already explored [array([ 0, -1]), array([1, 0])]\n",
      "found loop\n",
      "loop found at [np.int64(47), np.int64(123)] by going direction [1 0], directions already explored [array([1, 0])]\n",
      "found loop\n",
      "loop found at [np.int64(126), np.int64(79)] by going direction [ 0 -1], directions already explored [array([ 0, -1]), array([0, 1])]\n",
      "found loop\n",
      "loop found at [np.int64(126), np.int64(79)] by going direction [ 0 -1], directions already explored [array([ 0, -1]), array([0, 1])]\n",
      "found loop\n",
      "loop found at [np.int64(126), np.int64(79)] by going direction [ 0 -1], directions already explored [array([ 0, -1]), array([0, 1])]\n",
      "found loop\n",
      "loop found at [np.int64(126), np.int64(79)] by going direction [ 0 -1], directions already explored [array([ 0, -1]), array([0, 1])]\n",
      "found loop\n",
      "loop found at [np.int64(126), np.int64(79)] by going direction [ 0 -1], directions already explored [array([ 0, -1]), array([0, 1])]\n",
      "found loop\n",
      "loop found at [np.int64(48), np.int64(69)] by going direction [0 1], directions already explored [array([0, 1])]\n",
      "found loop\n",
      "loop found at [np.int64(126), np.int64(79)] by going direction [ 0 -1], directions already explored [array([ 0, -1]), array([0, 1])]\n",
      "found loop\n",
      "loop found at [np.int64(44), np.int64(71)] by going direction [0 1], directions already explored [array([0, 1])]\n",
      "found loop\n",
      "loop found at [np.int64(48), np.int64(81)] by going direction [0 1], directions already explored [array([0, 1])]\n",
      "found loop\n",
      "loop found at [np.int64(44), np.int64(71)] by going direction [0 1], directions already explored [array([0, 1])]\n",
      "found loop\n",
      "loop found at [np.int64(44), np.int64(71)] by going direction [0 1], directions already explored [array([0, 1])]\n",
      "found loop\n",
      "loop found at [np.int64(48), np.int64(93)] by going direction [0 1], directions already explored [array([0, 1])]\n",
      "found loop\n",
      "loop found at [np.int64(48), np.int64(99)] by going direction [0 1], directions already explored [array([0, 1])]\n",
      "found loop\n"
     ]
    },
    {
     "name": "stderr",
     "output_type": "stream",
     "text": [
      "48it [01:35,  1.84s/it]"
     ]
    },
    {
     "name": "stdout",
     "output_type": "stream",
     "text": [
      "loop found at [np.int64(126), np.int64(79)] by going direction [ 0 -1], directions already explored [array([ 0, -1]), array([0, 1])]\n",
      "found loop\n",
      "loop found at [np.int64(126), np.int64(79)] by going direction [ 0 -1], directions already explored [array([ 0, -1]), array([0, 1])]\n",
      "found loop\n",
      "loop found at [np.int64(126), np.int64(79)] by going direction [ 0 -1], directions already explored [array([ 0, -1]), array([0, 1])]\n",
      "found loop\n",
      "loop found at [np.int64(126), np.int64(79)] by going direction [ 0 -1], directions already explored [array([ 0, -1]), array([0, 1])]\n",
      "found loop\n",
      "loop found at [np.int64(31), np.int64(44)] by going direction [0 1], directions already explored [array([0, 1])]\n",
      "found loop\n",
      "loop found at [np.int64(126), np.int64(79)] by going direction [ 0 -1], directions already explored [array([ 0, -1]), array([0, 1])]\n",
      "found loop\n",
      "loop found at [np.int64(31), np.int64(63)] by going direction [0 1], directions already explored [array([0, 1])]\n",
      "found loop\n",
      "loop found at [np.int64(126), np.int64(79)] by going direction [ 0 -1], directions already explored [array([ 0, -1]), array([0, 1])]\n",
      "found loop\n",
      "loop found at [np.int64(44), np.int64(71)] by going direction [0 1], directions already explored [array([0, 1])]\n",
      "found loop\n",
      "loop found at [np.int64(49), np.int64(75)] by going direction [1 0], directions already explored [array([1, 0])]\n",
      "found loop\n",
      "loop found at [np.int64(126), np.int64(79)] by going direction [ 0 -1], directions already explored [array([ 0, -1]), array([0, 1])]\n",
      "found loop\n",
      "loop found at [np.int64(126), np.int64(79)] by going direction [ 0 -1], directions already explored [array([ 0, -1]), array([0, 1])]\n",
      "found loop\n",
      "loop found at [np.int64(31), np.int64(53)] by going direction [0 1], directions already explored [array([0, 1])]\n",
      "found loop\n",
      "loop found at [np.int64(126), np.int64(79)] by going direction [ 0 -1], directions already explored [array([ 0, -1]), array([0, 1])]\n",
      "found loop\n",
      "loop found at [np.int64(94), np.int64(63)] by going direction [ 0 -1], directions already explored [array([ 0, -1])]\n",
      "found loop\n",
      "loop found at [np.int64(31), np.int64(53)] by going direction [0 1], directions already explored [array([0, 1])]\n",
      "found loop\n",
      "loop found at [np.int64(44), np.int64(71)] by going direction [0 1], directions already explored [array([0, 1])]\n",
      "found loop\n",
      "loop found at [np.int64(49), np.int64(90)] by going direction [1 0], directions already explored [array([1, 0])]\n",
      "found loop\n",
      "loop found at [np.int64(126), np.int64(79)] by going direction [ 0 -1], directions already explored [array([ 0, -1]), array([0, 1])]\n",
      "found loop\n",
      "loop found at [np.int64(49), np.int64(102)] by going direction [1 0], directions already explored [array([1, 0])]\n",
      "found loop\n"
     ]
    },
    {
     "name": "stderr",
     "output_type": "stream",
     "text": [
      "49it [01:37,  1.88s/it]"
     ]
    },
    {
     "name": "stdout",
     "output_type": "stream",
     "text": [
      "loop found at [np.int64(47), np.int64(115)] by going direction [ 0 -1], directions already explored [array([1, 0]), array([ 0, -1])]\n",
      "found loop\n",
      "loop found at [np.int64(47), np.int64(117)] by going direction [ 0 -1], directions already explored [array([ 0, -1])]\n",
      "found loop\n",
      "loop found at [np.int64(47), np.int64(119)] by going direction [ 0 -1], directions already explored [array([ 0, -1])]\n",
      "found loop\n",
      "loop found at [np.int64(47), np.int64(122)] by going direction [ 0 -1], directions already explored [array([ 0, -1])]\n",
      "found loop\n",
      "loop found at [np.int64(126), np.int64(79)] by going direction [ 0 -1], directions already explored [array([ 0, -1]), array([0, 1])]\n",
      "found loop\n",
      "loop found at [np.int64(126), np.int64(79)] by going direction [ 0 -1], directions already explored [array([ 0, -1]), array([0, 1])]\n",
      "found loop\n",
      "loop found at [np.int64(126), np.int64(79)] by going direction [ 0 -1], directions already explored [array([ 0, -1]), array([0, 1])]\n",
      "found loop\n",
      "loop found at [np.int64(126), np.int64(79)] by going direction [ 0 -1], directions already explored [array([ 0, -1]), array([0, 1])]\n",
      "found loop\n",
      "loop found at [np.int64(126), np.int64(79)] by going direction [ 0 -1], directions already explored [array([ 0, -1]), array([0, 1])]\n",
      "found loop\n",
      "loop found at [np.int64(126), np.int64(79)] by going direction [ 0 -1], directions already explored [array([ 0, -1]), array([0, 1])]\n",
      "found loop\n",
      "loop found at [np.int64(126), np.int64(79)] by going direction [ 0 -1], directions already explored [array([ 0, -1]), array([0, 1])]\n",
      "found loop\n",
      "loop found at [np.int64(31), np.int64(53)] by going direction [0 1], directions already explored [array([0, 1])]\n",
      "found loop\n",
      "loop found at [np.int64(126), np.int64(79)] by going direction [ 0 -1], directions already explored [array([ 0, -1]), array([0, 1])]\n",
      "found loop\n",
      "loop found at [np.int64(126), np.int64(79)] by going direction [ 0 -1], directions already explored [array([ 0, -1]), array([0, 1])]\n",
      "found loop\n",
      "loop found at [np.int64(126), np.int64(79)] by going direction [ 0 -1], directions already explored [array([ 0, -1]), array([0, 1])]\n",
      "found loop\n",
      "loop found at [np.int64(31), np.int64(53)] by going direction [0 1], directions already explored [array([0, 1])]\n",
      "found loop\n",
      "loop found at [np.int64(31), np.int64(53)] by going direction [0 1], directions already explored [array([0, 1])]\n",
      "found loop\n",
      "loop found at [np.int64(57), np.int64(99)] by going direction [1 0], directions already explored [array([1, 0])]\n",
      "found loop\n",
      "loop found at [np.int64(57), np.int64(99)] by going direction [1 0], directions already explored [array([1, 0])]\n",
      "found loop\n",
      "loop found at [np.int64(31), np.int64(53)] by going direction [0 1], directions already explored [array([0, 1])]\n",
      "found loop\n"
     ]
    },
    {
     "name": "stderr",
     "output_type": "stream",
     "text": [
      "50it [01:39,  1.93s/it]"
     ]
    },
    {
     "name": "stdout",
     "output_type": "stream",
     "text": [
      "loop found at [np.int64(126), np.int64(79)] by going direction [ 0 -1], directions already explored [array([ 0, -1]), array([0, 1])]\n",
      "found loop\n",
      "loop found at [np.int64(94), np.int64(63)] by going direction [ 0 -1], directions already explored [array([ 0, -1])]\n",
      "found loop\n",
      "loop found at [np.int64(94), np.int64(63)] by going direction [ 0 -1], directions already explored [array([ 0, -1])]\n",
      "found loop\n",
      "loop found at [np.int64(49), np.int64(32)] by going direction [-1  0], directions already explored [array([-1,  0])]\n",
      "found loop\n",
      "loop found at [np.int64(68), np.int64(50)] by going direction [-1  0], directions already explored [array([-1,  0])]\n",
      "found loop\n",
      "loop found at [np.int64(31), np.int64(44)] by going direction [0 1], directions already explored [array([0, 1])]\n",
      "found loop\n",
      "loop found at [np.int64(94), np.int64(63)] by going direction [ 0 -1], directions already explored [array([ 0, -1])]\n",
      "found loop\n",
      "loop found at [np.int64(126), np.int64(79)] by going direction [ 0 -1], directions already explored [array([ 0, -1]), array([0, 1])]\n",
      "found loop\n",
      "loop found at [np.int64(94), np.int64(63)] by going direction [ 0 -1], directions already explored [array([ 0, -1])]\n",
      "found loop\n",
      "loop found at [np.int64(49), np.int64(41)] by going direction [-1  0], directions already explored [array([-1,  0])]\n",
      "found loop\n",
      "loop found at [np.int64(94), np.int64(63)] by going direction [ 0 -1], directions already explored [array([ 0, -1])]\n",
      "found loop\n",
      "loop found at [np.int64(49), np.int64(43)] by going direction [-1  0], directions already explored [array([-1,  0])]\n",
      "found loop\n",
      "loop found at [np.int64(68), np.int64(50)] by going direction [-1  0], directions already explored [array([-1,  0])]\n",
      "found loop\n",
      "loop found at [np.int64(31), np.int64(44)] by going direction [0 1], directions already explored [array([0, 1])]\n",
      "found loop\n",
      "loop found at [np.int64(126), np.int64(79)] by going direction [ 0 -1], directions already explored [array([ 0, -1]), array([0, 1])]\n",
      "found loop\n",
      "loop found at [np.int64(31), np.int64(44)] by going direction [0 1], directions already explored [array([0, 1])]\n",
      "found loop\n",
      "loop found at [np.int64(126), np.int64(79)] by going direction [ 0 -1], directions already explored [array([ 0, -1]), array([0, 1])]\n",
      "found loop\n",
      "loop found at [np.int64(126), np.int64(79)] by going direction [ 0 -1], directions already explored [array([ 0, -1]), array([0, 1])]\n",
      "found loop\n",
      "loop found at [np.int64(49), np.int64(50)] by going direction [-1  0], directions already explored [array([-1,  0])]\n",
      "found loop\n",
      "loop found at [np.int64(68), np.int64(50)] by going direction [-1  0], directions already explored [array([-1,  0])]\n",
      "found loop\n",
      "loop found at [np.int64(31), np.int64(53)] by going direction [0 1], directions already explored [array([0, 1])]\n",
      "found loop\n",
      "loop found at [np.int64(48), np.int64(69)] by going direction [0 1], directions already explored [array([0, 1])]\n",
      "found loop\n",
      "loop found at [np.int64(31), np.int64(44)] by going direction [0 1], directions already explored [array([0, 1])]\n",
      "found loop\n",
      "loop found at [np.int64(49), np.int64(55)] by going direction [-1  0], directions already explored [array([-1,  0])]\n",
      "found loop\n",
      "loop found at [np.int64(68), np.int64(50)] by going direction [-1  0], directions already explored [array([-1,  0])]\n",
      "found loop\n",
      "loop found at [np.int64(48), np.int64(67)] by going direction [1 0], directions already explored [array([1, 0])]\n",
      "found loop\n",
      "loop found at [np.int64(126), np.int64(79)] by going direction [ 0 -1], directions already explored [array([ 0, -1]), array([0, 1])]\n",
      "found loop\n",
      "loop found at [np.int64(43), np.int64(60)] by going direction [0 1], directions already explored [array([-1,  0]), array([0, 1])]\n",
      "found loop\n",
      "loop found at [np.int64(49), np.int64(60)] by going direction [-1  0], directions already explored [array([-1,  0])]\n",
      "found loop\n",
      "loop found at [np.int64(31), np.int64(63)] by going direction [0 1], directions already explored [array([0, 1])]\n",
      "found loop\n",
      "loop found at [np.int64(47), np.int64(67)] by going direction [1 0], directions already explored [array([1, 0])]\n",
      "found loop\n",
      "loop found at [np.int64(126), np.int64(79)] by going direction [ 0 -1], directions already explored [array([ 0, -1]), array([0, 1])]\n",
      "found loop\n"
     ]
    },
    {
     "name": "stderr",
     "output_type": "stream",
     "text": [
      "51it [01:41,  1.93s/it]"
     ]
    },
    {
     "name": "stdout",
     "output_type": "stream",
     "text": [
      "loop found at [np.int64(55), np.int64(95)] by going direction [1 0], directions already explored [array([1, 0])]\n",
      "found loop\n",
      "loop found at [np.int64(55), np.int64(95)] by going direction [1 0], directions already explored [array([1, 0])]\n",
      "found loop\n",
      "loop found at [np.int64(48), np.int64(102)] by going direction [0 1], directions already explored [array([1, 0]), array([0, 1])]\n",
      "found loop\n",
      "loop found at [np.int64(48), np.int64(102)] by going direction [0 1], directions already explored [array([1, 0]), array([0, 1])]\n",
      "found loop\n",
      "loop found at [np.int64(48), np.int64(102)] by going direction [0 1], directions already explored [array([1, 0]), array([0, 1])]\n",
      "found loop\n"
     ]
    },
    {
     "name": "stderr",
     "output_type": "stream",
     "text": [
      "52it [01:43,  1.96s/it]"
     ]
    },
    {
     "name": "stdout",
     "output_type": "stream",
     "text": [
      "loop found at [np.int64(48), np.int64(102)] by going direction [0 1], directions already explored [array([1, 0]), array([0, 1])]\n",
      "found loop\n",
      "loop found at [np.int64(48), np.int64(102)] by going direction [0 1], directions already explored [array([1, 0]), array([0, 1])]\n",
      "found loop\n",
      "loop found at [np.int64(105), np.int64(42)] by going direction [ 0 -1], directions already explored [array([ 0, -1])]\n",
      "found loop\n",
      "loop found at [np.int64(105), np.int64(42)] by going direction [ 0 -1], directions already explored [array([ 0, -1])]\n",
      "found loop\n",
      "loop found at [np.int64(105), np.int64(42)] by going direction [ 0 -1], directions already explored [array([ 0, -1])]\n",
      "found loop\n",
      "loop found at [np.int64(90), np.int64(55)] by going direction [-1  0], directions already explored [array([-1,  0]), array([1, 0])]\n",
      "found loop\n",
      "loop found at [np.int64(31), np.int64(63)] by going direction [0 1], directions already explored [array([0, 1])]\n",
      "found loop\n",
      "loop found at [np.int64(64), np.int64(82)] by going direction [-1  0], directions already explored [array([-1,  0])]\n",
      "found loop\n",
      "loop found at [np.int64(50), np.int64(92)] by going direction [-1  0], directions already explored [array([-1,  0])]\n",
      "found loop\n",
      "loop found at [np.int64(50), np.int64(92)] by going direction [-1  0], directions already explored [array([-1,  0])]\n",
      "found loop\n"
     ]
    },
    {
     "name": "stderr",
     "output_type": "stream",
     "text": [
      "53it [01:45,  2.01s/it]"
     ]
    },
    {
     "name": "stdout",
     "output_type": "stream",
     "text": [
      "loop found at [np.int64(105), np.int64(42)] by going direction [ 0 -1], directions already explored [array([ 0, -1])]\n",
      "found loop\n",
      "loop found at [np.int64(105), np.int64(42)] by going direction [ 0 -1], directions already explored [array([ 0, -1])]\n",
      "found loop\n",
      "loop found at [np.int64(105), np.int64(42)] by going direction [ 0 -1], directions already explored [array([ 0, -1])]\n",
      "found loop\n",
      "loop found at [np.int64(54), np.int64(68)] by going direction [0 1], directions already explored [array([-1,  0]), array([0, 1])]\n",
      "found loop\n",
      "loop found at [np.int64(54), np.int64(81)] by going direction [0 1], directions already explored [array([0, 1])]\n",
      "found loop\n",
      "loop found at [np.int64(54), np.int64(93)] by going direction [0 1], directions already explored [array([0, 1])]\n",
      "found loop\n"
     ]
    },
    {
     "name": "stderr",
     "output_type": "stream",
     "text": [
      "54it [01:47,  2.07s/it]"
     ]
    },
    {
     "name": "stdout",
     "output_type": "stream",
     "text": [
      "loop found at [np.int64(94), np.int64(63)] by going direction [ 0 -1], directions already explored [array([ 0, -1])]\n",
      "found loop\n",
      "loop found at [np.int64(94), np.int64(63)] by going direction [ 0 -1], directions already explored [array([ 0, -1])]\n",
      "found loop\n",
      "loop found at [np.int64(94), np.int64(63)] by going direction [ 0 -1], directions already explored [array([ 0, -1])]\n",
      "found loop\n",
      "loop found at [np.int64(31), np.int64(63)] by going direction [0 1], directions already explored [array([0, 1])]\n",
      "found loop\n",
      "loop found at [np.int64(31), np.int64(63)] by going direction [0 1], directions already explored [array([0, 1])]\n",
      "found loop\n",
      "loop found at [np.int64(31), np.int64(63)] by going direction [0 1], directions already explored [array([0, 1])]\n",
      "found loop\n",
      "loop found at [np.int64(31), np.int64(63)] by going direction [0 1], directions already explored [array([0, 1])]\n",
      "found loop\n",
      "loop found at [np.int64(55), np.int64(75)] by going direction [1 0], directions already explored [array([1, 0])]\n",
      "found loop\n",
      "loop found at [np.int64(94), np.int64(63)] by going direction [ 0 -1], directions already explored [array([ 0, -1])]\n",
      "found loop\n",
      "loop found at [np.int64(126), np.int64(79)] by going direction [ 0 -1], directions already explored [array([ 0, -1]), array([0, 1])]\n",
      "found loop\n",
      "loop found at [np.int64(126), np.int64(79)] by going direction [ 0 -1], directions already explored [array([ 0, -1]), array([0, 1])]\n",
      "found loop\n",
      "loop found at [np.int64(94), np.int64(63)] by going direction [ 0 -1], directions already explored [array([ 0, -1])]\n",
      "found loop\n",
      "loop found at [np.int64(60), np.int64(82)] by going direction [-1  0], directions already explored [array([-1,  0])]\n",
      "found loop\n",
      "loop found at [np.int64(64), np.int64(82)] by going direction [-1  0], directions already explored [array([-1,  0])]\n",
      "found loop\n",
      "loop found at [np.int64(55), np.int64(90)] by going direction [1 0], directions already explored [array([1, 0])]\n",
      "found loop\n",
      "loop found at [np.int64(31), np.int64(63)] by going direction [0 1], directions already explored [array([0, 1])]\n",
      "found loop\n",
      "loop found at [np.int64(70), np.int64(113)] by going direction [1 0], directions already explored [array([1, 0])]\n",
      "found loop\n"
     ]
    },
    {
     "name": "stderr",
     "output_type": "stream",
     "text": [
      "55it [01:50,  2.23s/it]"
     ]
    },
    {
     "name": "stdout",
     "output_type": "stream",
     "text": [
      "loop found at [np.int64(105), np.int64(42)] by going direction [ 0 -1], directions already explored [array([ 0, -1])]\n",
      "found loop\n",
      "loop found at [np.int64(105), np.int64(42)] by going direction [ 0 -1], directions already explored [array([ 0, -1])]\n",
      "found loop\n",
      "loop found at [np.int64(56), np.int64(83)] by going direction [0 1], directions already explored [array([0, 1])]\n",
      "found loop\n",
      "loop found at [np.int64(56), np.int64(83)] by going direction [0 1], directions already explored [array([0, 1])]\n",
      "found loop\n",
      "loop found at [np.int64(126), np.int64(79)] by going direction [ 0 -1], directions already explored [array([ 0, -1]), array([0, 1])]\n",
      "found loop\n",
      "loop found at [np.int64(56), np.int64(83)] by going direction [0 1], directions already explored [array([0, 1])]\n",
      "found loop\n",
      "loop found at [np.int64(126), np.int64(79)] by going direction [ 0 -1], directions already explored [array([ 0, -1]), array([0, 1])]\n",
      "found loop\n",
      "loop found at [np.int64(126), np.int64(79)] by going direction [ 0 -1], directions already explored [array([ 0, -1]), array([0, 1])]\n",
      "found loop\n",
      "loop found at [np.int64(56), np.int64(93)] by going direction [0 1], directions already explored [array([0, 1])]\n",
      "found loop\n",
      "loop found at [np.int64(126), np.int64(79)] by going direction [ 0 -1], directions already explored [array([ 0, -1]), array([0, 1])]\n",
      "found loop\n",
      "loop found at [np.int64(56), np.int64(99)] by going direction [0 1], directions already explored [array([0, 1])]\n",
      "found loop\n"
     ]
    },
    {
     "name": "stderr",
     "output_type": "stream",
     "text": [
      "56it [01:52,  2.20s/it]"
     ]
    },
    {
     "name": "stdout",
     "output_type": "stream",
     "text": [
      "loop found at [np.int64(65), np.int64(117)] by going direction [-1  0], directions already explored [array([-1,  0])]\n",
      "found loop\n",
      "loop found at [np.int64(57), np.int64(21)] by going direction [0 1], directions already explored [array([0, 1])]\n",
      "found loop\n",
      "loop found at [np.int64(57), np.int64(33)] by going direction [0 1], directions already explored [array([0, 1])]\n",
      "found loop\n",
      "loop found at [np.int64(57), np.int64(36)] by going direction [0 1], directions already explored [array([0, 1])]\n",
      "found loop\n",
      "loop found at [np.int64(57), np.int64(44)] by going direction [0 1], directions already explored [array([0, 1])]\n",
      "found loop\n",
      "loop found at [np.int64(57), np.int64(56)] by going direction [0 1], directions already explored [array([0, 1])]\n",
      "found loop\n",
      "loop found at [np.int64(54), np.int64(71)] by going direction [-1  0], directions already explored [array([-1,  0])]\n",
      "found loop\n",
      "loop found at [np.int64(115), np.int64(81)] by going direction [ 0 -1], directions already explored [array([ 0, -1])]\n",
      "found loop\n",
      "loop found at [np.int64(94), np.int64(63)] by going direction [ 0 -1], directions already explored [array([ 0, -1])]\n",
      "found loop\n",
      "loop found at [np.int64(60), np.int64(82)] by going direction [-1  0], directions already explored [array([-1,  0])]\n",
      "found loop\n",
      "loop found at [np.int64(64), np.int64(82)] by going direction [-1  0], directions already explored [array([-1,  0])]\n",
      "found loop\n",
      "loop found at [np.int64(57), np.int64(90)] by going direction [1 0], directions already explored [array([1, 0])]\n",
      "found loop\n",
      "loop found at [np.int64(31), np.int64(63)] by going direction [0 1], directions already explored [array([0, 1])]\n",
      "found loop\n",
      "loop found at [np.int64(126), np.int64(79)] by going direction [ 0 -1], directions already explored [array([ 0, -1]), array([0, 1])]\n",
      "found loop\n",
      "loop found at [np.int64(57), np.int64(124)] by going direction [0 1], directions already explored [array([0, 1])]\n",
      "found loop\n"
     ]
    },
    {
     "name": "stderr",
     "output_type": "stream",
     "text": [
      "57it [01:54,  2.17s/it]"
     ]
    },
    {
     "name": "stdout",
     "output_type": "stream",
     "text": [
      "loop found at [np.int64(79), np.int64(20)] by going direction [-1  0], directions already explored [array([-1,  0])]\n",
      "found loop\n",
      "loop found at [np.int64(94), np.int64(63)] by going direction [ 0 -1], directions already explored [array([ 0, -1])]\n",
      "found loop\n",
      "loop found at [np.int64(59), np.int64(53)] by going direction [ 0 -1], directions already explored [array([ 0, -1])]\n",
      "found loop\n",
      "loop found at [np.int64(126), np.int64(79)] by going direction [ 0 -1], directions already explored [array([ 0, -1]), array([0, 1])]\n",
      "found loop\n",
      "loop found at [np.int64(78), np.int64(51)] by going direction [ 0 -1], directions already explored [array([ 0, -1])]\n",
      "found loop\n",
      "loop found at [np.int64(126), np.int64(79)] by going direction [ 0 -1], directions already explored [array([ 0, -1]), array([0, 1])]\n",
      "found loop\n",
      "loop found at [np.int64(126), np.int64(79)] by going direction [ 0 -1], directions already explored [array([ 0, -1]), array([0, 1])]\n",
      "found loop\n",
      "loop found at [np.int64(94), np.int64(63)] by going direction [ 0 -1], directions already explored [array([ 0, -1])]\n",
      "found loop\n",
      "loop found at [np.int64(94), np.int64(63)] by going direction [ 0 -1], directions already explored [array([ 0, -1])]\n",
      "found loop\n",
      "loop found at [np.int64(94), np.int64(63)] by going direction [ 0 -1], directions already explored [array([ 0, -1])]\n",
      "found loop\n",
      "loop found at [np.int64(94), np.int64(63)] by going direction [ 0 -1], directions already explored [array([ 0, -1])]\n",
      "found loop\n"
     ]
    },
    {
     "name": "stderr",
     "output_type": "stream",
     "text": [
      "58it [01:56,  2.08s/it]"
     ]
    },
    {
     "name": "stdout",
     "output_type": "stream",
     "text": [
      "loop found at [np.int64(69), np.int64(86)] by going direction [0 1], directions already explored [array([0, 1])]\n",
      "found loop\n",
      "loop found at [np.int64(62), np.int64(127)] by going direction [1 0], directions already explored [array([1, 0])]\n",
      "found loop\n",
      "loop found at [np.int64(60), np.int64(9)] by going direction [1 0], directions already explored [array([1, 0])]\n",
      "found loop\n",
      "loop found at [np.int64(76), np.int64(128)] by going direction [1 0], directions already explored [array([1, 0])]\n",
      "found loop\n",
      "loop found at [np.int64(76), np.int64(128)] by going direction [1 0], directions already explored [array([1, 0])]\n",
      "found loop\n",
      "loop found at [np.int64(60), np.int64(118)] by going direction [1 0], directions already explored [array([ 0, -1]), array([1, 0])]\n",
      "found loop\n",
      "loop found at [np.int64(76), np.int64(128)] by going direction [1 0], directions already explored [array([1, 0])]\n",
      "found loop\n",
      "loop found at [np.int64(76), np.int64(128)] by going direction [1 0], directions already explored [array([1, 0])]\n",
      "found loop\n",
      "loop found at [np.int64(76), np.int64(128)] by going direction [1 0], directions already explored [array([1, 0])]\n",
      "found loop\n"
     ]
    },
    {
     "name": "stderr",
     "output_type": "stream",
     "text": [
      "59it [01:58,  2.03s/it]"
     ]
    },
    {
     "name": "stdout",
     "output_type": "stream",
     "text": [
      "loop found at [np.int64(76), np.int64(128)] by going direction [1 0], directions already explored [array([1, 0])]\n",
      "found loop\n",
      "loop found at [np.int64(94), np.int64(63)] by going direction [ 0 -1], directions already explored [array([ 0, -1])]\n",
      "found loop\n",
      "loop found at [np.int64(78), np.int64(51)] by going direction [ 0 -1], directions already explored [array([ 0, -1])]\n",
      "found loop\n",
      "loop found at [np.int64(61), np.int64(56)] by going direction [1 0], directions already explored [array([1, 0])]\n",
      "found loop\n",
      "loop found at [np.int64(126), np.int64(79)] by going direction [ 0 -1], directions already explored [array([ 0, -1]), array([0, 1])]\n",
      "found loop\n",
      "loop found at [np.int64(43), np.int64(60)] by going direction [0 1], directions already explored [array([-1,  0]), array([0, 1])]\n",
      "found loop\n",
      "loop found at [np.int64(97), np.int64(93)] by going direction [1 0], directions already explored [array([1, 0])]\n",
      "found loop\n",
      "loop found at [np.int64(43), np.int64(60)] by going direction [0 1], directions already explored [array([-1,  0]), array([0, 1])]\n",
      "found loop\n",
      "loop found at [np.int64(43), np.int64(60)] by going direction [0 1], directions already explored [array([-1,  0]), array([0, 1])]\n",
      "found loop\n",
      "loop found at [np.int64(43), np.int64(60)] by going direction [0 1], directions already explored [array([-1,  0]), array([0, 1])]\n",
      "found loop\n",
      "loop found at [np.int64(43), np.int64(60)] by going direction [0 1], directions already explored [array([-1,  0]), array([0, 1])]\n",
      "found loop\n",
      "loop found at [np.int64(43), np.int64(60)] by going direction [0 1], directions already explored [array([-1,  0]), array([0, 1])]\n",
      "found loop\n"
     ]
    },
    {
     "name": "stderr",
     "output_type": "stream",
     "text": [
      "60it [02:00,  2.03s/it]"
     ]
    },
    {
     "name": "stdout",
     "output_type": "stream",
     "text": [
      "loop found at [np.int64(94), np.int64(63)] by going direction [ 0 -1], directions already explored [array([ 0, -1])]\n",
      "found loop\n",
      "loop found at [np.int64(94), np.int64(63)] by going direction [ 0 -1], directions already explored [array([ 0, -1])]\n",
      "found loop\n",
      "loop found at [np.int64(94), np.int64(63)] by going direction [ 0 -1], directions already explored [array([ 0, -1])]\n",
      "found loop\n",
      "loop found at [np.int64(126), np.int64(79)] by going direction [ 0 -1], directions already explored [array([ 0, -1]), array([0, 1])]\n",
      "found loop\n",
      "loop found at [np.int64(126), np.int64(79)] by going direction [ 0 -1], directions already explored [array([ 0, -1]), array([0, 1])]\n",
      "found loop\n",
      "loop found at [np.int64(126), np.int64(79)] by going direction [ 0 -1], directions already explored [array([ 0, -1]), array([0, 1])]\n",
      "found loop\n",
      "loop found at [np.int64(126), np.int64(79)] by going direction [ 0 -1], directions already explored [array([ 0, -1]), array([0, 1])]\n",
      "found loop\n",
      "loop found at [np.int64(126), np.int64(79)] by going direction [ 0 -1], directions already explored [array([ 0, -1]), array([0, 1])]\n",
      "found loop\n",
      "loop found at [np.int64(126), np.int64(79)] by going direction [ 0 -1], directions already explored [array([ 0, -1]), array([0, 1])]\n",
      "found loop\n",
      "loop found at [np.int64(126), np.int64(79)] by going direction [ 0 -1], directions already explored [array([ 0, -1]), array([0, 1])]\n",
      "found loop\n",
      "loop found at [np.int64(126), np.int64(79)] by going direction [ 0 -1], directions already explored [array([ 0, -1]), array([0, 1])]\n",
      "found loop\n",
      "loop found at [np.int64(126), np.int64(79)] by going direction [ 0 -1], directions already explored [array([ 0, -1]), array([0, 1])]\n",
      "found loop\n",
      "loop found at [np.int64(126), np.int64(79)] by going direction [ 0 -1], directions already explored [array([ 0, -1]), array([0, 1])]\n",
      "found loop\n",
      "loop found at [np.int64(126), np.int64(79)] by going direction [ 0 -1], directions already explored [array([ 0, -1]), array([0, 1])]\n",
      "found loop\n",
      "loop found at [np.int64(126), np.int64(79)] by going direction [ 0 -1], directions already explored [array([ 0, -1]), array([0, 1])]\n",
      "found loop\n",
      "loop found at [np.int64(126), np.int64(79)] by going direction [ 0 -1], directions already explored [array([ 0, -1]), array([0, 1])]\n",
      "found loop\n",
      "loop found at [np.int64(48), np.int64(102)] by going direction [0 1], directions already explored [array([1, 0]), array([0, 1])]\n",
      "found loop\n",
      "loop found at [np.int64(45), np.int64(103)] by going direction [0 1], directions already explored [array([0, 1])]\n",
      "found loop\n",
      "loop found at [np.int64(126), np.int64(79)] by going direction [ 0 -1], directions already explored [array([ 0, -1]), array([0, 1])]\n",
      "found loop\n",
      "loop found at [np.int64(126), np.int64(79)] by going direction [ 0 -1], directions already explored [array([ 0, -1]), array([0, 1])]\n",
      "found loop\n",
      "loop found at [np.int64(126), np.int64(79)] by going direction [ 0 -1], directions already explored [array([ 0, -1]), array([0, 1])]\n",
      "found loop\n",
      "loop found at [np.int64(76), np.int64(128)] by going direction [1 0], directions already explored [array([1, 0])]\n",
      "found loop\n",
      "loop found at [np.int64(46), np.int64(111)] by going direction [-1  0], directions already explored [array([-1,  0])]\n",
      "found loop\n",
      "loop found at [np.int64(126), np.int64(79)] by going direction [ 0 -1], directions already explored [array([ 0, -1]), array([0, 1])]\n",
      "found loop\n",
      "loop found at [np.int64(126), np.int64(79)] by going direction [ 0 -1], directions already explored [array([ 0, -1]), array([0, 1])]\n",
      "found loop\n"
     ]
    },
    {
     "name": "stderr",
     "output_type": "stream",
     "text": [
      "61it [02:02,  1.97s/it]"
     ]
    },
    {
     "name": "stdout",
     "output_type": "stream",
     "text": [
      "loop found at [np.int64(59), np.int64(123)] by going direction [-1  0], directions already explored [array([-1,  0])]\n",
      "found loop\n",
      "loop found at [np.int64(61), np.int64(124)] by going direction [0 1], directions already explored [array([0, 1])]\n",
      "found loop\n",
      "loop found at [np.int64(62), np.int64(13)] by going direction [0 1], directions already explored [array([0, 1])]\n",
      "found loop\n",
      "loop found at [np.int64(62), np.int64(90)] by going direction [1 0], directions already explored [array([1, 0])]\n",
      "found loop\n",
      "loop found at [np.int64(84), np.int64(93)] by going direction [1 0], directions already explored [array([1, 0])]\n",
      "found loop\n",
      "loop found at [np.int64(62), np.int64(95)] by going direction [1 0], directions already explored [array([1, 0])]\n",
      "found loop\n",
      "loop found at [np.int64(97), np.int64(93)] by going direction [1 0], directions already explored [array([1, 0])]\n",
      "found loop\n",
      "loop found at [np.int64(62), np.int64(99)] by going direction [1 0], directions already explored [array([1, 0])]\n",
      "found loop\n",
      "loop found at [np.int64(81), np.int64(99)] by going direction [ 0 -1], directions already explored [array([ 0, -1]), array([1, 0])]\n",
      "found loop\n",
      "loop found at [np.int64(62), np.int64(102)] by going direction [1 0], directions already explored [array([1, 0])]\n",
      "found loop\n",
      "loop found at [np.int64(62), np.int64(105)] by going direction [1 0], directions already explored [array([1, 0])]\n",
      "found loop\n",
      "loop found at [np.int64(62), np.int64(107)] by going direction [1 0], directions already explored [array([1, 0])]\n",
      "found loop\n",
      "loop found at [np.int64(68), np.int64(108)] by going direction [1 0], directions already explored [array([1, 0])]\n",
      "found loop\n",
      "loop found at [np.int64(76), np.int64(128)] by going direction [1 0], directions already explored [array([1, 0])]\n",
      "found loop\n",
      "loop found at [np.int64(101), np.int64(109)] by going direction [ 0 -1], directions already explored [array([ 0, -1])]\n",
      "found loop\n",
      "loop found at [np.int64(70), np.int64(113)] by going direction [1 0], directions already explored [array([1, 0])]\n",
      "found loop\n",
      "loop found at [np.int64(63), np.int64(118)] by going direction [1 0], directions already explored [array([1, 0])]\n",
      "found loop\n",
      "loop found at [np.int64(62), np.int64(116)] by going direction [1 0], directions already explored [array([1, 0])]\n",
      "found loop\n",
      "loop found at [np.int64(86), np.int64(117)] by going direction [1 0], directions already explored [array([1, 0])]\n",
      "found loop\n",
      "loop found at [np.int64(62), np.int64(120)] by going direction [1 0], directions already explored [array([1, 0])]\n",
      "found loop\n"
     ]
    },
    {
     "name": "stderr",
     "output_type": "stream",
     "text": [
      "62it [02:03,  1.92s/it]"
     ]
    },
    {
     "name": "stdout",
     "output_type": "stream",
     "text": [
      "loop found at [np.int64(69), np.int64(86)] by going direction [0 1], directions already explored [array([0, 1])]\n",
      "found loop\n",
      "loop found at [np.int64(79), np.int64(20)] by going direction [-1  0], directions already explored [array([-1,  0])]\n",
      "found loop\n",
      "loop found at [np.int64(49), np.int64(22)] by going direction [-1  0], directions already explored [array([-1,  0])]\n",
      "found loop\n",
      "loop found at [np.int64(105), np.int64(42)] by going direction [ 0 -1], directions already explored [array([ 0, -1])]\n",
      "found loop\n",
      "loop found at [np.int64(105), np.int64(42)] by going direction [ 0 -1], directions already explored [array([ 0, -1])]\n",
      "found loop\n",
      "loop found at [np.int64(62), np.int64(28)] by going direction [0 1], directions already explored [array([0, 1])]\n",
      "found loop\n",
      "loop found at [np.int64(105), np.int64(42)] by going direction [ 0 -1], directions already explored [array([ 0, -1])]\n",
      "found loop\n",
      "loop found at [np.int64(105), np.int64(42)] by going direction [ 0 -1], directions already explored [array([ 0, -1])]\n",
      "found loop\n",
      "loop found at [np.int64(94), np.int64(63)] by going direction [ 0 -1], directions already explored [array([ 0, -1])]\n",
      "found loop\n",
      "loop found at [np.int64(94), np.int64(63)] by going direction [ 0 -1], directions already explored [array([ 0, -1])]\n",
      "found loop\n",
      "loop found at [np.int64(107), np.int64(57)] by going direction [0 1], directions already explored [array([0, 1]), array([ 0, -1])]\n",
      "found loop\n",
      "loop found at [np.int64(78), np.int64(51)] by going direction [ 0 -1], directions already explored [array([ 0, -1])]\n",
      "found loop\n",
      "loop found at [np.int64(105), np.int64(42)] by going direction [ 0 -1], directions already explored [array([ 0, -1])]\n",
      "found loop\n",
      "loop found at [np.int64(64), np.int64(82)] by going direction [-1  0], directions already explored [array([-1,  0])]\n",
      "found loop\n",
      "loop found at [np.int64(126), np.int64(79)] by going direction [ 0 -1], directions already explored [array([ 0, -1]), array([0, 1])]\n",
      "found loop\n",
      "loop found at [np.int64(63), np.int64(56)] by going direction [1 0], directions already explored [array([1, 0])]\n",
      "found loop\n",
      "loop found at [np.int64(107), np.int64(57)] by going direction [0 1], directions already explored [array([0, 1]), array([ 0, -1])]\n",
      "found loop\n",
      "loop found at [np.int64(94), np.int64(63)] by going direction [ 0 -1], directions already explored [array([ 0, -1])]\n",
      "found loop\n",
      "loop found at [np.int64(81), np.int64(61)] by going direction [ 0 -1], directions already explored [array([ 0, -1])]\n",
      "found loop\n",
      "loop found at [np.int64(94), np.int64(63)] by going direction [ 0 -1], directions already explored [array([ 0, -1])]\n",
      "found loop\n",
      "loop found at [np.int64(86), np.int64(60)] by going direction [-1  0], directions already explored [array([-1,  0])]\n",
      "found loop\n",
      "loop found at [np.int64(64), np.int64(82)] by going direction [-1  0], directions already explored [array([-1,  0])]\n",
      "found loop\n",
      "loop found at [np.int64(31), np.int64(63)] by going direction [0 1], directions already explored [array([0, 1])]\n",
      "found loop\n",
      "loop found at [np.int64(31), np.int64(63)] by going direction [0 1], directions already explored [array([0, 1])]\n",
      "found loop\n",
      "loop found at [np.int64(126), np.int64(79)] by going direction [ 0 -1], directions already explored [array([ 0, -1]), array([0, 1])]\n",
      "found loop\n",
      "loop found at [np.int64(63), np.int64(75)] by going direction [1 0], directions already explored [array([1, 0])]\n",
      "found loop\n",
      "loop found at [np.int64(64), np.int64(82)] by going direction [-1  0], directions already explored [array([-1,  0])]\n",
      "found loop\n",
      "loop found at [np.int64(64), np.int64(82)] by going direction [-1  0], directions already explored [array([-1,  0])]\n",
      "found loop\n",
      "loop found at [np.int64(60), np.int64(82)] by going direction [-1  0], directions already explored [array([-1,  0])]\n",
      "found loop\n",
      "loop found at [np.int64(97), np.int64(93)] by going direction [1 0], directions already explored [array([1, 0])]\n",
      "found loop\n",
      "loop found at [np.int64(97), np.int64(93)] by going direction [1 0], directions already explored [array([1, 0])]\n",
      "found loop\n",
      "loop found at [np.int64(60), np.int64(82)] by going direction [-1  0], directions already explored [array([-1,  0])]\n",
      "found loop\n",
      "loop found at [np.int64(60), np.int64(82)] by going direction [-1  0], directions already explored [array([-1,  0])]\n",
      "found loop\n"
     ]
    },
    {
     "name": "stderr",
     "output_type": "stream",
     "text": [
      "63it [02:05,  1.88s/it]"
     ]
    },
    {
     "name": "stdout",
     "output_type": "stream",
     "text": [
      "loop found at [np.int64(60), np.int64(82)] by going direction [-1  0], directions already explored [array([-1,  0])]\n",
      "found loop\n",
      "loop found at [np.int64(60), np.int64(82)] by going direction [-1  0], directions already explored [array([-1,  0])]\n",
      "found loop\n",
      "loop found at [np.int64(60), np.int64(82)] by going direction [-1  0], directions already explored [array([-1,  0])]\n",
      "found loop\n",
      "loop found at [np.int64(60), np.int64(82)] by going direction [-1  0], directions already explored [array([-1,  0])]\n",
      "found loop\n",
      "loop found at [np.int64(60), np.int64(82)] by going direction [-1  0], directions already explored [array([-1,  0])]\n",
      "found loop\n",
      "loop found at [np.int64(61), np.int64(3)] by going direction [-1  0], directions already explored [array([-1,  0])]\n",
      "found loop\n",
      "loop found at [np.int64(107), np.int64(57)] by going direction [0 1], directions already explored [array([0, 1]), array([ 0, -1])]\n",
      "found loop\n",
      "loop found at [np.int64(76), np.int64(128)] by going direction [1 0], directions already explored [array([1, 0])]\n",
      "found loop\n",
      "loop found at [np.int64(76), np.int64(128)] by going direction [1 0], directions already explored [array([1, 0])]\n",
      "found loop\n",
      "loop found at [np.int64(76), np.int64(128)] by going direction [1 0], directions already explored [array([1, 0])]\n",
      "found loop\n",
      "loop found at [np.int64(76), np.int64(128)] by going direction [1 0], directions already explored [array([1, 0])]\n",
      "found loop\n",
      "loop found at [np.int64(76), np.int64(128)] by going direction [1 0], directions already explored [array([1, 0])]\n",
      "found loop\n",
      "loop found at [np.int64(76), np.int64(128)] by going direction [1 0], directions already explored [array([1, 0])]\n",
      "found loop\n",
      "loop found at [np.int64(76), np.int64(128)] by going direction [1 0], directions already explored [array([1, 0])]\n",
      "found loop\n"
     ]
    },
    {
     "name": "stderr",
     "output_type": "stream",
     "text": [
      "64it [02:07,  1.85s/it]"
     ]
    },
    {
     "name": "stdout",
     "output_type": "stream",
     "text": [
      "loop found at [np.int64(76), np.int64(128)] by going direction [1 0], directions already explored [array([1, 0])]\n",
      "found loop\n",
      "loop found at [np.int64(76), np.int64(128)] by going direction [1 0], directions already explored [array([1, 0])]\n",
      "found loop\n",
      "loop found at [np.int64(78), np.int64(51)] by going direction [ 0 -1], directions already explored [array([ 0, -1])]\n",
      "found loop\n",
      "loop found at [np.int64(78), np.int64(51)] by going direction [ 0 -1], directions already explored [array([ 0, -1])]\n",
      "found loop\n",
      "loop found at [np.int64(94), np.int64(63)] by going direction [ 0 -1], directions already explored [array([ 0, -1])]\n",
      "found loop\n",
      "loop found at [np.int64(94), np.int64(63)] by going direction [ 0 -1], directions already explored [array([ 0, -1])]\n",
      "found loop\n",
      "loop found at [np.int64(126), np.int64(79)] by going direction [ 0 -1], directions already explored [array([ 0, -1]), array([0, 1])]\n",
      "found loop\n",
      "loop found at [np.int64(66), np.int64(90)] by going direction [1 0], directions already explored [array([1, 0])]\n",
      "found loop\n",
      "loop found at [np.int64(94), np.int64(63)] by going direction [ 0 -1], directions already explored [array([ 0, -1])]\n",
      "found loop\n",
      "loop found at [np.int64(66), np.int64(90)] by going direction [1 0], directions already explored [array([1, 0])]\n",
      "found loop\n"
     ]
    },
    {
     "name": "stderr",
     "output_type": "stream",
     "text": [
      "65it [02:09,  1.90s/it]"
     ]
    },
    {
     "name": "stdout",
     "output_type": "stream",
     "text": [
      "loop found at [np.int64(107), np.int64(57)] by going direction [0 1], directions already explored [array([0, 1]), array([ 0, -1])]\n",
      "found loop\n",
      "loop found at [np.int64(31), np.int64(63)] by going direction [0 1], directions already explored [array([0, 1])]\n",
      "found loop\n",
      "loop found at [np.int64(64), np.int64(82)] by going direction [-1  0], directions already explored [array([-1,  0])]\n",
      "found loop\n",
      "loop found at [np.int64(31), np.int64(63)] by going direction [0 1], directions already explored [array([0, 1])]\n",
      "found loop\n",
      "loop found at [np.int64(67), np.int64(115)] by going direction [1 0], directions already explored [array([1, 0])]\n",
      "found loop\n",
      "loop found at [np.int64(31), np.int64(63)] by going direction [0 1], directions already explored [array([0, 1])]\n",
      "found loop\n",
      "loop found at [np.int64(48), np.int64(94)] by going direction [0 1], directions already explored [array([0, 1])]\n",
      "found loop\n",
      "loop found at [np.int64(76), np.int64(128)] by going direction [1 0], directions already explored [array([1, 0])]\n",
      "found loop\n",
      "loop found at [np.int64(48), np.int64(96)] by going direction [0 1], directions already explored [array([0, 1])]\n",
      "found loop\n",
      "loop found at [np.int64(31), np.int64(63)] by going direction [0 1], directions already explored [array([0, 1])]\n",
      "found loop\n",
      "loop found at [np.int64(76), np.int64(128)] by going direction [1 0], directions already explored [array([1, 0])]\n",
      "found loop\n",
      "loop found at [np.int64(31), np.int64(63)] by going direction [0 1], directions already explored [array([0, 1])]\n",
      "found loop\n",
      "loop found at [np.int64(48), np.int64(102)] by going direction [0 1], directions already explored [array([1, 0]), array([0, 1])]\n",
      "found loop\n",
      "loop found at [np.int64(45), np.int64(103)] by going direction [0 1], directions already explored [array([0, 1])]\n",
      "found loop\n",
      "loop found at [np.int64(76), np.int64(128)] by going direction [1 0], directions already explored [array([1, 0])]\n",
      "found loop\n",
      "loop found at [np.int64(31), np.int64(63)] by going direction [0 1], directions already explored [array([0, 1])]\n",
      "found loop\n",
      "loop found at [np.int64(76), np.int64(128)] by going direction [1 0], directions already explored [array([1, 0])]\n",
      "found loop\n",
      "loop found at [np.int64(76), np.int64(128)] by going direction [1 0], directions already explored [array([1, 0])]\n",
      "found loop\n",
      "loop found at [np.int64(46), np.int64(116)] by going direction [1 0], directions already explored [array([1, 0]), array([-1,  0])]\n",
      "found loop\n",
      "loop found at [np.int64(31), np.int64(63)] by going direction [0 1], directions already explored [array([0, 1])]\n",
      "found loop\n",
      "loop found at [np.int64(66), np.int64(117)] by going direction [ 0 -1], directions already explored [array([ 0, -1])]\n",
      "found loop\n",
      "loop found at [np.int64(31), np.int64(63)] by going direction [0 1], directions already explored [array([0, 1])]\n",
      "found loop\n",
      "loop found at [np.int64(31), np.int64(63)] by going direction [0 1], directions already explored [array([0, 1])]\n",
      "found loop\n",
      "loop found at [np.int64(31), np.int64(63)] by going direction [0 1], directions already explored [array([0, 1])]\n",
      "found loop\n",
      "loop found at [np.int64(31), np.int64(63)] by going direction [0 1], directions already explored [array([0, 1])]\n",
      "found loop\n"
     ]
    },
    {
     "name": "stderr",
     "output_type": "stream",
     "text": [
      "66it [02:11,  1.89s/it]"
     ]
    },
    {
     "name": "stdout",
     "output_type": "stream",
     "text": [
      "loop found at [np.int64(126), np.int64(79)] by going direction [ 0 -1], directions already explored [array([ 0, -1]), array([0, 1])]\n",
      "found loop\n",
      "loop found at [np.int64(54), np.int64(75)] by going direction [0 1], directions already explored [array([1, 0]), array([0, 1])]\n",
      "found loop\n",
      "loop found at [np.int64(64), np.int64(82)] by going direction [-1  0], directions already explored [array([-1,  0])]\n",
      "found loop\n",
      "loop found at [np.int64(67), np.int64(90)] by going direction [0 1], directions already explored [array([1, 0]), array([0, 1])]\n",
      "found loop\n"
     ]
    },
    {
     "name": "stderr",
     "output_type": "stream",
     "text": [
      "67it [02:13,  1.90s/it]"
     ]
    },
    {
     "name": "stdout",
     "output_type": "stream",
     "text": [
      "loop found at [np.int64(86), np.int64(117)] by going direction [1 0], directions already explored [array([1, 0])]\n",
      "found loop\n",
      "loop found at [np.int64(65), np.int64(115)] by going direction [ 0 -1], directions already explored [array([1, 0]), array([ 0, -1])]\n",
      "found loop\n",
      "loop found at [np.int64(65), np.int64(115)] by going direction [ 0 -1], directions already explored [array([1, 0]), array([ 0, -1])]\n",
      "found loop\n",
      "loop found at [np.int64(65), np.int64(115)] by going direction [ 0 -1], directions already explored [array([1, 0]), array([ 0, -1])]\n",
      "found loop\n",
      "loop found at [np.int64(98), np.int64(1)] by going direction [-1  0], directions already explored [array([-1,  0]), array([1, 0])]\n",
      "found loop\n",
      "loop found at [np.int64(68), np.int64(4)] by going direction [1 0], directions already explored [array([1, 0])]\n",
      "found loop\n",
      "loop found at [np.int64(68), np.int64(9)] by going direction [1 0], directions already explored [array([1, 0])]\n",
      "found loop\n",
      "loop found at [np.int64(79), np.int64(20)] by going direction [-1  0], directions already explored [array([-1,  0])]\n",
      "found loop\n",
      "loop found at [np.int64(77), np.int64(1)] by going direction [-1  0], directions already explored [array([-1,  0])]\n",
      "found loop\n",
      "loop found at [np.int64(105), np.int64(42)] by going direction [ 0 -1], directions already explored [array([ 0, -1])]\n",
      "found loop\n",
      "loop found at [np.int64(49), np.int64(22)] by going direction [-1  0], directions already explored [array([-1,  0])]\n",
      "found loop\n",
      "loop found at [np.int64(77), np.int64(1)] by going direction [-1  0], directions already explored [array([-1,  0])]\n",
      "found loop\n",
      "loop found at [np.int64(67), np.int64(28)] by going direction [0 1], directions already explored [array([0, 1])]\n",
      "found loop\n",
      "loop found at [np.int64(77), np.int64(1)] by going direction [-1  0], directions already explored [array([-1,  0])]\n",
      "found loop\n",
      "loop found at [np.int64(67), np.int64(28)] by going direction [0 1], directions already explored [array([0, 1])]\n",
      "found loop\n",
      "loop found at [np.int64(69), np.int64(75)] by going direction [1 0], directions already explored [array([1, 0])]\n",
      "found loop\n",
      "loop found at [np.int64(105), np.int64(42)] by going direction [ 0 -1], directions already explored [array([ 0, -1])]\n",
      "found loop\n",
      "loop found at [np.int64(77), np.int64(1)] by going direction [-1  0], directions already explored [array([-1,  0])]\n",
      "found loop\n",
      "loop found at [np.int64(77), np.int64(1)] by going direction [-1  0], directions already explored [array([-1,  0])]\n",
      "found loop\n",
      "loop found at [np.int64(94), np.int64(63)] by going direction [ 0 -1], directions already explored [array([ 0, -1])]\n",
      "found loop\n",
      "loop found at [np.int64(94), np.int64(63)] by going direction [ 0 -1], directions already explored [array([ 0, -1])]\n",
      "found loop\n",
      "loop found at [np.int64(67), np.int64(28)] by going direction [0 1], directions already explored [array([0, 1])]\n",
      "found loop\n",
      "loop found at [np.int64(8), np.int64(7)] by going direction [0 1], directions already explored [array([0, 1])]\n",
      "found loop\n",
      "loop found at [np.int64(78), np.int64(51)] by going direction [ 0 -1], directions already explored [array([ 0, -1])]\n",
      "found loop\n",
      "loop found at [np.int64(68), np.int64(50)] by going direction [-1  0], directions already explored [array([-1,  0])]\n",
      "found loop\n",
      "loop found at [np.int64(69), np.int64(75)] by going direction [1 0], directions already explored [array([1, 0])]\n",
      "found loop\n",
      "loop found at [np.int64(90), np.int64(55)] by going direction [-1  0], directions already explored [array([-1,  0]), array([1, 0])]\n",
      "found loop\n",
      "loop found at [np.int64(68), np.int64(56)] by going direction [1 0], directions already explored [array([1, 0])]\n",
      "found loop\n",
      "loop found at [np.int64(8), np.int64(7)] by going direction [0 1], directions already explored [array([0, 1])]\n",
      "found loop\n",
      "loop found at [np.int64(8), np.int64(7)] by going direction [0 1], directions already explored [array([0, 1])]\n",
      "found loop\n",
      "loop found at [np.int64(8), np.int64(7)] by going direction [0 1], directions already explored [array([0, 1])]\n",
      "found loop\n",
      "loop found at [np.int64(107), np.int64(57)] by going direction [0 1], directions already explored [array([0, 1]), array([ 0, -1])]\n",
      "found loop\n",
      "loop found at [np.int64(81), np.int64(61)] by going direction [ 0 -1], directions already explored [array([ 0, -1])]\n",
      "found loop\n",
      "loop found at [np.int64(94), np.int64(63)] by going direction [ 0 -1], directions already explored [array([ 0, -1])]\n",
      "found loop\n",
      "loop found at [np.int64(86), np.int64(60)] by going direction [-1  0], directions already explored [array([-1,  0])]\n",
      "found loop\n",
      "loop found at [np.int64(69), np.int64(75)] by going direction [1 0], directions already explored [array([1, 0])]\n",
      "found loop\n",
      "loop found at [np.int64(69), np.int64(75)] by going direction [1 0], directions already explored [array([1, 0])]\n",
      "found loop\n",
      "loop found at [np.int64(77), np.int64(50)] by going direction [-1  0], directions already explored [array([-1,  0])]\n",
      "found loop\n",
      "loop found at [np.int64(72), np.int64(113)] by going direction [1 0], directions already explored [array([1, 0])]\n",
      "found loop\n",
      "loop found at [np.int64(72), np.int64(113)] by going direction [1 0], directions already explored [array([1, 0])]\n",
      "found loop\n",
      "loop found at [np.int64(75), np.int64(67)] by going direction [-1  0], directions already explored [array([-1,  0])]\n",
      "found loop\n",
      "loop found at [np.int64(8), np.int64(7)] by going direction [0 1], directions already explored [array([0, 1])]\n",
      "found loop\n",
      "loop found at [np.int64(68), np.int64(75)] by going direction [1 0], directions already explored [array([1, 0])]\n",
      "found loop\n",
      "loop found at [np.int64(56), np.int64(83)] by going direction [0 1], directions already explored [array([0, 1])]\n",
      "found loop\n",
      "loop found at [np.int64(68), np.int64(78)] by going direction [1 0], directions already explored [array([1, 0])]\n",
      "found loop\n",
      "loop found at [np.int64(69), np.int64(84)] by going direction [1 0], directions already explored [array([1, 0]), array([0, 1])]\n",
      "found loop\n",
      "loop found at [np.int64(126), np.int64(79)] by going direction [ 0 -1], directions already explored [array([ 0, -1]), array([0, 1])]\n",
      "found loop\n",
      "loop found at [np.int64(115), np.int64(81)] by going direction [ 0 -1], directions already explored [array([ 0, -1])]\n",
      "found loop\n",
      "loop found at [np.int64(56), np.int64(83)] by going direction [0 1], directions already explored [array([0, 1])]\n",
      "found loop\n",
      "loop found at [np.int64(68), np.int64(84)] by going direction [1 0], directions already explored [array([1, 0])]\n",
      "found loop\n",
      "loop found at [np.int64(64), np.int64(82)] by going direction [-1  0], directions already explored [array([-1,  0])]\n",
      "found loop\n",
      "loop found at [np.int64(74), np.int64(87)] by going direction [1 0], directions already explored [array([1, 0])]\n",
      "found loop\n",
      "loop found at [np.int64(69), np.int64(86)] by going direction [0 1], directions already explored [array([0, 1])]\n",
      "found loop\n",
      "loop found at [np.int64(76), np.int64(128)] by going direction [1 0], directions already explored [array([1, 0])]\n",
      "found loop\n",
      "loop found at [np.int64(68), np.int64(90)] by going direction [1 0], directions already explored [array([1, 0])]\n",
      "found loop\n",
      "loop found at [np.int64(67), np.int64(115)] by going direction [1 0], directions already explored [array([1, 0])]\n",
      "found loop\n",
      "loop found at [np.int64(84), np.int64(93)] by going direction [1 0], directions already explored [array([1, 0])]\n",
      "found loop\n",
      "loop found at [np.int64(76), np.int64(128)] by going direction [1 0], directions already explored [array([1, 0])]\n",
      "found loop\n",
      "loop found at [np.int64(68), np.int64(95)] by going direction [1 0], directions already explored [array([1, 0])]\n",
      "found loop\n",
      "loop found at [np.int64(97), np.int64(93)] by going direction [1 0], directions already explored [array([1, 0])]\n",
      "found loop\n",
      "loop found at [np.int64(68), np.int64(50)] by going direction [-1  0], directions already explored [array([-1,  0])]\n",
      "found loop\n",
      "loop found at [np.int64(76), np.int64(128)] by going direction [1 0], directions already explored [array([1, 0])]\n",
      "found loop\n",
      "loop found at [np.int64(68), np.int64(99)] by going direction [1 0], directions already explored [array([1, 0])]\n",
      "found loop\n",
      "loop found at [np.int64(81), np.int64(99)] by going direction [ 0 -1], directions already explored [array([ 0, -1]), array([1, 0])]\n",
      "found loop\n",
      "loop found at [np.int64(76), np.int64(128)] by going direction [1 0], directions already explored [array([1, 0])]\n",
      "found loop\n",
      "loop found at [np.int64(68), np.int64(102)] by going direction [1 0], directions already explored [array([1, 0])]\n",
      "found loop\n",
      "loop found at [np.int64(76), np.int64(128)] by going direction [1 0], directions already explored [array([1, 0])]\n",
      "found loop\n",
      "loop found at [np.int64(68), np.int64(105)] by going direction [1 0], directions already explored [array([1, 0])]\n",
      "found loop\n",
      "loop found at [np.int64(76), np.int64(128)] by going direction [1 0], directions already explored [array([1, 0])]\n",
      "found loop\n",
      "loop found at [np.int64(68), np.int64(107)] by going direction [1 0], directions already explored [array([1, 0])]\n",
      "found loop\n",
      "loop found at [np.int64(76), np.int64(128)] by going direction [1 0], directions already explored [array([1, 0])]\n",
      "found loop\n"
     ]
    },
    {
     "name": "stderr",
     "output_type": "stream",
     "text": [
      "68it [02:15,  1.88s/it]"
     ]
    },
    {
     "name": "stdout",
     "output_type": "stream",
     "text": [
      "loop found at [np.int64(69), np.int64(81)] by going direction [0 1], directions already explored [array([0, 1])]\n",
      "found loop\n",
      "loop found at [np.int64(69), np.int64(90)] by going direction [0 1], directions already explored [array([1, 0]), array([0, 1])]\n",
      "found loop\n"
     ]
    },
    {
     "name": "stderr",
     "output_type": "stream",
     "text": [
      "69it [02:17,  1.99s/it]"
     ]
    },
    {
     "name": "stdout",
     "output_type": "stream",
     "text": [
      "loop found at [np.int64(78), np.int64(51)] by going direction [ 0 -1], directions already explored [array([ 0, -1])]\n",
      "found loop\n",
      "loop found at [np.int64(86), np.int64(60)] by going direction [-1  0], directions already explored [array([-1,  0])]\n",
      "found loop\n",
      "loop found at [np.int64(86), np.int64(60)] by going direction [-1  0], directions already explored [array([-1,  0])]\n",
      "found loop\n",
      "loop found at [np.int64(97), np.int64(93)] by going direction [1 0], directions already explored [array([1, 0])]\n",
      "found loop\n",
      "loop found at [np.int64(124), np.int64(73)] by going direction [ 0 -1], directions already explored [array([ 0, -1])]\n",
      "found loop\n",
      "loop found at [np.int64(63), np.int64(78)] by going direction [1 0], directions already explored [array([1, 0])]\n",
      "found loop\n",
      "loop found at [np.int64(70), np.int64(78)] by going direction [1 0], directions already explored [array([1, 0])]\n",
      "found loop\n",
      "loop found at [np.int64(104), np.int64(78)] by going direction [ 0 -1], directions already explored [array([ 0, -1]), array([1, 0])]\n",
      "found loop\n",
      "loop found at [np.int64(126), np.int64(79)] by going direction [ 0 -1], directions already explored [array([ 0, -1]), array([0, 1])]\n",
      "found loop\n",
      "loop found at [np.int64(115), np.int64(81)] by going direction [ 0 -1], directions already explored [array([ 0, -1])]\n",
      "found loop\n",
      "loop found at [np.int64(124), np.int64(73)] by going direction [ 0 -1], directions already explored [array([ 0, -1])]\n",
      "found loop\n",
      "loop found at [np.int64(70), np.int64(84)] by going direction [1 0], directions already explored [array([1, 0])]\n",
      "found loop\n",
      "loop found at [np.int64(64), np.int64(82)] by going direction [-1  0], directions already explored [array([-1,  0])]\n",
      "found loop\n",
      "loop found at [np.int64(74), np.int64(87)] by going direction [1 0], directions already explored [array([1, 0])]\n",
      "found loop\n",
      "loop found at [np.int64(69), np.int64(86)] by going direction [0 1], directions already explored [array([0, 1])]\n",
      "found loop\n",
      "loop found at [np.int64(70), np.int64(90)] by going direction [1 0], directions already explored [array([1, 0])]\n",
      "found loop\n",
      "loop found at [np.int64(67), np.int64(115)] by going direction [1 0], directions already explored [array([1, 0])]\n",
      "found loop\n",
      "loop found at [np.int64(84), np.int64(93)] by going direction [1 0], directions already explored [array([1, 0])]\n",
      "found loop\n",
      "loop found at [np.int64(64), np.int64(82)] by going direction [-1  0], directions already explored [array([-1,  0])]\n",
      "found loop\n",
      "loop found at [np.int64(70), np.int64(95)] by going direction [1 0], directions already explored [array([1, 0])]\n",
      "found loop\n",
      "loop found at [np.int64(97), np.int64(93)] by going direction [1 0], directions already explored [array([1, 0])]\n",
      "found loop\n",
      "loop found at [np.int64(68), np.int64(50)] by going direction [-1  0], directions already explored [array([-1,  0])]\n",
      "found loop\n",
      "loop found at [np.int64(64), np.int64(82)] by going direction [-1  0], directions already explored [array([-1,  0])]\n",
      "found loop\n",
      "loop found at [np.int64(70), np.int64(99)] by going direction [1 0], directions already explored [array([1, 0])]\n",
      "found loop\n",
      "loop found at [np.int64(81), np.int64(99)] by going direction [ 0 -1], directions already explored [array([ 0, -1]), array([1, 0])]\n",
      "found loop\n",
      "loop found at [np.int64(64), np.int64(82)] by going direction [-1  0], directions already explored [array([-1,  0])]\n",
      "found loop\n",
      "loop found at [np.int64(70), np.int64(102)] by going direction [1 0], directions already explored [array([1, 0])]\n",
      "found loop\n",
      "loop found at [np.int64(91), np.int64(94)] by going direction [ 0 -1], directions already explored [array([ 0, -1])]\n",
      "found loop\n",
      "loop found at [np.int64(70), np.int64(105)] by going direction [1 0], directions already explored [array([1, 0])]\n",
      "found loop\n",
      "loop found at [np.int64(67), np.int64(86)] by going direction [-1  0], directions already explored [array([-1,  0])]\n",
      "found loop\n",
      "loop found at [np.int64(70), np.int64(107)] by going direction [1 0], directions already explored [array([1, 0])]\n",
      "found loop\n",
      "loop found at [np.int64(68), np.int64(50)] by going direction [-1  0], directions already explored [array([-1,  0])]\n",
      "found loop\n",
      "loop found at [np.int64(94), np.int64(74)] by going direction [ 0 -1], directions already explored [array([ 0, -1])]\n",
      "found loop\n",
      "loop found at [np.int64(86), np.int64(117)] by going direction [1 0], directions already explored [array([1, 0])]\n",
      "found loop\n",
      "loop found at [np.int64(65), np.int64(117)] by going direction [-1  0], directions already explored [array([-1,  0])]\n",
      "found loop\n",
      "loop found at [np.int64(64), np.int64(82)] by going direction [-1  0], directions already explored [array([-1,  0])]\n",
      "found loop\n",
      "loop found at [np.int64(68), np.int64(123)] by going direction [-1  0], directions already explored [array([-1,  0])]\n",
      "found loop\n"
     ]
    },
    {
     "name": "stderr",
     "output_type": "stream",
     "text": [
      "70it [02:19,  1.98s/it]"
     ]
    },
    {
     "name": "stdout",
     "output_type": "stream",
     "text": [
      "loop found at [np.int64(64), np.int64(82)] by going direction [-1  0], directions already explored [array([-1,  0])]\n",
      "found loop\n",
      "loop found at [np.int64(64), np.int64(82)] by going direction [-1  0], directions already explored [array([-1,  0])]\n",
      "found loop\n",
      "loop found at [np.int64(77), np.int64(1)] by going direction [-1  0], directions already explored [array([-1,  0])]\n",
      "found loop\n",
      "loop found at [np.int64(68), np.int64(50)] by going direction [-1  0], directions already explored [array([-1,  0])]\n",
      "found loop\n",
      "loop found at [np.int64(68), np.int64(50)] by going direction [-1  0], directions already explored [array([-1,  0])]\n",
      "found loop\n",
      "loop found at [np.int64(68), np.int64(50)] by going direction [-1  0], directions already explored [array([-1,  0])]\n",
      "found loop\n",
      "loop found at [np.int64(72), np.int64(113)] by going direction [1 0], directions already explored [array([1, 0])]\n",
      "found loop\n",
      "loop found at [np.int64(68), np.int64(50)] by going direction [-1  0], directions already explored [array([-1,  0])]\n",
      "found loop\n",
      "loop found at [np.int64(72), np.int64(113)] by going direction [1 0], directions already explored [array([1, 0])]\n",
      "found loop\n",
      "loop found at [np.int64(68), np.int64(50)] by going direction [-1  0], directions already explored [array([-1,  0])]\n",
      "found loop\n",
      "loop found at [np.int64(68), np.int64(50)] by going direction [-1  0], directions already explored [array([-1,  0])]\n",
      "found loop\n",
      "loop found at [np.int64(68), np.int64(50)] by going direction [-1  0], directions already explored [array([-1,  0])]\n",
      "found loop\n",
      "loop found at [np.int64(68), np.int64(50)] by going direction [-1  0], directions already explored [array([-1,  0])]\n",
      "found loop\n",
      "loop found at [np.int64(68), np.int64(50)] by going direction [-1  0], directions already explored [array([-1,  0])]\n",
      "found loop\n",
      "loop found at [np.int64(68), np.int64(50)] by going direction [-1  0], directions already explored [array([-1,  0])]\n",
      "found loop\n"
     ]
    },
    {
     "name": "stderr",
     "output_type": "stream",
     "text": [
      "71it [02:21,  1.94s/it]"
     ]
    },
    {
     "name": "stdout",
     "output_type": "stream",
     "text": [
      "loop found at [np.int64(31), np.int64(44)] by going direction [0 1], directions already explored [array([0, 1])]\n",
      "found loop\n",
      "loop found at [np.int64(94), np.int64(63)] by going direction [ 0 -1], directions already explored [array([ 0, -1])]\n",
      "found loop\n",
      "loop found at [np.int64(94), np.int64(63)] by going direction [ 0 -1], directions already explored [array([ 0, -1])]\n",
      "found loop\n",
      "loop found at [np.int64(70), np.int64(43)] by going direction [-1  0], directions already explored [array([-1,  0])]\n",
      "found loop\n",
      "loop found at [np.int64(78), np.int64(51)] by going direction [ 0 -1], directions already explored [array([ 0, -1])]\n",
      "found loop\n",
      "loop found at [np.int64(70), np.int64(50)] by going direction [-1  0], directions already explored [array([-1,  0])]\n",
      "found loop\n",
      "loop found at [np.int64(31), np.int64(53)] by going direction [0 1], directions already explored [array([0, 1])]\n",
      "found loop\n",
      "loop found at [np.int64(126), np.int64(79)] by going direction [ 0 -1], directions already explored [array([ 0, -1]), array([0, 1])]\n",
      "found loop\n",
      "loop found at [np.int64(70), np.int64(55)] by going direction [-1  0], directions already explored [array([-1,  0])]\n",
      "found loop\n",
      "loop found at [np.int64(124), np.int64(73)] by going direction [ 0 -1], directions already explored [array([ 0, -1])]\n",
      "found loop\n",
      "loop found at [np.int64(126), np.int64(79)] by going direction [ 0 -1], directions already explored [array([ 0, -1]), array([0, 1])]\n",
      "found loop\n",
      "loop found at [np.int64(43), np.int64(60)] by going direction [0 1], directions already explored [array([-1,  0]), array([0, 1])]\n",
      "found loop\n",
      "loop found at [np.int64(70), np.int64(60)] by going direction [-1  0], directions already explored [array([-1,  0])]\n",
      "found loop\n",
      "loop found at [np.int64(31), np.int64(63)] by going direction [0 1], directions already explored [array([0, 1])]\n",
      "found loop\n",
      "loop found at [np.int64(70), np.int64(67)] by going direction [-1  0], directions already explored [array([-1,  0])]\n",
      "found loop\n",
      "loop found at [np.int64(124), np.int64(73)] by going direction [ 0 -1], directions already explored [array([ 0, -1])]\n",
      "found loop\n",
      "loop found at [np.int64(56), np.int64(83)] by going direction [0 1], directions already explored [array([0, 1])]\n",
      "found loop\n",
      "loop found at [np.int64(70), np.int64(71)] by going direction [-1  0], directions already explored [array([-1,  0])]\n",
      "found loop\n",
      "loop found at [np.int64(78), np.int64(72)] by going direction [1 0], directions already explored [array([1, 0])]\n",
      "found loop\n",
      "loop found at [np.int64(64), np.int64(82)] by going direction [-1  0], directions already explored [array([-1,  0])]\n",
      "found loop\n",
      "loop found at [np.int64(54), np.int64(75)] by going direction [0 1], directions already explored [array([1, 0]), array([0, 1])]\n",
      "found loop\n",
      "loop found at [np.int64(124), np.int64(73)] by going direction [ 0 -1], directions already explored [array([ 0, -1])]\n",
      "found loop\n",
      "loop found at [np.int64(64), np.int64(82)] by going direction [-1  0], directions already explored [array([-1,  0])]\n",
      "found loop\n",
      "loop found at [np.int64(64), np.int64(82)] by going direction [-1  0], directions already explored [array([-1,  0])]\n",
      "found loop\n",
      "loop found at [np.int64(70), np.int64(82)] by going direction [-1  0], directions already explored [array([-1,  0])]\n",
      "found loop\n",
      "loop found at [np.int64(69), np.int64(67)] by going direction [-1  0], directions already explored [array([-1,  0])]\n",
      "found loop\n",
      "loop found at [np.int64(69), np.int64(67)] by going direction [-1  0], directions already explored [array([-1,  0])]\n",
      "found loop\n"
     ]
    },
    {
     "name": "stderr",
     "output_type": "stream",
     "text": [
      "72it [02:23,  1.90s/it]"
     ]
    },
    {
     "name": "stdout",
     "output_type": "stream",
     "text": [
      "loop found at [np.int64(73), np.int64(24)] by going direction [0 1], directions already explored [array([0, 1])]\n",
      "found loop\n",
      "loop found at [np.int64(73), np.int64(24)] by going direction [0 1], directions already explored [array([0, 1])]\n",
      "found loop\n",
      "loop found at [np.int64(73), np.int64(24)] by going direction [0 1], directions already explored [array([0, 1])]\n",
      "found loop\n",
      "loop found at [np.int64(73), np.int64(56)] by going direction [0 1], directions already explored [array([1, 0]), array([0, 1])]\n",
      "found loop\n",
      "loop found at [np.int64(73), np.int64(68)] by going direction [0 1], directions already explored [array([-1,  0]), array([0, 1])]\n",
      "found loop\n",
      "loop found at [np.int64(73), np.int64(77)] by going direction [0 1], directions already explored [array([0, 1])]\n",
      "found loop\n",
      "loop found at [np.int64(71), np.int64(77)] by going direction [ 0 -1], directions already explored [array([ 0, -1])]\n",
      "found loop\n",
      "loop found at [np.int64(73), np.int64(81)] by going direction [0 1], directions already explored [array([0, 1])]\n",
      "found loop\n",
      "loop found at [np.int64(88), np.int64(71)] by going direction [-1  0], directions already explored [array([-1,  0])]\n",
      "found loop\n",
      "loop found at [np.int64(71), np.int64(83)] by going direction [ 0 -1], directions already explored [array([ 0, -1])]\n",
      "found loop\n",
      "loop found at [np.int64(71), np.int64(83)] by going direction [ 0 -1], directions already explored [array([ 0, -1])]\n",
      "found loop\n"
     ]
    },
    {
     "name": "stderr",
     "output_type": "stream",
     "text": [
      "73it [02:24,  1.89s/it]"
     ]
    },
    {
     "name": "stdout",
     "output_type": "stream",
     "text": [
      "loop found at [np.int64(79), np.int64(20)] by going direction [-1  0], directions already explored [array([-1,  0])]\n",
      "found loop\n",
      "loop found at [np.int64(88), np.int64(56)] by going direction [1 0], directions already explored [array([1, 0])]\n",
      "found loop\n",
      "loop found at [np.int64(104), np.int64(83)] by going direction [ 0 -1], directions already explored [array([ 0, -1])]\n",
      "found loop\n",
      "loop found at [np.int64(105), np.int64(42)] by going direction [ 0 -1], directions already explored [array([ 0, -1])]\n",
      "found loop\n",
      "loop found at [np.int64(73), np.int64(43)] by going direction [-1  0], directions already explored [array([-1,  0]), array([0, 1])]\n",
      "found loop\n",
      "loop found at [np.int64(104), np.int64(83)] by going direction [ 0 -1], directions already explored [array([ 0, -1])]\n",
      "found loop\n",
      "loop found at [np.int64(78), np.int64(51)] by going direction [ 0 -1], directions already explored [array([ 0, -1])]\n",
      "found loop\n",
      "loop found at [np.int64(88), np.int64(56)] by going direction [1 0], directions already explored [array([1, 0])]\n",
      "found loop\n",
      "loop found at [np.int64(73), np.int64(43)] by going direction [-1  0], directions already explored [array([-1,  0]), array([0, 1])]\n",
      "found loop\n",
      "loop found at [np.int64(74), np.int64(56)] by going direction [1 0], directions already explored [array([1, 0])]\n",
      "found loop\n",
      "loop found at [np.int64(104), np.int64(83)] by going direction [ 0 -1], directions already explored [array([ 0, -1])]\n",
      "found loop\n",
      "loop found at [np.int64(107), np.int64(57)] by going direction [0 1], directions already explored [array([0, 1]), array([ 0, -1])]\n",
      "found loop\n",
      "loop found at [np.int64(81), np.int64(61)] by going direction [ 0 -1], directions already explored [array([ 0, -1])]\n",
      "found loop\n",
      "loop found at [np.int64(94), np.int64(63)] by going direction [ 0 -1], directions already explored [array([ 0, -1])]\n",
      "found loop\n",
      "loop found at [np.int64(86), np.int64(60)] by going direction [-1  0], directions already explored [array([-1,  0])]\n",
      "found loop\n",
      "loop found at [np.int64(104), np.int64(83)] by going direction [ 0 -1], directions already explored [array([ 0, -1])]\n",
      "found loop\n",
      "loop found at [np.int64(77), np.int64(50)] by going direction [-1  0], directions already explored [array([-1,  0])]\n",
      "found loop\n",
      "loop found at [np.int64(74), np.int64(75)] by going direction [1 0], directions already explored [array([1, 0])]\n",
      "found loop\n",
      "loop found at [np.int64(124), np.int64(73)] by going direction [ 0 -1], directions already explored [array([ 0, -1])]\n",
      "found loop\n",
      "loop found at [np.int64(104), np.int64(78)] by going direction [ 0 -1], directions already explored [array([ 0, -1])]\n",
      "found loop\n",
      "loop found at [np.int64(126), np.int64(79)] by going direction [ 0 -1], directions already explored [array([ 0, -1]), array([0, 1])]\n",
      "found loop\n",
      "loop found at [np.int64(104), np.int64(83)] by going direction [ 0 -1], directions already explored [array([ 0, -1])]\n",
      "found loop\n",
      "loop found at [np.int64(124), np.int64(73)] by going direction [ 0 -1], directions already explored [array([ 0, -1])]\n",
      "found loop\n",
      "loop found at [np.int64(104), np.int64(83)] by going direction [ 0 -1], directions already explored [array([ 0, -1])]\n",
      "found loop\n",
      "loop found at [np.int64(64), np.int64(82)] by going direction [-1  0], directions already explored [array([-1,  0])]\n",
      "found loop\n",
      "loop found at [np.int64(75), np.int64(108)] by going direction [1 0], directions already explored [array([1, 0])]\n",
      "found loop\n",
      "loop found at [np.int64(69), np.int64(86)] by going direction [0 1], directions already explored [array([0, 1])]\n",
      "found loop\n",
      "loop found at [np.int64(69), np.int64(86)] by going direction [0 1], directions already explored [array([0, 1])]\n",
      "found loop\n"
     ]
    },
    {
     "name": "stderr",
     "output_type": "stream",
     "text": [
      "74it [02:26,  1.79s/it]"
     ]
    },
    {
     "name": "stdout",
     "output_type": "stream",
     "text": [
      "loop found at [np.int64(69), np.int64(86)] by going direction [0 1], directions already explored [array([0, 1])]\n",
      "found loop\n",
      "loop found at [np.int64(97), np.int64(93)] by going direction [1 0], directions already explored [array([1, 0])]\n",
      "found loop\n",
      "loop found at [np.int64(97), np.int64(93)] by going direction [1 0], directions already explored [array([1, 0])]\n",
      "found loop\n",
      "loop found at [np.int64(97), np.int64(93)] by going direction [1 0], directions already explored [array([1, 0])]\n",
      "found loop\n",
      "loop found at [np.int64(75), np.int64(56)] by going direction [0 1], directions already explored [array([1, 0]), array([0, 1]), array([ 0, -1])]\n",
      "found loop\n",
      "loop found at [np.int64(74), np.int64(55)] by going direction [-1  0], directions already explored [array([-1,  0])]\n",
      "found loop\n",
      "loop found at [np.int64(74), np.int64(55)] by going direction [-1  0], directions already explored [array([-1,  0])]\n",
      "found loop\n",
      "loop found at [np.int64(76), np.int64(105)] by going direction [1 0], directions already explored [array([1, 0])]\n",
      "found loop\n"
     ]
    },
    {
     "name": "stderr",
     "output_type": "stream",
     "text": [
      "75it [02:28,  1.82s/it]"
     ]
    },
    {
     "name": "stdout",
     "output_type": "stream",
     "text": [
      "loop found at [np.int64(75), np.int64(125)] by going direction [0 1], directions already explored [array([0, 1])]\n",
      "found loop\n",
      "loop found at [np.int64(77), np.int64(4)] by going direction [1 0], directions already explored [array([1, 0])]\n",
      "found loop\n",
      "loop found at [np.int64(86), np.int64(60)] by going direction [-1  0], directions already explored [array([-1,  0])]\n",
      "found loop\n",
      "loop found at [np.int64(86), np.int64(60)] by going direction [-1  0], directions already explored [array([-1,  0])]\n",
      "found loop\n",
      "loop found at [np.int64(86), np.int64(60)] by going direction [-1  0], directions already explored [array([-1,  0])]\n",
      "found loop\n",
      "loop found at [np.int64(86), np.int64(60)] by going direction [-1  0], directions already explored [array([-1,  0])]\n",
      "found loop\n",
      "loop found at [np.int64(104), np.int64(83)] by going direction [ 0 -1], directions already explored [array([ 0, -1])]\n",
      "found loop\n",
      "loop found at [np.int64(104), np.int64(83)] by going direction [ 0 -1], directions already explored [array([ 0, -1])]\n",
      "found loop\n",
      "loop found at [np.int64(104), np.int64(83)] by going direction [ 0 -1], directions already explored [array([ 0, -1])]\n",
      "found loop\n",
      "loop found at [np.int64(73), np.int64(43)] by going direction [-1  0], directions already explored [array([-1,  0]), array([0, 1])]\n",
      "found loop\n",
      "loop found at [np.int64(104), np.int64(83)] by going direction [ 0 -1], directions already explored [array([ 0, -1])]\n",
      "found loop\n",
      "loop found at [np.int64(104), np.int64(83)] by going direction [ 0 -1], directions already explored [array([ 0, -1])]\n",
      "found loop\n",
      "loop found at [np.int64(64), np.int64(82)] by going direction [-1  0], directions already explored [array([-1,  0])]\n",
      "found loop\n",
      "loop found at [np.int64(64), np.int64(82)] by going direction [-1  0], directions already explored [array([-1,  0])]\n",
      "found loop\n",
      "loop found at [np.int64(64), np.int64(82)] by going direction [-1  0], directions already explored [array([-1,  0])]\n",
      "found loop\n",
      "loop found at [np.int64(64), np.int64(82)] by going direction [-1  0], directions already explored [array([-1,  0])]\n",
      "found loop\n"
     ]
    },
    {
     "name": "stderr",
     "output_type": "stream",
     "text": [
      "76it [02:30,  1.83s/it]"
     ]
    },
    {
     "name": "stdout",
     "output_type": "stream",
     "text": [
      "loop found at [np.int64(84), np.int64(93)] by going direction [1 0], directions already explored [array([1, 0])]\n",
      "found loop\n",
      "loop found at [np.int64(74), np.int64(55)] by going direction [-1  0], directions already explored [array([-1,  0])]\n",
      "found loop\n",
      "loop found at [np.int64(84), np.int64(93)] by going direction [1 0], directions already explored [array([1, 0])]\n",
      "found loop\n",
      "loop found at [np.int64(84), np.int64(93)] by going direction [1 0], directions already explored [array([1, 0])]\n",
      "found loop\n"
     ]
    },
    {
     "name": "stderr",
     "output_type": "stream",
     "text": [
      "77it [02:32,  1.84s/it]"
     ]
    },
    {
     "name": "stdout",
     "output_type": "stream",
     "text": [
      "loop found at [np.int64(75), np.int64(67)] by going direction [-1  0], directions already explored [array([-1,  0])]\n",
      "found loop\n",
      "loop found at [np.int64(79), np.int64(113)] by going direction [1 0], directions already explored [array([1, 0])]\n",
      "found loop\n",
      "loop found at [np.int64(79), np.int64(113)] by going direction [1 0], directions already explored [array([1, 0])]\n",
      "found loop\n"
     ]
    },
    {
     "name": "stderr",
     "output_type": "stream",
     "text": [
      "78it [02:33,  1.83s/it]"
     ]
    },
    {
     "name": "stdout",
     "output_type": "stream",
     "text": [
      "loop found at [np.int64(86), np.int64(60)] by going direction [-1  0], directions already explored [array([-1,  0])]\n",
      "found loop\n",
      "loop found at [np.int64(91), np.int64(94)] by going direction [ 0 -1], directions already explored [array([ 0, -1])]\n",
      "found loop\n",
      "loop found at [np.int64(126), np.int64(79)] by going direction [ 0 -1], directions already explored [array([ 0, -1]), array([0, 1])]\n",
      "found loop\n",
      "loop found at [np.int64(77), np.int64(60)] by going direction [-1  0], directions already explored [array([-1,  0])]\n",
      "found loop\n",
      "loop found at [np.int64(77), np.int64(71)] by going direction [-1  0], directions already explored [array([-1,  0])]\n",
      "found loop\n",
      "loop found at [np.int64(63), np.int64(78)] by going direction [1 0], directions already explored [array([1, 0])]\n",
      "found loop\n",
      "loop found at [np.int64(54), np.int64(75)] by going direction [0 1], directions already explored [array([0, 1])]\n",
      "found loop\n",
      "loop found at [np.int64(91), np.int64(94)] by going direction [ 0 -1], directions already explored [array([ 0, -1])]\n",
      "found loop\n",
      "loop found at [np.int64(58), np.int64(105)] by going direction [1 0], directions already explored [array([1, 0])]\n",
      "found loop\n",
      "loop found at [np.int64(48), np.int64(96)] by going direction [0 1], directions already explored [array([0, 1])]\n",
      "found loop\n"
     ]
    },
    {
     "name": "stderr",
     "output_type": "stream",
     "text": [
      "79it [02:35,  1.76s/it]"
     ]
    },
    {
     "name": "stdout",
     "output_type": "stream",
     "text": [
      "loop found at [np.int64(78), np.int64(55)] by going direction [ 0 -1], directions already explored [array([ 0, -1])]\n",
      "found loop\n",
      "loop found at [np.int64(78), np.int64(74)] by going direction [ 0 -1], directions already explored [array([ 0, -1])]\n",
      "found loop\n",
      "loop found at [np.int64(84), np.int64(125)] by going direction [ 0 -1], directions already explored [array([ 0, -1])]\n",
      "found loop\n",
      "loop found at [np.int64(78), np.int64(77)] by going direction [ 0 -1], directions already explored [array([ 0, -1])]\n",
      "found loop\n",
      "loop found at [np.int64(84), np.int64(125)] by going direction [ 0 -1], directions already explored [array([ 0, -1])]\n",
      "found loop\n",
      "loop found at [np.int64(84), np.int64(125)] by going direction [ 0 -1], directions already explored [array([ 0, -1])]\n",
      "found loop\n",
      "loop found at [np.int64(78), np.int64(86)] by going direction [ 0 -1], directions already explored [array([ 0, -1])]\n",
      "found loop\n",
      "loop found at [np.int64(84), np.int64(125)] by going direction [ 0 -1], directions already explored [array([ 0, -1])]\n",
      "found loop\n",
      "loop found at [np.int64(78), np.int64(89)] by going direction [ 0 -1], directions already explored [array([ 0, -1])]\n",
      "found loop\n",
      "loop found at [np.int64(78), np.int64(94)] by going direction [ 0 -1], directions already explored [array([ 0, -1])]\n",
      "found loop\n",
      "loop found at [np.int64(78), np.int64(98)] by going direction [ 0 -1], directions already explored [array([ 0, -1])]\n",
      "found loop\n",
      "loop found at [np.int64(78), np.int64(104)] by going direction [ 0 -1], directions already explored [array([ 0, -1])]\n",
      "found loop\n",
      "loop found at [np.int64(78), np.int64(106)] by going direction [ 0 -1], directions already explored [array([ 0, -1])]\n",
      "found loop\n",
      "loop found at [np.int64(78), np.int64(106)] by going direction [ 0 -1], directions already explored [array([ 0, -1])]\n",
      "found loop\n",
      "loop found at [np.int64(78), np.int64(124)] by going direction [-1  0], directions already explored [array([-1,  0])]\n",
      "found loop\n"
     ]
    },
    {
     "name": "stderr",
     "output_type": "stream",
     "text": [
      "80it [02:37,  1.80s/it]"
     ]
    },
    {
     "name": "stdout",
     "output_type": "stream",
     "text": [
      "loop found at [np.int64(98), np.int64(1)] by going direction [-1  0], directions already explored [array([-1,  0]), array([1, 0])]\n",
      "found loop\n"
     ]
    },
    {
     "name": "stderr",
     "output_type": "stream",
     "text": [
      "81it [02:39,  1.82s/it]"
     ]
    },
    {
     "name": "stdout",
     "output_type": "stream",
     "text": [
      "loop found at [np.int64(8), np.int64(7)] by going direction [0 1], directions already explored [array([0, 1])]\n",
      "found loop\n",
      "loop found at [np.int64(94), np.int64(63)] by going direction [ 0 -1], directions already explored [array([ 0, -1])]\n",
      "found loop\n",
      "loop found at [np.int64(86), np.int64(60)] by going direction [-1  0], directions already explored [array([-1,  0])]\n",
      "found loop\n",
      "loop found at [np.int64(77), np.int64(50)] by going direction [-1  0], directions already explored [array([-1,  0])]\n",
      "found loop\n",
      "loop found at [np.int64(86), np.int64(60)] by going direction [-1  0], directions already explored [array([-1,  0])]\n",
      "found loop\n",
      "loop found at [np.int64(80), np.int64(60)] by going direction [-1  0], directions already explored [array([-1,  0])]\n",
      "found loop\n",
      "loop found at [np.int64(83), np.int64(99)] by going direction [1 0], directions already explored [array([1, 0])]\n",
      "found loop\n",
      "loop found at [np.int64(80), np.int64(71)] by going direction [-1  0], directions already explored [array([-1,  0])]\n",
      "found loop\n",
      "loop found at [np.int64(63), np.int64(78)] by going direction [1 0], directions already explored [array([1, 0])]\n",
      "found loop\n",
      "loop found at [np.int64(83), np.int64(99)] by going direction [1 0], directions already explored [array([1, 0])]\n",
      "found loop\n",
      "loop found at [np.int64(67), np.int64(115)] by going direction [1 0], directions already explored [array([1, 0])]\n",
      "found loop\n",
      "loop found at [np.int64(84), np.int64(125)] by going direction [ 0 -1], directions already explored [array([ 0, -1])]\n",
      "found loop\n",
      "loop found at [np.int64(75), np.int64(125)] by going direction [0 1], directions already explored [array([0, 1])]\n",
      "found loop\n",
      "loop found at [np.int64(76), np.int64(128)] by going direction [1 0], directions already explored [array([1, 0])]\n",
      "found loop\n"
     ]
    },
    {
     "name": "stderr",
     "output_type": "stream",
     "text": [
      "82it [02:40,  1.75s/it]"
     ]
    },
    {
     "name": "stdout",
     "output_type": "stream",
     "text": [
      "loop found at [np.int64(99), np.int64(3)] by going direction [ 0 -1], directions already explored [array([ 0, -1])]\n",
      "found loop\n",
      "loop found at [np.int64(81), np.int64(3)] by going direction [ 0 -1], directions already explored [array([ 0, -1])]\n",
      "found loop\n",
      "loop found at [np.int64(83), np.int64(77)] by going direction [0 1], directions already explored [array([0, 1])]\n",
      "found loop\n",
      "loop found at [np.int64(81), np.int64(77)] by going direction [ 0 -1], directions already explored [array([ 0, -1])]\n",
      "found loop\n",
      "loop found at [np.int64(83), np.int64(81)] by going direction [0 1], directions already explored [array([0, 1])]\n",
      "found loop\n",
      "loop found at [np.int64(81), np.int64(86)] by going direction [ 0 -1], directions already explored [array([ 0, -1])]\n",
      "found loop\n",
      "loop found at [np.int64(83), np.int64(90)] by going direction [0 1], directions already explored [array([1, 0]), array([0, 1])]\n",
      "found loop\n",
      "loop found at [np.int64(81), np.int64(89)] by going direction [ 0 -1], directions already explored [array([ 0, -1])]\n",
      "found loop\n",
      "loop found at [np.int64(81), np.int64(94)] by going direction [ 0 -1], directions already explored [array([ 0, -1])]\n",
      "found loop\n",
      "loop found at [np.int64(81), np.int64(98)] by going direction [ 0 -1], directions already explored [array([ 0, -1])]\n",
      "found loop\n",
      "loop found at [np.int64(81), np.int64(104)] by going direction [ 0 -1], directions already explored [array([ 0, -1])]\n",
      "found loop\n",
      "loop found at [np.int64(81), np.int64(107)] by going direction [ 0 -1], directions already explored [array([ 0, -1])]\n",
      "found loop\n",
      "loop found at [np.int64(81), np.int64(112)] by going direction [ 0 -1], directions already explored [array([ 0, -1])]\n",
      "found loop\n",
      "loop found at [np.int64(81), np.int64(114)] by going direction [ 0 -1], directions already explored [array([ 0, -1])]\n",
      "found loop\n"
     ]
    },
    {
     "name": "stderr",
     "output_type": "stream",
     "text": [
      "83it [02:42,  1.82s/it]"
     ]
    },
    {
     "name": "stdout",
     "output_type": "stream",
     "text": [
      "loop found at [np.int64(105), np.int64(42)] by going direction [ 0 -1], directions already explored [array([ 0, -1])]\n",
      "found loop\n",
      "loop found at [np.int64(85), np.int64(99)] by going direction [1 0], directions already explored [array([1, 0])]\n",
      "found loop\n",
      "loop found at [np.int64(85), np.int64(99)] by going direction [1 0], directions already explored [array([1, 0])]\n",
      "found loop\n",
      "loop found at [np.int64(94), np.int64(63)] by going direction [ 0 -1], directions already explored [array([ 0, -1])]\n",
      "found loop\n",
      "loop found at [np.int64(86), np.int64(60)] by going direction [-1  0], directions already explored [array([-1,  0])]\n",
      "found loop\n",
      "loop found at [np.int64(85), np.int64(99)] by going direction [1 0], directions already explored [array([1, 0])]\n",
      "found loop\n",
      "loop found at [np.int64(77), np.int64(50)] by going direction [-1  0], directions already explored [array([-1,  0])]\n",
      "found loop\n",
      "loop found at [np.int64(104), np.int64(71)] by going direction [ 0 -1], directions already explored [array([ 0, -1])]\n",
      "found loop\n",
      "loop found at [np.int64(118), np.int64(89)] by going direction [ 0 -1], directions already explored [array([ 0, -1])]\n",
      "found loop\n",
      "loop found at [np.int64(84), np.int64(75)] by going direction [1 0], directions already explored [array([1, 0])]\n",
      "found loop\n",
      "loop found at [np.int64(124), np.int64(73)] by going direction [ 0 -1], directions already explored [array([ 0, -1])]\n",
      "found loop\n",
      "loop found at [np.int64(104), np.int64(78)] by going direction [ 0 -1], directions already explored [array([ 0, -1])]\n",
      "found loop\n",
      "loop found at [np.int64(126), np.int64(79)] by going direction [ 0 -1], directions already explored [array([ 0, -1]), array([0, 1])]\n",
      "found loop\n",
      "loop found at [np.int64(124), np.int64(73)] by going direction [ 0 -1], directions already explored [array([ 0, -1])]\n",
      "found loop\n",
      "loop found at [np.int64(104), np.int64(83)] by going direction [ 0 -1], directions already explored [array([ 0, -1])]\n",
      "found loop\n",
      "loop found at [np.int64(84), np.int64(87)] by going direction [1 0], directions already explored [array([1, 0])]\n",
      "found loop\n",
      "loop found at [np.int64(85), np.int64(99)] by going direction [1 0], directions already explored [array([1, 0])]\n",
      "found loop\n",
      "loop found at [np.int64(84), np.int64(90)] by going direction [1 0], directions already explored [array([1, 0])]\n",
      "found loop\n",
      "loop found at [np.int64(67), np.int64(115)] by going direction [1 0], directions already explored [array([1, 0])]\n",
      "found loop\n",
      "loop found at [np.int64(48), np.int64(102)] by going direction [0 1], directions already explored [array([1, 0]), array([0, 1])]\n",
      "found loop\n",
      "loop found at [np.int64(48), np.int64(102)] by going direction [0 1], directions already explored [array([1, 0]), array([0, 1])]\n",
      "found loop\n",
      "loop found at [np.int64(48), np.int64(102)] by going direction [0 1], directions already explored [array([1, 0]), array([0, 1])]\n",
      "found loop\n"
     ]
    },
    {
     "name": "stderr",
     "output_type": "stream",
     "text": [
      "84it [02:44,  1.85s/it]"
     ]
    },
    {
     "name": "stdout",
     "output_type": "stream",
     "text": [
      "loop found at [np.int64(91), np.int64(12)] by going direction [-1  0], directions already explored [array([-1,  0])]\n",
      "found loop\n",
      "loop found at [np.int64(91), np.int64(12)] by going direction [-1  0], directions already explored [array([-1,  0])]\n",
      "found loop\n",
      "loop found at [np.int64(85), np.int64(102)] by going direction [0 1], directions already explored [array([1, 0]), array([0, 1])]\n",
      "found loop\n",
      "loop found at [np.int64(48), np.int64(96)] by going direction [0 1], directions already explored [array([0, 1])]\n",
      "found loop\n",
      "loop found at [np.int64(48), np.int64(96)] by going direction [0 1], directions already explored [array([0, 1])]\n",
      "found loop\n",
      "loop found at [np.int64(48), np.int64(96)] by going direction [0 1], directions already explored [array([0, 1])]\n",
      "found loop\n",
      "loop found at [np.int64(48), np.int64(96)] by going direction [0 1], directions already explored [array([0, 1])]\n",
      "found loop\n",
      "loop found at [np.int64(48), np.int64(96)] by going direction [0 1], directions already explored [array([0, 1])]\n",
      "found loop\n"
     ]
    },
    {
     "name": "stderr",
     "output_type": "stream",
     "text": [
      "85it [02:46,  1.87s/it]"
     ]
    },
    {
     "name": "stdout",
     "output_type": "stream",
     "text": [
      "loop found at [np.int64(86), np.int64(102)] by going direction [1 0], directions already explored [array([1, 0])]\n",
      "found loop\n",
      "loop found at [np.int64(45), np.int64(103)] by going direction [0 1], directions already explored [array([0, 1])]\n",
      "found loop\n",
      "loop found at [np.int64(86), np.int64(105)] by going direction [1 0], directions already explored [array([1, 0])]\n",
      "found loop\n",
      "loop found at [np.int64(91), np.int64(94)] by going direction [ 0 -1], directions already explored [array([ 0, -1])]\n",
      "found loop\n",
      "loop found at [np.int64(45), np.int64(103)] by going direction [0 1], directions already explored [array([0, 1])]\n",
      "found loop\n",
      "loop found at [np.int64(86), np.int64(108)] by going direction [1 0], directions already explored [array([1, 0])]\n",
      "found loop\n",
      "loop found at [np.int64(86), np.int64(101)] by going direction [-1  0], directions already explored [array([-1,  0])]\n",
      "found loop\n",
      "loop found at [np.int64(94), np.int64(74)] by going direction [ 0 -1], directions already explored [array([ 0, -1])]\n",
      "found loop\n",
      "loop found at [np.int64(86), np.int64(101)] by going direction [-1  0], directions already explored [array([-1,  0])]\n",
      "found loop\n",
      "loop found at [np.int64(86), np.int64(113)] by going direction [1 0], directions already explored [array([1, 0])]\n",
      "found loop\n"
     ]
    },
    {
     "name": "stderr",
     "output_type": "stream",
     "text": [
      "86it [02:48,  1.86s/it]"
     ]
    },
    {
     "name": "stdout",
     "output_type": "stream",
     "text": [
      "loop found at [np.int64(88), np.int64(56)] by going direction [1 0], directions already explored [array([1, 0])]\n",
      "found loop\n",
      "loop found at [np.int64(88), np.int64(56)] by going direction [1 0], directions already explored [array([1, 0])]\n",
      "found loop\n",
      "loop found at [np.int64(88), np.int64(56)] by going direction [1 0], directions already explored [array([1, 0])]\n",
      "found loop\n",
      "loop found at [np.int64(118), np.int64(89)] by going direction [ 0 -1], directions already explored [array([ 0, -1])]\n",
      "found loop\n",
      "loop found at [np.int64(118), np.int64(89)] by going direction [ 0 -1], directions already explored [array([ 0, -1])]\n",
      "found loop\n",
      "loop found at [np.int64(118), np.int64(89)] by going direction [ 0 -1], directions already explored [array([ 0, -1])]\n",
      "found loop\n",
      "loop found at [np.int64(88), np.int64(99)] by going direction [1 0], directions already explored [array([1, 0])]\n",
      "found loop\n",
      "loop found at [np.int64(88), np.int64(99)] by going direction [1 0], directions already explored [array([1, 0])]\n",
      "found loop\n",
      "loop found at [np.int64(88), np.int64(99)] by going direction [1 0], directions already explored [array([1, 0])]\n",
      "found loop\n"
     ]
    },
    {
     "name": "stderr",
     "output_type": "stream",
     "text": [
      "87it [02:50,  1.85s/it]"
     ]
    },
    {
     "name": "stdout",
     "output_type": "stream",
     "text": [
      "loop found at [np.int64(8), np.int64(7)] by going direction [0 1], directions already explored [array([0, 1])]\n",
      "found loop\n",
      "loop found at [np.int64(89), np.int64(56)] by going direction [1 0], directions already explored [array([1, 0])]\n",
      "found loop\n",
      "loop found at [np.int64(89), np.int64(56)] by going direction [1 0], directions already explored [array([1, 0])]\n",
      "found loop\n",
      "loop found at [np.int64(89), np.int64(56)] by going direction [1 0], directions already explored [array([1, 0])]\n",
      "found loop\n",
      "loop found at [np.int64(89), np.int64(56)] by going direction [1 0], directions already explored [array([1, 0])]\n",
      "found loop\n",
      "loop found at [np.int64(94), np.int64(63)] by going direction [ 0 -1], directions already explored [array([ 0, -1])]\n",
      "found loop\n",
      "loop found at [np.int64(67), np.int64(115)] by going direction [1 0], directions already explored [array([1, 0])]\n",
      "found loop\n",
      "loop found at [np.int64(67), np.int64(115)] by going direction [1 0], directions already explored [array([1, 0])]\n",
      "found loop\n",
      "loop found at [np.int64(67), np.int64(115)] by going direction [1 0], directions already explored [array([1, 0])]\n",
      "found loop\n",
      "loop found at [np.int64(67), np.int64(115)] by going direction [1 0], directions already explored [array([1, 0])]\n",
      "found loop\n",
      "loop found at [np.int64(67), np.int64(115)] by going direction [1 0], directions already explored [array([1, 0])]\n",
      "found loop\n",
      "loop found at [np.int64(67), np.int64(115)] by going direction [1 0], directions already explored [array([1, 0])]\n",
      "found loop\n",
      "loop found at [np.int64(89), np.int64(108)] by going direction [1 0], directions already explored [array([1, 0])]\n",
      "found loop\n",
      "loop found at [np.int64(8), np.int64(7)] by going direction [0 1], directions already explored [array([0, 1])]\n",
      "found loop\n"
     ]
    },
    {
     "name": "stderr",
     "output_type": "stream",
     "text": [
      "88it [02:52,  1.88s/it]"
     ]
    },
    {
     "name": "stdout",
     "output_type": "stream",
     "text": [
      "loop found at [np.int64(77), np.int64(50)] by going direction [-1  0], directions already explored [array([-1,  0])]\n",
      "found loop\n",
      "loop found at [np.int64(77), np.int64(50)] by going direction [-1  0], directions already explored [array([-1,  0])]\n",
      "found loop\n",
      "loop found at [np.int64(77), np.int64(50)] by going direction [-1  0], directions already explored [array([-1,  0])]\n",
      "found loop\n",
      "loop found at [np.int64(77), np.int64(50)] by going direction [-1  0], directions already explored [array([-1,  0])]\n",
      "found loop\n"
     ]
    },
    {
     "name": "stderr",
     "output_type": "stream",
     "text": [
      "89it [02:54,  1.89s/it]"
     ]
    },
    {
     "name": "stdout",
     "output_type": "stream",
     "text": [
      "loop found at [np.int64(86), np.int64(101)] by going direction [-1  0], directions already explored [array([-1,  0])]\n",
      "found loop\n",
      "loop found at [np.int64(91), np.int64(4)] by going direction [1 0], directions already explored [array([1, 0])]\n",
      "found loop\n",
      "loop found at [np.int64(8), np.int64(7)] by going direction [0 1], directions already explored [array([0, 1])]\n",
      "found loop\n",
      "loop found at [np.int64(97), np.int64(93)] by going direction [1 0], directions already explored [array([1, 0])]\n",
      "found loop\n",
      "loop found at [np.int64(97), np.int64(93)] by going direction [1 0], directions already explored [array([1, 0])]\n",
      "found loop\n",
      "loop found at [np.int64(97), np.int64(93)] by going direction [1 0], directions already explored [array([1, 0])]\n",
      "found loop\n",
      "loop found at [np.int64(48), np.int64(94)] by going direction [0 1], directions already explored [array([0, 1])]\n",
      "found loop\n",
      "loop found at [np.int64(48), np.int64(94)] by going direction [0 1], directions already explored [array([0, 1])]\n",
      "found loop\n",
      "loop found at [np.int64(48), np.int64(94)] by going direction [0 1], directions already explored [array([0, 1])]\n",
      "found loop\n",
      "loop found at [np.int64(48), np.int64(94)] by going direction [0 1], directions already explored [array([0, 1])]\n",
      "found loop\n",
      "loop found at [np.int64(48), np.int64(94)] by going direction [0 1], directions already explored [array([0, 1])]\n",
      "found loop\n"
     ]
    },
    {
     "name": "stderr",
     "output_type": "stream",
     "text": [
      "90it [02:56,  1.94s/it]"
     ]
    },
    {
     "name": "stdout",
     "output_type": "stream",
     "text": [
      "loop found at [np.int64(88), np.int64(71)] by going direction [-1  0], directions already explored [array([-1,  0])]\n",
      "found loop\n",
      "loop found at [np.int64(88), np.int64(71)] by going direction [-1  0], directions already explored [array([-1,  0])]\n",
      "found loop\n",
      "loop found at [np.int64(88), np.int64(71)] by going direction [-1  0], directions already explored [array([-1,  0])]\n",
      "found loop\n",
      "loop found at [np.int64(88), np.int64(71)] by going direction [-1  0], directions already explored [array([-1,  0])]\n",
      "found loop\n",
      "loop found at [np.int64(88), np.int64(71)] by going direction [-1  0], directions already explored [array([-1,  0])]\n",
      "found loop\n",
      "loop found at [np.int64(88), np.int64(71)] by going direction [-1  0], directions already explored [array([-1,  0])]\n",
      "found loop\n",
      "loop found at [np.int64(88), np.int64(71)] by going direction [-1  0], directions already explored [array([-1,  0])]\n",
      "found loop\n",
      "loop found at [np.int64(88), np.int64(71)] by going direction [-1  0], directions already explored [array([-1,  0])]\n",
      "found loop\n",
      "loop found at [np.int64(88), np.int64(71)] by going direction [-1  0], directions already explored [array([-1,  0])]\n",
      "found loop\n",
      "loop found at [np.int64(88), np.int64(71)] by going direction [-1  0], directions already explored [array([-1,  0])]\n",
      "found loop\n",
      "loop found at [np.int64(88), np.int64(71)] by going direction [-1  0], directions already explored [array([-1,  0])]\n",
      "found loop\n",
      "loop found at [np.int64(88), np.int64(71)] by going direction [-1  0], directions already explored [array([-1,  0])]\n",
      "found loop\n"
     ]
    },
    {
     "name": "stderr",
     "output_type": "stream",
     "text": [
      "91it [02:58,  1.99s/it]"
     ]
    },
    {
     "name": "stdout",
     "output_type": "stream",
     "text": [
      "loop found at [np.int64(88), np.int64(71)] by going direction [-1  0], directions already explored [array([-1,  0])]\n",
      "found loop\n",
      "loop found at [np.int64(94), np.int64(25)] by going direction [ 0 -1], directions already explored [array([ 0, -1])]\n",
      "found loop\n",
      "loop found at [np.int64(94), np.int64(25)] by going direction [ 0 -1], directions already explored [array([ 0, -1])]\n",
      "found loop\n",
      "loop found at [np.int64(94), np.int64(25)] by going direction [ 0 -1], directions already explored [array([ 0, -1])]\n",
      "found loop\n",
      "loop found at [np.int64(54), np.int64(68)] by going direction [0 1], directions already explored [array([-1,  0]), array([0, 1])]\n",
      "found loop\n",
      "loop found at [np.int64(94), np.int64(63)] by going direction [ 0 -1], directions already explored [array([ 0, -1])]\n",
      "found loop\n",
      "loop found at [np.int64(90), np.int64(60)] by going direction [-1  0], directions already explored [array([-1,  0])]\n",
      "found loop\n",
      "loop found at [np.int64(77), np.int64(50)] by going direction [-1  0], directions already explored [array([-1,  0])]\n",
      "found loop\n",
      "loop found at [np.int64(90), np.int64(67)] by going direction [-1  0], directions already explored [array([-1,  0])]\n",
      "found loop\n",
      "loop found at [np.int64(90), np.int64(71)] by going direction [-1  0], directions already explored [array([-1,  0])]\n",
      "found loop\n",
      "loop found at [np.int64(67), np.int64(115)] by going direction [1 0], directions already explored [array([1, 0])]\n",
      "found loop\n",
      "loop found at [np.int64(89), np.int64(60)] by going direction [-1  0], directions already explored [array([-1,  0])]\n",
      "found loop\n",
      "loop found at [np.int64(94), np.int64(76)] by going direction [-1  0], directions already explored [array([-1,  0])]\n",
      "found loop\n",
      "loop found at [np.int64(64), np.int64(82)] by going direction [-1  0], directions already explored [array([-1,  0])]\n",
      "found loop\n",
      "loop found at [np.int64(64), np.int64(82)] by going direction [-1  0], directions already explored [array([-1,  0])]\n",
      "found loop\n",
      "loop found at [np.int64(90), np.int64(82)] by going direction [-1  0], directions already explored [array([-1,  0])]\n",
      "found loop\n",
      "loop found at [np.int64(73), np.int64(85)] by going direction [0 1], directions already explored [array([0, 1])]\n",
      "found loop\n",
      "loop found at [np.int64(89), np.int64(60)] by going direction [-1  0], directions already explored [array([-1,  0])]\n",
      "found loop\n",
      "loop found at [np.int64(89), np.int64(60)] by going direction [-1  0], directions already explored [array([-1,  0])]\n",
      "found loop\n",
      "loop found at [np.int64(48), np.int64(94)] by going direction [0 1], directions already explored [array([0, 1])]\n",
      "found loop\n",
      "loop found at [np.int64(85), np.int64(99)] by going direction [1 0], directions already explored [array([1, 0])]\n",
      "found loop\n",
      "loop found at [np.int64(48), np.int64(96)] by going direction [0 1], directions already explored [array([0, 1])]\n",
      "found loop\n",
      "loop found at [np.int64(89), np.int64(60)] by going direction [-1  0], directions already explored [array([-1,  0])]\n",
      "found loop\n",
      "loop found at [np.int64(75), np.int64(108)] by going direction [1 0], directions already explored [array([1, 0])]\n",
      "found loop\n",
      "loop found at [np.int64(75), np.int64(108)] by going direction [1 0], directions already explored [array([1, 0])]\n",
      "found loop\n"
     ]
    },
    {
     "name": "stderr",
     "output_type": "stream",
     "text": [
      "92it [03:00,  1.98s/it]"
     ]
    },
    {
     "name": "stdout",
     "output_type": "stream",
     "text": [
      "loop found at [np.int64(99), np.int64(3)] by going direction [ 0 -1], directions already explored [array([ 0, -1])]\n",
      "found loop\n",
      "loop found at [np.int64(91), np.int64(77)] by going direction [ 0 -1], directions already explored [array([ 0, -1])]\n",
      "found loop\n",
      "loop found at [np.int64(91), np.int64(92)] by going direction [ 0 -1], directions already explored [array([ 0, -1])]\n",
      "found loop\n",
      "loop found at [np.int64(91), np.int64(94)] by going direction [ 0 -1], directions already explored [array([ 0, -1])]\n",
      "found loop\n",
      "loop found at [np.int64(91), np.int64(94)] by going direction [ 0 -1], directions already explored [array([ 0, -1])]\n",
      "found loop\n",
      "loop found at [np.int64(91), np.int64(94)] by going direction [ 0 -1], directions already explored [array([ 0, -1])]\n",
      "found loop\n",
      "loop found at [np.int64(91), np.int64(94)] by going direction [ 0 -1], directions already explored [array([ 0, -1])]\n",
      "found loop\n"
     ]
    },
    {
     "name": "stderr",
     "output_type": "stream",
     "text": [
      "93it [03:02,  1.94s/it]"
     ]
    },
    {
     "name": "stdout",
     "output_type": "stream",
     "text": [
      "loop found at [np.int64(77), np.int64(50)] by going direction [-1  0], directions already explored [array([-1,  0])]\n",
      "found loop\n",
      "loop found at [np.int64(77), np.int64(50)] by going direction [-1  0], directions already explored [array([-1,  0])]\n",
      "found loop\n",
      "loop found at [np.int64(77), np.int64(50)] by going direction [-1  0], directions already explored [array([-1,  0])]\n",
      "found loop\n",
      "loop found at [np.int64(77), np.int64(50)] by going direction [-1  0], directions already explored [array([-1,  0])]\n",
      "found loop\n",
      "loop found at [np.int64(77), np.int64(50)] by going direction [-1  0], directions already explored [array([-1,  0])]\n",
      "found loop\n",
      "loop found at [np.int64(77), np.int64(50)] by going direction [-1  0], directions already explored [array([-1,  0])]\n",
      "found loop\n",
      "loop found at [np.int64(84), np.int64(125)] by going direction [ 0 -1], directions already explored [array([ 0, -1])]\n",
      "found loop\n",
      "loop found at [np.int64(84), np.int64(125)] by going direction [ 0 -1], directions already explored [array([ 0, -1])]\n",
      "found loop\n",
      "loop found at [np.int64(84), np.int64(125)] by going direction [ 0 -1], directions already explored [array([ 0, -1])]\n",
      "found loop\n",
      "loop found at [np.int64(84), np.int64(125)] by going direction [ 0 -1], directions already explored [array([ 0, -1])]\n",
      "found loop\n"
     ]
    },
    {
     "name": "stderr",
     "output_type": "stream",
     "text": [
      "94it [03:04,  1.96s/it]"
     ]
    },
    {
     "name": "stdout",
     "output_type": "stream",
     "text": [
      "loop found at [np.int64(94), np.int64(25)] by going direction [ 0 -1], directions already explored [array([ 0, -1])]\n",
      "found loop\n",
      "loop found at [np.int64(77), np.int64(50)] by going direction [-1  0], directions already explored [array([-1,  0])]\n",
      "found loop\n",
      "loop found at [np.int64(77), np.int64(50)] by going direction [-1  0], directions already explored [array([-1,  0])]\n",
      "found loop\n",
      "loop found at [np.int64(94), np.int64(63)] by going direction [ 0 -1], directions already explored [array([ 0, -1])]\n",
      "found loop\n",
      "loop found at [np.int64(93), np.int64(60)] by going direction [-1  0], directions already explored [array([-1,  0])]\n",
      "found loop\n",
      "loop found at [np.int64(77), np.int64(50)] by going direction [-1  0], directions already explored [array([-1,  0])]\n",
      "found loop\n",
      "loop found at [np.int64(92), np.int64(71)] by going direction [-1  0], directions already explored [array([-1,  0])]\n",
      "found loop\n",
      "loop found at [np.int64(97), np.int64(93)] by going direction [1 0], directions already explored [array([1, 0])]\n",
      "found loop\n",
      "loop found at [np.int64(101), np.int64(109)] by going direction [ 0 -1], directions already explored [array([ 0, -1])]\n",
      "found loop\n",
      "loop found at [np.int64(97), np.int64(93)] by going direction [1 0], directions already explored [array([1, 0])]\n",
      "found loop\n",
      "loop found at [np.int64(97), np.int64(93)] by going direction [1 0], directions already explored [array([1, 0])]\n",
      "found loop\n",
      "loop found at [np.int64(97), np.int64(93)] by going direction [1 0], directions already explored [array([1, 0])]\n",
      "found loop\n"
     ]
    },
    {
     "name": "stderr",
     "output_type": "stream",
     "text": [
      "95it [03:06,  1.96s/it]"
     ]
    },
    {
     "name": "stdout",
     "output_type": "stream",
     "text": [
      "loop found at [np.int64(97), np.int64(93)] by going direction [1 0], directions already explored [array([1, 0])]\n",
      "found loop\n",
      "loop found at [np.int64(97), np.int64(93)] by going direction [1 0], directions already explored [array([1, 0])]\n",
      "found loop\n",
      "loop found at [np.int64(94), np.int64(55)] by going direction [ 0 -1], directions already explored [array([ 0, -1])]\n",
      "found loop\n",
      "loop found at [np.int64(97), np.int64(93)] by going direction [1 0], directions already explored [array([1, 0])]\n",
      "found loop\n",
      "loop found at [np.int64(94), np.int64(74)] by going direction [ 0 -1], directions already explored [array([ 0, -1])]\n",
      "found loop\n",
      "loop found at [np.int64(97), np.int64(93)] by going direction [1 0], directions already explored [array([1, 0])]\n",
      "found loop\n",
      "loop found at [np.int64(94), np.int64(74)] by going direction [ 0 -1], directions already explored [array([ 0, -1])]\n",
      "found loop\n",
      "loop found at [np.int64(97), np.int64(93)] by going direction [1 0], directions already explored [array([1, 0])]\n",
      "found loop\n",
      "loop found at [np.int64(94), np.int64(74)] by going direction [ 0 -1], directions already explored [array([ 0, -1])]\n",
      "found loop\n",
      "loop found at [np.int64(94), np.int64(74)] by going direction [ 0 -1], directions already explored [array([ 0, -1])]\n",
      "found loop\n",
      "loop found at [np.int64(94), np.int64(74)] by going direction [ 0 -1], directions already explored [array([ 0, -1])]\n",
      "found loop\n",
      "loop found at [np.int64(94), np.int64(74)] by going direction [ 0 -1], directions already explored [array([ 0, -1])]\n",
      "found loop\n",
      "loop found at [np.int64(94), np.int64(74)] by going direction [ 0 -1], directions already explored [array([ 0, -1])]\n",
      "found loop\n",
      "loop found at [np.int64(94), np.int64(74)] by going direction [ 0 -1], directions already explored [array([ 0, -1])]\n",
      "found loop\n",
      "loop found at [np.int64(94), np.int64(74)] by going direction [ 0 -1], directions already explored [array([ 0, -1])]\n",
      "found loop\n",
      "loop found at [np.int64(94), np.int64(74)] by going direction [ 0 -1], directions already explored [array([ 0, -1])]\n",
      "found loop\n"
     ]
    },
    {
     "name": "stderr",
     "output_type": "stream",
     "text": [
      "96it [03:08,  1.96s/it]"
     ]
    },
    {
     "name": "stdout",
     "output_type": "stream",
     "text": [
      "loop found at [np.int64(88), np.int64(56)] by going direction [1 0], directions already explored [array([1, 0])]\n",
      "found loop\n",
      "loop found at [np.int64(88), np.int64(56)] by going direction [1 0], directions already explored [array([1, 0])]\n",
      "found loop\n",
      "loop found at [np.int64(88), np.int64(56)] by going direction [1 0], directions already explored [array([1, 0])]\n",
      "found loop\n",
      "loop found at [np.int64(88), np.int64(56)] by going direction [1 0], directions already explored [array([1, 0])]\n",
      "found loop\n",
      "loop found at [np.int64(120), np.int64(69)] by going direction [ 0 -1], directions already explored [array([ 0, -1]), array([0, 1])]\n",
      "found loop\n",
      "loop found at [np.int64(120), np.int64(69)] by going direction [ 0 -1], directions already explored [array([ 0, -1]), array([0, 1])]\n",
      "found loop\n",
      "loop found at [np.int64(120), np.int64(69)] by going direction [ 0 -1], directions already explored [array([ 0, -1]), array([0, 1])]\n",
      "found loop\n",
      "loop found at [np.int64(120), np.int64(69)] by going direction [ 0 -1], directions already explored [array([ 0, -1]), array([0, 1])]\n",
      "found loop\n",
      "loop found at [np.int64(98), np.int64(93)] by going direction [1 0], directions already explored [array([1, 0])]\n",
      "found loop\n",
      "loop found at [np.int64(98), np.int64(93)] by going direction [1 0], directions already explored [array([1, 0])]\n",
      "found loop\n",
      "loop found at [np.int64(98), np.int64(93)] by going direction [1 0], directions already explored [array([1, 0])]\n",
      "found loop\n",
      "loop found at [np.int64(94), np.int64(76)] by going direction [-1  0], directions already explored [array([-1,  0])]\n",
      "found loop\n"
     ]
    },
    {
     "name": "stderr",
     "output_type": "stream",
     "text": [
      "97it [03:10,  2.00s/it]"
     ]
    },
    {
     "name": "stdout",
     "output_type": "stream",
     "text": [
      "loop found at [np.int64(99), np.int64(3)] by going direction [ 0 -1], directions already explored [array([ 0, -1])]\n",
      "found loop\n",
      "loop found at [np.int64(99), np.int64(54)] by going direction [1 0], directions already explored [array([1, 0]), array([-1,  0])]\n",
      "found loop\n",
      "loop found at [np.int64(124), np.int64(73)] by going direction [ 0 -1], directions already explored [array([ 0, -1])]\n",
      "found loop\n",
      "loop found at [np.int64(124), np.int64(73)] by going direction [ 0 -1], directions already explored [array([ 0, -1])]\n",
      "found loop\n",
      "loop found at [np.int64(124), np.int64(73)] by going direction [ 0 -1], directions already explored [array([ 0, -1])]\n",
      "found loop\n",
      "loop found at [np.int64(99), np.int64(99)] by going direction [1 0], directions already explored [array([1, 0])]\n",
      "found loop\n",
      "loop found at [np.int64(99), np.int64(99)] by going direction [1 0], directions already explored [array([1, 0])]\n",
      "found loop\n"
     ]
    },
    {
     "name": "stderr",
     "output_type": "stream",
     "text": [
      "98it [03:12,  2.04s/it]"
     ]
    },
    {
     "name": "stdout",
     "output_type": "stream",
     "text": [
      "loop found at [np.int64(102), np.int64(23)] by going direction [-1  0], directions already explored [array([-1,  0])]\n",
      "found loop\n",
      "loop found at [np.int64(105), np.int64(42)] by going direction [ 0 -1], directions already explored [array([ 0, -1])]\n",
      "found loop\n",
      "loop found at [np.int64(118), np.int64(89)] by going direction [ 0 -1], directions already explored [array([ 0, -1])]\n",
      "found loop\n",
      "loop found at [np.int64(118), np.int64(89)] by going direction [ 0 -1], directions already explored [array([ 0, -1])]\n",
      "found loop\n",
      "loop found at [np.int64(118), np.int64(89)] by going direction [ 0 -1], directions already explored [array([ 0, -1])]\n",
      "found loop\n",
      "loop found at [np.int64(97), np.int64(93)] by going direction [1 0], directions already explored [array([1, 0])]\n",
      "found loop\n",
      "loop found at [np.int64(97), np.int64(93)] by going direction [1 0], directions already explored [array([1, 0])]\n",
      "found loop\n",
      "loop found at [np.int64(97), np.int64(93)] by going direction [1 0], directions already explored [array([1, 0])]\n",
      "found loop\n"
     ]
    },
    {
     "name": "stderr",
     "output_type": "stream",
     "text": [
      "99it [03:14,  2.04s/it]"
     ]
    },
    {
     "name": "stdout",
     "output_type": "stream",
     "text": [
      "loop found at [np.int64(8), np.int64(7)] by going direction [0 1], directions already explored [array([0, 1])]\n",
      "found loop\n",
      "loop found at [np.int64(100), np.int64(28)] by going direction [0 1], directions already explored [array([0, 1])]\n",
      "found loop\n",
      "loop found at [np.int64(118), np.int64(89)] by going direction [ 0 -1], directions already explored [array([ 0, -1])]\n",
      "found loop\n",
      "loop found at [np.int64(118), np.int64(89)] by going direction [ 0 -1], directions already explored [array([ 0, -1])]\n",
      "found loop\n",
      "loop found at [np.int64(67), np.int64(115)] by going direction [1 0], directions already explored [array([1, 0])]\n",
      "found loop\n",
      "loop found at [np.int64(63), np.int64(78)] by going direction [1 0], directions already explored [array([1, 0]), array([-1,  0])]\n",
      "found loop\n",
      "loop found at [np.int64(67), np.int64(115)] by going direction [1 0], directions already explored [array([1, 0])]\n",
      "found loop\n",
      "loop found at [np.int64(67), np.int64(115)] by going direction [1 0], directions already explored [array([1, 0])]\n",
      "found loop\n",
      "loop found at [np.int64(67), np.int64(115)] by going direction [1 0], directions already explored [array([1, 0])]\n",
      "found loop\n",
      "loop found at [np.int64(101), np.int64(108)] by going direction [1 0], directions already explored [array([1, 0])]\n",
      "found loop\n"
     ]
    },
    {
     "name": "stderr",
     "output_type": "stream",
     "text": [
      "100it [03:16,  2.04s/it]"
     ]
    },
    {
     "name": "stdout",
     "output_type": "stream",
     "text": [
      "loop found at [np.int64(97), np.int64(101)] by going direction [-1  0], directions already explored [array([-1,  0])]\n",
      "found loop\n",
      "loop found at [np.int64(107), np.int64(57)] by going direction [0 1], directions already explored [array([0, 1])]\n",
      "found loop\n",
      "loop found at [np.int64(107), np.int64(57)] by going direction [0 1], directions already explored [array([0, 1])]\n",
      "found loop\n",
      "loop found at [np.int64(102), np.int64(87)] by going direction [1 0], directions already explored [array([1, 0])]\n",
      "found loop\n",
      "loop found at [np.int64(102), np.int64(87)] by going direction [1 0], directions already explored [array([1, 0])]\n",
      "found loop\n",
      "loop found at [np.int64(97), np.int64(93)] by going direction [1 0], directions already explored [array([1, 0])]\n",
      "found loop\n",
      "loop found at [np.int64(102), np.int64(87)] by going direction [1 0], directions already explored [array([1, 0])]\n",
      "found loop\n",
      "loop found at [np.int64(101), np.int64(116)] by going direction [ 0 -1], directions already explored [array([ 0, -1]), array([0, 1])]\n",
      "found loop\n",
      "loop found at [np.int64(97), np.int64(93)] by going direction [1 0], directions already explored [array([1, 0])]\n",
      "found loop\n"
     ]
    },
    {
     "name": "stderr",
     "output_type": "stream",
     "text": [
      "101it [03:18,  2.02s/it]"
     ]
    },
    {
     "name": "stdout",
     "output_type": "stream",
     "text": [
      "loop found at [np.int64(105), np.int64(42)] by going direction [ 0 -1], directions already explored [array([ 0, -1])]\n",
      "found loop\n",
      "loop found at [np.int64(105), np.int64(42)] by going direction [ 0 -1], directions already explored [array([ 0, -1])]\n",
      "found loop\n",
      "loop found at [np.int64(88), np.int64(56)] by going direction [1 0], directions already explored [array([1, 0])]\n",
      "found loop\n",
      "loop found at [np.int64(126), np.int64(79)] by going direction [ 0 -1], directions already explored [array([ 0, -1]), array([0, 1])]\n",
      "found loop\n",
      "loop found at [np.int64(126), np.int64(79)] by going direction [ 0 -1], directions already explored [array([ 0, -1]), array([0, 1])]\n",
      "found loop\n",
      "loop found at [np.int64(126), np.int64(79)] by going direction [ 0 -1], directions already explored [array([ 0, -1]), array([0, 1])]\n",
      "found loop\n",
      "loop found at [np.int64(126), np.int64(79)] by going direction [ 0 -1], directions already explored [array([ 0, -1]), array([0, 1])]\n",
      "found loop\n",
      "loop found at [np.int64(126), np.int64(79)] by going direction [ 0 -1], directions already explored [array([ 0, -1]), array([0, 1])]\n",
      "found loop\n",
      "loop found at [np.int64(97), np.int64(93)] by going direction [1 0], directions already explored [array([1, 0])]\n",
      "found loop\n",
      "loop found at [np.int64(126), np.int64(79)] by going direction [ 0 -1], directions already explored [array([ 0, -1]), array([0, 1])]\n",
      "found loop\n",
      "loop found at [np.int64(67), np.int64(115)] by going direction [1 0], directions already explored [array([1, 0])]\n",
      "found loop\n",
      "loop found at [np.int64(48), np.int64(94)] by going direction [0 1], directions already explored [array([0, 1])]\n",
      "found loop\n",
      "loop found at [np.int64(97), np.int64(93)] by going direction [1 0], directions already explored [array([1, 0])]\n",
      "found loop\n",
      "loop found at [np.int64(101), np.int64(116)] by going direction [ 0 -1], directions already explored [array([ 0, -1]), array([0, 1])]\n",
      "found loop\n",
      "loop found at [np.int64(101), np.int64(108)] by going direction [1 0], directions already explored [array([1, 0]), array([ 0, -1])]\n",
      "found loop\n",
      "loop found at [np.int64(75), np.int64(108)] by going direction [1 0], directions already explored [array([1, 0])]\n",
      "found loop\n",
      "loop found at [np.int64(100), np.int64(101)] by going direction [0 1], directions already explored [array([0, 1]), array([-1,  0])]\n",
      "found loop\n",
      "loop found at [np.int64(100), np.int64(101)] by going direction [-1  0], directions already explored [array([-1,  0])]\n",
      "found loop\n",
      "loop found at [np.int64(106), np.int64(76)] by going direction [-1  0], directions already explored [array([ 0, -1]), array([-1,  0])]\n",
      "found loop\n",
      "loop found at [np.int64(76), np.int64(128)] by going direction [1 0], directions already explored [array([1, 0])]\n",
      "found loop\n",
      "loop found at [np.int64(101), np.int64(108)] by going direction [1 0], directions already explored [array([1, 0]), array([ 0, -1])]\n",
      "found loop\n",
      "loop found at [np.int64(84), np.int64(125)] by going direction [ 0 -1], directions already explored [array([ 0, -1])]\n",
      "found loop\n",
      "loop found at [np.int64(100), np.int64(107)] by going direction [ 0 -1], directions already explored [array([ 0, -1]), array([0, 1])]\n",
      "found loop\n"
     ]
    },
    {
     "name": "stderr",
     "output_type": "stream",
     "text": [
      "102it [03:20,  2.01s/it]"
     ]
    },
    {
     "name": "stdout",
     "output_type": "stream",
     "text": [
      "loop found at [np.int64(124), np.int64(46)] by going direction [ 0 -1], directions already explored [array([ 0, -1])]\n",
      "found loop\n",
      "loop found at [np.int64(79), np.int64(113)] by going direction [1 0], directions already explored [array([1, 0])]\n",
      "found loop\n",
      "loop found at [np.int64(106), np.int64(76)] by going direction [-1  0], directions already explored [array([ 0, -1]), array([-1,  0])]\n",
      "found loop\n"
     ]
    },
    {
     "name": "stderr",
     "output_type": "stream",
     "text": [
      "103it [03:22,  2.02s/it]"
     ]
    },
    {
     "name": "stdout",
     "output_type": "stream",
     "text": [
      "loop found at [np.int64(126), np.int64(79)] by going direction [ 0 -1], directions already explored [array([ 0, -1]), array([0, 1])]\n",
      "found loop\n",
      "loop found at [np.int64(126), np.int64(79)] by going direction [ 0 -1], directions already explored [array([ 0, -1]), array([0, 1])]\n",
      "found loop\n",
      "loop found at [np.int64(105), np.int64(113)] by going direction [1 0], directions already explored [array([1, 0])]\n",
      "found loop\n",
      "loop found at [np.int64(101), np.int64(82)] by going direction [-1  0], directions already explored [array([-1,  0])]\n",
      "found loop\n",
      "loop found at [np.int64(101), np.int64(82)] by going direction [-1  0], directions already explored [array([-1,  0])]\n",
      "found loop\n",
      "loop found at [np.int64(101), np.int64(82)] by going direction [-1  0], directions already explored [array([-1,  0])]\n",
      "found loop\n",
      "loop found at [np.int64(105), np.int64(113)] by going direction [1 0], directions already explored [array([1, 0])]\n",
      "found loop\n",
      "loop found at [np.int64(101), np.int64(82)] by going direction [-1  0], directions already explored [array([-1,  0])]\n",
      "found loop\n"
     ]
    },
    {
     "name": "stderr",
     "output_type": "stream",
     "text": [
      "104it [03:24,  2.06s/it]"
     ]
    },
    {
     "name": "stdout",
     "output_type": "stream",
     "text": [
      "loop found at [np.int64(126), np.int64(79)] by going direction [ 0 -1], directions already explored [array([ 0, -1]), array([0, 1])]\n",
      "found loop\n",
      "loop found at [np.int64(106), np.int64(78)] by going direction [1 0], directions already explored [array([1, 0])]\n",
      "found loop\n",
      "loop found at [np.int64(79), np.int64(113)] by going direction [1 0], directions already explored [array([1, 0])]\n",
      "found loop\n",
      "loop found at [np.int64(67), np.int64(88)] by going direction [0 1], directions already explored [array([0, 1])]\n",
      "found loop\n"
     ]
    },
    {
     "name": "stderr",
     "output_type": "stream",
     "text": [
      "105it [03:26,  1.97s/it]"
     ]
    },
    {
     "name": "stdout",
     "output_type": "stream",
     "text": [
      "loop found at [np.int64(77), np.int64(50)] by going direction [-1  0], directions already explored [array([-1,  0])]\n",
      "found loop\n",
      "loop found at [np.int64(126), np.int64(79)] by going direction [ 0 -1], directions already explored [array([ 0, -1]), array([0, 1])]\n",
      "found loop\n",
      "loop found at [np.int64(104), np.int64(77)] by going direction [ 0 -1], directions already explored [array([ 0, -1])]\n",
      "found loop\n",
      "loop found at [np.int64(104), np.int64(86)] by going direction [ 0 -1], directions already explored [array([ 0, -1])]\n",
      "found loop\n",
      "loop found at [np.int64(104), np.int64(89)] by going direction [ 0 -1], directions already explored [array([ 0, -1])]\n",
      "found loop\n",
      "loop found at [np.int64(104), np.int64(92)] by going direction [ 0 -1], directions already explored [array([ 0, -1])]\n",
      "found loop\n",
      "loop found at [np.int64(104), np.int64(98)] by going direction [ 0 -1], directions already explored [array([ 0, -1])]\n",
      "found loop\n",
      "loop found at [np.int64(104), np.int64(101)] by going direction [ 0 -1], directions already explored [array([ 0, -1])]\n",
      "found loop\n",
      "loop found at [np.int64(104), np.int64(101)] by going direction [ 0 -1], directions already explored [array([ 0, -1])]\n",
      "found loop\n",
      "loop found at [np.int64(104), np.int64(101)] by going direction [ 0 -1], directions already explored [array([ 0, -1])]\n",
      "found loop\n"
     ]
    },
    {
     "name": "stderr",
     "output_type": "stream",
     "text": [
      "106it [03:28,  1.91s/it]"
     ]
    },
    {
     "name": "stdout",
     "output_type": "stream",
     "text": [
      "loop found at [np.int64(107), np.int64(57)] by going direction [0 1], directions already explored [array([0, 1])]\n",
      "found loop\n",
      "loop found at [np.int64(107), np.int64(57)] by going direction [0 1], directions already explored [array([0, 1])]\n",
      "found loop\n",
      "loop found at [np.int64(107), np.int64(63)] by going direction [0 1], directions already explored [array([0, 1])]\n",
      "found loop\n",
      "loop found at [np.int64(105), np.int64(68)] by going direction [-1  0], directions already explored [array([-1,  0])]\n",
      "found loop\n",
      "loop found at [np.int64(124), np.int64(73)] by going direction [ 0 -1], directions already explored [array([ 0, -1])]\n",
      "found loop\n",
      "loop found at [np.int64(102), np.int64(87)] by going direction [1 0], directions already explored [array([1, 0])]\n",
      "found loop\n",
      "loop found at [np.int64(119), np.int64(84)] by going direction [ 0 -1], directions already explored [array([ 0, -1])]\n",
      "found loop\n",
      "loop found at [np.int64(105), np.int64(82)] by going direction [-1  0], directions already explored [array([-1,  0])]\n",
      "found loop\n",
      "loop found at [np.int64(84), np.int64(93)] by going direction [1 0], directions already explored [array([1, 0])]\n",
      "found loop\n",
      "loop found at [np.int64(76), np.int64(128)] by going direction [1 0], directions already explored [array([1, 0])]\n",
      "found loop\n",
      "loop found at [np.int64(76), np.int64(128)] by going direction [1 0], directions already explored [array([1, 0])]\n",
      "found loop\n",
      "loop found at [np.int64(76), np.int64(128)] by going direction [1 0], directions already explored [array([1, 0])]\n",
      "found loop\n"
     ]
    },
    {
     "name": "stderr",
     "output_type": "stream",
     "text": [
      "107it [03:29,  1.91s/it]"
     ]
    },
    {
     "name": "stdout",
     "output_type": "stream",
     "text": [
      "loop found at [np.int64(76), np.int64(128)] by going direction [1 0], directions already explored [array([1, 0])]\n",
      "found loop\n",
      "loop found at [np.int64(120), np.int64(58)] by going direction [ 0 -1], directions already explored [array([ 0, -1]), array([0, 1])]\n",
      "found loop\n",
      "loop found at [np.int64(120), np.int64(58)] by going direction [ 0 -1], directions already explored [array([ 0, -1]), array([0, 1])]\n",
      "found loop\n",
      "loop found at [np.int64(120), np.int64(58)] by going direction [ 0 -1], directions already explored [array([ 0, -1]), array([0, 1])]\n",
      "found loop\n",
      "loop found at [np.int64(120), np.int64(58)] by going direction [ 0 -1], directions already explored [array([ 0, -1]), array([0, 1])]\n",
      "found loop\n",
      "loop found at [np.int64(107), np.int64(57)] by going direction [0 1], directions already explored [array([0, 1]), array([ 0, -1])]\n",
      "found loop\n",
      "loop found at [np.int64(120), np.int64(69)] by going direction [ 0 -1], directions already explored [array([ 0, -1]), array([0, 1])]\n",
      "found loop\n",
      "loop found at [np.int64(118), np.int64(71)] by going direction [ 0 -1], directions already explored [array([ 0, -1])]\n",
      "found loop\n",
      "loop found at [np.int64(118), np.int64(89)] by going direction [ 0 -1], directions already explored [array([ 0, -1])]\n",
      "found loop\n",
      "loop found at [np.int64(97), np.int64(93)] by going direction [1 0], directions already explored [array([1, 0])]\n",
      "found loop\n",
      "loop found at [np.int64(63), np.int64(78)] by going direction [1 0], directions already explored [array([1, 0]), array([-1,  0])]\n",
      "found loop\n",
      "loop found at [np.int64(106), np.int64(77)] by going direction [ 0 -1], directions already explored [array([ 0, -1])]\n",
      "found loop\n",
      "loop found at [np.int64(126), np.int64(79)] by going direction [ 0 -1], directions already explored [array([ 0, -1]), array([0, 1])]\n",
      "found loop\n",
      "loop found at [np.int64(106), np.int64(86)] by going direction [ 0 -1], directions already explored [array([ 0, -1])]\n",
      "found loop\n",
      "loop found at [np.int64(106), np.int64(86)] by going direction [ 0 -1], directions already explored [array([ 0, -1])]\n",
      "found loop\n",
      "loop found at [np.int64(106), np.int64(86)] by going direction [ 0 -1], directions already explored [array([ 0, -1])]\n",
      "found loop\n"
     ]
    },
    {
     "name": "stderr",
     "output_type": "stream",
     "text": [
      "108it [03:31,  1.94s/it]"
     ]
    },
    {
     "name": "stdout",
     "output_type": "stream",
     "text": [
      "loop found at [np.int64(107), np.int64(57)] by going direction [0 1], directions already explored [array([0, 1]), array([ 0, -1])]\n",
      "found loop\n",
      "loop found at [np.int64(106), np.int64(76)] by going direction [-1  0], directions already explored [array([ 0, -1]), array([-1,  0])]\n",
      "found loop\n",
      "loop found at [np.int64(48), np.int64(94)] by going direction [0 1], directions already explored [array([0, 1])]\n",
      "found loop\n",
      "loop found at [np.int64(76), np.int64(128)] by going direction [1 0], directions already explored [array([1, 0])]\n",
      "found loop\n",
      "loop found at [np.int64(106), np.int64(76)] by going direction [-1  0], directions already explored [array([ 0, -1]), array([-1,  0])]\n",
      "found loop\n",
      "loop found at [np.int64(106), np.int64(76)] by going direction [-1  0], directions already explored [array([ 0, -1]), array([-1,  0])]\n",
      "found loop\n"
     ]
    },
    {
     "name": "stderr",
     "output_type": "stream",
     "text": [
      "109it [03:33,  1.94s/it]"
     ]
    },
    {
     "name": "stdout",
     "output_type": "stream",
     "text": [
      "loop found at [np.int64(94), np.int64(63)] by going direction [ 0 -1], directions already explored [array([ 0, -1])]\n",
      "found loop\n",
      "loop found at [np.int64(126), np.int64(79)] by going direction [ 0 -1], directions already explored [array([ 0, -1]), array([0, 1])]\n",
      "found loop\n",
      "loop found at [np.int64(108), np.int64(68)] by going direction [-1  0], directions already explored [array([-1,  0])]\n",
      "found loop\n",
      "loop found at [np.int64(118), np.int64(89)] by going direction [ 0 -1], directions already explored [array([ 0, -1])]\n",
      "found loop\n",
      "loop found at [np.int64(118), np.int64(89)] by going direction [ 0 -1], directions already explored [array([ 0, -1])]\n",
      "found loop\n",
      "loop found at [np.int64(107), np.int64(82)] by going direction [-1  0], directions already explored [array([-1,  0])]\n",
      "found loop\n",
      "loop found at [np.int64(67), np.int64(115)] by going direction [1 0], directions already explored [array([1, 0])]\n",
      "found loop\n",
      "loop found at [np.int64(48), np.int64(94)] by going direction [0 1], directions already explored [array([0, 1])]\n",
      "found loop\n",
      "loop found at [np.int64(99), np.int64(99)] by going direction [1 0], directions already explored [array([1, 0])]\n",
      "found loop\n",
      "loop found at [np.int64(108), np.int64(98)] by going direction [ 0 -1], directions already explored [array([ 0, -1])]\n",
      "found loop\n",
      "loop found at [np.int64(106), np.int64(76)] by going direction [-1  0], directions already explored [array([ 0, -1]), array([-1,  0])]\n",
      "found loop\n",
      "loop found at [np.int64(108), np.int64(104)] by going direction [ 0 -1], directions already explored [array([ 0, -1])]\n",
      "found loop\n",
      "loop found at [np.int64(108), np.int64(104)] by going direction [ 0 -1], directions already explored [array([ 0, -1])]\n",
      "found loop\n",
      "loop found at [np.int64(108), np.int64(104)] by going direction [ 0 -1], directions already explored [array([ 0, -1])]\n",
      "found loop\n"
     ]
    },
    {
     "name": "stderr",
     "output_type": "stream",
     "text": [
      "110it [03:35,  1.91s/it]"
     ]
    },
    {
     "name": "stdout",
     "output_type": "stream",
     "text": [
      "loop found at [np.int64(109), np.int64(73)] by going direction [ 0 -1], directions already explored [array([ 0, -1])]\n",
      "found loop\n",
      "loop found at [np.int64(109), np.int64(92)] by going direction [ 0 -1], directions already explored [array([ 0, -1])]\n",
      "found loop\n",
      "loop found at [np.int64(84), np.int64(125)] by going direction [ 0 -1], directions already explored [array([ 0, -1])]\n",
      "found loop\n"
     ]
    },
    {
     "name": "stderr",
     "output_type": "stream",
     "text": [
      "111it [03:37,  1.95s/it]"
     ]
    },
    {
     "name": "stdout",
     "output_type": "stream",
     "text": [
      "loop found at [np.int64(126), np.int64(79)] by going direction [ 0 -1], directions already explored [array([ 0, -1]), array([0, 1])]\n",
      "found loop\n",
      "loop found at [np.int64(107), np.int64(67)] by going direction [0 1], directions already explored [array([0, 1])]\n",
      "found loop\n",
      "loop found at [np.int64(105), np.int64(67)] by going direction [-1  0], directions already explored [array([-1,  0])]\n",
      "found loop\n",
      "loop found at [np.int64(110), np.int64(68)] by going direction [-1  0], directions already explored [array([-1,  0])]\n",
      "found loop\n",
      "loop found at [np.int64(124), np.int64(73)] by going direction [ 0 -1], directions already explored [array([ 0, -1])]\n",
      "found loop\n",
      "loop found at [np.int64(102), np.int64(87)] by going direction [1 0], directions already explored [array([1, 0])]\n",
      "found loop\n",
      "loop found at [np.int64(79), np.int64(113)] by going direction [1 0], directions already explored [array([1, 0])]\n",
      "found loop\n",
      "loop found at [np.int64(107), np.int64(82)] by going direction [-1  0], directions already explored [array([-1,  0])]\n",
      "found loop\n",
      "loop found at [np.int64(48), np.int64(94)] by going direction [0 1], directions already explored [array([0, 1])]\n",
      "found loop\n",
      "loop found at [np.int64(99), np.int64(99)] by going direction [1 0], directions already explored [array([1, 0])]\n",
      "found loop\n",
      "loop found at [np.int64(76), np.int64(128)] by going direction [1 0], directions already explored [array([1, 0])]\n",
      "found loop\n",
      "loop found at [np.int64(84), np.int64(125)] by going direction [ 0 -1], directions already explored [array([ 0, -1])]\n",
      "found loop\n"
     ]
    },
    {
     "name": "stderr",
     "output_type": "stream",
     "text": [
      "112it [03:39,  1.96s/it]"
     ]
    },
    {
     "name": "stdout",
     "output_type": "stream",
     "text": [
      "loop found at [np.int64(126), np.int64(77)] by going direction [ 0 -1], directions already explored [array([ 0, -1]), array([0, 1])]\n",
      "found loop\n",
      "loop found at [np.int64(111), np.int64(92)] by going direction [ 0 -1], directions already explored [array([ 0, -1])]\n",
      "found loop\n",
      "loop found at [np.int64(111), np.int64(107)] by going direction [ 0 -1], directions already explored [array([ 0, -1])]\n",
      "found loop\n",
      "loop found at [np.int64(111), np.int64(112)] by going direction [ 0 -1], directions already explored [array([ 0, -1])]\n",
      "found loop\n"
     ]
    },
    {
     "name": "stderr",
     "output_type": "stream",
     "text": [
      "113it [03:41,  1.96s/it]"
     ]
    },
    {
     "name": "stdout",
     "output_type": "stream",
     "text": [
      "loop found at [np.int64(106), np.int64(76)] by going direction [-1  0], directions already explored [array([ 0, -1]), array([-1,  0])]\n",
      "found loop\n",
      "loop found at [np.int64(107), np.int64(82)] by going direction [-1  0], directions already explored [array([-1,  0])]\n",
      "found loop\n",
      "loop found at [np.int64(84), np.int64(93)] by going direction [1 0], directions already explored [array([1, 0])]\n",
      "found loop\n",
      "loop found at [np.int64(105), np.int64(113)] by going direction [1 0], directions already explored [array([1, 0])]\n",
      "found loop\n",
      "loop found at [np.int64(48), np.int64(94)] by going direction [0 1], directions already explored [array([0, 1])]\n",
      "found loop\n",
      "loop found at [np.int64(76), np.int64(128)] by going direction [1 0], directions already explored [array([1, 0])]\n",
      "found loop\n",
      "loop found at [np.int64(106), np.int64(76)] by going direction [-1  0], directions already explored [array([ 0, -1]), array([-1,  0])]\n",
      "found loop\n",
      "loop found at [np.int64(106), np.int64(76)] by going direction [-1  0], directions already explored [array([ 0, -1]), array([-1,  0])]\n",
      "found loop\n",
      "loop found at [np.int64(84), np.int64(125)] by going direction [ 0 -1], directions already explored [array([ 0, -1])]\n",
      "found loop\n",
      "loop found at [np.int64(105), np.int64(113)] by going direction [1 0], directions already explored [array([1, 0])]\n",
      "found loop\n"
     ]
    },
    {
     "name": "stderr",
     "output_type": "stream",
     "text": [
      "114it [03:43,  1.92s/it]"
     ]
    },
    {
     "name": "stdout",
     "output_type": "stream",
     "text": [
      "loop found at [np.int64(113), np.int64(107)] by going direction [ 0 -1], directions already explored [array([ 0, -1])]\n",
      "found loop\n"
     ]
    },
    {
     "name": "stderr",
     "output_type": "stream",
     "text": [
      "115it [03:45,  1.92s/it]"
     ]
    },
    {
     "name": "stdout",
     "output_type": "stream",
     "text": [
      "loop found at [np.int64(107), np.int64(57)] by going direction [0 1], directions already explored [array([0, 1])]\n",
      "found loop\n",
      "loop found at [np.int64(100), np.int64(28)] by going direction [0 1], directions already explored [array([0, 1])]\n",
      "found loop\n",
      "loop found at [np.int64(97), np.int64(93)] by going direction [1 0], directions already explored [array([1, 0])]\n",
      "found loop\n",
      "loop found at [np.int64(107), np.int64(57)] by going direction [0 1], directions already explored [array([0, 1])]\n",
      "found loop\n",
      "loop found at [np.int64(93), np.int64(20)] by going direction [-1  0], directions already explored [array([-1,  0])]\n",
      "found loop\n",
      "loop found at [np.int64(114), np.int64(23)] by going direction [-1  0], directions already explored [array([-1,  0])]\n",
      "found loop\n",
      "loop found at [np.int64(88), np.int64(56)] by going direction [1 0], directions already explored [array([1, 0])]\n",
      "found loop\n",
      "loop found at [np.int64(112), np.int64(27)] by going direction [-1  0], directions already explored [array([-1,  0])]\n",
      "found loop\n",
      "loop found at [np.int64(88), np.int64(56)] by going direction [1 0], directions already explored [array([1, 0])]\n",
      "found loop\n",
      "loop found at [np.int64(107), np.int64(57)] by going direction [0 1], directions already explored [array([0, 1])]\n",
      "found loop\n",
      "loop found at [np.int64(104), np.int64(32)] by going direction [-1  0], directions already explored [array([-1,  0])]\n",
      "found loop\n",
      "loop found at [np.int64(97), np.int64(93)] by going direction [1 0], directions already explored [array([1, 0])]\n",
      "found loop\n",
      "loop found at [np.int64(97), np.int64(93)] by going direction [1 0], directions already explored [array([1, 0])]\n",
      "found loop\n",
      "loop found at [np.int64(107), np.int64(57)] by going direction [0 1], directions already explored [array([0, 1])]\n",
      "found loop\n",
      "loop found at [np.int64(124), np.int64(46)] by going direction [ 0 -1], directions already explored [array([ 0, -1])]\n",
      "found loop\n",
      "loop found at [np.int64(124), np.int64(46)] by going direction [ 0 -1], directions already explored [array([ 0, -1])]\n",
      "found loop\n",
      "loop found at [np.int64(97), np.int64(93)] by going direction [1 0], directions already explored [array([1, 0])]\n",
      "found loop\n",
      "loop found at [np.int64(120), np.int64(58)] by going direction [ 0 -1], directions already explored [array([ 0, -1]), array([0, 1])]\n",
      "found loop\n",
      "loop found at [np.int64(118), np.int64(89)] by going direction [ 0 -1], directions already explored [array([ 0, -1])]\n",
      "found loop\n",
      "loop found at [np.int64(108), np.int64(56)] by going direction [-1  0], directions already explored [array([-1,  0])]\n",
      "found loop\n",
      "loop found at [np.int64(124), np.int64(73)] by going direction [ 0 -1], directions already explored [array([ 0, -1])]\n",
      "found loop\n",
      "loop found at [np.int64(94), np.int64(63)] by going direction [ 0 -1], directions already explored [array([ 0, -1])]\n",
      "found loop\n",
      "loop found at [np.int64(97), np.int64(93)] by going direction [1 0], directions already explored [array([1, 0])]\n",
      "found loop\n",
      "loop found at [np.int64(115), np.int64(74)] by going direction [1 0], directions already explored [array([1, 0]), array([ 0, -1])]\n",
      "found loop\n",
      "loop found at [np.int64(124), np.int64(73)] by going direction [ 0 -1], directions already explored [array([ 0, -1])]\n",
      "found loop\n",
      "loop found at [np.int64(115), np.int64(74)] by going direction [1 0], directions already explored [array([1, 0]), array([ 0, -1])]\n",
      "found loop\n",
      "loop found at [np.int64(115), np.int64(74)] by going direction [1 0], directions already explored [array([1, 0]), array([ 0, -1])]\n",
      "found loop\n",
      "loop found at [np.int64(97), np.int64(93)] by going direction [1 0], directions already explored [array([1, 0])]\n",
      "found loop\n",
      "loop found at [np.int64(126), np.int64(79)] by going direction [ 0 -1], directions already explored [array([ 0, -1]), array([0, 1])]\n",
      "found loop\n",
      "loop found at [np.int64(115), np.int64(74)] by going direction [1 0], directions already explored [array([1, 0]), array([ 0, -1])]\n",
      "found loop\n",
      "loop found at [np.int64(105), np.int64(67)] by going direction [-1  0], directions already explored [array([-1,  0])]\n",
      "found loop\n",
      "loop found at [np.int64(114), np.int64(68)] by going direction [-1  0], directions already explored [array([-1,  0])]\n",
      "found loop\n",
      "loop found at [np.int64(97), np.int64(93)] by going direction [1 0], directions already explored [array([1, 0])]\n",
      "found loop\n",
      "loop found at [np.int64(124), np.int64(73)] by going direction [ 0 -1], directions already explored [array([ 0, -1])]\n",
      "found loop\n",
      "loop found at [np.int64(102), np.int64(87)] by going direction [1 0], directions already explored [array([1, 0])]\n",
      "found loop\n",
      "loop found at [np.int64(126), np.int64(77)] by going direction [ 0 -1], directions already explored [array([ 0, -1]), array([0, 1])]\n",
      "found loop\n",
      "loop found at [np.int64(107), np.int64(82)] by going direction [-1  0], directions already explored [array([-1,  0])]\n",
      "found loop\n",
      "loop found at [np.int64(84), np.int64(93)] by going direction [1 0], directions already explored [array([1, 0])]\n",
      "found loop\n",
      "loop found at [np.int64(48), np.int64(94)] by going direction [0 1], directions already explored [array([0, 1])]\n",
      "found loop\n",
      "loop found at [np.int64(106), np.int64(76)] by going direction [-1  0], directions already explored [array([ 0, -1]), array([-1,  0])]\n",
      "found loop\n"
     ]
    },
    {
     "name": "stderr",
     "output_type": "stream",
     "text": [
      "116it [03:47,  1.90s/it]"
     ]
    },
    {
     "name": "stdout",
     "output_type": "stream",
     "text": [
      "loop found at [np.int64(106), np.int64(76)] by going direction [-1  0], directions already explored [array([ 0, -1]), array([-1,  0])]\n",
      "found loop\n"
     ]
    },
    {
     "name": "stderr",
     "output_type": "stream",
     "text": [
      "117it [03:49,  1.91s/it]"
     ]
    },
    {
     "name": "stdout",
     "output_type": "stream",
     "text": [
      "loop found at [np.int64(119), np.int64(101)] by going direction [ 0 -1], directions already explored [array([ 0, -1])]\n",
      "found loop\n",
      "loop found at [np.int64(99), np.int64(99)] by going direction [1 0], directions already explored [array([1, 0])]\n",
      "found loop\n"
     ]
    },
    {
     "name": "stderr",
     "output_type": "stream",
     "text": [
      "118it [03:51,  1.93s/it]"
     ]
    },
    {
     "name": "stdout",
     "output_type": "stream",
     "text": [
      "loop found at [np.int64(126), np.int64(77)] by going direction [ 0 -1], directions already explored [array([ 0, -1]), array([0, 1])]\n",
      "found loop\n"
     ]
    },
    {
     "name": "stderr",
     "output_type": "stream",
     "text": [
      "119it [03:53,  1.89s/it]"
     ]
    },
    {
     "name": "stdout",
     "output_type": "stream",
     "text": [
      "loop found at [np.int64(120), np.int64(24)] by going direction [0 1], directions already explored [array([0, 1]), array([ 0, -1])]\n",
      "found loop\n",
      "loop found at [np.int64(118), np.int64(73)] by going direction [ 0 -1], directions already explored [array([ 0, -1])]\n",
      "found loop\n",
      "loop found at [np.int64(106), np.int64(76)] by going direction [-1  0], directions already explored [array([ 0, -1]), array([-1,  0])]\n",
      "found loop\n",
      "loop found at [np.int64(84), np.int64(125)] by going direction [ 0 -1], directions already explored [array([ 0, -1])]\n",
      "found loop\n"
     ]
    },
    {
     "name": "stderr",
     "output_type": "stream",
     "text": [
      "124it [04:02,  1.94s/it]"
     ]
    },
    {
     "name": "stdout",
     "output_type": "stream",
     "text": [
      "loop found at [np.int64(88), np.int64(56)] by going direction [1 0], directions already explored [array([1, 0])]\n",
      "found loop\n",
      "loop found at [np.int64(104), np.int64(32)] by going direction [-1  0], directions already explored [array([-1,  0])]\n",
      "found loop\n",
      "loop found at [np.int64(107), np.int64(57)] by going direction [0 1], directions already explored [array([0, 1])]\n",
      "found loop\n",
      "loop found at [np.int64(124), np.int64(46)] by going direction [ 0 -1], directions already explored [array([ 0, -1])]\n",
      "found loop\n",
      "loop found at [np.int64(123), np.int64(47)] by going direction [-1  0], directions already explored [array([-1,  0]), array([1, 0])]\n",
      "found loop\n",
      "loop found at [np.int64(120), np.int64(58)] by going direction [ 0 -1], directions already explored [array([ 0, -1]), array([0, 1])]\n",
      "found loop\n",
      "loop found at [np.int64(118), np.int64(89)] by going direction [ 0 -1], directions already explored [array([ 0, -1])]\n",
      "found loop\n",
      "loop found at [np.int64(108), np.int64(56)] by going direction [-1  0], directions already explored [array([-1,  0])]\n",
      "found loop\n",
      "loop found at [np.int64(124), np.int64(73)] by going direction [ 0 -1], directions already explored [array([ 0, -1])]\n",
      "found loop\n",
      "loop found at [np.int64(94), np.int64(63)] by going direction [ 0 -1], directions already explored [array([ 0, -1])]\n",
      "found loop\n",
      "loop found at [np.int64(115), np.int64(74)] by going direction [1 0], directions already explored [array([1, 0])]\n",
      "found loop\n",
      "loop found at [np.int64(124), np.int64(73)] by going direction [ 0 -1], directions already explored [array([ 0, -1])]\n",
      "found loop\n",
      "loop found at [np.int64(115), np.int64(74)] by going direction [1 0], directions already explored [array([1, 0])]\n",
      "found loop\n",
      "loop found at [np.int64(126), np.int64(79)] by going direction [ 0 -1], directions already explored [array([ 0, -1]), array([0, 1])]\n",
      "found loop\n",
      "loop found at [np.int64(115), np.int64(74)] by going direction [1 0], directions already explored [array([1, 0])]\n",
      "found loop\n",
      "loop found at [np.int64(117), np.int64(68)] by going direction [-1  0], directions already explored [array([-1,  0])]\n",
      "found loop\n",
      "loop found at [np.int64(124), np.int64(73)] by going direction [ 0 -1], directions already explored [array([ 0, -1])]\n",
      "found loop\n",
      "loop found at [np.int64(88), np.int64(56)] by going direction [1 0], directions already explored [array([1, 0])]\n",
      "found loop\n"
     ]
    },
    {
     "name": "stderr",
     "output_type": "stream",
     "text": [
      "130it [04:14,  1.96s/it]"
     ]
    },
    {
     "name": "stdout",
     "output_type": "stream",
     "text": [
      "1516\n"
     ]
    },
    {
     "name": "stderr",
     "output_type": "stream",
     "text": [
      "\n"
     ]
    }
   ],
   "source": [
    "map = []\n",
    "with open('Day06_input.txt') as f:\n",
    "     for row,line in enumerate(f):\n",
    "        line = line.replace(\"\\n\",\"\")\n",
    "        map.append(line)\n",
    "        if '^' in line: \n",
    "            guard = (row,line.find('^'))\n",
    "\n",
    "it_loops =0\n",
    "for n_row,row in tqdm(enumerate(map)):\n",
    "    for n_col,char in enumerate(row):\n",
    "        if char==\".\":\n",
    "            new_map =map[:n_row] + [update_pos(map[n_row], n_col, '#')] + map[n_row+1:]\n",
    "            does_it, final_map =does_it_loop(new_map, np.array(guard))\n",
    "            # if does_it:\n",
    "            #     print(\"found loop\") \n",
    "            it_loops+=does_it\n",
    "\n",
    "print(it_loops)"
   ]
  }
 ],
 "metadata": {
  "kernelspec": {
   "display_name": "srp-wp3",
   "language": "python",
   "name": "python3"
  },
  "language_info": {
   "codemirror_mode": {
    "name": "ipython",
    "version": 3
   },
   "file_extension": ".py",
   "mimetype": "text/x-python",
   "name": "python",
   "nbconvert_exporter": "python",
   "pygments_lexer": "ipython3",
   "version": "3.10.4"
  }
 },
 "nbformat": 4,
 "nbformat_minor": 5
}
