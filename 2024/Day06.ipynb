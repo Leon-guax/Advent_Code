{
 "cells": [
  {
   "cell_type": "code",
   "execution_count": null,
   "id": "54fcebad",
   "metadata": {},
   "outputs": [],
   "source": [
    "import numpy as np\n",
    "from tqdm import tqdm"
   ]
  },
  {
   "cell_type": "markdown",
   "id": "2a3267a0",
   "metadata": {},
   "source": [
    "## Part 1"
   ]
  },
  {
   "cell_type": "code",
   "execution_count": null,
   "id": "b2d15a82",
   "metadata": {},
   "outputs": [],
   "source": [
    "def in_map(pos, size):\n",
    "    return pos[0]>=0 and pos[0]<size[0] and pos[1] >=0 and pos[1] <size[1]\n",
    "\n",
    "def change_direction(direction):\n",
    "    return (direction+1)%4\n",
    "\n",
    "def update_pos(line, pos, new_char):\n",
    "    return line[:pos] + new_char + line[pos+1:]"
   ]
  },
  {
   "cell_type": "code",
   "execution_count": null,
   "id": "43aac672",
   "metadata": {},
   "outputs": [],
   "source": [
    "def add_path(map, guard):\n",
    "    steps = [np.array([-1,0]),\n",
    "             np.array([0, 1]),\n",
    "             np.array([ 1,0]),\n",
    "             np.array([0,-1])\n",
    "             ]\n",
    "    size =[len(map), len(map[0])]\n",
    "    step_type = 0\n",
    "    while in_map(guard, size):\n",
    "        direction =steps[step_type%4]\n",
    "        y,x = guard + direction\n",
    "        if not in_map([y,x],size):\n",
    "            return map\n",
    "        while map[y][x] == '#':\n",
    "            step_type = change_direction(step_type)\n",
    "            direction = steps[step_type]\n",
    "            y,x = guard + direction\n",
    "        guard += direction\n",
    "        new_line = new_line = update_pos(map[y], x, \"X\")\n",
    "        map[y]= new_line\n",
    "        \n",
    "    return map \n",
    "             "
   ]
  },
  {
   "cell_type": "code",
   "execution_count": null,
   "id": "ad83c05c",
   "metadata": {
    "scrolled": true
   },
   "outputs": [],
   "source": [
    "map = []\n",
    "with open('Day06_input.txt') as f:\n",
    "     for row,line in enumerate(f):\n",
    "        line = line.replace(\"\\n\",\"\")\n",
    "        map.append(line)\n",
    "        if '^' in line: \n",
    "            guard = (row,line.find('^'))\n",
    "            print(f\"guard found at {guard}\")\n",
    "\n",
    "new_map =add_path(np.array(map), np.array(guard))\n",
    "\n",
    "total = sum([line.count(\"X\") for line in new_map])\n",
    "#must count initial point as well, so +1\n",
    "print(total+1)\n",
    "\n"
   ]
  },
  {
   "cell_type": "markdown",
   "id": "19d01ba0",
   "metadata": {},
   "source": [
    "## Part 2"
   ]
  },
  {
   "cell_type": "code",
   "execution_count": null,
   "id": "3bc4d9cc",
   "metadata": {},
   "outputs": [],
   "source": [
    "def does_it_loop(map, guard):\n",
    "    steps = [np.array([-1,0]),\n",
    "             np.array([0, 1]),\n",
    "             np.array([ 1,0]),\n",
    "             np.array([0,-1])\n",
    "             ]\n",
    "    size =[len(map), len(map[0])]\n",
    "    map_direction =[[ [] for y in range(size[0])] for x in range(size[1])]\n",
    "    step_type = 0\n",
    "    while in_map(guard, size):\n",
    "        direction =steps[step_type]\n",
    "        y,x = guard + direction\n",
    "        if not in_map([y,x],size):\n",
    "            return 0, map\n",
    "        while map[y][x] == '#':\n",
    "            step_type=change_direction(step_type)\n",
    "            direction = steps[step_type]\n",
    "            y,x = guard + direction\n",
    "        guard += direction\n",
    "        #print(guard,steps[change_direction(step_type)],  map_direction[y][x])\n",
    "        if step_type in map_direction[y][x] :\n",
    "            # print(f\"loop found at {[y,x]} by going direction {steps[step_type]}, directions already explored {[steps[ old] for old in map_direction[y][x]]}\")\n",
    "            return 1, map\n",
    "        else:\n",
    "            map_direction[y][x].append(step_type)\n",
    "        new_line = update_pos(map[y], x, \"X\")\n",
    "        map[y]= new_line\n",
    "        "
   ]
  },
  {
   "cell_type": "code",
   "execution_count": null,
   "id": "51db71d6",
   "metadata": {},
   "outputs": [],
   "source": [
    "map = []\n",
    "with open('Day06_input.txt') as f:\n",
    "     for row,line in enumerate(f):\n",
    "        line = line.replace(\"\\n\",\"\")\n",
    "        map.append(line)\n",
    "        if '^' in line: \n",
    "            guard = (row,line.find('^'))\n",
    "\n",
    "it_loops =0\n",
    "for n_row,row in tqdm(enumerate(map)):\n",
    "    for n_col,char in enumerate(row):\n",
    "        if char==\".\":\n",
    "            new_map =map[:n_row] + [update_pos(map[n_row], n_col, '#')] + map[n_row+1:]\n",
    "            does_it, final_map =does_it_loop(new_map, np.array(guard))\n",
    "            # if does_it:\n",
    "            #     print(\"found loop\") \n",
    "            it_loops+=does_it\n",
    "\n",
    "print(it_loops)"
   ]
  }
 ],
 "metadata": {
  "kernelspec": {
   "display_name": "srp-wp3",
   "language": "python",
   "name": "python3"
  },
  "language_info": {
   "codemirror_mode": {
    "name": "ipython",
    "version": 3
   },
   "file_extension": ".py",
   "mimetype": "text/x-python",
   "name": "python",
   "nbconvert_exporter": "python",
   "pygments_lexer": "ipython3",
   "version": "3.10.4"
  }
 },
 "nbformat": 4,
 "nbformat_minor": 5
}
