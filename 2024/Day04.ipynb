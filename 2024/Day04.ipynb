{
 "cells": [
  {
   "cell_type": "markdown",
   "id": "2a3267a0",
   "metadata": {},
   "source": [
    "## Part 1"
   ]
  },
  {
   "cell_type": "code",
   "execution_count": null,
   "id": "96fdd25d",
   "metadata": {},
   "outputs": [],
   "source": [
    "def search_XMAS(map, X_co):\n",
    "    XMAS_found =0\n",
    "    Xy = X_co[0]\n",
    "    Xx = X_co[1]\n",
    "    steps = [-1,0,1]\n",
    "    directions = [[x,y] for x in steps for y in steps]\n",
    "    directions.remove([0,0])\n",
    "    XMAS = \"XMAS\"\n",
    "\n",
    "    for yx in directions:\n",
    "        y =yx[0]\n",
    "        x= yx[1]\n",
    "        for l in range(len(XMAS)):\n",
    "            if map[Xy +l*y][Xx + l*x]!=XMAS[l]:\n",
    "                break\n",
    "            if l==len(XMAS)-1:\n",
    "                XMAS_found +=1\n",
    "           \n",
    "    return XMAS_found"
   ]
  },
  {
   "cell_type": "code",
   "execution_count": null,
   "id": "ad83c05c",
   "metadata": {
    "scrolled": true
   },
   "outputs": [],
   "source": [
    "map = []\n",
    "X_pos = []\n",
    "size = 140\n",
    "n_rows = size\n",
    "n_cols = size\n",
    "\n",
    "# add 3 layers of padding around the map\n",
    "map.append('.'*(size+6))\n",
    "map.append('.'*(size+6))\n",
    "map.append('.'*(size+6))\n",
    "with open('Day04_input.txt') as f:\n",
    "     for row,line in enumerate(f):\n",
    "        line = \"...\"+line.replace(\"\\n\",\"\")+\"...\"\n",
    "        map.append(line)\n",
    "        # saves all the X positions\n",
    "        # remember of padding when saving the row\n",
    "        [X_pos.append((row+3, x)) for x, v in enumerate(line) if v == 'X' ]\n",
    "map.append('.'*(size+6))\n",
    "map.append('.'*(size+6))\n",
    "map.append('.'*(size+6))\n",
    "\n",
    "XMAS_tot = 0\n",
    "for X in X_pos:\n",
    "        XMAS_tot+= search_XMAS(map, X)\n",
    "        \n",
    "print(XMAS_tot)"
   ]
  },
  {
   "cell_type": "markdown",
   "id": "19d01ba0",
   "metadata": {},
   "source": [
    "## Part 2"
   ]
  },
  {
   "cell_type": "code",
   "execution_count": null,
   "id": "21b2dadc",
   "metadata": {},
   "outputs": [],
   "source": [
    "from collections import Counter\n",
    "\n",
    "\n",
    "def search_X_MAS(map, A_co):\n",
    "    Ay = A_co[0]\n",
    "    Ax = A_co[1]\n",
    "    check_x = Counter()\n",
    "    neighbours = [[y,x] for x in [-1, 1] for y in [-1,1]]\n",
    "    \n",
    "    for neigh in neighbours:\n",
    "        check_x[map[Ay+neigh[0]][Ax+neigh[1]]] +=1\n",
    "    \n",
    "    # the last condition is to avoid SAS-MAM crosses\n",
    "    if check_x['S'] ==2 and check_x['M'] ==2 and (map[Ay+1][Ax+1] != map[Ay-1][Ax-1]):\n",
    "        return 1\n",
    "    else:\n",
    "        return 0"
   ]
  },
  {
   "cell_type": "code",
   "execution_count": null,
   "id": "d5f1cb4d",
   "metadata": {},
   "outputs": [],
   "source": [
    "map = []\n",
    "A_pos = []\n",
    "size = 140\n",
    "n_rows = size\n",
    "n_cols = size\n",
    "map.append('.'*(size+6))\n",
    "map.append('.'*(size+6))\n",
    "map.append('.'*(size+6))\n",
    "with open('Day04_input.txt') as f:\n",
    "     for row,line in enumerate(f):\n",
    "        line = \"...\"+line.replace(\"\\n\",\"\")+\"...\"\n",
    "        map.append(line)\n",
    "        [A_pos.append((row+3, x)) for x, v in enumerate(line) if v == 'A' ]\n",
    "map.append('.'*(size+6))\n",
    "map.append('.'*(size+6))\n",
    "map.append('.'*(size+6))\n",
    "\n",
    "for line in map:\n",
    "        print(line)\n",
    "\n",
    "print(A_pos)\n",
    "X_MAS_tot = 0\n",
    "for A in A_pos:\n",
    "        X_MAS_tot+=  search_X_MAS(map, A)\n",
    "        print('\\n')\n",
    "        \n",
    "print(X_MAS_tot)"
   ]
  }
 ],
 "metadata": {
  "kernelspec": {
   "display_name": "Python 3",
   "language": "python",
   "name": "python3"
  },
  "language_info": {
   "codemirror_mode": {
    "name": "ipython",
    "version": 3
   },
   "file_extension": ".py",
   "mimetype": "text/x-python",
   "name": "python",
   "nbconvert_exporter": "python",
   "pygments_lexer": "ipython3",
   "version": "3.11.0rc1"
  }
 },
 "nbformat": 4,
 "nbformat_minor": 5
}
