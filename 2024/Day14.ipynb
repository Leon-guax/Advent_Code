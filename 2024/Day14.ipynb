{
 "cells": [
  {
   "cell_type": "code",
   "execution_count": 65,
   "id": "80edb153",
   "metadata": {},
   "outputs": [],
   "source": [
    "import numpy as np\n",
    "from tqdm import tqdm"
   ]
  },
  {
   "cell_type": "markdown",
   "id": "53a418e0",
   "metadata": {},
   "source": [
    "# Part 1"
   ]
  },
  {
   "cell_type": "code",
   "execution_count": 87,
   "id": "6df6c530",
   "metadata": {},
   "outputs": [],
   "source": [
    "class Robot():\n",
    "    size = np.array([101, 103])\n",
    "    half_size = np.array([50, 51])\n",
    "    top_left =0\n",
    "    top_right = 0\n",
    "    bot_left = 0\n",
    "    bot_right = 0\n",
    "    def __init__(self,pos, vel):\n",
    "        self.pos_org = np.array(pos)\n",
    "        self.pos = np.array(pos)\n",
    "        self.vel = np.array(vel)\n",
    "        \n",
    "    def do_steps(self, steps=1, verbose = False):\n",
    "        self.pos = (self.pos + self.vel*steps)%self.size\n",
    "        verbose and print(f\"org pos ={self.pos_org}, org_fin = {self.pos}\")\n",
    "        \n",
    "    def check_pos(self, cls, verbose = False):\n",
    "        # right half\n",
    "        if self.pos[0] > cls.half_size[0]:\n",
    "            #bottom half\n",
    "            if self.pos[1] > cls.half_size[1]:\n",
    "                cls.bot_right +=1\n",
    "                verbose and print(f\"{self.pos} ->bot_right\")\n",
    "            # top half\n",
    "            elif self.pos[1] < cls.half_size[1]:\n",
    "                cls.top_right+=1\n",
    "                verbose and print(f\"{self.pos} ->top_right\")\n",
    "        # left half        \n",
    "        elif self.pos[0] < cls.half_size[0]:\n",
    "            #bottom half\n",
    "            if self.pos[1] > cls.half_size[1]:\n",
    "                cls.bot_left +=1\n",
    "                verbose and print(f\"{self.pos} ->bot_left\")\n",
    "            # top half\n",
    "            elif self.pos[1] < cls.half_size[1]:\n",
    "                cls.top_left+=1\n",
    "                verbose and print(f\"{self.pos} ->top_left\")\n",
    "            \n",
    "    def quadrants_prod(cls):\n",
    "        print(f\"top_right ={cls.top_right}\")\n",
    "        print(f\"bot_right ={cls.bot_right}\")\n",
    "        print(f\"top_left ={cls.top_left}\")\n",
    "        print(f\"bot_left ={cls.bot_left}\")\n",
    "        return cls.top_right*cls.bot_right*cls.top_left*cls.bot_left"
   ]
  },
  {
   "cell_type": "code",
   "execution_count": 88,
   "id": "fda8ff5a",
   "metadata": {},
   "outputs": [
    {
     "name": "stdout",
     "output_type": "stream",
     "text": [
      "top_right =118\n",
      "bot_right =124\n",
      "top_left =132\n",
      "bot_left =119\n",
      "229839456\n"
     ]
    }
   ],
   "source": [
    "\n",
    "with open(\"Day14_input.txt\", 'r') as f:\n",
    "    for line in f:\n",
    "        pv = line.split(' ')\n",
    "        p = [int(a) for a in pv[0][2:].split(',')]\n",
    "        v = [int(a) for a in pv[1][2:].split(',')]\n",
    "        robot = Robot(p,v)\n",
    "        robot.do_steps(100, verbose = False)\n",
    "        robot.check_pos(Robot, verbose = False)\n",
    "               \n",
    "                \n",
    "print(robot.quadrants_prod())"
   ]
  },
  {
   "cell_type": "markdown",
   "id": "b7b76144",
   "metadata": {},
   "source": [
    "# Part 2"
   ]
  },
  {
   "cell_type": "code",
   "execution_count": 89,
   "id": "3c87a5b7",
   "metadata": {},
   "outputs": [],
   "source": [
    "def plot_on_map(background, dot):\n",
    "    background[dot] =\"O\"\n",
    "    return background"
   ]
  },
  {
   "cell_type": "code",
   "execution_count": 90,
   "id": "a48534ab",
   "metadata": {},
   "outputs": [
    {
     "name": "stderr",
     "output_type": "stream",
     "text": [
      "100%|██████████| 5/5 [00:00<00:00, 83.57it/s]\n"
     ]
    }
   ],
   "source": [
    "robot_list = []\n",
    "with open(\"Day14_input.txt\", 'r') as f:\n",
    "    for line in f:\n",
    "        pv = line.split(' ')\n",
    "        p = [int(a) for a in pv[0][2:].split(',')]\n",
    "        v = [int(a) for a in pv[1][2:].split(',')]\n",
    "        robot_list.append( Robot(p,v))\n",
    "        \n",
    "# after a visual inspection of the patterns, one can eventually find a number in which patterns align\n",
    "# initial steps help reduce the file size\n",
    "initial_steps = 0 \n",
    "for rob in robot_list:\n",
    "    rob.do_steps(initial_steps)\n",
    "        \n",
    "with open(\"christmas_tree.txt\", \"w\") as f:\n",
    "    for idx in tqdm(range(initial_steps, initial_steps+5)):\n",
    "        background = np.full(Robot.size, ' ', dtype=str)\n",
    "        f.write(f\"{'-'*110} {idx})\\n\")\n",
    "        \n",
    "        for rob in robot_list:\n",
    "            background = plot_on_map(background, tuple(rob.pos))\n",
    "            rob.do_steps()\n",
    "        \n",
    "        for row in background:\n",
    "            \n",
    "            f.write(\"\".join(map(str, row)) + \"\\n\")\n",
    "        f.write(\"\\n\\n\\n\")   "
   ]
  },
  {
   "cell_type": "code",
   "execution_count": null,
   "id": "ec9cedee",
   "metadata": {},
   "outputs": [],
   "source": [
    "hor_pattern = []\n",
    "ver_pattern = []\n",
    "# which is the smallest value appearing in both lists? doesn't need to be in the same position.\n",
    "# that's the answer!"
   ]
  }
 ],
 "metadata": {
  "kernelspec": {
   "display_name": "Python 3 (ipykernel)",
   "language": "python",
   "name": "python3"
  },
  "language_info": {
   "codemirror_mode": {
    "name": "ipython",
    "version": 3
   },
   "file_extension": ".py",
   "mimetype": "text/x-python",
   "name": "python",
   "nbconvert_exporter": "python",
   "pygments_lexer": "ipython3",
   "version": "3.9.7"
  }
 },
 "nbformat": 4,
 "nbformat_minor": 5
}
