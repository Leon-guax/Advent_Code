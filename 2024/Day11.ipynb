{
 "cells": [
  {
   "cell_type": "code",
   "execution_count": 1,
   "id": "898d04b1",
   "metadata": {},
   "outputs": [],
   "source": [
    "from collections import Counter\n",
    "from tqdm import tqdm"
   ]
  },
  {
   "cell_type": "code",
   "execution_count": 2,
   "id": "465c4c96",
   "metadata": {},
   "outputs": [],
   "source": [
    "def blink(stones):\n",
    "    new_counter = Counter()\n",
    "    for stone in stones:\n",
    "        occurrences = stones[stone]\n",
    "        if stone =='0':\n",
    "            new_counter['1']+= occurrences\n",
    "            continue\n",
    "        if not len(stone)%2:\n",
    "            new_counter[stone[:len(stone)//2]]+= occurrences\n",
    "            right_half = stone[len(stone)//2:].lstrip('0')\n",
    "            if right_half =='':\n",
    "                right_half = '0'\n",
    "            new_counter[right_half]+= occurrences\n",
    "            continue\n",
    "        new_counter[str(int(stone)*2024)]+= occurrences\n",
    "    return new_counter"
   ]
  },
  {
   "cell_type": "code",
   "execution_count": null,
   "id": "ad83c05c",
   "metadata": {
    "scrolled": true
   },
   "outputs": [],
   "source": [
    "with open('Day11_input.txt') as f:\n",
    "    stones =f.readline().split()\n",
    "\n",
    "stones=Counter(stones)\n",
    "for idx in tqdm(range(75)):\n",
    "    stones = blink(stones)\n",
    "    if idx == 24 or idx == 74:\n",
    "        print(f\"{idx}) {sum(Counter(stones).values())} \")\n"
   ]
  }
 ],
 "metadata": {
  "kernelspec": {
   "display_name": "srp-wp3",
   "language": "python",
   "name": "python3"
  },
  "language_info": {
   "codemirror_mode": {
    "name": "ipython",
    "version": 3
   },
   "file_extension": ".py",
   "mimetype": "text/x-python",
   "name": "python",
   "nbconvert_exporter": "python",
   "pygments_lexer": "ipython3",
   "version": "3.10.4"
  }
 },
 "nbformat": 4,
 "nbformat_minor": 5
}
