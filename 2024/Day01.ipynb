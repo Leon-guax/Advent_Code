{
 "cells": [
  {
   "cell_type": "code",
   "execution_count": null,
   "id": "e95e6fab",
   "metadata": {},
   "outputs": [],
   "source": [
    "import numpy as np\n",
    "from collections import Counter"
   ]
  },
  {
   "cell_type": "markdown",
   "id": "2a3267a0",
   "metadata": {},
   "source": [
    "## Part 1"
   ]
  },
  {
   "cell_type": "code",
   "execution_count": null,
   "id": "ad83c05c",
   "metadata": {
    "scrolled": true
   },
   "outputs": [],
   "source": [
    "list_loc = []\n",
    "list_dist = []\n",
    "count_dist = Counter()\n",
    "with open('Day01_input.txt') as f:\n",
    "     for line in f:\n",
    "        list_loc.append(int(line.split()[0]))\n",
    "        list_dist.append(int(line.split()[1]))\n",
    "        count_dist[list_dist[-1]] +=1\n",
    "\n",
    "list_loc = np.array(list_loc)\n",
    "list_dist= np.array(list_dist)\n",
    "list_loc = np.sort(list_loc)\n",
    "list_dist = np.sort(list_dist)\n",
    "\n",
    "print(abs((list_loc - list_dist)).sum())"
   ]
  },
  {
   "cell_type": "markdown",
   "id": "19d01ba0",
   "metadata": {},
   "source": [
    "## Part 2"
   ]
  },
  {
   "cell_type": "code",
   "execution_count": null,
   "id": "21b2dadc",
   "metadata": {},
   "outputs": [],
   "source": [
    "w_sum = 0\n",
    "for loc, dist in zip(list_loc, list_dist):\n",
    "    new_add = loc*count_dist[loc]\n",
    "    w_sum += new_add\n",
    "\n",
    "print(w_sum)"
   ]
  }
 ],
 "metadata": {
  "kernelspec": {
   "display_name": "Python 3 (ipykernel)",
   "language": "python",
   "name": "python3"
  },
  "language_info": {
   "codemirror_mode": {
    "name": "ipython",
    "version": 3
   },
   "file_extension": ".py",
   "mimetype": "text/x-python",
   "name": "python",
   "nbconvert_exporter": "python",
   "pygments_lexer": "ipython3",
   "version": "3.9.7"
  }
 },
 "nbformat": 4,
 "nbformat_minor": 5
}
