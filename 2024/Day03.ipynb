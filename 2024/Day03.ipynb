{
 "cells": [
  {
   "cell_type": "markdown",
   "id": "2a3267a0",
   "metadata": {},
   "source": [
    "## Part 1"
   ]
  },
  {
   "cell_type": "code",
   "execution_count": null,
   "id": "0b36879b",
   "metadata": {},
   "outputs": [],
   "source": [
    "def within_three(a, b):\n",
    "    return abs(a-b) <=3\n",
    "\n",
    "def process_line(line):\n",
    "    line_sum =0\n",
    "    mul_positions = [i for i in range(len(line)) if line.startswith('mul(', i)]\n",
    "    for mul in mul_positions:\n",
    "        next_comma = line[mul:].find(',') -4\n",
    "        next_close = line[mul:].find(')') - next_comma -4\n",
    "        \n",
    "        first_block =line[mul+4:mul+4 +next_comma]\n",
    "        second_block =line[mul +4 +next_comma+1: mul+4 +next_comma+ next_close]\n",
    "        if next_comma<=4 and next_close<=4 and first_block.isdigit() and second_block.isdigit():\n",
    "            line_sum += int(first_block)*int(second_block)\n",
    "    \n",
    "    return line_sum\n",
    "    \n",
    "    \n",
    "test_line = \"xmul(2,4)&mul[3,7]!^don't()_mul(5,5)+mul(32,64](mul(11,8)undo()?mul(8,5))\"\n",
    "\n",
    "print(process_line(test_line))"
   ]
  },
  {
   "cell_type": "code",
   "execution_count": null,
   "id": "ad83c05c",
   "metadata": {
    "scrolled": true
   },
   "outputs": [],
   "source": [
    "line_sum = 0\n",
    "with open('Day03_input.txt') as f:\n",
    "     for line in f:\n",
    "        line_sum +=process_line(line)\n",
    "\n",
    "print(line_sum)"
   ]
  },
  {
   "cell_type": "markdown",
   "id": "19d01ba0",
   "metadata": {},
   "source": [
    "## Part 2"
   ]
  },
  {
   "cell_type": "code",
   "execution_count": null,
   "id": "c1b0d58d",
   "metadata": {},
   "outputs": [],
   "source": [
    "def remove_chunks(line):\n",
    "    \n",
    "    first_dont = line.find(\"don't()\")\n",
    "    while first_dont >0:\n",
    "        next_do =line[first_dont:].find(\"do()\")+ first_dont\n",
    "        if next_do < first_dont:\n",
    "            next_do = len(line)\n",
    "        line = line[:first_dont] + line[next_do:]\n",
    "        first_dont = line.find(\"don't()\")\n",
    "    return line\n",
    "\n",
    "test_line2 = \"xmul(2,4)&mul[3,7]!^don't()_mul(5,5)+mul(32,64](mul(11,8)undo()?mul(8,5))___xmul(2,4)&mul[3,7]!^don't()_mul(5,5)+mul(32,64](mul(11,8)undo()?mul(8,5))don't()mul(1,2)\"\n",
    "\n",
    "print(remove_chunks(test_line2))\n"
   ]
  },
  {
   "cell_type": "code",
   "execution_count": null,
   "id": "d01a7b5f",
   "metadata": {},
   "outputs": [],
   "source": [
    "import re\n",
    "def remove_chunks_re(line):\n",
    "    first_dont = re.search(\"don\\'t\\(\\)\", line)\n",
    "    if first_dont:\n",
    "        first_dont = first_dont.start()\n",
    "    else:\n",
    "        first_dont = -1\n",
    "    while first_dont >0:\n",
    "        next_do =re.search(\"do\\(\\)\",line[first_dont:])\n",
    "        if next_do:\n",
    "            next_do = next_do.start()\n",
    "        else:\n",
    "            next_do = len(line)\n",
    "        line = line[:first_dont] + line[first_dont +next_do:]\n",
    "        first_dont = re.search(\"don\\'t\\(\\)\", line)\n",
    "        if first_dont:\n",
    "            first_dont = first_dont.start()\n",
    "        else:\n",
    "            first_dont = -1\n",
    "    return line\n",
    "\n",
    "test_line2 = \"xmul(2,4)&mul[3,7]!^don't()_mul(5,5)+mul(32,64](mul(11,8)undo()?mul(8,5))___xmul(2,4)&mul[3,7]!^don't()_mul(5,5)+mul(32,64](mul(11,8)undo()?mul(8,5))don't()mul(1,2)\"\n",
    "\n",
    "outcome_re = remove_chunks_re(test_line2)\n",
    "print(outcome_re)\n",
    "print(process_line(outcome_re))\n",
    "\n",
    "test_line2 = \"xmul(2,4)&mul[3,7]!^don't()_mul(5,5)+mul(32,64](mul(11,8)undo()?mul(8,5))___xmul(2,4)&mul[3,7]!^don't()_mul(5,5)+mul(32,64](mul(11,8)undo()?mul(8,5))don't()mul(1,2)\"\n",
    "outcome =remove_chunks(test_line2)\n",
    "print(outcome)\n",
    "print(process_line(outcome))\n",
    "\n",
    "\n"
   ]
  },
  {
   "cell_type": "code",
   "execution_count": null,
   "id": "21b2dadc",
   "metadata": {},
   "outputs": [],
   "source": [
    "\n",
    "content =\"\"\n",
    "with open('Day03_input.txt') as f:\n",
    "     for line in f:\n",
    "        content +=line\n",
    "content = remove_chunks_re(content)\n",
    "line_sum =process_line(content)\n",
    "\n",
    "print(line_sum)"
   ]
  }
 ],
 "metadata": {
  "kernelspec": {
   "display_name": "Python 3",
   "language": "python",
   "name": "python3"
  },
  "language_info": {
   "codemirror_mode": {
    "name": "ipython",
    "version": 3
   },
   "file_extension": ".py",
   "mimetype": "text/x-python",
   "name": "python",
   "nbconvert_exporter": "python",
   "pygments_lexer": "ipython3",
   "version": "3.11.0rc1"
  }
 },
 "nbformat": 4,
 "nbformat_minor": 5
}
