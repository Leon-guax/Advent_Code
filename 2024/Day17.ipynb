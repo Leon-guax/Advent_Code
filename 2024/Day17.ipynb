{
 "cells": [
  {
   "cell_type": "markdown",
   "id": "2a3267a0",
   "metadata": {},
   "source": [
    "## Part 1"
   ]
  },
  {
   "cell_type": "code",
   "execution_count": null,
   "id": "2d5d9ca0",
   "metadata": {},
   "outputs": [],
   "source": [
    "def combo_operand(instruction, A, B, C):\n",
    "    if instruction <=3:\n",
    "        return instruction\n",
    "    if instruction ==4:\n",
    "        return A\n",
    "    if instruction ==5:\n",
    "        return B\n",
    "    if instruction ==6:\n",
    "        return C\n",
    "    if instruction ==7:\n",
    "        raise ValueError(\"Error, 7 found as instruction\")"
   ]
  },
  {
   "cell_type": "code",
   "execution_count": null,
   "id": "ffd55a07",
   "metadata": {},
   "outputs": [],
   "source": [
    "def instruction(opcode, l_operand, A, B, C, instr_ptr):\n",
    "    output = -1\n",
    "    instr_ptr +=2\n",
    "    c_operand = combo_operand(l_operand, A, B, C)\n",
    "    match opcode:\n",
    "        case 0: #adv A= A// (2**combo_operand)\n",
    "            A = A>>c_operand\n",
    "            \n",
    "        case 1: #bxl  B=B XOR (operand)\n",
    "            B = B^l_operand\n",
    "        \n",
    "        case 2: #bst  B = (operand)%8\n",
    "            B = c_operand%8\n",
    "        \n",
    "        case 3: #jnz  if A==0 nothing, else instruction value (=3) =literal(operand). if instruction jumps, instruction pointer is not increased by 2 after this instruction\n",
    "            if A ==0:\n",
    "                pass\n",
    "            else:\n",
    "                instr_ptr = l_operand\n",
    "        \n",
    "        case 4: #bxc  B = B XOR C. (ignores operand)\n",
    "            B = B^C\n",
    "        \n",
    "        case 5: # out  (combo operand)%8, then outputs it. if multiple values, joined through commas\n",
    "            output=c_operand%8\n",
    "            #print(f\"output = {output}\")\n",
    "        \n",
    "        case 6: # bdv B=A// (2**combo_operand)\n",
    "            B = A>>c_operand\n",
    "        \n",
    "        case 7: #cdv C= A// (2**combo_operand)\n",
    "            C = A>>c_operand\n",
    "        \n",
    "    return A, B, C, output, instr_ptr\n",
    "        "
   ]
  },
  {
   "cell_type": "code",
   "execution_count": null,
   "id": "ad83c05c",
   "metadata": {
    "scrolled": true
   },
   "outputs": [],
   "source": [
    "with open('Day17_input.txt') as f:\n",
    "    lines = [line.strip() for line in f if line.strip()]\n",
    "    registers = {line.split()[1][:-1]: int(line.split(\":\")[1]) for line in lines if \"Register\" in line}\n",
    "    program = [int(x) for x in lines[-1].split(\":\")[1].split(\",\")]\n",
    "\n",
    "A = registers[\"A\"] \n",
    "B = registers[\"B\"]\n",
    "C = registers[\"C\"]\n",
    "\n",
    "print(A, B, C, program)\n",
    "final_output =[]\n",
    "\n",
    "instr_ptr = 0\n",
    "while instr_ptr <=len(program)-1:\n",
    "    A, B, C, output, instr_ptr = instruction(opcode=program[instr_ptr], \n",
    "                                             l_operand= program[instr_ptr+1],\n",
    "                                             A=A, B=B, C=C, \n",
    "                                             instr_ptr=instr_ptr)\n",
    "    if output>=0:\n",
    "        final_output.append(output)\n",
    "\n",
    "print(final_output)"
   ]
  },
  {
   "cell_type": "markdown",
   "id": "19d01ba0",
   "metadata": {},
   "source": [
    "## Part 2"
   ]
  },
  {
   "cell_type": "code",
   "execution_count": null,
   "id": "a2077a9b",
   "metadata": {},
   "outputs": [],
   "source": [
    "def find_A_out(A_fin, exp_B2):\n",
    "    A_out_list =[]\n",
    "    # Iterate over possible values of A_out\n",
    "    for k in range(8):\n",
    "        # Find the 8 possible generators of A_fin\n",
    "        A_out = A_fin * 8 + k\n",
    "                        \n",
    "        # Calculate B2\n",
    "        B2 = (k ^ 3) ^ (A_out >> (k^5))%8\n",
    "\n",
    "        # Check if B2 matches exp_B2\n",
    "        if B2 == exp_B2:\n",
    "            # consider all solutions! Multiple might be correct, and some lead to nowhere\n",
    "            A_out_list.append(A_out)\n",
    "    return A_out_list"
   ]
  },
  {
   "cell_type": "code",
   "execution_count": null,
   "id": "e4f355b9",
   "metadata": {},
   "outputs": [],
   "source": [
    "with open('Day17_input.txt') as f:\n",
    "    program = [int(x) for x in lines[-1].split(\":\")[1].split(\",\")]\n",
    "\n",
    "\n",
    "A_list = [0]\n",
    "for val in program[::-1]:\n",
    "    new_A_list = []\n",
    "    for a in A_list: \n",
    "        new_A_list.extend(find_A_out(a, val))\n",
    "    A_list = new_A_list[:]\n",
    "print(min(A_list))"
   ]
  }
 ],
 "metadata": {
  "kernelspec": {
   "display_name": "srp-wp3",
   "language": "python",
   "name": "python3"
  },
  "language_info": {
   "codemirror_mode": {
    "name": "ipython",
    "version": 3
   },
   "file_extension": ".py",
   "mimetype": "text/x-python",
   "name": "python",
   "nbconvert_exporter": "python",
   "pygments_lexer": "ipython3",
   "version": "3.10.4"
  }
 },
 "nbformat": 4,
 "nbformat_minor": 5
}
