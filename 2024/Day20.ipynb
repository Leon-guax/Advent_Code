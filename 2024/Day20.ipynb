{
 "cells": [
  {
   "cell_type": "code",
   "execution_count": 1,
   "id": "e95e6fab",
   "metadata": {},
   "outputs": [],
   "source": [
    "import networkx as nx\n",
    "import numpy as np\n",
    "from tqdm import tqdm\n",
    "from collections import deque"
   ]
  },
  {
   "cell_type": "markdown",
   "id": "2a3267a0",
   "metadata": {},
   "source": [
    "## Part 1"
   ]
  },
  {
   "cell_type": "code",
   "execution_count": 2,
   "id": "36e1be2e",
   "metadata": {},
   "outputs": [],
   "source": [
    "def distance_from_source(G, source, max_dist = 0):\n",
    "    \n",
    "    # BFS queue: stores (node, distance_from_source)\n",
    "    queue = deque([(source, 0)])\n",
    "    visited = set()\n",
    "    visited.add(source)\n",
    "    path_from_source =[]\n",
    "    while queue:\n",
    "        current, distance = queue.popleft()\n",
    "                \n",
    "        # Explore neighbors\n",
    "        for neighbor in G.neighbors(current):\n",
    "            if neighbor not in visited:\n",
    "                visited.add(neighbor)\n",
    "                # Only continue if the distance won't exceed L\n",
    "                queue.append((neighbor, distance + 1))\n",
    "                path_from_source.append(((neighbor[0], neighbor[1]), distance+1))  \n",
    "                if max_dist >0 and distance>= max_dist:\n",
    "                    return path_from_source  \n",
    "    # If we exhaust the queue without finding a valid path\n",
    "    return path_from_source"
   ]
  },
  {
   "cell_type": "code",
   "execution_count": null,
   "id": "ad83c05c",
   "metadata": {
    "scrolled": true
   },
   "outputs": [],
   "source": [
    "size = 141\n",
    "file = \"Day20_input.txt\"\n",
    "max_cheat = 20\n",
    "cost_difference_threshold = 100\n",
    "\n",
    "G = nx.grid_2d_graph(size, size)\n",
    "tiles_map = []\n",
    "with open(file) as f:\n",
    "     for row, line in enumerate(f):\n",
    "        tiles_map.append([char for char in line.strip()])\n",
    "        for col, tile in enumerate(line.strip()):\n",
    "            node = (row, col)\n",
    "            if tile =='#':\n",
    "                G.remove_node(node)\n",
    "            elif tile == 'S':\n",
    "                start = (node)\n",
    "            elif tile == \"E\":\n",
    "                exit = (node)\n",
    "        \n",
    "tiles_map = np.array(tiles_map)\n",
    "\n",
    "path_from_source = distance_from_source(G, start)\n",
    "path_from_source.insert(0, (start, 0))\n",
    "print(\"Without cheating:\", path_from_source[0], path_from_source[-1])"
   ]
  },
  {
   "cell_type": "code",
   "execution_count": null,
   "id": "427da824",
   "metadata": {},
   "outputs": [],
   "source": [
    "#We can hardcode part 1 for two horizontal or vertical steps\n",
    "\n",
    "# Initialize the counter for valid pairs\n",
    "valid_pairs = []\n",
    "\n",
    "coord_to_cost = {coords: cost for coords, cost in path_from_source}\n",
    "\n",
    "# Iterate over each element in the list\n",
    "for (y, x), cost in path_from_source:\n",
    "    # Check horizontal (x direction) and vertical (y direction) neighbors at distance 2\n",
    "    for dy, dx in [(-2, 0), (2, 0), (0, -2), (0, 2)]:\n",
    "        neighbor = (y + dy, x + dx)\n",
    "        \n",
    "        # Check if the neighbor exists in the dictionary\n",
    "        if neighbor in coord_to_cost:\n",
    "            ncost = coord_to_cost[neighbor]\n",
    "            \n",
    "            # Check if the cost difference is at least 102\n",
    "            if ncost - cost >= cost_difference_threshold+2:\n",
    "                valid_pairs.append(((y, x), cost, neighbor, ncost))\n",
    "\n",
    "print(len(valid_pairs))"
   ]
  },
  {
   "cell_type": "markdown",
   "id": "19d01ba0",
   "metadata": {},
   "source": [
    "## Part 2"
   ]
  },
  {
   "cell_type": "code",
   "execution_count": null,
   "id": "147c772f",
   "metadata": {},
   "outputs": [],
   "source": [
    "# Initialize the counter for valid pairs\n",
    "valid_pairs = []\n",
    "\n",
    "coord_to_cost = {coords: cost for coords, cost in path_from_source}\n",
    "\n",
    "# Iterate over each element in the list\n",
    "for (y, x), cost in path_from_source:\n",
    "    # Check horizontal (x direction) and vertical (y direction) neighbors at distance max 20\n",
    "    for dy in range(-max_cheat, max_cheat + 1):\n",
    "            for dx in range(-max_cheat+abs(dy), max_cheat-abs(dy) + 1):\n",
    "                if (dy != 0 or dx != 0):  # Ensure we're not checking the point itself\n",
    "                    neighbor = (y + dy, x + dx)\n",
    "\n",
    "        \n",
    "                # Check if the neighbor exists in the dictionary\n",
    "                if neighbor in coord_to_cost:\n",
    "                    ncost = coord_to_cost[neighbor]\n",
    "                    \n",
    "                    # Check if the cost difference is at least 102\n",
    "                    if ncost - cost >= cost_difference_threshold+abs(dx) +abs(dy):\n",
    "                        valid_pairs.append(([(y, x), cost], [neighbor, ncost], ncost-cost - abs(dx)-abs(dy)))\n",
    "\n",
    "print(len(valid_pairs))"
   ]
  }
 ],
 "metadata": {
  "kernelspec": {
   "display_name": "adv-code-8yLoED5C-py3.10",
   "language": "python",
   "name": "python3"
  },
  "language_info": {
   "codemirror_mode": {
    "name": "ipython",
    "version": 3
   },
   "file_extension": ".py",
   "mimetype": "text/x-python",
   "name": "python",
   "nbconvert_exporter": "python",
   "pygments_lexer": "ipython3",
   "version": "3.10.12"
  }
 },
 "nbformat": 4,
 "nbformat_minor": 5
}
