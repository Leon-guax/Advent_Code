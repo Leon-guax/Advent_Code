{
 "cells": [
  {
   "cell_type": "code",
   "execution_count": null,
   "id": "191b0a57",
   "metadata": {},
   "outputs": [],
   "source": [
    "def check_heights(block):\n",
    "    heights = []   \n",
    "    for i in range(5):\n",
    "        for j in range(1,7):\n",
    "            if block[j][i] != block[0][0]:\n",
    "                heights.append(j-1)\n",
    "                break\n",
    "    return heights            "
   ]
  },
  {
   "cell_type": "code",
   "execution_count": null,
   "id": "b77012e6",
   "metadata": {},
   "outputs": [],
   "source": [
    "list_keys =[]\n",
    "list_locks =[]\n",
    "\n",
    "new_block = []\n",
    "with open(\"Day25_input.txt\", 'r') as f:\n",
    "    for idx, line in enumerate(f):\n",
    "        if line.strip() ==\"\":\n",
    "            if is_lock:\n",
    "                list_locks.append(check_heights(new_block))\n",
    "            else:\n",
    "                list_keys.append(check_heights(new_block))\n",
    "            new_block = []\n",
    "            continue\n",
    "        \n",
    "        if not idx%8: # index 0, 8, 16,...\n",
    "            is_lock = line[0]==\"#\"\n",
    "                \n",
    "        new_block.append(line.strip())\n",
    "\n",
    "if len(new_block)>0:\n",
    "    if is_lock:\n",
    "        list_locks.append(check_heights(new_block))\n",
    "    else:\n",
    "        list_keys.append(check_heights(new_block))\n",
    "        \n",
    "num_comb = 0\n",
    "\n",
    "for k, key in enumerate(list_keys):\n",
    "    for l, lock in enumerate(list_locks):\n",
    "        if all(a <= b for a, b in zip(lock, key)):\n",
    "            num_comb +=1\n",
    "            \n",
    "print(num_comb)"
   ]
  }
 ],
 "metadata": {
  "kernelspec": {
   "display_name": "Python 3 (ipykernel)",
   "language": "python",
   "name": "python3"
  },
  "language_info": {
   "codemirror_mode": {
    "name": "ipython",
    "version": 3
   },
   "file_extension": ".py",
   "mimetype": "text/x-python",
   "name": "python",
   "nbconvert_exporter": "python",
   "pygments_lexer": "ipython3",
   "version": "3.9.7"
  }
 },
 "nbformat": 4,
 "nbformat_minor": 5
}
