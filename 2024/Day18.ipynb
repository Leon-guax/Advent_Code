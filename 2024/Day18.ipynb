{
 "cells": [
  {
   "cell_type": "code",
   "execution_count": null,
   "id": "e95e6fab",
   "metadata": {},
   "outputs": [],
   "source": [
    "import networkx as nx"
   ]
  },
  {
   "cell_type": "markdown",
   "id": "2a3267a0",
   "metadata": {},
   "source": [
    "## Part 1"
   ]
  },
  {
   "cell_type": "code",
   "execution_count": null,
   "id": "ad83c05c",
   "metadata": {
    "scrolled": true
   },
   "outputs": [],
   "source": [
    "extra_bits = []\n",
    "size = 71\n",
    "G = nx.grid_2d_graph(size, size)\n",
    "\n",
    "with open('Day18_input.txt') as f:\n",
    "     for idx, line in enumerate(f):\n",
    "        coord = line.rstrip(\"\\n\").split(',')\n",
    "        coord = tuple([int(coord[0]), int(coord[1])])\n",
    "        if idx<1024:\n",
    "            G.remove_node(coord)\n",
    "        else:\n",
    "            extra_bits.append(coord)\n",
    "        \n",
    "start = tuple([0,0])\n",
    "exit = tuple([70,70])\n",
    "\n",
    "\n",
    "try:\n",
    "    shortest_path = nx.shortest_path(G, source=start, target=exit)\n",
    "    print(\"Path length:\", len(shortest_path) - 1)\n",
    "except nx.NetworkXNoPath:\n",
    "    print(\"No path found from (0, 0) to (70, 70).\")\n"
   ]
  },
  {
   "cell_type": "markdown",
   "id": "19d01ba0",
   "metadata": {},
   "source": [
    "## Part 2"
   ]
  },
  {
   "cell_type": "code",
   "execution_count": null,
   "id": "b1cf136e",
   "metadata": {},
   "outputs": [],
   "source": [
    "extra_bits = []\n",
    "size = 71\n",
    "G = nx.grid_2d_graph(size, size)\n",
    "start = tuple([0,0])\n",
    "exit = tuple([70,70])\n",
    "\n",
    "with open('Day18_input.txt') as f:\n",
    "     for idx, line in enumerate(f):\n",
    "        coord = line.rstrip(\"\\n\").split(',')\n",
    "        coord = tuple([int(coord[0]), int(coord[1])])\n",
    "        G.remove_node(coord)\n",
    "        if idx >=1024:\n",
    "            if not nx.has_path(G, source = start, target = exit):\n",
    "                print(f\"For coord {coord} at idx {idx} no path found\")\n",
    "                break"
   ]
  },
  {
   "cell_type": "code",
   "execution_count": null,
   "id": "b36d0f8a",
   "metadata": {},
   "outputs": [],
   "source": []
  }
 ],
 "metadata": {
  "kernelspec": {
   "display_name": "adv-code-8yLoED5C-py3.10",
   "language": "python",
   "name": "python3"
  },
  "language_info": {
   "codemirror_mode": {
    "name": "ipython",
    "version": 3
   },
   "file_extension": ".py",
   "mimetype": "text/x-python",
   "name": "python",
   "nbconvert_exporter": "python",
   "pygments_lexer": "ipython3",
   "version": "3.10.12"
  }
 },
 "nbformat": 4,
 "nbformat_minor": 5
}
