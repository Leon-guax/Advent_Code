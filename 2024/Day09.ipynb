{
 "cells": [
  {
   "cell_type": "markdown",
   "id": "2a3267a0",
   "metadata": {},
   "source": [
    "## Part 1"
   ]
  },
  {
   "cell_type": "code",
   "execution_count": null,
   "id": "04b78e08",
   "metadata": {},
   "outputs": [],
   "source": [
    "def pos_sum(list_coll):\n",
    "    checksum =0\n",
    "    for idx, val in enumerate(list_coll):\n",
    "        if isinstance(val, int):\n",
    "            checksum +=idx*val\n",
    "    return checksum"
   ]
  },
  {
   "cell_type": "code",
   "execution_count": null,
   "id": "68d171c2",
   "metadata": {},
   "outputs": [],
   "source": [
    "def collapse_list(list_ext):\n",
    "    idx_in = 0\n",
    "    idx_fin = len(list_ext)-1\n",
    "    \n",
    "    while idx_in < idx_fin:\n",
    "        if list_ext[idx_in] != '.':\n",
    "            idx_in +=1\n",
    "            continue\n",
    "        if list_ext[idx_fin] == '.':\n",
    "            idx_fin -=1\n",
    "            continue\n",
    "        list_ext[idx_in]=list_ext[idx_fin]\n",
    "        list_ext[idx_fin] = '.'\n",
    "    \n",
    "    return list_ext"
   ]
  },
  {
   "cell_type": "code",
   "execution_count": null,
   "id": "ad83c05c",
   "metadata": {
    "scrolled": true
   },
   "outputs": [],
   "source": [
    "with open('Day09_input.txt') as f:\n",
    "    list_compr =f.readline()\n",
    "\n",
    "list_ext = []\n",
    "ids = 0\n",
    "for idx,nr in enumerate(list_compr):\n",
    "    # even\n",
    "    if not idx%2:\n",
    "        list_ext.extend([ids]*int(nr))\n",
    "        ids +=1\n",
    "    else:\n",
    "        list_ext.extend(['.']*int(nr))\n",
    "\n",
    "\n",
    "list_coll =collapse_list(list_ext)\n",
    "print(pos_sum(list_coll))"
   ]
  },
  {
   "cell_type": "markdown",
   "id": "19d01ba0",
   "metadata": {},
   "source": [
    "## Part 2"
   ]
  },
  {
   "cell_type": "code",
   "execution_count": null,
   "id": "db2bebe8",
   "metadata": {},
   "outputs": [],
   "source": [
    "class Block():\n",
    "    def __init__(self, val, size):\n",
    "        self.val = val\n",
    "        self.size = int(size)\n",
    "        \n",
    "    def __repr__(self):\n",
    "        return str(self.val)*int(self.size)\n",
    "\n",
    "def swap(a,b):\n",
    "    return b,a\n",
    "\n",
    "def unravel(block):\n",
    "    return [block.val]*int(block.size) if isinstance(block.val, int) else [0]*block.size\n",
    "\n",
    "def pos_sum_block(unraveled_list):\n",
    "    checksum =0\n",
    "         \n",
    "    for idx, val in enumerate(unraveled_list):\n",
    "        if isinstance(val, int):\n",
    "            checksum +=idx*val\n",
    "    return checksum"
   ]
  },
  {
   "cell_type": "code",
   "execution_count": null,
   "id": "c3600582",
   "metadata": {},
   "outputs": [],
   "source": [
    "def collapse_list_2(list_block, verbose = False):\n",
    "    idx_in = 0\n",
    "    idx_fin = len(list_block)-1\n",
    "    \n",
    "    # I want to prioritize\n",
    "    while idx_fin > 0:\n",
    "        if verbose:\n",
    "            print(f\"{list_block}, {idx_in} --> {list_block[idx_in]},  {idx_fin} --> {list_block[idx_fin]}\")\n",
    "        # if we go too right with idx_in, we must restart\n",
    "        if idx_in >idx_fin:\n",
    "            idx_in =0\n",
    "            idx_fin -=1\n",
    "            continue\n",
    "        \n",
    "        if isinstance(list_block[idx_in].val, int):\n",
    "            idx_in +=1\n",
    "            continue\n",
    "        if not isinstance(list_block[idx_fin].val, int) or list_block[idx_fin].size ==0:\n",
    "            idx_fin -=1\n",
    "            continue\n",
    "        \n",
    "        size_diff = list_block[idx_in].size - list_block[idx_fin].size\n",
    "\n",
    "        # if block does not fit\n",
    "        if size_diff <0:\n",
    "            idx_in+=1\n",
    "\n",
    "        # if blocks fit perfectly\n",
    "        if size_diff == 0:\n",
    "            # it they are the same size, just swap them\n",
    "            list_block[idx_in].val, list_block[idx_fin].val = swap(list_block[idx_in].val, list_block[idx_fin].val)\n",
    "            idx_in =0\n",
    "        \n",
    "        # if initial block is bigger\n",
    "        if size_diff >0:\n",
    "            new_block = Block(val=list_block[idx_fin].val, size = list_block[idx_fin].size)\n",
    "            new_block_res = Block(val='.', size=size_diff)\n",
    "            \n",
    "            # move block at the end at the beginning, with different size\n",
    "            list_block[idx_in] = new_block\n",
    "            # replace fin block with dots block of same length\n",
    "            list_block[idx_fin ].val = '.'\n",
    "            # add in between smaller block with dots\n",
    "            list_block = list_block[:idx_in+1] + [new_block_res] + list_block[idx_in+1:]\n",
    "            idx_in = 0\n",
    "        \n",
    "            \n",
    "    return list_block"
   ]
  },
  {
   "cell_type": "code",
   "execution_count": null,
   "id": "21b2dadc",
   "metadata": {},
   "outputs": [],
   "source": [
    "with open('Day09_input.txt') as f:\n",
    "    list_compr =f.readline()\n",
    "    \n",
    "list_block = []\n",
    "ids = 0\n",
    "for idx,nr in enumerate(list_compr):\n",
    "    # even\n",
    "    if not idx%2:\n",
    "        list_block.append(Block(idx//2, int(nr)))\n",
    "        ids +=1\n",
    "    else:\n",
    "        list_block.append(Block('.', int(nr)))\n",
    "\n",
    "list_coll =collapse_list_2(list_block, verbose=False)\n",
    "\n",
    "unraveled_list = []\n",
    "for block in list_coll:\n",
    "    unraveled_list.extend(unravel(block))\n",
    "\n",
    "print(pos_sum_block(unraveled_list))"
   ]
  },
  {
   "cell_type": "code",
   "execution_count": null,
   "id": "959c46ec",
   "metadata": {},
   "outputs": [],
   "source": []
  }
 ],
 "metadata": {
  "kernelspec": {
   "display_name": "srp-wp3",
   "language": "python",
   "name": "python3"
  },
  "language_info": {
   "codemirror_mode": {
    "name": "ipython",
    "version": 3
   },
   "file_extension": ".py",
   "mimetype": "text/x-python",
   "name": "python",
   "nbconvert_exporter": "python",
   "pygments_lexer": "ipython3",
   "version": "3.10.4"
  }
 },
 "nbformat": 4,
 "nbformat_minor": 5
}
