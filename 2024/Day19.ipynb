{
 "cells": [
  {
   "cell_type": "code",
   "execution_count": 9,
   "id": "e95e6fab",
   "metadata": {},
   "outputs": [],
   "source": [
    "from tqdm import tqdm"
   ]
  },
  {
   "cell_type": "markdown",
   "id": "2a3267a0",
   "metadata": {},
   "source": [
    "## Part 1"
   ]
  },
  {
   "cell_type": "code",
   "execution_count": 11,
   "id": "b192eca2",
   "metadata": {},
   "outputs": [],
   "source": [
    "def is_towel_obtainable(towel, pats, verbose):\n",
    "    memo = {}\n",
    "    \n",
    "    def backtrack(start):\n",
    "        if start == len(towel):\n",
    "            return True\n",
    "        if start in memo:\n",
    "            return memo[start]\n",
    "        \n",
    "        for pat in pats:\n",
    "            if towel[start:start + len(pat)] == pat:\n",
    "                if backtrack(start + len(pat)):\n",
    "                    memo[start] = True\n",
    "                    return True\n",
    "        \n",
    "        memo[start] = False\n",
    "        return False\n",
    "    \n",
    "    return backtrack(0)"
   ]
  },
  {
   "cell_type": "code",
   "execution_count": 58,
   "id": "e9827671",
   "metadata": {},
   "outputs": [],
   "source": [
    "def is_towel_obtainable_greedy(towel, pats, verbose):\n",
    "    \n",
    "    temp_t = towel[:]\n",
    "    \n",
    "    \n",
    "    patterns_present =[pat for pat in pats if pat in towel]\n",
    "    \n",
    "    starting_pat = 0\n",
    "    # once we remove all the 'w' parts, we know we are done\n",
    "    while not all(l == \" \" for l in temp_t):\n",
    "        \n",
    "        # if I still have 'w' and I considered all(?) possible patterns\n",
    "        if starting_pat ==len(patterns_present):\n",
    "            verbose and print(f\"towel {towel} not obtainable\")\n",
    "            return False\n",
    "        \n",
    "        pat_n = starting_pat\n",
    "        # searching in the patterns [starting_pat:]\n",
    "        while pat_n <len(patterns_present):\n",
    "            verbose and print(f\"starting pat = {starting_pat}, pat_n = {pat_n}, temp_t = {temp_t}\")\n",
    "            # look for substring\n",
    "            pat = patterns_present[pat_n]\n",
    "            idx =temp_t.find(pat)\n",
    "            # if I find it, I remove it and put a \" \", so the left and right sides stay disconnected\n",
    "            if idx >=0:\n",
    "                temp_t=temp_t[:idx] + \" \" + temp_t[idx + len(pat):]\n",
    "            else:\n",
    "                pat_n +=1\n",
    "            if all(l == \" \" for l in temp_t):\n",
    "                verbose and print(f\"towel {towel} obtainable\")\n",
    "                return True\n",
    "                \n",
    "        temp_t =towel[:]       \n",
    "        starting_pat +=1\n",
    "        "
   ]
  },
  {
   "cell_type": "code",
   "execution_count": null,
   "id": "ad83c05c",
   "metadata": {
    "scrolled": true
   },
   "outputs": [],
   "source": [
    "\n",
    "list_tow = []\n",
    "with open('Day19_input.txt') as f:\n",
    "     for idx, line in enumerate(f):\n",
    "        if idx ==0:\n",
    "            list_pat =line.strip().split(\", \")\n",
    "            # sort longest pattern to shortest\n",
    "            list_pat.sort(key=len, reverse=True)\n",
    "        elif idx >=2:\n",
    "            list_tow.append(line.strip())\n",
    "\n",
    "# removing all long patterns without w, since we have unlimited g, b, r, u        \n",
    "list_pat = [pat for pat in  list_pat if (len(pat)==1 or 'w' in pat)]\n",
    "\n",
    "print(list_pat)\n",
    "n_possible_towel = 0\n",
    "for towel in tqdm(list_tow):\n",
    "    is_obtainable = is_towel_obtainable(towel, list_pat, verbose = False)\n",
    "    n_possible_towel += is_obtainable\n",
    "    \n",
    "print(n_possible_towel)"
   ]
  },
  {
   "cell_type": "markdown",
   "id": "19d01ba0",
   "metadata": {},
   "source": [
    "## Part 2"
   ]
  },
  {
   "cell_type": "code",
   "execution_count": 49,
   "id": "21b2dadc",
   "metadata": {},
   "outputs": [],
   "source": [
    "## NOT WORKING\n",
    "def how_many_combinations(towel, pats, verbose):\n",
    "    # memo = {}\n",
    "    n_combinations = 0\n",
    "    \n",
    "    def backtrack(start, n_combinations):\n",
    "        if start == len(towel):\n",
    "            n_combinations +=1\n",
    "            return True, n_combinations\n",
    "        \n",
    "        # if start in memo:\n",
    "        #     return memo[start]\n",
    "        \n",
    "        for pat in pats:\n",
    "            if towel[start:start + len(pat)] == pat:\n",
    "                TF, n_comb = backtrack(start \n",
    "                                       + len(pat), n_combinations)\n",
    "                if TF:\n",
    "                    # memo[start] = True\n",
    "                    return True, n_comb\n",
    "        \n",
    "        # memo[start] = False\n",
    "        if start ==0:\n",
    "            return False, n_combinations\n",
    "        return False, n_combinations\n",
    "    #print(n_combinations)\n",
    "    return backtrack(0, n_combinations)"
   ]
  },
  {
   "cell_type": "code",
   "execution_count": null,
   "id": "3f839010",
   "metadata": {},
   "outputs": [],
   "source": [
    "\n",
    "list_tow = []\n",
    "with open('Day19_input.txt') as f:\n",
    "     for idx, line in enumerate(f):\n",
    "        if idx ==0:\n",
    "            list_pat =line.strip().split(\", \")\n",
    "            # sort longest pattern to shortest\n",
    "            list_pat.sort(key=len, reverse=True)\n",
    "        elif idx >=2:\n",
    "            list_tow.append(line.strip())\n",
    "\n",
    "\n",
    "print(list_pat)\n",
    "n_possible_towel = 0\n",
    "for towel in tqdm(list_tow):\n",
    "    combinations = how_many_combinations(towel, list_pat, verbose = False)\n",
    "    print(combinations)\n",
    "    n_possible_towel += combinations[1]\n",
    "        \n",
    "print(n_possible_towel)"
   ]
  }
 ],
 "metadata": {
  "kernelspec": {
   "display_name": "adv-code-8yLoED5C-py3.10",
   "language": "python",
   "name": "python3"
  },
  "language_info": {
   "codemirror_mode": {
    "name": "ipython",
    "version": 3
   },
   "file_extension": ".py",
   "mimetype": "text/x-python",
   "name": "python",
   "nbconvert_exporter": "python",
   "pygments_lexer": "ipython3",
   "version": "3.10.12"
  }
 },
 "nbformat": 4,
 "nbformat_minor": 5
}
