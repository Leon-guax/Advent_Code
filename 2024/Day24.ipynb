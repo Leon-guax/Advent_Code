{
 "cells": [
  {
   "cell_type": "code",
   "execution_count": null,
   "id": "63868b1d",
   "metadata": {},
   "outputs": [],
   "source": [
    "import re"
   ]
  },
  {
   "cell_type": "markdown",
   "id": "b448a799",
   "metadata": {},
   "source": [
    "## Part 1"
   ]
  },
  {
   "cell_type": "code",
   "execution_count": null,
   "id": "4d280fd9",
   "metadata": {},
   "outputs": [],
   "source": [
    "def logical_and(a, b):\n",
    "    return int(a and b)\n",
    "\n",
    "def logical_or(a, b):\n",
    "    return int(a or b)\n",
    "\n",
    "def logical_xor(a, b):\n",
    "    return int(a != b)\n",
    "\n",
    "def translate_logic_operator(operator):\n",
    "    if operator == \"AND\":\n",
    "        return logical_and\n",
    "    elif operator == \"OR\":\n",
    "        return logical_or\n",
    "    elif operator == \"XOR\":\n",
    "        return logical_xor\n"
   ]
  },
  {
   "cell_type": "code",
   "execution_count": null,
   "id": "27b6c164",
   "metadata": {},
   "outputs": [],
   "source": [
    "def get_ordered_values(wires_dict, prefix='z', digits=2):\n",
    "    # Compile the regex for keys matching the pattern\n",
    "    pattern = re.compile(f'{prefix}(\\\\d{{{digits}}})')  # Capture numeric part of the key\n",
    "    # Filter keys that match the pattern\n",
    "    filtered_keys = [key for key in wires_dict if pattern.fullmatch(key)]\n",
    "    # Sort keys based on the numeric part, in descending order\n",
    "    sorted_keys = sorted(filtered_keys, key=lambda k: int(pattern.match(k).group(1)), reverse=True)\n",
    "    # Retrieve and return values\n",
    "    return [int(wires_dict[key]) for key in sorted_keys]"
   ]
  },
  {
   "cell_type": "code",
   "execution_count": null,
   "id": "72bb95b6",
   "metadata": {},
   "outputs": [],
   "source": [
    "original_info = True\n",
    "wires_dict = {}\n",
    "pending_list = []\n",
    "\n",
    "with open(\"Day24_input.txt\" , \"r\") as f:\n",
    "    for line in f:\n",
    "        if line.strip() ==\"\":\n",
    "            original_info = False\n",
    "            continue\n",
    "            \n",
    "        if original_info:\n",
    "            line = line.strip().split(\": \")\n",
    "            wires_dict[line[0]] = int(line[1])\n",
    "        else:\n",
    "            line = line.strip().split(\" \")\n",
    "            pending_list.append([line[0], line[1], line[2], line[4]])\n",
    "            \n",
    "# process the pending_check lines            \n",
    "index = 0\n",
    "while pending_list:\n",
    "    pending_check = pending_list[index]\n",
    "    if pending_check[0] in wires_dict and pending_check[2] in wires_dict:\n",
    "        # pending_check[1] is the logic operator\n",
    "        operator = translate_logic_operator(pending_check[1])\n",
    "        logic_output = operator(wires_dict[pending_check[0]], wires_dict[pending_check[2]])\n",
    "        wires_dict[pending_check[3]] = logic_output\n",
    "\n",
    "        pending_list.pop(index)\n",
    "    else:\n",
    "        index +=1    \n",
    "    if index >= len(pending_list):\n",
    "        index = 0"
   ]
  },
  {
   "cell_type": "code",
   "execution_count": null,
   "id": "4813526d",
   "metadata": {},
   "outputs": [],
   "source": [
    "z_list_max_to_0 = get_ordered_values(wires_dict)\n",
    "\n",
    "count = 0\n",
    "for pow in z_list_max_to_0:\n",
    "    count=2*count + pow    \n",
    "    \n",
    "print(count)\n"
   ]
  },
  {
   "cell_type": "markdown",
   "id": "639f8d1b",
   "metadata": {},
   "source": [
    "## Part 2"
   ]
  },
  {
   "cell_type": "code",
   "execution_count": null,
   "id": "13032a0d",
   "metadata": {},
   "outputs": [],
   "source": []
  }
 ],
 "metadata": {
  "kernelspec": {
   "display_name": "Python 3 (ipykernel)",
   "language": "python",
   "name": "python3"
  },
  "language_info": {
   "codemirror_mode": {
    "name": "ipython",
    "version": 3
   },
   "file_extension": ".py",
   "mimetype": "text/x-python",
   "name": "python",
   "nbconvert_exporter": "python",
   "pygments_lexer": "ipython3",
   "version": "3.9.7"
  }
 },
 "nbformat": 4,
 "nbformat_minor": 5
}
