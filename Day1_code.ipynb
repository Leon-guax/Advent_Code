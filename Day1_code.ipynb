{
 "cells": [
  {
   "cell_type": "code",
   "execution_count": 29,
   "id": "1de1223a",
   "metadata": {},
   "outputs": [
    {
     "name": "stdout",
     "output_type": "stream",
     "text": [
      "1548\n",
      "1589\n"
     ]
    }
   ],
   "source": [
    "data = []\n",
    "with open('Day1_input.txt') as f:\n",
    "     for line in f:\n",
    "        data.append([int(v) for v in line.split()]) \n",
    "\n",
    "data_diff =[ data[idx+1][0] - data[idx][0] for idx in range(0, len(data)-1) ]\n",
    "pos_count_single = len(list(filter(lambda x: (x > 0), data_diff)))\n",
    "print(pos_count_single)\n",
    "\n",
    "\n",
    "diff_triplet = [ data[idx+3][0] - data[idx][0] for idx in range(0, len(data)-3) ]\n",
    "pos_count_triplets = len(list(filter(lambda x: (x > 0), diff_triplet)))\n",
    "print(pos_count_triplets)"
   ]
  },
  {
   "cell_type": "code",
   "execution_count": null,
   "id": "7dca41e6",
   "metadata": {},
   "outputs": [],
   "source": []
  }
 ],
 "metadata": {
  "kernelspec": {
   "display_name": "Python 3 (ipykernel)",
   "language": "python",
   "name": "python3"
  },
  "language_info": {
   "codemirror_mode": {
    "name": "ipython",
    "version": 3
   },
   "file_extension": ".py",
   "mimetype": "text/x-python",
   "name": "python",
   "nbconvert_exporter": "python",
   "pygments_lexer": "ipython3",
   "version": "3.9.7"
  }
 },
 "nbformat": 4,
 "nbformat_minor": 5
}
