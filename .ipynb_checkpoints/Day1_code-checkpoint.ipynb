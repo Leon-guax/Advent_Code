{
 "cells": [
  {
   "cell_type": "code",
   "execution_count": 26,
   "id": "f9d22186",
   "metadata": {},
   "outputs": [
    {
     "name": "stdout",
     "output_type": "stream",
     "text": [
      "1548\n"
     ]
    }
   ],
   "source": [
    "data = []\n",
    "with open('Day1_input.txt') as f:\n",
    "     for line in f:\n",
    "        data.append([int(v) for v in line.split()]) \n",
    "\n",
    "data_diff =[ data[idx+1][0] - data[idx][0] for idx in range(0, len(data)-1) ]\n",
    "pos_count_single = len(list(filter(lambda x: (x > 0), data_diff)))\n",
    "print(pos_count_single)\n",
    "\n",
    "\n",
    "triplets_sum = [ data[idx][0] + data[idx+1][0] +data[idx+2][0] for idx in range(0, len(data)-2) ]"
   ]
  },
  {
   "cell_type": "code",
   "execution_count": null,
   "id": "f362e65b",
   "metadata": {},
   "outputs": [],
   "source": []
  }
 ],
 "metadata": {
  "kernelspec": {
   "display_name": "Python 3 (ipykernel)",
   "language": "python",
   "name": "python3"
  },
  "language_info": {
   "codemirror_mode": {
    "name": "ipython",
    "version": 3
   },
   "file_extension": ".py",
   "mimetype": "text/x-python",
   "name": "python",
   "nbconvert_exporter": "python",
   "pygments_lexer": "ipython3",
   "version": "3.9.7"
  }
 },
 "nbformat": 4,
 "nbformat_minor": 5
}
