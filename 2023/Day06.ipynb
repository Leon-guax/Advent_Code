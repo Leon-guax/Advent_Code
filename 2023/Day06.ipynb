{
 "cells": [
  {
   "cell_type": "code",
   "execution_count": 1,
   "id": "17b8ab13",
   "metadata": {},
   "outputs": [],
   "source": [
    "def compute_how_many_speeds(min_dist, time):\n",
    "    good_speed = 0\n",
    "    for charging_time in range(time):\n",
    "        if charging_time*(time - charging_time) > min_dist:\n",
    "            good_speed = good_speed +1\n",
    "    return good_speed or 1"
   ]
  },
  {
   "cell_type": "markdown",
   "id": "fa203d7d",
   "metadata": {},
   "source": [
    "## Part 1"
   ]
  },
  {
   "cell_type": "code",
   "execution_count": 5,
   "id": "ad251a71",
   "metadata": {},
   "outputs": [
    {
     "name": "stdout",
     "output_type": "stream",
     "text": [
      "Time:        48     87     69     81\n",
      "\n",
      "Distance:   255   1288   1117   1623\n",
      "252000\n"
     ]
    }
   ],
   "source": [
    "how_many_speeds = 1\n",
    "time = []\n",
    "dist = []\n",
    "with open('Day6_input.txt') as f:\n",
    "    for idx,line in enumerate(f):\n",
    "        if idx == 0:\n",
    "            time = [int(x) for x in line.split()[1:]]\n",
    "        else:\n",
    "            dist = [int(x) for x in line.split()[1:]]\n",
    "            \n",
    "for min_dist, charging_time in zip(dist, time):\n",
    "    how_many_speeds = how_many_speeds * compute_how_many_speeds(min_dist, charging_time)\n",
    "\n",
    "print(how_many_speeds)"
   ]
  },
  {
   "cell_type": "markdown",
   "id": "d00855cb",
   "metadata": {},
   "source": [
    "## Part 2"
   ]
  },
  {
   "cell_type": "code",
   "execution_count": 9,
   "id": "1f717545",
   "metadata": {},
   "outputs": [
    {
     "name": "stdout",
     "output_type": "stream",
     "text": [
      "48876981 255128811171623\n",
      "36992486\n"
     ]
    }
   ],
   "source": [
    "with open('Day6_input.txt') as f:\n",
    "    for idx,line in enumerate(f):\n",
    "        if idx == 0:\n",
    "            time = int(line[11:].strip(' \\n').replace(' ','')) \n",
    "        else:\n",
    "            dist = int(line[11:].strip(' \\n').replace(' ',''))\n",
    "\n",
    "            \n",
    "print(time, dist)\n",
    "\n",
    "how_many_speeds = compute_how_many_speeds(dist, time)\n",
    "\n",
    "print(how_many_speeds)"
   ]
  },
  {
   "cell_type": "code",
   "execution_count": null,
   "id": "4c8426d2",
   "metadata": {},
   "outputs": [],
   "source": []
  }
 ],
 "metadata": {
  "kernelspec": {
   "display_name": "Python 3 (ipykernel)",
   "language": "python",
   "name": "python3"
  },
  "language_info": {
   "codemirror_mode": {
    "name": "ipython",
    "version": 3
   },
   "file_extension": ".py",
   "mimetype": "text/x-python",
   "name": "python",
   "nbconvert_exporter": "python",
   "pygments_lexer": "ipython3",
   "version": "3.11.4"
  }
 },
 "nbformat": 4,
 "nbformat_minor": 5
}
