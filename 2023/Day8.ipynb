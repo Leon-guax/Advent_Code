{
 "cells": [
  {
   "cell_type": "markdown",
   "id": "37240aea",
   "metadata": {},
   "source": [
    "## Part 1"
   ]
  },
  {
   "cell_type": "code",
   "execution_count": 4,
   "id": "33c8a258",
   "metadata": {},
   "outputs": [
    {
     "name": "stdout",
     "output_type": "stream",
     "text": [
      "24253\n"
     ]
    }
   ],
   "source": [
    "map_links = {}\n",
    "\n",
    "with open('Day8_input.txt') as f:\n",
    "    for idx,line in enumerate(f):\n",
    "        if idx == 0:\n",
    "            instructions = [int(direction == 'R') for direction in line.strip('\\n')] #creating list of 0 (L) and 1 (R)\n",
    "        elif idx >1: #creating dictionary with left and right direction\n",
    "            map_links[line[0:3]] = [line[7:10], line[12:15]]\n",
    "        else:\n",
    "            pass\n",
    "\n",
    "current_step = 'AAA'\n",
    "final_step = 'ZZZ'\n",
    "reached_ZZZ = False\n",
    "step_counter = 0\n",
    "n_instructions = len(instructions)\n",
    "\n",
    "while not reached_ZZZ: \n",
    "    # while not in ZZZ, we do the step, cycling on instructions (when we finish the moves)\n",
    "    current_step = map_links[current_step][instructions[step_counter % n_instructions]]\n",
    "    step_counter +=1\n",
    "    if current_step == 'ZZZ':\n",
    "        reached_ZZZ = True\n",
    "        \n",
    "print(step_counter)"
   ]
  },
  {
   "cell_type": "markdown",
   "id": "988aa14c",
   "metadata": {},
   "source": [
    "## Part 2"
   ]
  },
  {
   "cell_type": "code",
   "execution_count": 18,
   "id": "670a1c81",
   "metadata": {},
   "outputs": [
    {
     "name": "stdout",
     "output_type": "stream",
     "text": [
      "-1662009135\n"
     ]
    }
   ],
   "source": [
    "from numpy import lcm\n",
    "\n",
    "map_links = {}\n",
    "nodes_XXA = {}\n",
    "\n",
    "with open('Day8_input.txt') as f:\n",
    "    for idx,line in enumerate(f):\n",
    "        if idx == 0:\n",
    "            instructions = [int(direction == 'R') for direction in line.strip('\\n')]\n",
    "        elif idx >1:\n",
    "            map_links[line[0:3]] = [line[7:10], line[12:15]]\n",
    "            if line[2] == 'A': # make secondary list with all the XXA starting points\n",
    "                nodes_XXA[line[0:3]] = [line[7:10], line[12:15]]\n",
    "        else:\n",
    "            pass\n",
    "\n",
    "        \n",
    "current_step = 'AAA'\n",
    "final_step = 'ZZZ'\n",
    "\n",
    "step_counter = [0]*len(nodes_XXA)\n",
    "n_instructions = len(instructions)\n",
    "\n",
    "# loop on all the XXA starting points\n",
    "for idx, XXA in enumerate(nodes_XXA):\n",
    "    reached_ZZZ = False\n",
    "    current_step = XXA\n",
    "    while not reached_ZZZ:\n",
    "        # just compute the arrival numbers separately\n",
    "        current_step = map_links[current_step][instructions[step_counter[idx] % n_instructions]]\n",
    "        step_counter[idx] +=1\n",
    "        if current_step[2] == 'Z':\n",
    "            reached_ZZZ = True\n",
    "\n",
    "\n",
    "# try to apply lcm, though it's too big to handle\n",
    "print(lcm.reduce(step_counter))\n",
    "# lcm goes in overflow, I used https://www.calculatorsoup.com/calculators/math/lcm.php to computer the LCM\n"
   ]
  }
 ],
 "metadata": {
  "kernelspec": {
   "display_name": "Python 3 (ipykernel)",
   "language": "python",
   "name": "python3"
  },
  "language_info": {
   "codemirror_mode": {
    "name": "ipython",
    "version": 3
   },
   "file_extension": ".py",
   "mimetype": "text/x-python",
   "name": "python",
   "nbconvert_exporter": "python",
   "pygments_lexer": "ipython3",
   "version": "3.11.4"
  }
 },
 "nbformat": 4,
 "nbformat_minor": 5
}
