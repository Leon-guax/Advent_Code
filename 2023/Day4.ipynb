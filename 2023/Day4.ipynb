{
 "cells": [
  {
   "cell_type": "markdown",
   "id": "34e8c80b",
   "metadata": {},
   "source": [
    "## Part 1"
   ]
  },
  {
   "cell_type": "code",
   "execution_count": 1,
   "id": "e8caebb8",
   "metadata": {},
   "outputs": [],
   "source": [
    "import collections\n",
    "\n",
    "#returns the numbers of elements in common with the two lists, does not count multiplicity\n",
    "def count_winning_numbers(winning_numbers: list, card_numbers: list) -> int:\n",
    "    result = collections.Counter(winning_numbers) & collections.Counter(card_numbers)\n",
    "\n",
    "    return len(result)\n"
   ]
  },
  {
   "cell_type": "code",
   "execution_count": 2,
   "id": "85c78e63",
   "metadata": {},
   "outputs": [
    {
     "name": "stdout",
     "output_type": "stream",
     "text": [
      "22488\n"
     ]
    }
   ],
   "source": [
    "sum_points = 0\n",
    "\n",
    "with open('Day4_input.txt') as f:\n",
    "    for line in f:\n",
    "        n_winning_numbers = 0\n",
    "        # splits the line into the winning numbers and card numbers\n",
    "        winning_numbers, card_numbers = line[10:].split('|')\n",
    "        winning_numbers = winning_numbers.split()\n",
    "        card_numbers = card_numbers.split()\n",
    "        # counts elements in common\n",
    "        points = count_winning_numbers(winning_numbers, card_numbers)\n",
    "        if points >0:\n",
    "            sum_points = sum_points + pow(2, points-1)\n",
    "            \n",
    "print(sum_points)\n",
    "        "
   ]
  },
  {
   "cell_type": "markdown",
   "id": "65f8e4b7",
   "metadata": {},
   "source": [
    "## Part 2"
   ]
  },
  {
   "cell_type": "code",
   "execution_count": 4,
   "id": "4abf1dbf",
   "metadata": {},
   "outputs": [
    {
     "name": "stdout",
     "output_type": "stream",
     "text": [
      "7013204\n"
     ]
    }
   ],
   "source": [
    "# start with one card per row\n",
    "cards_multiplier = [1]*207\n",
    "\n",
    "with open('Day4_input.txt') as f:\n",
    "    for idx, line in enumerate(f):\n",
    "        n_winning_numbers = 0\n",
    "        # splits the line into the winning numbers and card numbers\n",
    "        winning_numbers, card_numbers = line[10:].split('|')\n",
    "        winning_numbers = winning_numbers.split()\n",
    "        card_numbers = card_numbers.split()\n",
    "        # checks number of winning values\n",
    "        scratches_results = count_winning_numbers(winning_numbers, card_numbers)\n",
    "        #adds to upcoming cards_multipliers the appropriate number of cards for the upcoming tickets\n",
    "        for jdx in range(idx+1, idx+ scratches_results+1):\n",
    "            cards_multiplier[jdx] = cards_multiplier[jdx] + cards_multiplier[idx]\n",
    "        \n",
    "\n",
    "print(sum(cards_multiplier))"
   ]
  },
  {
   "cell_type": "code",
   "execution_count": null,
   "id": "42afa10c",
   "metadata": {},
   "outputs": [],
   "source": []
  }
 ],
 "metadata": {
  "kernelspec": {
   "display_name": "Python 3 (ipykernel)",
   "language": "python",
   "name": "python3"
  },
  "language_info": {
   "codemirror_mode": {
    "name": "ipython",
    "version": 3
   },
   "file_extension": ".py",
   "mimetype": "text/x-python",
   "name": "python",
   "nbconvert_exporter": "python",
   "pygments_lexer": "ipython3",
   "version": "3.11.4"
  }
 },
 "nbformat": 4,
 "nbformat_minor": 5
}
