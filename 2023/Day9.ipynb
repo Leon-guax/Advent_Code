{
 "cells": [
  {
   "cell_type": "markdown",
   "id": "37240aea",
   "metadata": {},
   "source": [
    "## Part 1"
   ]
  },
  {
   "cell_type": "code",
   "execution_count": null,
   "id": "d9a2c5b3",
   "metadata": {},
   "outputs": [],
   "source": [
    "def all_equal(sequence):\n",
    "    return len(set(sequence)) <= 1"
   ]
  },
  {
   "cell_type": "code",
   "execution_count": null,
   "id": "b94908e9",
   "metadata": {},
   "outputs": [],
   "source": [
    "# given a sequence in a list, returns the next value that it would have following the cumulative arithmetic pattern\n",
    "def extrapolate_next_value(sequence: list):\n",
    "    sequences_list = [sequence]\n",
    "    temp_seq = []+sequence\n",
    "    n_layers = 0\n",
    "    \n",
    "    # save in sequences_list all the layers of the sequence, [0, 0, 0, 0...] excluded\n",
    "    while not all_equal(temp_seq):\n",
    "        n_layers +=1\n",
    "        temp_seq = [temp_seq[idx+1] - temp_seq [idx] for idx in range(len(temp_seq) -1) ]\n",
    "        sequences_list.append(temp_seq)\n",
    "\n",
    "    \n",
    "    # for every layer, adds one element, and if it's not the last layer it sums also the entirety of the layer below\n",
    "    for layer in range(n_layers, -1, -1):\n",
    "        sequences_list[layer].append(sequences_list[layer][0])\n",
    "        if layer != n_layers:\n",
    "            sequences_list[layer][-1] += sum(sequences_list[layer+1])\n",
    "\n",
    "    \n",
    "    return sequences_list[0][-1]"
   ]
  },
  {
   "cell_type": "code",
   "execution_count": null,
   "id": "33c8a258",
   "metadata": {},
   "outputs": [],
   "source": [
    "extrapolated_values = []\n",
    "\n",
    "with open('Day9_input.txt') as f:\n",
    "    for line in f:\n",
    "        extrapolated_values.append(extrapolate_next_value([int(idx) for idx in line.strip('\\n').split()]))\n",
    "        \n",
    "print(sum(extrapolated_values))"
   ]
  },
  {
   "cell_type": "markdown",
   "id": "988aa14c",
   "metadata": {},
   "source": [
    "## Part 2"
   ]
  },
  {
   "cell_type": "code",
   "execution_count": null,
   "id": "207d8809",
   "metadata": {},
   "outputs": [],
   "source": [
    "# given a sequence in a list, returns the element that would be on its left, following the cumulative arithmetic pattern\n",
    "def extrapolate_previous_value(sequence: list):\n",
    "    sequences_list = [sequence]\n",
    "    temp_seq = []+sequence\n",
    "    n_layers = 0\n",
    "    \n",
    "    # save in sequences_list all the layers of the sequence, [0, 0, 0, 0...] excluded\n",
    "    while not all_equal(temp_seq):\n",
    "        n_layers +=1\n",
    "        temp_seq = [temp_seq[idx+1] - temp_seq [idx] for idx in range(len(temp_seq) -1) ]\n",
    "        sequences_list.append(temp_seq)\n",
    "\n",
    "    # it is easier to work on a different list\n",
    "    previous_values = [0]*(n_layers+1)\n",
    "    \n",
    "    # to obtain previous_values[layer], we take the first element of that layer and subtract \n",
    "    # the previous_values of the layer below, if it's not the constant layer ()\n",
    "    for layer in range(n_layers, -1, -1):\n",
    "        previous_values[layer] = sequences_list[layer][0]\n",
    "        if layer != n_layers:\n",
    "            previous_values[layer] = sequences_list[layer][0] - previous_values[layer+1]\n",
    "    \n",
    "    return previous_values[0]"
   ]
  },
  {
   "cell_type": "code",
   "execution_count": null,
   "id": "670a1c81",
   "metadata": {},
   "outputs": [],
   "source": [
    "extrapolated_values = []\n",
    "\n",
    "with open('Day9_input.txt') as f:\n",
    "    for line in f:\n",
    "        extrapolated_values.append(extrapolate_previous_value([int(idx) for idx in line.strip('\\n').split()]))\n",
    "        \n",
    "print('final sum is ', sum(extrapolated_values))"
   ]
  }
 ],
 "metadata": {
  "kernelspec": {
   "display_name": "Python 3 (ipykernel)",
   "language": "python",
   "name": "python3"
  },
  "language_info": {
   "codemirror_mode": {
    "name": "ipython",
    "version": 3
   },
   "file_extension": ".py",
   "mimetype": "text/x-python",
   "name": "python",
   "nbconvert_exporter": "python",
   "pygments_lexer": "ipython3",
   "version": "3.11.4"
  }
 },
 "nbformat": 4,
 "nbformat_minor": 5
}
