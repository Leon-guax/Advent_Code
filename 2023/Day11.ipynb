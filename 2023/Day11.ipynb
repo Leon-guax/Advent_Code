{
 "cells": [
  {
   "cell_type": "markdown",
   "id": "37240aea",
   "metadata": {},
   "source": [
    "## Part 1"
   ]
  },
  {
   "cell_type": "code",
   "execution_count": 16,
   "id": "51d96c6b",
   "metadata": {},
   "outputs": [],
   "source": [
    "# checks if a list has all same values\n",
    "def all_equal(sequence):\n",
    "    return len(set(sequence)) <= 1"
   ]
  },
  {
   "cell_type": "code",
   "execution_count": 17,
   "id": "33c8a258",
   "metadata": {
    "scrolled": true
   },
   "outputs": [
    {
     "name": "stdout",
     "output_type": "stream",
     "text": [
      "9521550\n"
     ]
    }
   ],
   "source": [
    "\n",
    "stars_map = []\n",
    "# generate map and add horizontal extra lines\n",
    "with open('Day11_input.txt') as f:\n",
    "    for line in f:\n",
    "        line = line.strip('\\n')\n",
    "        stars_map.append(list(line))\n",
    "        if all_equal(line):\n",
    "            stars_map.append(list(line))\n",
    "\n",
    "# adding columns\n",
    "columns_to_double = []\n",
    "for xdx in range(len(stars_map[0])):\n",
    "    column = [stars_map[ydx][xdx] for ydx in range(len(stars_map))]\n",
    "    if all_equal(column):\n",
    "        columns_to_double.append(xdx)\n",
    "        \n",
    "columns_to_double.reverse()\n",
    "for xdx_to_double in columns_to_double:\n",
    "    for ydx in range(len(stars_map)):\n",
    "        stars_map[ydx].insert(xdx_to_double, '.')\n",
    "\n",
    "galaxies_pos = []\n",
    "# finding coordinates of galaxies\n",
    "for ydx in range(len(stars_map)):\n",
    "    for xdx in range(len(stars_map[0])):\n",
    "        if stars_map[ydx][xdx] =='#':\n",
    "            galaxies_pos.append([ydx, xdx])\n",
    "            \n",
    "\n",
    "# sum distances\n",
    "distance_sum = 0\n",
    "for idx_first in range(len(galaxies_pos)):\n",
    "    for idx_sec in range(idx_first+1, len(galaxies_pos)):\n",
    "        distance_sum += abs(galaxies_pos[idx_first][0] - galaxies_pos[idx_sec][0])\n",
    "        distance_sum += abs(galaxies_pos[idx_first][1] - galaxies_pos[idx_sec][1])\n",
    "\n",
    "print(distance_sum)"
   ]
  },
  {
   "cell_type": "markdown",
   "id": "988aa14c",
   "metadata": {},
   "source": [
    "## Part 2"
   ]
  },
  {
   "cell_type": "code",
   "execution_count": 26,
   "id": "d3d23a02",
   "metadata": {},
   "outputs": [
    {
     "name": "stdout",
     "output_type": "stream",
     "text": [
      "3\n",
      "3\n",
      "0\n"
     ]
    }
   ],
   "source": [
    "# given a list and two numbers, returns the number of list elements strictly between the two numbers\n",
    "def how_many_numbers_in_between(number_list: list, first_num: int, second_num: int) -> int:\n",
    "    if first_num < second_num:\n",
    "        return sum([idx> first_num and idx <second_num for idx in number_list])\n",
    "    else:\n",
    "        return sum([idx> second_num and idx <first_num for idx in number_list])\n",
    "\n",
    "a = [1, 2, 4, 5, 6, 8, 9]\n",
    "print(how_many_numbers_in_between(a, 3, 7))\n",
    "print(how_many_numbers_in_between(a, 7, 3))\n",
    "print(how_many_numbers_in_between(a, 3, 3))"
   ]
  },
  {
   "cell_type": "code",
   "execution_count": 52,
   "id": "08114eb0",
   "metadata": {},
   "outputs": [
    {
     "name": "stdout",
     "output_type": "stream",
     "text": [
      "vertical lines to stretch =  [15, 49, 66, 70, 83, 88, 92]\n",
      "horizontal lines to stretch =  []\n",
      "galaxies_pos =  [[0, 1], [0, 11], [0, 109], [0, 115], [0, 129], [1, 46], [1, 59], [1, 74], [1, 136], [2, 22], [2, 29], [2, 52], [2, 123], [3, 7], [3, 14], [3, 64], [3, 79], [3, 96], [4, 102], [4, 112], [5, 26], [5, 34], [6, 40], [6, 107], [6, 117], [6, 125], [7, 1], [7, 93], [8, 60], [8, 72], [8, 82], [8, 133], [8, 139], [9, 18], [9, 44], [9, 77], [10, 25], [10, 86], [11, 35], [11, 53], [11, 116], [12, 67], [12, 74], [13, 6], [13, 47], [13, 110], [13, 126], [14, 30], [14, 63], [14, 89], [14, 99], [14, 136], [15, 77], [16, 3], [16, 13], [16, 44], [16, 55], [16, 69], [16, 115], [16, 121], [16, 132], [17, 22], [17, 93], [18, 9], [18, 34], [18, 108], [19, 18], [19, 118], [20, 0], [20, 26], [20, 73], [20, 86], [20, 103], [21, 43], [21, 91], [21, 131], [21, 139], [22, 69], [23, 6], [23, 12], [23, 33], [23, 56], [23, 77], [23, 98], [23, 114], [23, 124], [24, 62], [24, 105], [24, 135], [25, 39], [25, 89], [26, 52], [26, 73], [26, 119], [27, 8], [27, 20], [27, 128], [28, 36], [28, 58], [28, 139], [29, 30], [29, 108], [29, 115], [30, 43], [30, 93], [30, 100], [31, 13], [31, 80], [32, 0], [32, 39], [32, 63], [32, 121], [32, 137], [33, 9], [33, 33], [33, 131], [34, 55], [34, 68], [34, 75], [34, 84], [34, 95], [35, 5], [35, 28], [35, 125], [36, 22], [36, 99], [36, 119], [37, 40], [37, 105], [38, 18], [38, 45], [38, 59], [38, 71], [38, 86], [39, 2], [39, 114], [40, 9], [40, 67], [41, 28], [41, 34], [41, 125], [42, 97], [43, 52], [43, 75], [43, 104], [44, 46], [44, 115], [45, 5], [45, 59], [45, 80], [45, 132], [46, 19], [47, 12], [47, 31], [47, 42], [47, 64], [47, 111], [47, 125], [47, 137], [48, 1], [48, 98], [49, 24], [50, 87], [50, 106], [51, 37], [51, 46], [51, 78], [51, 129], [52, 17], [53, 33], [53, 115], [54, 1], [54, 51], [54, 60], [54, 69], [54, 91], [54, 97], [54, 103], [54, 136], [55, 39], [55, 122], [56, 112], [56, 132], [57, 12], [57, 23], [57, 30], [57, 73], [58, 43], [58, 58], [58, 118], [59, 90], [60, 9], [60, 16], [60, 33], [60, 109], [61, 0], [61, 71], [61, 79], [61, 85], [62, 25], [62, 55], [62, 64], [62, 99], [63, 39], [63, 113], [63, 136], [64, 7], [64, 106], [64, 121], [64, 128], [65, 59], [65, 91], [66, 31], [66, 67], [67, 13], [67, 24], [68, 54], [68, 81], [68, 102], [68, 115], [68, 132], [69, 76], [69, 87], [69, 123], [69, 138], [70, 1], [70, 7], [70, 106], [71, 48], [71, 62], [72, 43], [72, 119], [73, 32], [73, 114], [74, 26], [75, 8], [75, 87], [75, 109], [75, 131], [76, 58], [76, 76], [76, 95], [77, 20], [77, 64], [78, 0], [78, 35], [78, 41], [78, 47], [78, 81], [79, 52], [79, 107], [79, 125], [79, 137], [80, 74], [80, 86], [80, 99], [80, 115], [81, 13], [82, 5], [82, 38], [82, 44], [82, 68], [82, 95], [83, 29], [83, 56], [83, 89], [83, 127], [84, 63], [85, 22], [85, 113], [85, 123], [86, 8], [86, 103], [87, 51], [87, 80], [88, 13], [88, 43], [88, 96], [88, 138], [89, 3], [89, 32], [89, 127], [90, 107], [90, 119], [91, 7], [91, 17], [91, 37], [91, 57], [91, 71], [91, 86], [91, 132], [92, 79], [92, 103], [93, 11], [93, 24], [93, 136], [94, 65], [94, 128], [95, 53], [95, 114], [96, 1], [96, 42], [96, 48], [96, 94], [96, 100], [96, 107], [97, 13], [97, 36], [97, 57], [97, 86], [98, 23], [98, 122], [99, 68], [99, 76], [99, 134], [100, 61], [100, 118], [101, 4], [101, 47], [101, 98], [101, 113], [101, 127], [102, 87], [103, 21], [103, 108], [104, 29], [104, 44], [104, 64], [104, 73], [104, 79], [104, 121], [104, 135], [105, 2], [105, 35], [105, 57], [105, 101], [106, 18], [106, 68], [106, 94], [107, 10], [107, 85], [107, 117], [108, 5], [108, 46], [108, 52], [108, 125], [108, 131], [109, 77], [110, 34], [110, 40], [110, 139], [111, 21], [111, 28], [111, 100], [112, 55], [112, 105], [112, 134], [113, 0], [113, 14], [113, 63], [113, 93], [113, 113], [114, 36], [114, 44], [114, 50], [114, 80], [115, 67], [116, 18], [117, 90], [117, 119], [117, 128], [118, 27], [118, 48], [118, 98], [119, 0], [119, 8], [119, 109], [120, 59], [120, 68], [120, 86], [121, 33], [121, 45], [121, 75], [121, 134], [122, 13], [122, 91], [122, 117], [123, 53], [123, 81], [123, 103], [123, 111], [124, 122], [125, 6], [125, 24], [125, 64], [125, 136], [126, 30], [126, 41], [127, 90], [127, 98], [128, 57], [128, 112], [128, 130], [129, 78], [129, 85], [130, 21], [130, 27], [130, 65], [130, 95], [130, 105], [131, 14], [131, 50], [131, 73], [131, 120], [131, 135], [132, 110], [133, 31], [133, 38], [133, 139], [134, 45], [134, 99], [135, 76], [135, 90], [135, 122], [136, 4], [136, 25], [136, 57], [136, 63], [137, 16], [137, 114], [137, 127], [138, 32], [138, 40], [138, 81], [138, 93], [138, 109], [138, 134], [139, 1], [139, 10], [139, 69]]\n",
      "rows to expand =  []\n",
      "columns to expand =  [15, 49, 66, 70, 83, 88, 92]\n",
      "298932923702\n"
     ]
    }
   ],
   "source": [
    "\n",
    "rows_to_expand = []\n",
    "stars_map = []\n",
    "# generate map and mark horizontal empty lines\n",
    "with open('Day11_input.txt') as f:\n",
    "    for ydx, line in enumerate(f):\n",
    "        line = line.strip('\\n')\n",
    "        stars_map.append(list(line))\n",
    "        if all_equal(line):\n",
    "            rows_to_expand.append(ydx)\n",
    "\n",
    "# mark vertical empty lines\n",
    "columns_to_expand = []\n",
    "for xdx in range(len(stars_map[0])):\n",
    "    column = [stars_map[ydx][xdx] for ydx in range(len(stars_map))]\n",
    "    if all_equal(column):\n",
    "        columns_to_expand.append(xdx)\n",
    "        \n",
    "\n",
    "print('vertical lines to stretch = ', columns_to_expand)\n",
    "print('horizontal lines to stretch = ', rows_to_expand)\n",
    "galaxies_pos = []\n",
    "# finding coordinates of galaxies\n",
    "for ydx in range(len(stars_map)):\n",
    "    for xdx in range(len(stars_map[0])):\n",
    "        if stars_map[ydx][xdx] =='#':\n",
    "            galaxies_pos.append([ydx, xdx])\n",
    "\n",
    "            \n",
    "galaxy_expansion = 1000000\n",
    "# sum distances\n",
    "distance_sum = 0\n",
    "for idx_first in range(len(galaxies_pos)):\n",
    "    for idx_sec in range(idx_first+1, len(galaxies_pos)):\n",
    "        distance_sum += abs(galaxies_pos[idx_first][0] - galaxies_pos[idx_sec][0]) \n",
    "        distance_sum += abs(galaxies_pos[idx_first][1] - galaxies_pos[idx_sec][1])\n",
    "        extra_rows = how_many_numbers_in_between(rows_to_expand, galaxies_pos[idx_first][0], galaxies_pos[idx_sec][0])\n",
    "        extra_cols = how_many_numbers_in_between(columns_to_expand, galaxies_pos[idx_first][1], galaxies_pos[idx_sec][1])\n",
    "        if extra_rows: #ex\n",
    "            distance_sum += (galaxy_expansion-1)*extra_rows\n",
    "        if extra_cols:\n",
    "            distance_sum += (galaxy_expansion-1)*extra_cols\n",
    "\n",
    "        \n",
    "\n",
    "print(distance_sum)"
   ]
  },
  {
   "cell_type": "code",
   "execution_count": null,
   "id": "3401e61a",
   "metadata": {},
   "outputs": [],
   "source": []
  }
 ],
 "metadata": {
  "kernelspec": {
   "display_name": "Python 3 (ipykernel)",
   "language": "python",
   "name": "python3"
  },
  "language_info": {
   "codemirror_mode": {
    "name": "ipython",
    "version": 3
   },
   "file_extension": ".py",
   "mimetype": "text/x-python",
   "name": "python",
   "nbconvert_exporter": "python",
   "pygments_lexer": "ipython3",
   "version": "3.11.4"
  }
 },
 "nbformat": 4,
 "nbformat_minor": 5
}
