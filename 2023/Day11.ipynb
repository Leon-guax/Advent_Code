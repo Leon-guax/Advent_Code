{
 "cells": [
  {
   "cell_type": "markdown",
   "id": "37240aea",
   "metadata": {},
   "source": [
    "## Part 1"
   ]
  },
  {
   "cell_type": "code",
   "execution_count": null,
   "id": "51d96c6b",
   "metadata": {},
   "outputs": [],
   "source": [
    "# checks if a list has all same values\n",
    "def all_equal(sequence):\n",
    "    return len(set(sequence)) <= 1"
   ]
  },
  {
   "cell_type": "code",
   "execution_count": null,
   "id": "33c8a258",
   "metadata": {
    "scrolled": true
   },
   "outputs": [],
   "source": [
    "\n",
    "stars_map = []\n",
    "# generate map and add horizontal extra lines\n",
    "with open('Day11_input.txt') as f:\n",
    "    for line in f:\n",
    "        line = line.strip('\\n')\n",
    "        stars_map.append(list(line))\n",
    "        if all_equal(line):\n",
    "            stars_map.append(list(line))\n",
    "\n",
    "# adding columns\n",
    "columns_to_double = []\n",
    "for xdx in range(len(stars_map[0])):\n",
    "    column = [stars_map[ydx][xdx] for ydx in range(len(stars_map))]\n",
    "    if all_equal(column):\n",
    "        columns_to_double.append(xdx)\n",
    "        \n",
    "columns_to_double.reverse()\n",
    "for xdx_to_double in columns_to_double:\n",
    "    for ydx in range(len(stars_map)):\n",
    "        stars_map[ydx].insert(xdx_to_double, '.')\n",
    "\n",
    "galaxies_pos = []\n",
    "# finding coordinates of galaxies\n",
    "for ydx in range(len(stars_map)):\n",
    "    for xdx in range(len(stars_map[0])):\n",
    "        if stars_map[ydx][xdx] =='#':\n",
    "            galaxies_pos.append([ydx, xdx])\n",
    "            \n",
    "\n",
    "# sum distances\n",
    "distance_sum = 0\n",
    "for idx_first in range(len(galaxies_pos)):\n",
    "    for idx_sec in range(idx_first+1, len(galaxies_pos)):\n",
    "        distance_sum += abs(galaxies_pos[idx_first][0] - galaxies_pos[idx_sec][0])\n",
    "        distance_sum += abs(galaxies_pos[idx_first][1] - galaxies_pos[idx_sec][1])\n",
    "\n",
    "print(distance_sum)"
   ]
  },
  {
   "cell_type": "markdown",
   "id": "988aa14c",
   "metadata": {},
   "source": [
    "## Part 2"
   ]
  },
  {
   "cell_type": "code",
   "execution_count": null,
   "id": "b66a033f",
   "metadata": {},
   "outputs": [],
   "source": [
    "# given a list and two numbers, returns the number of list elements strictly between the two numbers\n",
    "def how_many_numbers_in_between(number_list: list, first_num: int, second_num: int) -> int:\n",
    "    if first_num < second_num:\n",
    "        return sum([idx> first_num and idx <second_num for idx in number_list])\n",
    "    else:\n",
    "        return sum([idx> second_num and idx <first_num for idx in number_list])"
   ]
  },
  {
   "cell_type": "code",
   "execution_count": null,
   "id": "ce90b93c",
   "metadata": {},
   "outputs": [],
   "source": [
    "\n",
    "rows_to_expand = []\n",
    "stars_map = []\n",
    "# generate map and mark horizontal empty lines\n",
    "with open('Day11_input.txt') as f:\n",
    "    for ydx, line in enumerate(f):\n",
    "        line = line.strip('\\n')\n",
    "        stars_map.append(list(line))\n",
    "        if all_equal(line):\n",
    "            rows_to_expand.append(ydx)\n",
    "\n",
    "# mark vertical empty lines\n",
    "columns_to_expand = []\n",
    "for xdx in range(len(stars_map[0])):\n",
    "    column = [stars_map[ydx][xdx] for ydx in range(len(stars_map))]\n",
    "    if all_equal(column):\n",
    "        columns_to_expand.append(xdx)\n",
    "        \n",
    "\n",
    "galaxies_pos = []\n",
    "# finding coordinates of galaxies\n",
    "for ydx in range(len(stars_map)):\n",
    "    for xdx in range(len(stars_map[0])):\n",
    "        if stars_map[ydx][xdx] =='#':\n",
    "            galaxies_pos.append([ydx, xdx])\n",
    "\n",
    "            \n",
    "galaxy_expansion = 1000000\n",
    "# sum distances\n",
    "distance_sum = 0\n",
    "for idx_first in range(len(galaxies_pos)):\n",
    "    for idx_sec in range(idx_first+1, len(galaxies_pos)):\n",
    "        distance_sum += abs(galaxies_pos[idx_first][0] - galaxies_pos[idx_sec][0]) \n",
    "        distance_sum += abs(galaxies_pos[idx_first][1] - galaxies_pos[idx_sec][1])\n",
    "        extra_rows = how_many_numbers_in_between(rows_to_expand, galaxies_pos[idx_first][0], galaxies_pos[idx_sec][0])\n",
    "        extra_cols = how_many_numbers_in_between(columns_to_expand, galaxies_pos[idx_first][1], galaxies_pos[idx_sec][1])\n",
    "        if extra_rows: #expanding by 2 means adding only 1 other element --> galaxy_expansion -1\n",
    "            distance_sum += (galaxy_expansion-1)*extra_rows\n",
    "        if extra_cols:\n",
    "            distance_sum += (galaxy_expansion-1)*extra_cols\n",
    "\n",
    "        \n",
    "\n",
    "print(distance_sum)"
   ]
  },
  {
   "cell_type": "code",
   "execution_count": null,
   "id": "9bdfe8ae",
   "metadata": {},
   "outputs": [],
   "source": []
  }
 ],
 "metadata": {
  "kernelspec": {
   "display_name": "Python 3 (ipykernel)",
   "language": "python",
   "name": "python3"
  },
  "language_info": {
   "codemirror_mode": {
    "name": "ipython",
    "version": 3
   },
   "file_extension": ".py",
   "mimetype": "text/x-python",
   "name": "python",
   "nbconvert_exporter": "python",
   "pygments_lexer": "ipython3",
   "version": "3.11.4"
  }
 },
 "nbformat": 4,
 "nbformat_minor": 5
}
