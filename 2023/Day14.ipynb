{
 "cells": [
  {
   "cell_type": "code",
   "execution_count": null,
   "id": "94aa2a42",
   "metadata": {},
   "outputs": [],
   "source": [
    "from tqdm import tqdm\n",
    "import numpy as np"
   ]
  },
  {
   "cell_type": "markdown",
   "id": "37240aea",
   "metadata": {},
   "source": [
    "## Part 1"
   ]
  },
  {
   "cell_type": "code",
   "execution_count": null,
   "id": "9a709c4a",
   "metadata": {},
   "outputs": [],
   "source": [
    "#counts points for a matrix\n",
    "def count_points(matrix):\n",
    "    total_depth = len(matrix)\n",
    "    points = 0\n",
    "    for ydx, line in enumerate(matrix):\n",
    "        for block in line:\n",
    "            if block =='O':\n",
    "                points += total_depth - ydx\n",
    "    return points\n",
    "\n",
    "\n",
    "test1 = np.array([['O', 'O', '#', '.'], # 5+5\n",
    "                  ['.', '#', '.', '.'],\n",
    "                  ['.', '.', '.', '#'],\n",
    "                  ['O', 'O', 'O', 'O'], # 2+2+2+2\n",
    "                  ['.', 'O', '#', 'O']]) #1+1\n",
    "print(count_points(test1))"
   ]
  },
  {
   "cell_type": "code",
   "execution_count": null,
   "id": "c60857a8",
   "metadata": {},
   "outputs": [],
   "source": [
    "# generates a string with same numbers of O and . but with all the O to the beginning\n",
    "def shift_Os(array):\n",
    "    n_Os = (array =='O').sum()\n",
    "    n_dots = len(array) - n_Os\n",
    "    return ['O']*n_Os +['.']*n_dots\n",
    "\n",
    "# for each block between beginning, hashes and end, pushes all O towards the beginning\n",
    "def push_col_north(col):\n",
    "    col_length = len(col)\n",
    "    pos_hash= np.append([-1] ,np.append(np.where(col == '#')[0], [col_length]))\n",
    "    for first_hash, second_hash in zip(pos_hash[:-1], pos_hash[1:]):\n",
    "        if 'O' in col[first_hash+1 : second_hash]:\n",
    "            col[first_hash+1 : second_hash] = shift_Os(col[first_hash+1 : second_hash]) \n",
    "    return col"
   ]
  },
  {
   "cell_type": "code",
   "execution_count": null,
   "id": "33c8a258",
   "metadata": {
    "scrolled": false
   },
   "outputs": [],
   "source": [
    "total_map = []\n",
    "# generate maps \n",
    "with open('Day14_input.txt') as f:\n",
    "    for line in f:\n",
    "        line = list(line.strip('\\n'))\n",
    "        total_map.append(line)\n",
    "total_map = np.array(total_map)\n",
    "\n",
    "n_cols = len(total_map[0])\n",
    "# 1 push North for part 1\n",
    "for ydx in range(n_cols):\n",
    "        total_map[:,ydx] = push_col_north(total_map[:,ydx])\n",
    "        \n",
    "print(count_points(total_map))"
   ]
  },
  {
   "cell_type": "markdown",
   "id": "c8f6c559",
   "metadata": {},
   "source": [
    "## Part 2"
   ]
  },
  {
   "cell_type": "code",
   "execution_count": null,
   "id": "b47d8599",
   "metadata": {},
   "outputs": [],
   "source": [
    "# does a NWSE cycle of pushing\n",
    "def do_four_tilts(total_map, verbose = False):\n",
    "    n_rows = len(total_map)\n",
    "    n_cols = len(total_map[0])\n",
    "    if verbose:\n",
    "        print('\\nOriginal\\n', total_map, '\\n')\n",
    "    #North\n",
    "    for ydx in range(n_cols):\n",
    "        total_map[:,ydx] = push_col_north(total_map[:,ydx])\n",
    "    if verbose:\n",
    "        print('\\nNorth\\n', total_map, '\\n')\n",
    "    #West\n",
    "    for xdx in range(n_rows):\n",
    "        total_map[xdx,:] = push_col_north(total_map[xdx,:])                                                                \n",
    "    if verbose:\n",
    "        print('\\nWest\\n', total_map, '\\n')                                                                 \n",
    "    #South\n",
    "    for ydx in range(n_cols):\n",
    "        total_map[:,ydx] = np.flipud(push_col_north(np.flipud(total_map[:,ydx])))    \n",
    "    if verbose:\n",
    "        print('\\nSouth\\n', total_map, '\\n')\n",
    "    #East\n",
    "    for xdx in range(n_rows):\n",
    "        total_map[xdx,:] = np.flipud(push_col_north(np.flip(total_map[xdx,:])))\n",
    "    if verbose:\n",
    "        print('\\nEast\\n', total_map, '\\n')        \n",
    "    return total_map\n",
    "\n",
    "test1 = np.array([['O', 'O', '#', '.'], \n",
    "                  ['.', '#', '.', '.'],\n",
    "                  ['.', '.', '.', '#'],\n",
    "                  ['O', 'O', 'O', 'O'],\n",
    "                  ['.', 'O', '#', 'O']])\n",
    "\n",
    "\n",
    "\n",
    "test1 = []\n",
    "# generate maps \n",
    "with open('Day14_input.txt') as f:\n",
    "    for line in f:\n",
    "        line = list(line.strip('\\n'))\n",
    "        test1.append(line)\n",
    "\n",
    "test1 = np.array(test1)\n",
    "for spin in range(10):\n",
    "    print('new cycle\\n')\n",
    "    test1 = do_four_tilts(test1, verbose = True)\n",
    "    "
   ]
  },
  {
   "cell_type": "code",
   "execution_count": null,
   "id": "bfe3dce5",
   "metadata": {},
   "outputs": [],
   "source": [
    "total_map = []\n",
    "# generate maps \n",
    "with open('Day14_input.txt') as f:\n",
    "    for line in f:\n",
    "        line = list(line.strip('\\n'))\n",
    "        total_map.append(line)\n",
    "total_map = np.array(total_map)\n",
    "\n",
    "\n",
    "n_spins = pow(10,9)\n",
    "\n",
    "#we choose a threshold where we hope the system has converged to a cycle\n",
    "rounds_threshold = 400\n",
    "for spin in tqdm(range(n_spins)):\n",
    "    total_map = do_four_tilts(total_map)\n",
    "        \n",
    "    if spin == rounds_threshold: \n",
    "        test_map = np.copy(total_map)\n",
    "    # if at the end of a cycle we are in the same position as we were during the threshold, we converged\n",
    "    if spin> rounds_threshold and np.array_equal(total_map, test_map):\n",
    "        print('iteration number ', spin, ' matches with iteration ', rounds_threshold)\n",
    "        break\n",
    "\n",
    "# compute how many iterations still needed\n",
    "periodicity = spin - rounds_threshold\n",
    "remaining_spins = (n_spins -1-spin)%periodicity\n",
    "\n",
    "print('Executed ', spin , ' spins')\n",
    "print('Found periodicity ', periodicity)\n",
    "print('Remaining spins = ' ,remaining_spins )\n",
    "# execute remaining cycles\n",
    "for spin in tqdm(range(remaining_spins)):\n",
    "    total_map = do_four_tilts(total_map)              \n",
    "\n",
    "\n",
    "print(count_points(total_map))"
   ]
  }
 ],
 "metadata": {
  "kernelspec": {
   "display_name": "Python 3 (ipykernel)",
   "language": "python",
   "name": "python3"
  },
  "language_info": {
   "codemirror_mode": {
    "name": "ipython",
    "version": 3
   },
   "file_extension": ".py",
   "mimetype": "text/x-python",
   "name": "python",
   "nbconvert_exporter": "python",
   "pygments_lexer": "ipython3",
   "version": "3.11.4"
  }
 },
 "nbformat": 4,
 "nbformat_minor": 5
}
