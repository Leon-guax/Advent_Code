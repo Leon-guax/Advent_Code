{
 "cells": [
  {
   "cell_type": "code",
   "execution_count": null,
   "id": "94aa2a42",
   "metadata": {},
   "outputs": [],
   "source": [
    "from tqdm import tqdm\n",
    "import numpy as np"
   ]
  },
  {
   "cell_type": "markdown",
   "id": "37240aea",
   "metadata": {},
   "source": [
    "## Part 1"
   ]
  },
  {
   "cell_type": "code",
   "execution_count": null,
   "id": "81897a28",
   "metadata": {},
   "outputs": [],
   "source": [
    "def push_col_north(col):\n",
    "    col_length = len(col)\n",
    "    next_available_spot = 0\n",
    "    for xdx, type in enumerate(col):\n",
    "        if col[xdx] == 'O' and next_available_spot < xdx:\n",
    "            col[xdx] = '.'\n",
    "            col[next_available_spot] = 'O'\n",
    "        while next_available_spot<col_length-1 and col[next_available_spot] != '.':\n",
    "            next_available_spot +=1\n",
    "    return col\n",
    "\n",
    "test1 = np.array([['O', '.', '#', '.'], \n",
    "         ['O', 'O', '.', '.'],\n",
    "         ['O', 'O', 'O', 'O']])\n",
    "n_cols = len(test1[0])\n",
    "\n",
    "for ydx in range(n_cols):\n",
    "    print(test1[ydx, :])\n",
    "    test1[ydx,:] = push_col_north(test1[ydx,:])"
   ]
  },
  {
   "cell_type": "code",
   "execution_count": null,
   "id": "03d1d9a3",
   "metadata": {},
   "outputs": [],
   "source": [
    "#North\n",
    "def coord_North_free_spots_in_dir(total_map: list([]), coord_last_row_yx):\n",
    "    total_map_row_above_x = coord_last_row_yx[0]\n",
    "    \n",
    "    \n",
    "    while total_map_row_above_x>0 and total_map[total_map_row_above_x -1][coord_last_row_yx[1]] == '.':\n",
    "        total_map_row_above_x -=1\n",
    "        if not total_map_row_above_x:\n",
    "            break\n",
    "    return total_map_row_above_x\n",
    "\n",
    "test1 = [['O', '.', '#', '.'], \n",
    "         ['O', 'O', '.', '.'],\n",
    "         ['O', 'O', 'O', 'O']]\n",
    "for idx in range(4):\n",
    "    print(coord_North_free_spots_in_dir(test1, [2,idx]))"
   ]
  },
  {
   "cell_type": "code",
   "execution_count": null,
   "id": "34c3e25b",
   "metadata": {},
   "outputs": [],
   "source": [
    "#West\n",
    "def coord_West_free_spots_in_dir(total_map: list([]), coord_last_row_yx):\n",
    "    total_map_cols_before_y = coord_last_row_yx[1]\n",
    "    \n",
    "    \n",
    "    while total_map_cols_before_y>0 and total_map[coord_last_row_yx[0]][total_map_cols_before_y -1] == '.':\n",
    "        total_map_cols_before_y -=1\n",
    "        if not total_map_cols_before_y:\n",
    "            break\n",
    "    return total_map_cols_before_y\n",
    "\n",
    "test1 = [['O', '.', 'O', '.'], \n",
    "         ['.', 'O', 'O', '.'],\n",
    "         ['.', '.', 'O', 'O']]\n",
    "for idx in range(3):\n",
    "    print(coord_West_free_spots_in_dir(test1, [idx,2]))"
   ]
  },
  {
   "cell_type": "code",
   "execution_count": null,
   "id": "994057a2",
   "metadata": {},
   "outputs": [],
   "source": [
    "#South\n",
    "def coord_South_free_spots_in_dir(total_map: list([]), coord_last_row_yx):\n",
    "    n_rows = len(total_map)\n",
    "    ydx = None\n",
    "    for ydx in range(coord_last_row_yx[0]+1, n_rows):\n",
    "        if total_map[ydx][coord_last_row_yx[1]] != '.':\n",
    "            ydx = ydx-1\n",
    "            break\n",
    "    return ydx or coord_last_row_yx[0]\n",
    "\n",
    "test1 = [['O', 'O', 'O', 'O'], \n",
    "         ['O', '.', '.', '.'],\n",
    "         ['O', 'O', '.', 'O']]\n",
    "for idx in range(4):\n",
    "    print(coord_South_free_spots_in_dir(test1, [0,idx]))"
   ]
  },
  {
   "cell_type": "code",
   "execution_count": null,
   "id": "68457e5f",
   "metadata": {},
   "outputs": [],
   "source": [
    "#East\n",
    "def coord_East_free_spots_in_dir(total_map: list([]), coord_last_row_yx):\n",
    "    n_cols = len(total_map[0])\n",
    "    \n",
    "    xdx = None\n",
    "    for xdx in range(coord_last_row_yx[1]+1, n_cols):\n",
    "        if total_map[coord_last_row_yx[0]][xdx] != '.':\n",
    "            xdx = xdx-1\n",
    "            break\n",
    "    return xdx or coord_last_row_yx[1]\n",
    "\n",
    "test1 = [['O', '.', '#', '.'], \n",
    "         ['O', 'O', '.', '.'],\n",
    "         ['O', '.', '.', '.'],\n",
    "         ['O', '.', '.', 'O']]\n",
    "for idx in range(3):\n",
    "    print(coord_East_free_spots_in_dir(test1, [idx,0]))\n",
    "print(coord_East_free_spots_in_dir(test1, [3,3]))"
   ]
  },
  {
   "cell_type": "code",
   "execution_count": null,
   "id": "33c8a258",
   "metadata": {
    "scrolled": false
   },
   "outputs": [],
   "source": [
    "total_map = []\n",
    "weight_sum = 0\n",
    "# generate maps \n",
    "with open('Day14_input.txt') as f:\n",
    "    for line in f:\n",
    "        line = list(line.strip('\\n'))\n",
    "        total_map.append(line)\n",
    "        for xdx, block in enumerate(total_map[-1]):\n",
    "            if block == 'O':\n",
    "                new_row = coord_North_free_spots_in_dir(total_map, [len(total_map)-1, xdx])\n",
    "                total_map[-1][xdx] = '.'\n",
    "                total_map[new_row][xdx] = 'O'\n",
    "                weight_sum += 100 - new_row\n",
    "                \n",
    "print(weight_sum)"
   ]
  },
  {
   "cell_type": "markdown",
   "id": "c8f6c559",
   "metadata": {},
   "source": [
    "## Part 2"
   ]
  },
  {
   "cell_type": "code",
   "execution_count": null,
   "id": "be03d88a",
   "metadata": {},
   "outputs": [],
   "source": [
    "def count_points(matrix):\n",
    "    total_depth = len(matrix)\n",
    "    points = 0\n",
    "    for ydx, line in enumerate(matrix):\n",
    "        for block in line:\n",
    "            if block =='O':\n",
    "                points += total_depth - ydx\n",
    "    return points\n",
    "\n",
    "print(count_points(total_map))"
   ]
  },
  {
   "cell_type": "code",
   "execution_count": null,
   "id": "e4846112",
   "metadata": {},
   "outputs": [],
   "source": [
    "total_map = []\n",
    "weight_sum = 0\n",
    "# generate maps \n",
    "with open('Day14_input.txt') as f:\n",
    "    for line in f:\n",
    "        line = list(line.strip('\\n'))\n",
    "        total_map.append(line)\n",
    "\n",
    "\n",
    "n_rows = len(total_map)\n",
    "n_cols = len(total_map[0])\n",
    "n_spins = pow(10,9)\n",
    "for spin in tqdm(range(n_spins)):\n",
    "    #North\n",
    "    for ydx in range(n_rows):\n",
    "        for xdx, block in enumerate(total_map[ydx]):\n",
    "            if block == 'O':\n",
    "                new_row = coord_North_free_spots_in_dir(total_map,[ydx, xdx])\n",
    "                total_map[ydx][xdx] = '.'\n",
    "                total_map[new_row][xdx] = 'O'\n",
    "                                                                 \n",
    "    #West\n",
    "    for xdx in range(n_cols):\n",
    "        West_col = [total_map[y][xdx] for y in range(n_rows)]\n",
    "        for ydx, block in enumerate(West_col):\n",
    "            if block == 'O':\n",
    "                new_row = coord_West_free_spots_in_dir(total_map,[ydx, xdx])\n",
    "                total_map[ydx][xdx] = '.'\n",
    "                total_map[new_row][xdx] = 'O'                                                                 \n",
    "                                                                 \n",
    "    #South\n",
    "    for ydx in range(n_rows-1, -1, -1):\n",
    "        for xdx, block in enumerate(total_map[ydx]):\n",
    "            if block == 'O':\n",
    "                new_row = coord_South_free_spots_in_dir(total_map,[ydx, xdx])\n",
    "                total_map[ydx][xdx] = '.'\n",
    "                total_map[new_row][xdx] = 'O'    \n",
    "\n",
    "    #East\n",
    "    for xdx in range(n_cols-1, -1, -1):\n",
    "        East_col = [total_map[y][xdx] for y in range(n_rows)]\n",
    "        for ydx, block in enumerate(East_col):\n",
    "            if block == 'O':\n",
    "                new_row = coord_East_free_spots_in_dir(total_map,[ydx, xdx])\n",
    "                total_map[ydx][xdx] = '.'\n",
    "                total_map[new_row][xdx] = 'O'                \n",
    "                \n",
    "                \n",
    "print(count_points(total_map))"
   ]
  }
 ],
 "metadata": {
  "kernelspec": {
   "display_name": "Python 3 (ipykernel)",
   "language": "python",
   "name": "python3"
  },
  "language_info": {
   "codemirror_mode": {
    "name": "ipython",
    "version": 3
   },
   "file_extension": ".py",
   "mimetype": "text/x-python",
   "name": "python",
   "nbconvert_exporter": "python",
   "pygments_lexer": "ipython3",
   "version": "3.11.4"
  }
 },
 "nbformat": 4,
 "nbformat_minor": 5
}
