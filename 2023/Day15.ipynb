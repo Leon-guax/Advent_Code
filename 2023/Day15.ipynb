{
 "cells": [
  {
   "cell_type": "code",
   "execution_count": null,
   "id": "22287252",
   "metadata": {},
   "outputs": [],
   "source": [
    "from tqdm import tqdm\n",
    "import numpy as np\n",
    "from collections import OrderedDict"
   ]
  },
  {
   "cell_type": "markdown",
   "id": "37240aea",
   "metadata": {},
   "source": [
    "## Part 1"
   ]
  },
  {
   "cell_type": "code",
   "execution_count": null,
   "id": "b88dec98",
   "metadata": {},
   "outputs": [],
   "source": [
    "# returns the value of a string following day 15 rules\n",
    "def compute_string_values(string):\n",
    "    value = 0\n",
    "    for char in string:\n",
    "        value +=ord(char)\n",
    "        value = (value*17)%256\n",
    "    return value\n",
    "\n",
    "print(compute_string_values('rn'))\n",
    "print(compute_string_values('cm'))\n",
    "print(compute_string_values('qp'))"
   ]
  },
  {
   "cell_type": "code",
   "execution_count": null,
   "id": "08dc42cd",
   "metadata": {},
   "outputs": [],
   "source": [
    "values = []\n",
    "\n",
    "line = open(\"Day15_input.txt\").read().split(',')\n",
    "for word in line:\n",
    "    values.append(compute_string_values(word))\n",
    "\n",
    "print(sum(values))"
   ]
  },
  {
   "cell_type": "markdown",
   "id": "c8f6c559",
   "metadata": {},
   "source": [
    "## Part 2"
   ]
  },
  {
   "cell_type": "code",
   "execution_count": null,
   "id": "e10491c9",
   "metadata": {},
   "outputs": [],
   "source": [
    "# an OrderedDict is needed to preserve the lens order \n",
    "boxes = [OrderedDict() for idx in range(256)]\n",
    "\n",
    "\n",
    "line = open(\"Day15_input.txt\").read().split(',')\n",
    "for word in line:\n",
    "    # if an =x string, add/overwrite it in the appropriate box\n",
    "    if word[-2] =='=':\n",
    "        value_box = compute_string_values(word[:-2])\n",
    "        boxes[value_box][word[:-2]] = int(word[-1])\n",
    "    # if it's a - string, try to remove it from the appropriate box\n",
    "    else:\n",
    "        value_box = compute_string_values(word[:-1])\n",
    "        try: #del throws an error if the element is not present\n",
    "            del boxes[value_box][word[:-1]]\n",
    "        except:\n",
    "            pass\n",
    "\n",
    "\n",
    "total_sum = 0\n",
    "# for each box, for each ordered element inside of it, add the value to total_sum\n",
    "for n_box,box in enumerate(boxes):\n",
    "    pos_in_box = 0\n",
    "    while box:\n",
    "        pos_in_box +=1\n",
    "        new_value = box.popitem(last=False)[1]\n",
    "        total_sum += (n_box+1) *pos_in_box*new_value\n",
    "        \n",
    "print(total_sum)"
   ]
  }
 ],
 "metadata": {
  "kernelspec": {
   "display_name": "Python 3 (ipykernel)",
   "language": "python",
   "name": "python3"
  },
  "language_info": {
   "codemirror_mode": {
    "name": "ipython",
    "version": 3
   },
   "file_extension": ".py",
   "mimetype": "text/x-python",
   "name": "python",
   "nbconvert_exporter": "python",
   "pygments_lexer": "ipython3",
   "version": "3.11.4"
  }
 },
 "nbformat": 4,
 "nbformat_minor": 5
}
