{
 "cells": [
  {
   "cell_type": "code",
   "execution_count": 1,
   "id": "ee5fa342",
   "metadata": {},
   "outputs": [],
   "source": [
    "from re import split\n",
    "from numpy import prod"
   ]
  },
  {
   "cell_type": "markdown",
   "id": "5f6a0261",
   "metadata": {},
   "source": [
    "## Part 1"
   ]
  },
  {
   "cell_type": "code",
   "execution_count": 2,
   "id": "a8226289",
   "metadata": {
    "scrolled": true
   },
   "outputs": [
    {
     "name": "stdout",
     "output_type": "stream",
     "text": [
      "12026\n"
     ]
    }
   ],
   "source": [
    "max_cubes = {'red': 12,\n",
    "             'green': 13,\n",
    "             'blue': 14\n",
    "            }\n",
    "\n",
    "ID_sum = 0\n",
    "with open('Day2_input.txt') as f:\n",
    "    for line in f:\n",
    "        isvalid = True\n",
    "        line = line[5:] # remove 'Game '\n",
    "        line_split = split(': |; ',line) # split game ID and every single game\n",
    "        for game in line_split[1:]: # the element 0 is the game ID\n",
    "            game_split = split(',', game) # for each game, split the different colour\n",
    "            for colour_num in game_split:\n",
    "                colour_num = colour_num.strip(' \\n') # remove initial ' ' and final '\\n'  if found\n",
    "                colour_num = split(\" \",colour_num) # split colour from number\n",
    "                if max_cubes[colour_num[1]] < int(colour_num[0]): # if there are more than 12/13/14 cubes\n",
    "                    isvalid = False \n",
    "                    break # stop checking the cubes in the game\n",
    "            if not isvalid:\n",
    "                break #stop checking the games in the line\n",
    "                \n",
    "            ID_sum = ID_sum + int(line_split[0]) # if did not break, sum gameID\n",
    "            \n",
    "print(ID_sum)"
   ]
  },
  {
   "cell_type": "markdown",
   "id": "07bfde01",
   "metadata": {},
   "source": [
    "## Part 2"
   ]
  },
  {
   "cell_type": "code",
   "execution_count": 3,
   "id": "67955a32",
   "metadata": {},
   "outputs": [
    {
     "name": "stdout",
     "output_type": "stream",
     "text": [
      "77021\n"
     ]
    }
   ],
   "source": [
    "products_sum = 0\n",
    "\n",
    "\n",
    "with open('Day2_input.txt') as f:\n",
    "    for line in f:\n",
    "        max_values = {'red': 0, 'blue' : 0, 'green': 0}  # initialize max cubes found per line       \n",
    "        line_split = split(': |; ',line)\n",
    "        for game in line_split[1:]:\n",
    "            game_split = split(',', game)\n",
    "            for colour_num in game_split:\n",
    "                colour_num = colour_num.strip(' \\n')\n",
    "                colour_num = split(\" \",colour_num) \n",
    "                if int(colour_num[0]) > max_values[colour_num[1]]: # if cubes of a colour > max_values of that colour\n",
    "                    max_values[colour_num[1]] = int(colour_num[0])\n",
    "                    \n",
    "        products_sum = products_sum + prod(list(max_values.values()))\n",
    "            \n",
    "print(products_sum)"
   ]
  },
  {
   "cell_type": "code",
   "execution_count": null,
   "id": "2418ecd0",
   "metadata": {},
   "outputs": [],
   "source": []
  }
 ],
 "metadata": {
  "kernelspec": {
   "display_name": "Python 3 (ipykernel)",
   "language": "python",
   "name": "python3"
  },
  "language_info": {
   "codemirror_mode": {
    "name": "ipython",
    "version": 3
   },
   "file_extension": ".py",
   "mimetype": "text/x-python",
   "name": "python",
   "nbconvert_exporter": "python",
   "pygments_lexer": "ipython3",
   "version": "3.11.4"
  }
 },
 "nbformat": 4,
 "nbformat_minor": 5
}
