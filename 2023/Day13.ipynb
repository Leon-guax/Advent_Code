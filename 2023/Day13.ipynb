{
 "cells": [
  {
   "cell_type": "markdown",
   "id": "37240aea",
   "metadata": {},
   "source": [
    "## Part 1 + 2"
   ]
  },
  {
   "cell_type": "code",
   "execution_count": 56,
   "id": "cc3ce6d6",
   "metadata": {},
   "outputs": [],
   "source": [
    "# first mat is left/above, second_mat is right/below\n",
    "# checking all lines, returns True only if n_smudges_allowed are found \n",
    "def is_specular(first_mat, second_mat, check_columns = False, n_smudges_allowed = 0):\n",
    "    # it is easier to check rows\n",
    "    if check_columns:\n",
    "        first_mat = first_mat.transpose()\n",
    "        second_mat = second_mat.transpose()\n",
    "    length_rows = len(first_mat[0])\n",
    "    n_smudges_found =0\n",
    "    min_size = min(len(first_mat), len(second_mat))\n",
    "    # check if we have at most n_smudges_allowed differences\n",
    "    for idx in range(min_size):\n",
    "        n_matches = sum(first_mat[-1 -idx] == second_mat[idx])\n",
    "        n_smudges_found += length_rows - n_matches\n",
    "        if n_smudges_found> n_smudges_allowed:\n",
    "            return False\n",
    "    # returning true only if we have exactly n_smudges_allowed differences    \n",
    "    if n_smudges_found == n_smudges_allowed:\n",
    "        return True\n",
    "    return False\n",
    "\n"
   ]
  },
  {
   "cell_type": "code",
   "execution_count": 57,
   "id": "33c8a258",
   "metadata": {
    "scrolled": false
   },
   "outputs": [
    {
     "name": "stdout",
     "output_type": "stream",
     "text": [
      "33195\n",
      "31836\n"
     ]
    }
   ],
   "source": [
    "import numpy as np\n",
    "total_maps = []\n",
    "# generate maps \n",
    "with open('Day13_input.txt') as f:\n",
    "    smaller_map = []\n",
    "    for line in f:\n",
    "        line = line.strip('\\n')\n",
    "        if line:\n",
    "            smaller_map.append(list(line))\n",
    "        else:\n",
    "            total_maps.append(np.asarray(smaller_map))\n",
    "            smaller_map = []\n",
    "total_maps.append(np.asarray(smaller_map))\n",
    "\n",
    "# initialize counters for part 1 and part 2\n",
    "vertical_sums_pt1 =0\n",
    "horizontal_sums_pt1 =0\n",
    "\n",
    "vertical_sums_pt2 =0\n",
    "horizontal_sums_pt2 =0\n",
    "\n",
    "\n",
    "for smaller_map in total_maps:\n",
    "    # for each row\n",
    "    for ydx in range(len(smaller_map)-1):\n",
    "        # computes how many horizontal matches between two consecutive lines\n",
    "        n_horizontal_matches = sum(smaller_map[ydx] == smaller_map[ydx+1])\n",
    "        n_initial_differences_hor = len(smaller_map[0]) -n_horizontal_matches\n",
    "        #if we have at most 1 difference \n",
    "        if n_initial_differences_hor in [0,1]:\n",
    "            # we check is_specular with 0 defect for part 1\n",
    "            if is_specular(smaller_map[0:ydx+1], smaller_map[ydx+1:]):\n",
    "                    horizontal_sums_pt1 += ydx +1\n",
    "                    continue\n",
    "            # we check is_specular with 1 defect for part 2\n",
    "            if is_specular(smaller_map[0:ydx+1], smaller_map[ydx+1:],\n",
    "                           n_smudges_allowed = 1 ):\n",
    "                    horizontal_sums_pt2 += ydx +1\n",
    "                    continue\n",
    "    \n",
    "    # for each column\n",
    "    for xdx in range(len(smaller_map[0])-1):\n",
    "        # computes how many verticall matches between two consecutive lines\n",
    "        n_vertical_matches = sum(smaller_map[:,xdx] == smaller_map[:,xdx+1])\n",
    "        n_initial_differences_ver =  len(smaller_map) - n_vertical_matches\n",
    "        # if we have at most 1 difference\n",
    "        if n_initial_differences_ver in [0,1]:\n",
    "            # we check is_specular with 0 defect for part 1\n",
    "            if is_specular(smaller_map[:,:xdx+1], smaller_map[:,xdx+1:], check_columns = True):\n",
    "                vertical_sums_pt1 += xdx +1\n",
    "                continue\n",
    "            # we check is_specular with 1 defect for part 2                \n",
    "            if is_specular(smaller_map[:,:xdx+1], smaller_map[:,xdx+1:],\n",
    "                           check_columns = True,\n",
    "                           n_smudges_allowed = 1 ):\n",
    "                vertical_sums_pt2 += xdx +1  \n",
    "                continue\n",
    "            \n",
    "            \n",
    "print(vertical_sums_pt1 + 100* horizontal_sums_pt1)\n",
    "print(vertical_sums_pt2 + 100* horizontal_sums_pt2)"
   ]
  }
 ],
 "metadata": {
  "kernelspec": {
   "display_name": "Python 3 (ipykernel)",
   "language": "python",
   "name": "python3"
  },
  "language_info": {
   "codemirror_mode": {
    "name": "ipython",
    "version": 3
   },
   "file_extension": ".py",
   "mimetype": "text/x-python",
   "name": "python",
   "nbconvert_exporter": "python",
   "pygments_lexer": "ipython3",
   "version": "3.11.4"
  }
 },
 "nbformat": 4,
 "nbformat_minor": 5
}
