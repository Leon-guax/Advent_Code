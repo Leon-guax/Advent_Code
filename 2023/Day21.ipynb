{
 "cells": [
  {
   "cell_type": "code",
   "execution_count": 1,
   "id": "22287252",
   "metadata": {},
   "outputs": [],
   "source": [
    "from tqdm import tqdm\n",
    "import numpy as np\n",
    "from numpy.linalg import matrix_power\n",
    "import networkx as nx\n",
    "import scipy as sp\n",
    "from copy import deepcopy"
   ]
  },
  {
   "cell_type": "markdown",
   "id": "37240aea",
   "metadata": {},
   "source": [
    "## Part 1"
   ]
  },
  {
   "cell_type": "code",
   "execution_count": null,
   "id": "14f3064e",
   "metadata": {},
   "outputs": [],
   "source": [
    "total_map = open(\"Day21_input_filled.txt\").read().splitlines()\n",
    "n_rows = len(total_map)\n",
    "n_cols = len(total_map[0])\n",
    "\n",
    "\n",
    "G = nx.Graph()\n",
    "nodes_dict = {}\n",
    "\n",
    "n_nodes_bef_S = 0\n",
    "# add nodes\n",
    "for ydx in tqdm(range(n_rows)):\n",
    "    for xdx in range(n_cols):\n",
    "        if total_map[ydx][xdx]  in 'S.':\n",
    "            node_idx = n_cols*ydx + xdx\n",
    "            G.add_node(node_idx)\n",
    "            # keep track of which node (number) is S\n",
    "            if total_map[ydx][xdx] == 'S':\n",
    "                S_graph_numb = n_nodes_bef_S\n",
    "            # add edges left and top\n",
    "            if node_idx -1 in G.nodes:\n",
    "                G.add_edge(node_idx - 1, node_idx)\n",
    "            if node_idx -n_cols in G.nodes:\n",
    "                G.add_edge(node_idx - n_cols, node_idx)\n",
    "            n_nodes_bef_S +=1\n",
    "            # keep track of which node number is in which map position\n",
    "            nodes_dict[(ydx, xdx)] = n_nodes_bef_S\n",
    "            \n",
    "# generate adjacency map            \n",
    "adj_mat = nx.adjacency_matrix(G)\n",
    "\n",
    "\n",
    "n_power = 1\n",
    "new_mat = deepcopy(adj_mat)\n",
    "# 64 is 2^6, so I only need ro multiply new_mat for itself 6 times\n",
    "for n_mult in tqdm(range(1,7)):\n",
    "    n_power *=2\n",
    "    new_mat = new_mat.dot(new_mat)\n",
    "    print('after steps taken =', n_power, ' possible locations = ', sum(new_mat.toarray()[S_graph_numb] !=0))    \n",
    "\n",
    "dense_mat = new_mat.toarray()\n",
    "\n",
    "# numbers get so big that they go in overflow, so >0 does not work\n",
    "print(sum(dense_mat[S_graph_numb] !=0))\n",
    "\n",
    "# map generation visualization\n",
    "temp_total_map = deepcopy(total_map)\n",
    "for ydx in tqdm(range(n_rows)):\n",
    "    for xdx in range(n_cols):\n",
    "        # if I am on a node\n",
    "        if total_map[ydx][xdx]  in 'S.':\n",
    "            # compute the number of the node in the adjacency matrix\n",
    "            n_node = nodes_dict[(ydx, xdx)]\n",
    "            # if the node is connected to S within X steps\n",
    "            if dense_mat[S_graph_numb][n_node-1] !=0:\n",
    "                # substitute the symbol with a 'O'\n",
    "                temp_line = list(temp_total_map[ydx])\n",
    "                temp_line[xdx] = 'O'\n",
    "                temp_total_map[ydx] = \"\".join(temp_line)        \n",
    "                    \n",
    "# for visualization\n",
    "with open('Day21_graph_out.txt', 'w') as f:\n",
    "    for line in temp_total_map:\n",
    "        f.write(line +'\\n')"
   ]
  },
  {
   "cell_type": "markdown",
   "id": "c8f6c559",
   "metadata": {},
   "source": [
    "## Part 2"
   ]
  },
  {
   "cell_type": "code",
   "execution_count": 116,
   "id": "7290fc73",
   "metadata": {},
   "outputs": [],
   "source": [
    "def compute_steps(S_pos, n_steps, matrix):\n",
    "    possible_steps_after_n_steps = 0\n",
    "    n_rows = len(matrix)\n",
    "    n_cols = len(matrix[0])\n",
    "    for ydx in range(n_rows):\n",
    "        for xdx in range(n_cols):\n",
    "             if matrix[ydx][xdx] in 'S.':\n",
    "                    tiles_dist = abs(ydx - S_pos[0]) + abs(xdx - S_pos[1])\n",
    "                    if tiles_dist <= n_steps and not(tiles_dist-n_steps)%2:\n",
    "                    #if tiles_dist > n_steps and not(tiles_dist-n_steps)%2:\n",
    "                        possible_steps_after_n_steps +=1\n",
    "                        #temp_line = list(updated_map[ydx])\n",
    "                        #temp_line[xdx] = 'O'\n",
    "                        #updated_map[ydx] = \"\".join(temp_line)\n",
    "    \n",
    "    return possible_steps_after_n_steps"
   ]
  },
  {
   "cell_type": "code",
   "execution_count": 99,
   "id": "d89c63a6",
   "metadata": {},
   "outputs": [
    {
     "name": "stderr",
     "output_type": "stream",
     "text": [
      "100%|██████████████████████████████████████████████████████████████████████████████| 131/131 [00:00<00:00, 8381.83it/s]"
     ]
    },
    {
     "name": "stdout",
     "output_type": "stream",
     "text": [
      "3752\n",
      "3655\n",
      "7407\n"
     ]
    },
    {
     "name": "stderr",
     "output_type": "stream",
     "text": [
      "\n"
     ]
    }
   ],
   "source": [
    "# Day21_input has been modified by removing the ~6 '.' that were not connected to S\n",
    "# Under the assumption that everything is connected, the algorithm is much faster\n",
    "\n",
    "total_map = open(\"Day21_input_filled.txt\").read().splitlines()\n",
    "n_rows = len(total_map)\n",
    "n_cols = len(total_map[0])\n",
    "\n",
    "updated_map = deepcopy(total_map)\n",
    "max_n_steps = 26501365\n",
    "\n",
    "\n",
    "S_pos = [65,65]\n",
    "#S_pos = [n_rows -1 , n_cols -1]\n",
    "n_steps = 65\n",
    "possible_steps_after_n_steps = 0\n",
    "for ydx in tqdm(range(n_rows)):\n",
    "    for xdx in range(n_cols):\n",
    "         if total_map[ydx][xdx] in 'S.':\n",
    "                tiles_dist = abs(ydx - S_pos[0]) + abs(xdx - S_pos[1])\n",
    "                \n",
    "                if tiles_dist <= n_steps and not(tiles_dist-n_steps)%2:\n",
    "                #if tiles_dist > n_steps and not(tiles_dist-n_steps)%2:\n",
    "                    possible_steps_after_n_steps +=1\n",
    "                    temp_line = list(updated_map[ydx])\n",
    "                    temp_line[xdx] = 'O'\n",
    "                    updated_map[ydx] = \"\".join(temp_line)\n",
    "\n",
    "\n",
    "print(possible_steps_after_n_steps)\n",
    "\n",
    "# for visualization\n",
    "with open('Day21_map.txt', 'w') as f:\n",
    "    for line in updated_map:\n",
    "        f.write(line +'\\n')\n",
    "\n",
    "# n_steps even -> 7481\n",
    "# n_steps odd -> 7407\n",
    "top_left = 911 # n_steps = 63\n",
    "top_right = 917 # n_steps = 63\n",
    "bot_left = 921 # n_steps = 63\n",
    "bot_right = 906 # n_steps = 63\n",
    "n_inside_65 = 3752\n",
    "\n",
    "n_outside_65_diam = top_left + top_right + bot_left  + bot_right\n",
    "print(n_outside_65_diam)\n",
    "print(n_outside_65_diam + n_inside_65)"
   ]
  },
  {
   "cell_type": "code",
   "execution_count": 100,
   "id": "c5c3145e",
   "metadata": {},
   "outputs": [
    {
     "name": "stdout",
     "output_type": "stream",
     "text": [
      "in last gardens we do steps  0\n",
      "full gardens crossed NSWE =  202300\n",
      "tiles after 65 steps  3655\n",
      "tiles besides 65 steps  3655\n"
     ]
    }
   ],
   "source": [
    "big_step = 26501365\n",
    "\n",
    "n_steps_in_last_gardens = (big_step-S_pos[0])%n_cols\n",
    "n_full_garden_crossed = int((big_step-n_steps_in_last_gardens)/n_rows)\n",
    "print('in last gardens we do steps ', n_steps_in_last_gardens)\n",
    "print('full gardens crossed NSWE = ', n_full_garden_crossed)\n",
    "\n",
    "tiles_in_full_garden_odd = 7407\n",
    "tiles_in_65_steps = 3752\n",
    "tiles_after_65_steps = 3655\n",
    "tiles_in_full_garden_minus_65_steps = tiles_in_full_garden_odd - tiles_in_65_steps\n",
    "print('tiles after 65 steps ', tiles_after_65_steps)\n",
    "print('tiles besides 65 steps ', tiles_in_full_garden_minus_65_steps)"
   ]
  },
  {
   "cell_type": "code",
   "execution_count": 132,
   "id": "43a9b82f",
   "metadata": {},
   "outputs": [
    {
     "name": "stdout",
     "output_type": "stream",
     "text": [
      "606270242935952\n",
      "74.00079090459714\n",
      "close enough\n"
     ]
    }
   ],
   "source": [
    "\n",
    "# 1 + 4*n*(n-1)/2\n",
    "n_full_squares =  1 + 4*n_full_garden_crossed*(n_full_garden_crossed+1)/2 # --> times 3752\n",
    "# 4*n*(n-1)/2\n",
    "n_empty_squares = + 4*n_full_garden_crossed*(n_full_garden_crossed+1)/2 # --> times 3655\n",
    "\n",
    "total_steps = n_full_squares*tiles_in_65_steps + n_empty_squares*tiles_in_full_garden_minus_65_steps\n",
    "print(int(total_steps))\n",
    "\n",
    "# 606270242935855 is too low\n",
    "# 606270242935952 not correct\n",
    "# 609298746763952 is correct\n",
    "\n",
    "diff = 609298746763952 - 606270242935952\n",
    "error_per_square = diff/202300**2\n",
    "\n",
    "print(error_per_square)\n",
    "print('close enough')"
   ]
  },
  {
   "cell_type": "code",
   "execution_count": 117,
   "id": "7eb7a792",
   "metadata": {},
   "outputs": [
    {
     "name": "stdout",
     "output_type": "stream",
     "text": [
      "33614\n"
     ]
    }
   ],
   "source": [
    "nine_matrices =[]\n",
    "for ydx in range(n_cols):\n",
    "    nine_matrices.append(total_map[ydx]*3)\n",
    "nine_matrices = nine_matrices*3\n",
    "\n",
    "\n",
    "S_pos_nine_mat = [131+65, 131+65]\n",
    "n_steps_nine_mat = 131+65\n",
    "\n",
    "coverage_nine_mat = compute_steps(S_pos_nine_mat, n_steps_nine_mat, nine_matrices)\n",
    "print(coverage_nine_mat)"
   ]
  },
  {
   "cell_type": "code",
   "execution_count": 118,
   "id": "6da07eab",
   "metadata": {},
   "outputs": [
    {
     "name": "stdout",
     "output_type": "stream",
     "text": [
      "93252\n"
     ]
    }
   ],
   "source": [
    "twenty5_matrices =[]\n",
    "for ydx in range(n_cols):\n",
    "    twenty5_matrices.append(total_map[ydx]*5)\n",
    "twenty5_matrices = twenty5_matrices*5\n",
    "\n",
    "\n",
    "S_pos_25_mat = [131*2+65, 131*2+65]\n",
    "n_steps_25_mat = 131*2+65\n",
    "\n",
    "coverage_25_mat = compute_steps(S_pos_25_mat, n_steps_25_mat, twenty5_matrices)\n",
    "print(coverage_25_mat)"
   ]
  },
  {
   "cell_type": "markdown",
   "id": "1694df50",
   "metadata": {},
   "source": [
    "With the above numbers, I could generate the string {{0 , 3752}, {1 , 33614},{ 2 , 93252 }} to put in wolframAlpha and generate an interpolate square function, which I then computed in x = 202300"
   ]
  },
  {
   "cell_type": "code",
   "execution_count": null,
   "id": "2b25502a",
   "metadata": {},
   "outputs": [],
   "source": []
  }
 ],
 "metadata": {
  "kernelspec": {
   "display_name": "Python 3 (ipykernel)",
   "language": "python",
   "name": "python3"
  },
  "language_info": {
   "codemirror_mode": {
    "name": "ipython",
    "version": 3
   },
   "file_extension": ".py",
   "mimetype": "text/x-python",
   "name": "python",
   "nbconvert_exporter": "python",
   "pygments_lexer": "ipython3",
   "version": "3.11.4"
  }
 },
 "nbformat": 4,
 "nbformat_minor": 5
}
