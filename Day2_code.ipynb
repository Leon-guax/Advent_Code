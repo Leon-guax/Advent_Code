{
 "cells": [
  {
   "cell_type": "code",
   "execution_count": 22,
   "id": "0f75fb22",
   "metadata": {},
   "outputs": [
    {
     "name": "stdout",
     "output_type": "stream",
     "text": [
      "1660158\n"
     ]
    }
   ],
   "source": [
    "depth = 0\n",
    "hor_dist = 0\n",
    "with open('Day2_input.txt') as f:\n",
    "     for line in f:\n",
    "        if line.split()[0] == 'forward':\n",
    "            hor_dist += int(line.split()[1])\n",
    "            \n",
    "        elif line.split()[0] == 'down':\n",
    "            depth += int(line.split()[1]) \n",
    "           \n",
    "        elif line.split()[0] == 'up':\n",
    "            depth -= int(line.split()[1]) \n",
    "\n",
    "\n",
    "ans = depth * hor_dist\n",
    "print(ans)"
   ]
  },
  {
   "cell_type": "code",
   "execution_count": 23,
   "id": "541866c2",
   "metadata": {},
   "outputs": [
    {
     "name": "stdout",
     "output_type": "stream",
     "text": [
      "1604592846\n"
     ]
    }
   ],
   "source": [
    "depth = 0\n",
    "hor_dist = 0\n",
    "aim = 0\n",
    "with open('Day2_input.txt') as f:\n",
    "     for line in f:\n",
    "        if line.split()[0] == 'forward':\n",
    "            hor_dist += int(line.split()[1])\n",
    "            depth += aim*int(line.split()[1])\n",
    "            \n",
    "        elif line.split()[0] == 'down':\n",
    "            aim += int(line.split()[1]) \n",
    "           \n",
    "        elif line.split()[0] == 'up':\n",
    "            aim -= int(line.split()[1]) \n",
    "\n",
    "\n",
    "ans = depth * hor_dist\n",
    "print(ans)"
   ]
  },
  {
   "cell_type": "code",
   "execution_count": null,
   "id": "2fb76a62",
   "metadata": {},
   "outputs": [],
   "source": []
  }
 ],
 "metadata": {
  "kernelspec": {
   "display_name": "Python 3 (ipykernel)",
   "language": "python",
   "name": "python3"
  },
  "language_info": {
   "codemirror_mode": {
    "name": "ipython",
    "version": 3
   },
   "file_extension": ".py",
   "mimetype": "text/x-python",
   "name": "python",
   "nbconvert_exporter": "python",
   "pygments_lexer": "ipython3",
   "version": "3.9.7"
  }
 },
 "nbformat": 4,
 "nbformat_minor": 5
}
